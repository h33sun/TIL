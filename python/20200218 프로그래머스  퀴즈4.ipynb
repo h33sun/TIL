{
 "cells": [
  {
   "cell_type": "code",
   "execution_count": 1,
   "metadata": {},
   "outputs": [],
   "source": [
    "%run C:/Users/HSS/dd.py"
   ]
  },
  {
   "cell_type": "markdown",
   "metadata": {},
   "source": [
    "### 두 정수 사이의 합\n",
    "\n",
    "- 참조: https://programmers.co.kr/learn/courses/30/lessons/12912\n",
    "\n",
    "\n",
    "### - 풀이\n",
    "- b,a의 대소 비교를 min, max로\n",
    "- 큰 수 - 작은수 만큼 계속 더해줌\n",
    "\n",
    "### 문제점\n",
    "\n",
    "- `sum(range(start, end + 1))` 로 끝낼 수 있었는데 굳이 while을 사용"
   ]
  },
  {
   "cell_type": "code",
   "execution_count": 3,
   "metadata": {},
   "outputs": [],
   "source": [
    "def solution(a,b):\n",
    "    start, end = min(a,b), max(a,b)\n",
    "    i = 0\n",
    "    bin = 0\n",
    "    while i <= end-start:\n",
    "        bin += (start + i)\n",
    "        i += 1\n",
    "    return bin"
   ]
  }
 ],
 "metadata": {
  "kernelspec": {
   "display_name": "Python [conda env:tensorflow]",
   "language": "python",
   "name": "conda-env-tensorflow-py"
  },
  "language_info": {
   "codemirror_mode": {
    "name": "ipython",
    "version": 3
   },
   "file_extension": ".py",
   "mimetype": "text/x-python",
   "name": "python",
   "nbconvert_exporter": "python",
   "pygments_lexer": "ipython3",
   "version": "3.5.5"
  }
 },
 "nbformat": 4,
 "nbformat_minor": 2
}
