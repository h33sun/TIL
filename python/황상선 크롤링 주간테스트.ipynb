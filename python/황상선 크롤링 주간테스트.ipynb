{
 "cells": [
  {
   "cell_type": "code",
   "execution_count": 119,
   "metadata": {},
   "outputs": [],
   "source": [
    "from bs4 import BeautifulSoup as bs\n",
    "import requests\n",
    "import pandas as pd\n",
    "import re\n",
    "\n",
    "pd.set_option('display.max_colwidth', -1)"
   ]
  },
  {
   "cell_type": "code",
   "execution_count": 120,
   "metadata": {},
   "outputs": [],
   "source": [
    "data = []\n",
    "\n",
    "def get_melon_chart(start):\n",
    "    #url과 헤더\n",
    "    url = 'https://www.melon.com/chart/index.htm#params%5Bidx%5D={}'.format(start)\n",
    "\n",
    "\n",
    "    header = {\n",
    "    'User-Agent' : 'Mozilla/5.0 (Windows NT 10.0; Win64; x64) AppleWebKit/537.36 (KHTML, like Gecko) Chrome/80.0.3987.122 Safari/537.36'\n",
    "    }\n",
    "    \n",
    "    #request\n",
    "    response = requests.get(url, headers = header)\n",
    "    #html 파싱\n",
    "    html = bs(response.content, 'html.parser')\n",
    "    #select\n",
    "    chart = html.select('.service_list_song.type02.d_song_list > table > tbody > tr#lst50')\n",
    "\n",
    "    for song in chart:\n",
    "        data.append({\n",
    "            'song_id' : song.select_one('td > div > input').get('value'),\n",
    "            'title': song.select('div.ellipsis.rank01')[0].select_one('a').text,\n",
    "            'artist' : song.select('div.ellipsis.rank02')[0].select_one('a').text,\n",
    "            'album_art_url' : song.select_one('img').get('src')\n",
    "        })\n",
    "    "
   ]
  },
  {
   "cell_type": "code",
   "execution_count": 121,
   "metadata": {
    "scrolled": true
   },
   "outputs": [
    {
     "data": {
      "text/html": [
       "<div>\n",
       "<style scoped>\n",
       "    .dataframe tbody tr th:only-of-type {\n",
       "        vertical-align: middle;\n",
       "    }\n",
       "\n",
       "    .dataframe tbody tr th {\n",
       "        vertical-align: top;\n",
       "    }\n",
       "\n",
       "    .dataframe thead th {\n",
       "        text-align: right;\n",
       "    }\n",
       "</style>\n",
       "<table border=\"1\" class=\"dataframe\">\n",
       "  <thead>\n",
       "    <tr style=\"text-align: right;\">\n",
       "      <th></th>\n",
       "      <th>song_id</th>\n",
       "      <th>title</th>\n",
       "      <th>artist</th>\n",
       "      <th>album_art_url</th>\n",
       "    </tr>\n",
       "  </thead>\n",
       "  <tbody>\n",
       "    <tr>\n",
       "      <th>95</th>\n",
       "      <td>30962526</td>\n",
       "      <td>모든 날, 모든 순간 (Every day, Every Moment)</td>\n",
       "      <td>폴킴</td>\n",
       "      <td>https://cdnimg.melon.co.kr/cm/album/images/101/49/492/10149492_500.jpg/melon/</td>\n",
       "    </tr>\n",
       "    <tr>\n",
       "      <th>96</th>\n",
       "      <td>32333669</td>\n",
       "      <td>내 마음의 사진</td>\n",
       "      <td>송가인</td>\n",
       "      <td>https://cdnimg.melon.co.kr/cm2/album/images/103/79/462/10379462_20200123114326_500.jpg/melon/</td>\n",
       "    </tr>\n",
       "    <tr>\n",
       "      <th>97</th>\n",
       "      <td>32271720</td>\n",
       "      <td>다시는 사랑하지 않고, 이별에 아파하기 싫어</td>\n",
       "      <td>백지영</td>\n",
       "      <td>https://cdnimg.melon.co.kr/cm2/album/images/103/67/659/10367659_20191220163414_500.jpg/melon/</td>\n",
       "    </tr>\n",
       "    <tr>\n",
       "      <th>98</th>\n",
       "      <td>3118478</td>\n",
       "      <td>사랑의 인사</td>\n",
       "      <td>씨야</td>\n",
       "      <td>https://cdnimg.melon.co.kr/cm/album/images/011/50/052/1150052_500.jpg/melon/</td>\n",
       "    </tr>\n",
       "    <tr>\n",
       "      <th>99</th>\n",
       "      <td>32187544</td>\n",
       "      <td>우리 왜 헤어져야 해</td>\n",
       "      <td>신예영</td>\n",
       "      <td>https://cdnimg.melon.co.kr/cm2/album/images/103/53/881/10353881_500.jpg/melon/</td>\n",
       "    </tr>\n",
       "  </tbody>\n",
       "</table>\n",
       "</div>"
      ],
      "text/plain": [
       "     song_id                                  title artist  \\\n",
       "95  30962526  모든 날, 모든 순간 (Every day, Every Moment)  폴킴      \n",
       "96  32333669  내 마음의 사진                               송가인     \n",
       "97  32271720  다시는 사랑하지 않고, 이별에 아파하기 싫어               백지영     \n",
       "98  3118478   사랑의 인사                                 씨야      \n",
       "99  32187544  우리 왜 헤어져야 해                            신예영     \n",
       "\n",
       "                                                                                    album_art_url  \n",
       "95  https://cdnimg.melon.co.kr/cm/album/images/101/49/492/10149492_500.jpg/melon/                  \n",
       "96  https://cdnimg.melon.co.kr/cm2/album/images/103/79/462/10379462_20200123114326_500.jpg/melon/  \n",
       "97  https://cdnimg.melon.co.kr/cm2/album/images/103/67/659/10367659_20191220163414_500.jpg/melon/  \n",
       "98  https://cdnimg.melon.co.kr/cm/album/images/011/50/052/1150052_500.jpg/melon/                   \n",
       "99  https://cdnimg.melon.co.kr/cm2/album/images/103/53/881/10353881_500.jpg/melon/                 "
      ]
     },
     "execution_count": 121,
     "metadata": {},
     "output_type": "execute_result"
    }
   ],
   "source": [
    "start = [1,51]\n",
    "for i in start:\n",
    "    get_melon_chart(i)\n",
    "result = pd.DataFrame(data)\n",
    "result['album_art_url'] = result['album_art_url'].apply(lambda x:re.sub('resize/120/quality/80/optimize','',x))\n",
    "answer = result[['song_id','title','artist','album_art_url']]\n",
    "answer.tail()"
   ]
  },
  {
   "cell_type": "code",
   "execution_count": 122,
   "metadata": {},
   "outputs": [
    {
     "data": {
      "text/plain": [
       "100"
      ]
     },
     "execution_count": 122,
     "metadata": {},
     "output_type": "execute_result"
    }
   ],
   "source": [
    "len(answer)"
   ]
  },
  {
   "cell_type": "code",
   "execution_count": null,
   "metadata": {},
   "outputs": [],
   "source": []
  }
 ],
 "metadata": {
  "kernelspec": {
   "display_name": "Python [conda env:tensorflow]",
   "language": "python",
   "name": "conda-env-tensorflow-py"
  },
  "language_info": {
   "codemirror_mode": {
    "name": "ipython",
    "version": 3
   },
   "file_extension": ".py",
   "mimetype": "text/x-python",
   "name": "python",
   "nbconvert_exporter": "python",
   "pygments_lexer": "ipython3",
   "version": "3.5.5"
  }
 },
 "nbformat": 4,
 "nbformat_minor": 2
}
