{
 "cells": [
  {
   "cell_type": "code",
   "execution_count": 1,
   "metadata": {},
   "outputs": [],
   "source": [
    "%run C:/Users/HSS/dd.py"
   ]
  },
  {
   "cell_type": "markdown",
   "metadata": {},
   "source": [
    "### Selenium 사용시\n",
    "- headless는 간혹 서비스 차단을 먹기도 한다 (Youtube, Coupang)\n",
    "     - header에 headless 정보가 포함되기 때문에 식별 가능\n",
    "- Xvfb로 뚫을 수 있다"
   ]
  },
  {
   "cell_type": "markdown",
   "metadata": {},
   "source": [
    "### 크롤링 일반\n",
    "- 동적페이지와 정적페이지의 구분\n",
    "    - 화면의 변화와 URL이 변화하는지 살펴볼 것\n",
    "        - 동적: 변화 없음 (json)/ 비동기방식\n",
    "        - 정적 : 변화 있음 (html)\n",
    "\n",
    "- 뭐니뭐니해도 API가 최고임"
   ]
  },
  {
   "cell_type": "markdown",
   "metadata": {},
   "source": [
    "### Naver REST API\n",
    "- 통합검색어 트렌드 api\n",
    "- 파파고 번역 api\n",
    "\n",
    "- 어플리케이션 등록\n",
    "    - client_id, client_secret_id \n"
   ]
  },
  {
   "cell_type": "code",
   "execution_count": 9,
   "metadata": {},
   "outputs": [],
   "source": [
    "import json\n",
    "import requests"
   ]
  },
  {
   "cell_type": "code",
   "execution_count": 5,
   "metadata": {},
   "outputs": [],
   "source": [
    "client_id = '4Wm17XdfuvTXU2ADhVZ6'\n",
    "client_secret_id =  'nvWeusPRzW'"
   ]
  },
  {
   "cell_type": "code",
   "execution_count": 4,
   "metadata": {},
   "outputs": [],
   "source": [
    "#1. 요청 및 응답\n",
    "url = 'https://openapi.naver.com/v1/datalab/search'\n",
    "params = {\n",
    "    'startDate': '2016-01-01',\n",
    "    'endDate': '2020-02-20',\n",
    "    'timeUnit': 'month',\n",
    "    'keywordGroups': [\n",
    "        {'groupName': '트위터', 'keywords' : ['트위터','트윗']},\n",
    "        {'groupName': '유투브', 'keywords' : ['유튜브','유투부']},\n",
    "        {'groupName': '인스타', 'keywords' : ['인스타그램','그램']},\n",
    "             \n",
    "    ],\n",
    "    'ages':['1','2','3'] # 0~25세\n",
    "\n",
    "}"
   ]
  },
  {
   "cell_type": "code",
   "execution_count": 12,
   "metadata": {},
   "outputs": [],
   "source": [
    "headers = {\n",
    "    \"Content-Type\" : \"application/json\",\n",
    "    \"X-Naver-Client-Id\" : client_id,\n",
    "    \"X-Naver-Client-Secret\": client_secret_id\n",
    "    \n",
    "}"
   ]
  },
  {
   "cell_type": "code",
   "execution_count": 14,
   "metadata": {},
   "outputs": [
    {
     "data": {
      "text/plain": [
       "<Response [200]>"
      ]
     },
     "execution_count": 14,
     "metadata": {},
     "output_type": "execute_result"
    }
   ],
   "source": [
    "response = requests.post(url, json.dumps(params), headers = headers)\n",
    "response"
   ]
  },
  {
   "cell_type": "code",
   "execution_count": 20,
   "metadata": {},
   "outputs": [],
   "source": [
    "result = response.json()['results']"
   ]
  },
  {
   "cell_type": "code",
   "execution_count": 44,
   "metadata": {},
   "outputs": [
    {
     "data": {
      "text/plain": [
       "{'data': [{'period': '2016-01-01', 'ratio': 5.69202},\n",
       "  {'period': '2016-02-01', 'ratio': 4.92683},\n",
       "  {'period': '2016-03-01', 'ratio': 4.52163},\n",
       "  {'period': '2016-04-01', 'ratio': 4.74644},\n",
       "  {'period': '2016-05-01', 'ratio': 4.88235},\n",
       "  {'period': '2016-06-01', 'ratio': 5.20669},\n",
       "  {'period': '2016-07-01', 'ratio': 5.56652},\n",
       "  {'period': '2016-08-01', 'ratio': 9.3691},\n",
       "  {'period': '2016-09-01', 'ratio': 9.27183},\n",
       "  {'period': '2016-10-01', 'ratio': 10.53743},\n",
       "  {'period': '2016-11-01', 'ratio': 10.05422},\n",
       "  {'period': '2016-12-01', 'ratio': 11.38448},\n",
       "  {'period': '2017-01-01', 'ratio': 11.7021},\n",
       "  {'period': '2017-02-01', 'ratio': 10.86266},\n",
       "  {'period': '2017-03-01', 'ratio': 9.22334},\n",
       "  {'period': '2017-04-01', 'ratio': 10.02581},\n",
       "  {'period': '2017-05-01', 'ratio': 11.40759},\n",
       "  {'period': '2017-06-01', 'ratio': 13.16944},\n",
       "  {'period': '2017-07-01', 'ratio': 13.08695},\n",
       "  {'period': '2017-08-01', 'ratio': 13.6301},\n",
       "  {'period': '2017-09-01', 'ratio': 12.09315},\n",
       "  {'period': '2017-10-01', 'ratio': 13.11477},\n",
       "  {'period': '2017-11-01', 'ratio': 12.8031},\n",
       "  {'period': '2017-12-01', 'ratio': 12.74685},\n",
       "  {'period': '2018-01-01', 'ratio': 13.0678},\n",
       "  {'period': '2018-02-01', 'ratio': 11.76738},\n",
       "  {'period': '2018-03-01', 'ratio': 11.2233},\n",
       "  {'period': '2018-04-01', 'ratio': 11.41283},\n",
       "  {'period': '2018-05-01', 'ratio': 10.99823},\n",
       "  {'period': '2018-06-01', 'ratio': 11.54669},\n",
       "  {'period': '2018-07-01', 'ratio': 11.08485},\n",
       "  {'period': '2018-08-01', 'ratio': 11.60377},\n",
       "  {'period': '2018-09-01', 'ratio': 11.04316},\n",
       "  {'period': '2018-10-01', 'ratio': 11.25483},\n",
       "  {'period': '2018-11-01', 'ratio': 10.98635},\n",
       "  {'period': '2018-12-01', 'ratio': 11.23323},\n",
       "  {'period': '2019-01-01', 'ratio': 11.22739},\n",
       "  {'period': '2019-02-01', 'ratio': 9.83809},\n",
       "  {'period': '2019-03-01', 'ratio': 9.63135},\n",
       "  {'period': '2019-04-01', 'ratio': 10.56113},\n",
       "  {'period': '2019-05-01', 'ratio': 10.18841},\n",
       "  {'period': '2019-06-01', 'ratio': 11.56313},\n",
       "  {'period': '2019-07-01', 'ratio': 12.01458},\n",
       "  {'period': '2019-08-01', 'ratio': 12.00196},\n",
       "  {'period': '2019-09-01', 'ratio': 11.99217},\n",
       "  {'period': '2019-10-01', 'ratio': 12.93869},\n",
       "  {'period': '2019-11-01', 'ratio': 12.46434},\n",
       "  {'period': '2019-12-01', 'ratio': 12.36805},\n",
       "  {'period': '2020-01-01', 'ratio': 13.80374},\n",
       "  {'period': '2020-02-01', 'ratio': 11.81087}],\n",
       " 'keywords': ['트위터', '트윗'],\n",
       " 'title': '트위터'}"
      ]
     },
     "execution_count": 44,
     "metadata": {},
     "output_type": "execute_result"
    }
   ],
   "source": [
    "result[0]"
   ]
  },
  {
   "cell_type": "code",
   "execution_count": 49,
   "metadata": {},
   "outputs": [],
   "source": [
    "for x in result:\n",
    "    df = pd.DataFrame(x['data'])\n",
    "    df['title'] = x['title']\n"
   ]
  },
  {
   "cell_type": "code",
   "execution_count": 50,
   "metadata": {},
   "outputs": [
    {
     "data": {
      "text/html": [
       "<div>\n",
       "<style scoped>\n",
       "    .dataframe tbody tr th:only-of-type {\n",
       "        vertical-align: middle;\n",
       "    }\n",
       "\n",
       "    .dataframe tbody tr th {\n",
       "        vertical-align: top;\n",
       "    }\n",
       "\n",
       "    .dataframe thead th {\n",
       "        text-align: right;\n",
       "    }\n",
       "</style>\n",
       "<table border=\"1\" class=\"dataframe\">\n",
       "  <thead>\n",
       "    <tr style=\"text-align: right;\">\n",
       "      <th></th>\n",
       "      <th>period</th>\n",
       "      <th>ratio</th>\n",
       "      <th>title</th>\n",
       "    </tr>\n",
       "  </thead>\n",
       "  <tbody>\n",
       "    <tr>\n",
       "      <th>0</th>\n",
       "      <td>2016-01-01</td>\n",
       "      <td>4.81454</td>\n",
       "      <td>인스타</td>\n",
       "    </tr>\n",
       "    <tr>\n",
       "      <th>1</th>\n",
       "      <td>2016-02-01</td>\n",
       "      <td>4.73447</td>\n",
       "      <td>인스타</td>\n",
       "    </tr>\n",
       "    <tr>\n",
       "      <th>2</th>\n",
       "      <td>2016-03-01</td>\n",
       "      <td>4.70399</td>\n",
       "      <td>인스타</td>\n",
       "    </tr>\n",
       "    <tr>\n",
       "      <th>3</th>\n",
       "      <td>2016-04-01</td>\n",
       "      <td>6.27800</td>\n",
       "      <td>인스타</td>\n",
       "    </tr>\n",
       "    <tr>\n",
       "      <th>4</th>\n",
       "      <td>2016-05-01</td>\n",
       "      <td>6.76164</td>\n",
       "      <td>인스타</td>\n",
       "    </tr>\n",
       "    <tr>\n",
       "      <th>5</th>\n",
       "      <td>2016-06-01</td>\n",
       "      <td>7.60854</td>\n",
       "      <td>인스타</td>\n",
       "    </tr>\n",
       "    <tr>\n",
       "      <th>6</th>\n",
       "      <td>2016-07-01</td>\n",
       "      <td>8.00803</td>\n",
       "      <td>인스타</td>\n",
       "    </tr>\n",
       "    <tr>\n",
       "      <th>7</th>\n",
       "      <td>2016-08-01</td>\n",
       "      <td>8.46156</td>\n",
       "      <td>인스타</td>\n",
       "    </tr>\n",
       "    <tr>\n",
       "      <th>8</th>\n",
       "      <td>2016-09-01</td>\n",
       "      <td>8.35986</td>\n",
       "      <td>인스타</td>\n",
       "    </tr>\n",
       "    <tr>\n",
       "      <th>9</th>\n",
       "      <td>2016-10-01</td>\n",
       "      <td>9.66641</td>\n",
       "      <td>인스타</td>\n",
       "    </tr>\n",
       "    <tr>\n",
       "      <th>10</th>\n",
       "      <td>2016-11-01</td>\n",
       "      <td>9.45999</td>\n",
       "      <td>인스타</td>\n",
       "    </tr>\n",
       "    <tr>\n",
       "      <th>11</th>\n",
       "      <td>2016-12-01</td>\n",
       "      <td>10.01999</td>\n",
       "      <td>인스타</td>\n",
       "    </tr>\n",
       "    <tr>\n",
       "      <th>12</th>\n",
       "      <td>2017-01-01</td>\n",
       "      <td>10.40199</td>\n",
       "      <td>인스타</td>\n",
       "    </tr>\n",
       "    <tr>\n",
       "      <th>13</th>\n",
       "      <td>2017-02-01</td>\n",
       "      <td>9.71995</td>\n",
       "      <td>인스타</td>\n",
       "    </tr>\n",
       "    <tr>\n",
       "      <th>14</th>\n",
       "      <td>2017-03-01</td>\n",
       "      <td>9.69393</td>\n",
       "      <td>인스타</td>\n",
       "    </tr>\n",
       "    <tr>\n",
       "      <th>15</th>\n",
       "      <td>2017-04-01</td>\n",
       "      <td>11.20291</td>\n",
       "      <td>인스타</td>\n",
       "    </tr>\n",
       "    <tr>\n",
       "      <th>16</th>\n",
       "      <td>2017-05-01</td>\n",
       "      <td>10.83230</td>\n",
       "      <td>인스타</td>\n",
       "    </tr>\n",
       "    <tr>\n",
       "      <th>17</th>\n",
       "      <td>2017-06-01</td>\n",
       "      <td>11.08885</td>\n",
       "      <td>인스타</td>\n",
       "    </tr>\n",
       "    <tr>\n",
       "      <th>18</th>\n",
       "      <td>2017-07-01</td>\n",
       "      <td>11.07076</td>\n",
       "      <td>인스타</td>\n",
       "    </tr>\n",
       "    <tr>\n",
       "      <th>19</th>\n",
       "      <td>2017-08-01</td>\n",
       "      <td>13.25747</td>\n",
       "      <td>인스타</td>\n",
       "    </tr>\n",
       "    <tr>\n",
       "      <th>20</th>\n",
       "      <td>2017-09-01</td>\n",
       "      <td>11.74701</td>\n",
       "      <td>인스타</td>\n",
       "    </tr>\n",
       "    <tr>\n",
       "      <th>21</th>\n",
       "      <td>2017-10-01</td>\n",
       "      <td>14.60027</td>\n",
       "      <td>인스타</td>\n",
       "    </tr>\n",
       "    <tr>\n",
       "      <th>22</th>\n",
       "      <td>2017-11-01</td>\n",
       "      <td>13.37476</td>\n",
       "      <td>인스타</td>\n",
       "    </tr>\n",
       "    <tr>\n",
       "      <th>23</th>\n",
       "      <td>2017-12-01</td>\n",
       "      <td>13.51226</td>\n",
       "      <td>인스타</td>\n",
       "    </tr>\n",
       "    <tr>\n",
       "      <th>24</th>\n",
       "      <td>2018-01-01</td>\n",
       "      <td>13.82434</td>\n",
       "      <td>인스타</td>\n",
       "    </tr>\n",
       "    <tr>\n",
       "      <th>25</th>\n",
       "      <td>2018-02-01</td>\n",
       "      <td>13.59617</td>\n",
       "      <td>인스타</td>\n",
       "    </tr>\n",
       "    <tr>\n",
       "      <th>26</th>\n",
       "      <td>2018-03-01</td>\n",
       "      <td>14.31449</td>\n",
       "      <td>인스타</td>\n",
       "    </tr>\n",
       "    <tr>\n",
       "      <th>27</th>\n",
       "      <td>2018-04-01</td>\n",
       "      <td>15.23746</td>\n",
       "      <td>인스타</td>\n",
       "    </tr>\n",
       "    <tr>\n",
       "      <th>28</th>\n",
       "      <td>2018-05-01</td>\n",
       "      <td>15.84481</td>\n",
       "      <td>인스타</td>\n",
       "    </tr>\n",
       "    <tr>\n",
       "      <th>29</th>\n",
       "      <td>2018-06-01</td>\n",
       "      <td>16.03552</td>\n",
       "      <td>인스타</td>\n",
       "    </tr>\n",
       "    <tr>\n",
       "      <th>30</th>\n",
       "      <td>2018-07-01</td>\n",
       "      <td>16.18215</td>\n",
       "      <td>인스타</td>\n",
       "    </tr>\n",
       "    <tr>\n",
       "      <th>31</th>\n",
       "      <td>2018-08-01</td>\n",
       "      <td>17.23522</td>\n",
       "      <td>인스타</td>\n",
       "    </tr>\n",
       "    <tr>\n",
       "      <th>32</th>\n",
       "      <td>2018-09-01</td>\n",
       "      <td>13.44362</td>\n",
       "      <td>인스타</td>\n",
       "    </tr>\n",
       "    <tr>\n",
       "      <th>33</th>\n",
       "      <td>2018-10-01</td>\n",
       "      <td>14.23375</td>\n",
       "      <td>인스타</td>\n",
       "    </tr>\n",
       "    <tr>\n",
       "      <th>34</th>\n",
       "      <td>2018-11-01</td>\n",
       "      <td>10.83293</td>\n",
       "      <td>인스타</td>\n",
       "    </tr>\n",
       "    <tr>\n",
       "      <th>35</th>\n",
       "      <td>2018-12-01</td>\n",
       "      <td>10.50941</td>\n",
       "      <td>인스타</td>\n",
       "    </tr>\n",
       "    <tr>\n",
       "      <th>36</th>\n",
       "      <td>2019-01-01</td>\n",
       "      <td>10.63456</td>\n",
       "      <td>인스타</td>\n",
       "    </tr>\n",
       "    <tr>\n",
       "      <th>37</th>\n",
       "      <td>2019-02-01</td>\n",
       "      <td>8.82079</td>\n",
       "      <td>인스타</td>\n",
       "    </tr>\n",
       "    <tr>\n",
       "      <th>38</th>\n",
       "      <td>2019-03-01</td>\n",
       "      <td>9.30663</td>\n",
       "      <td>인스타</td>\n",
       "    </tr>\n",
       "    <tr>\n",
       "      <th>39</th>\n",
       "      <td>2019-04-01</td>\n",
       "      <td>9.11704</td>\n",
       "      <td>인스타</td>\n",
       "    </tr>\n",
       "    <tr>\n",
       "      <th>40</th>\n",
       "      <td>2019-05-01</td>\n",
       "      <td>8.60522</td>\n",
       "      <td>인스타</td>\n",
       "    </tr>\n",
       "    <tr>\n",
       "      <th>41</th>\n",
       "      <td>2019-06-01</td>\n",
       "      <td>9.65605</td>\n",
       "      <td>인스타</td>\n",
       "    </tr>\n",
       "    <tr>\n",
       "      <th>42</th>\n",
       "      <td>2019-07-01</td>\n",
       "      <td>9.68713</td>\n",
       "      <td>인스타</td>\n",
       "    </tr>\n",
       "    <tr>\n",
       "      <th>43</th>\n",
       "      <td>2019-08-01</td>\n",
       "      <td>9.07958</td>\n",
       "      <td>인스타</td>\n",
       "    </tr>\n",
       "    <tr>\n",
       "      <th>44</th>\n",
       "      <td>2019-09-01</td>\n",
       "      <td>8.71735</td>\n",
       "      <td>인스타</td>\n",
       "    </tr>\n",
       "    <tr>\n",
       "      <th>45</th>\n",
       "      <td>2019-10-01</td>\n",
       "      <td>10.01039</td>\n",
       "      <td>인스타</td>\n",
       "    </tr>\n",
       "    <tr>\n",
       "      <th>46</th>\n",
       "      <td>2019-11-01</td>\n",
       "      <td>9.50344</td>\n",
       "      <td>인스타</td>\n",
       "    </tr>\n",
       "    <tr>\n",
       "      <th>47</th>\n",
       "      <td>2019-12-01</td>\n",
       "      <td>9.48649</td>\n",
       "      <td>인스타</td>\n",
       "    </tr>\n",
       "    <tr>\n",
       "      <th>48</th>\n",
       "      <td>2020-01-01</td>\n",
       "      <td>9.35627</td>\n",
       "      <td>인스타</td>\n",
       "    </tr>\n",
       "    <tr>\n",
       "      <th>49</th>\n",
       "      <td>2020-02-01</td>\n",
       "      <td>7.90838</td>\n",
       "      <td>인스타</td>\n",
       "    </tr>\n",
       "  </tbody>\n",
       "</table>\n",
       "</div>"
      ],
      "text/plain": [
       "        period     ratio title\n",
       "0   2016-01-01   4.81454   인스타\n",
       "1   2016-02-01   4.73447   인스타\n",
       "2   2016-03-01   4.70399   인스타\n",
       "3   2016-04-01   6.27800   인스타\n",
       "4   2016-05-01   6.76164   인스타\n",
       "5   2016-06-01   7.60854   인스타\n",
       "6   2016-07-01   8.00803   인스타\n",
       "7   2016-08-01   8.46156   인스타\n",
       "8   2016-09-01   8.35986   인스타\n",
       "9   2016-10-01   9.66641   인스타\n",
       "10  2016-11-01   9.45999   인스타\n",
       "11  2016-12-01  10.01999   인스타\n",
       "12  2017-01-01  10.40199   인스타\n",
       "13  2017-02-01   9.71995   인스타\n",
       "14  2017-03-01   9.69393   인스타\n",
       "15  2017-04-01  11.20291   인스타\n",
       "16  2017-05-01  10.83230   인스타\n",
       "17  2017-06-01  11.08885   인스타\n",
       "18  2017-07-01  11.07076   인스타\n",
       "19  2017-08-01  13.25747   인스타\n",
       "20  2017-09-01  11.74701   인스타\n",
       "21  2017-10-01  14.60027   인스타\n",
       "22  2017-11-01  13.37476   인스타\n",
       "23  2017-12-01  13.51226   인스타\n",
       "24  2018-01-01  13.82434   인스타\n",
       "25  2018-02-01  13.59617   인스타\n",
       "26  2018-03-01  14.31449   인스타\n",
       "27  2018-04-01  15.23746   인스타\n",
       "28  2018-05-01  15.84481   인스타\n",
       "29  2018-06-01  16.03552   인스타\n",
       "30  2018-07-01  16.18215   인스타\n",
       "31  2018-08-01  17.23522   인스타\n",
       "32  2018-09-01  13.44362   인스타\n",
       "33  2018-10-01  14.23375   인스타\n",
       "34  2018-11-01  10.83293   인스타\n",
       "35  2018-12-01  10.50941   인스타\n",
       "36  2019-01-01  10.63456   인스타\n",
       "37  2019-02-01   8.82079   인스타\n",
       "38  2019-03-01   9.30663   인스타\n",
       "39  2019-04-01   9.11704   인스타\n",
       "40  2019-05-01   8.60522   인스타\n",
       "41  2019-06-01   9.65605   인스타\n",
       "42  2019-07-01   9.68713   인스타\n",
       "43  2019-08-01   9.07958   인스타\n",
       "44  2019-09-01   8.71735   인스타\n",
       "45  2019-10-01  10.01039   인스타\n",
       "46  2019-11-01   9.50344   인스타\n",
       "47  2019-12-01   9.48649   인스타\n",
       "48  2020-01-01   9.35627   인스타\n",
       "49  2020-02-01   7.90838   인스타"
      ]
     },
     "execution_count": 50,
     "metadata": {},
     "output_type": "execute_result"
    }
   ],
   "source": [
    "df"
   ]
  },
  {
   "cell_type": "code",
   "execution_count": 38,
   "metadata": {
    "scrolled": true
   },
   "outputs": [],
   "source": [
    "data = []\n",
    "for x in result:\n",
    "    dfs = x['data']\n",
    "#     dfs['title'] = x['title']\n",
    "    data.append(dfs)\n",
    "\n",
    "# result_df = pd.concat(dfs, ignore_index = True)\n",
    "# result_df.tail(3)"
   ]
  },
  {
   "cell_type": "code",
   "execution_count": 39,
   "metadata": {},
   "outputs": [
    {
     "data": {
      "text/plain": [
       "[[{'period': '2016-01-01', 'ratio': 5.69202},\n",
       "  {'period': '2016-02-01', 'ratio': 4.92683},\n",
       "  {'period': '2016-03-01', 'ratio': 4.52163},\n",
       "  {'period': '2016-04-01', 'ratio': 4.74644},\n",
       "  {'period': '2016-05-01', 'ratio': 4.88235},\n",
       "  {'period': '2016-06-01', 'ratio': 5.20669},\n",
       "  {'period': '2016-07-01', 'ratio': 5.56652},\n",
       "  {'period': '2016-08-01', 'ratio': 9.3691},\n",
       "  {'period': '2016-09-01', 'ratio': 9.27183},\n",
       "  {'period': '2016-10-01', 'ratio': 10.53743},\n",
       "  {'period': '2016-11-01', 'ratio': 10.05422},\n",
       "  {'period': '2016-12-01', 'ratio': 11.38448},\n",
       "  {'period': '2017-01-01', 'ratio': 11.7021},\n",
       "  {'period': '2017-02-01', 'ratio': 10.86266},\n",
       "  {'period': '2017-03-01', 'ratio': 9.22334},\n",
       "  {'period': '2017-04-01', 'ratio': 10.02581},\n",
       "  {'period': '2017-05-01', 'ratio': 11.40759},\n",
       "  {'period': '2017-06-01', 'ratio': 13.16944},\n",
       "  {'period': '2017-07-01', 'ratio': 13.08695},\n",
       "  {'period': '2017-08-01', 'ratio': 13.6301},\n",
       "  {'period': '2017-09-01', 'ratio': 12.09315},\n",
       "  {'period': '2017-10-01', 'ratio': 13.11477},\n",
       "  {'period': '2017-11-01', 'ratio': 12.8031},\n",
       "  {'period': '2017-12-01', 'ratio': 12.74685},\n",
       "  {'period': '2018-01-01', 'ratio': 13.0678},\n",
       "  {'period': '2018-02-01', 'ratio': 11.76738},\n",
       "  {'period': '2018-03-01', 'ratio': 11.2233},\n",
       "  {'period': '2018-04-01', 'ratio': 11.41283},\n",
       "  {'period': '2018-05-01', 'ratio': 10.99823},\n",
       "  {'period': '2018-06-01', 'ratio': 11.54669},\n",
       "  {'period': '2018-07-01', 'ratio': 11.08485},\n",
       "  {'period': '2018-08-01', 'ratio': 11.60377},\n",
       "  {'period': '2018-09-01', 'ratio': 11.04316},\n",
       "  {'period': '2018-10-01', 'ratio': 11.25483},\n",
       "  {'period': '2018-11-01', 'ratio': 10.98635},\n",
       "  {'period': '2018-12-01', 'ratio': 11.23323},\n",
       "  {'period': '2019-01-01', 'ratio': 11.22739},\n",
       "  {'period': '2019-02-01', 'ratio': 9.83809},\n",
       "  {'period': '2019-03-01', 'ratio': 9.63135},\n",
       "  {'period': '2019-04-01', 'ratio': 10.56113},\n",
       "  {'period': '2019-05-01', 'ratio': 10.18841},\n",
       "  {'period': '2019-06-01', 'ratio': 11.56313},\n",
       "  {'period': '2019-07-01', 'ratio': 12.01458},\n",
       "  {'period': '2019-08-01', 'ratio': 12.00196},\n",
       "  {'period': '2019-09-01', 'ratio': 11.99217},\n",
       "  {'period': '2019-10-01', 'ratio': 12.93869},\n",
       "  {'period': '2019-11-01', 'ratio': 12.46434},\n",
       "  {'period': '2019-12-01', 'ratio': 12.36805},\n",
       "  {'period': '2020-01-01', 'ratio': 13.80374},\n",
       "  {'period': '2020-02-01', 'ratio': 11.81087}],\n",
       " [{'period': '2016-01-01', 'ratio': 78.50758},\n",
       "  {'period': '2016-02-01', 'ratio': 76.42246},\n",
       "  {'period': '2016-03-01', 'ratio': 73.59765},\n",
       "  {'period': '2016-04-01', 'ratio': 78.35494},\n",
       "  {'period': '2016-05-01', 'ratio': 87.76581},\n",
       "  {'period': '2016-06-01', 'ratio': 85.56527},\n",
       "  {'period': '2016-07-01', 'ratio': 86.19438},\n",
       "  {'period': '2016-08-01', 'ratio': 85.98703},\n",
       "  {'period': '2016-09-01', 'ratio': 86.55702},\n",
       "  {'period': '2016-10-01', 'ratio': 96.7071},\n",
       "  {'period': '2016-11-01', 'ratio': 95.84937},\n",
       "  {'period': '2016-12-01', 'ratio': 97.6126},\n",
       "  {'period': '2017-01-01', 'ratio': 94.21447},\n",
       "  {'period': '2017-02-01', 'ratio': 88.11494},\n",
       "  {'period': '2017-03-01', 'ratio': 86.92779},\n",
       "  {'period': '2017-04-01', 'ratio': 88.88983},\n",
       "  {'period': '2017-05-01', 'ratio': 95.26708},\n",
       "  {'period': '2017-06-01', 'ratio': 94.09853},\n",
       "  {'period': '2017-07-01', 'ratio': 97.05616},\n",
       "  {'period': '2017-08-01', 'ratio': 96.18825},\n",
       "  {'period': '2017-09-01', 'ratio': 95.85409},\n",
       "  {'period': '2017-10-01', 'ratio': 100},\n",
       "  {'period': '2017-11-01', 'ratio': 99.04824},\n",
       "  {'period': '2017-12-01', 'ratio': 95.64067},\n",
       "  {'period': '2018-01-01', 'ratio': 89.64457},\n",
       "  {'period': '2018-02-01', 'ratio': 80.80604},\n",
       "  {'period': '2018-03-01', 'ratio': 86.87421},\n",
       "  {'period': '2018-04-01', 'ratio': 87.96872},\n",
       "  {'period': '2018-05-01', 'ratio': 93.72358},\n",
       "  {'period': '2018-06-01', 'ratio': 92.51068},\n",
       "  {'period': '2018-07-01', 'ratio': 93.13483},\n",
       "  {'period': '2018-08-01', 'ratio': 94.42199},\n",
       "  {'period': '2018-09-01', 'ratio': 73.73033},\n",
       "  {'period': '2018-10-01', 'ratio': 65.74752},\n",
       "  {'period': '2018-11-01', 'ratio': 62.85372},\n",
       "  {'period': '2018-12-01', 'ratio': 59.53113},\n",
       "  {'period': '2019-01-01', 'ratio': 50.34122},\n",
       "  {'period': '2019-02-01', 'ratio': 43.47841},\n",
       "  {'period': '2019-03-01', 'ratio': 47.4854},\n",
       "  {'period': '2019-04-01', 'ratio': 45.92201},\n",
       "  {'period': '2019-05-01', 'ratio': 47.32739},\n",
       "  {'period': '2019-06-01', 'ratio': 45.44523},\n",
       "  {'period': '2019-07-01', 'ratio': 43.38857},\n",
       "  {'period': '2019-08-01', 'ratio': 42.27962},\n",
       "  {'period': '2019-09-01', 'ratio': 42.51042},\n",
       "  {'period': '2019-10-01', 'ratio': 43.39222},\n",
       "  {'period': '2019-11-01', 'ratio': 42.2162},\n",
       "  {'period': '2019-12-01', 'ratio': 41.17128},\n",
       "  {'period': '2020-01-01', 'ratio': 32.11656},\n",
       "  {'period': '2020-02-01', 'ratio': 25.03727}],\n",
       " [{'period': '2016-01-01', 'ratio': 4.81454},\n",
       "  {'period': '2016-02-01', 'ratio': 4.73447},\n",
       "  {'period': '2016-03-01', 'ratio': 4.70399},\n",
       "  {'period': '2016-04-01', 'ratio': 6.278},\n",
       "  {'period': '2016-05-01', 'ratio': 6.76164},\n",
       "  {'period': '2016-06-01', 'ratio': 7.60854},\n",
       "  {'period': '2016-07-01', 'ratio': 8.00803},\n",
       "  {'period': '2016-08-01', 'ratio': 8.46156},\n",
       "  {'period': '2016-09-01', 'ratio': 8.35986},\n",
       "  {'period': '2016-10-01', 'ratio': 9.66641},\n",
       "  {'period': '2016-11-01', 'ratio': 9.45999},\n",
       "  {'period': '2016-12-01', 'ratio': 10.01999},\n",
       "  {'period': '2017-01-01', 'ratio': 10.40199},\n",
       "  {'period': '2017-02-01', 'ratio': 9.71995},\n",
       "  {'period': '2017-03-01', 'ratio': 9.69393},\n",
       "  {'period': '2017-04-01', 'ratio': 11.20291},\n",
       "  {'period': '2017-05-01', 'ratio': 10.8323},\n",
       "  {'period': '2017-06-01', 'ratio': 11.08885},\n",
       "  {'period': '2017-07-01', 'ratio': 11.07076},\n",
       "  {'period': '2017-08-01', 'ratio': 13.25747},\n",
       "  {'period': '2017-09-01', 'ratio': 11.74701},\n",
       "  {'period': '2017-10-01', 'ratio': 14.60027},\n",
       "  {'period': '2017-11-01', 'ratio': 13.37476},\n",
       "  {'period': '2017-12-01', 'ratio': 13.51226},\n",
       "  {'period': '2018-01-01', 'ratio': 13.82434},\n",
       "  {'period': '2018-02-01', 'ratio': 13.59617},\n",
       "  {'period': '2018-03-01', 'ratio': 14.31449},\n",
       "  {'period': '2018-04-01', 'ratio': 15.23746},\n",
       "  {'period': '2018-05-01', 'ratio': 15.84481},\n",
       "  {'period': '2018-06-01', 'ratio': 16.03552},\n",
       "  {'period': '2018-07-01', 'ratio': 16.18215},\n",
       "  {'period': '2018-08-01', 'ratio': 17.23522},\n",
       "  {'period': '2018-09-01', 'ratio': 13.44362},\n",
       "  {'period': '2018-10-01', 'ratio': 14.23375},\n",
       "  {'period': '2018-11-01', 'ratio': 10.83293},\n",
       "  {'period': '2018-12-01', 'ratio': 10.50941},\n",
       "  {'period': '2019-01-01', 'ratio': 10.63456},\n",
       "  {'period': '2019-02-01', 'ratio': 8.82079},\n",
       "  {'period': '2019-03-01', 'ratio': 9.30663},\n",
       "  {'period': '2019-04-01', 'ratio': 9.11704},\n",
       "  {'period': '2019-05-01', 'ratio': 8.60522},\n",
       "  {'period': '2019-06-01', 'ratio': 9.65605},\n",
       "  {'period': '2019-07-01', 'ratio': 9.68713},\n",
       "  {'period': '2019-08-01', 'ratio': 9.07958},\n",
       "  {'period': '2019-09-01', 'ratio': 8.71735},\n",
       "  {'period': '2019-10-01', 'ratio': 10.01039},\n",
       "  {'period': '2019-11-01', 'ratio': 9.50344},\n",
       "  {'period': '2019-12-01', 'ratio': 9.48649},\n",
       "  {'period': '2020-01-01', 'ratio': 9.35627},\n",
       "  {'period': '2020-02-01', 'ratio': 7.90838}]]"
      ]
     },
     "execution_count": 39,
     "metadata": {},
     "output_type": "execute_result"
    }
   ],
   "source": [
    "data"
   ]
  },
  {
   "cell_type": "code",
   "execution_count": null,
   "metadata": {},
   "outputs": [],
   "source": [
    "pivot_df = result_df.pivot('period', 'title', 'ratio')\n",
    "pivot_df.tail()"
   ]
  },
  {
   "cell_type": "markdown",
   "metadata": {},
   "source": [
    "### 파파고 api"
   ]
  },
  {
   "cell_type": "code",
   "execution_count": 61,
   "metadata": {},
   "outputs": [],
   "source": [
    "url = 'https://openapi.naver.com/v1/papago/n2mt'\n",
    "params = {\n",
    "    'source': 'ko',\n",
    "    'target': 'en',\n",
    "    'text': '파이썬 웹 크롤'\n",
    "}"
   ]
  },
  {
   "cell_type": "code",
   "execution_count": 62,
   "metadata": {},
   "outputs": [],
   "source": [
    "headers = {\n",
    "    \"Content-Type\" : \"application/json\",\n",
    "    \"X-Naver-Client-Id\" : client_id,\n",
    "    \"X-Naver-Client-Secret\": client_secret_id\n",
    "    \n",
    "}"
   ]
  },
  {
   "cell_type": "code",
   "execution_count": 63,
   "metadata": {},
   "outputs": [
    {
     "data": {
      "text/plain": [
       "<Response [200]>"
      ]
     },
     "execution_count": 63,
     "metadata": {},
     "output_type": "execute_result"
    }
   ],
   "source": [
    "response =  requests.post(url, json.dumps(params), headers = headers)\n",
    "response"
   ]
  },
  {
   "cell_type": "code",
   "execution_count": 70,
   "metadata": {},
   "outputs": [
    {
     "data": {
      "text/plain": [
       "'Python Web crawl'"
      ]
     },
     "execution_count": 70,
     "metadata": {},
     "output_type": "execute_result"
    }
   ],
   "source": [
    "response.json()['message']['result']['translatedText']"
   ]
  },
  {
   "cell_type": "code",
   "execution_count": null,
   "metadata": {},
   "outputs": [],
   "source": []
  },
  {
   "cell_type": "markdown",
   "metadata": {},
   "source": [
    "### kakao rest api\n",
    "- 주소값으로 위도, 경도, 우편번호 가져오기\n",
    "- 카카오 번역\n",
    "- 카카오 메세지 보내기"
   ]
  },
  {
   "cell_type": "code",
   "execution_count": 71,
   "metadata": {},
   "outputs": [],
   "source": [
    "### 카카오 로컬 api\n",
    "\n",
    "key = '53828473d1ed2163380a6165ef7c6185'"
   ]
  },
  {
   "cell_type": "code",
   "execution_count": 76,
   "metadata": {},
   "outputs": [],
   "source": [
    "headers = {\n",
    "    'Authorization' : 'KakaoAK {}'.format(key)\n",
    "}\n",
    "\n",
    "query = '서울시 동대문구 휘경동 286-132'\n"
   ]
  },
  {
   "cell_type": "code",
   "execution_count": 73,
   "metadata": {},
   "outputs": [],
   "source": [
    "url = 'https://dapi.kakao.com/v2/local/search/address.json?query={}'.format(query)"
   ]
  },
  {
   "cell_type": "code",
   "execution_count": 77,
   "metadata": {},
   "outputs": [],
   "source": [
    "response = requests.get(url, headers = headers)"
   ]
  },
  {
   "cell_type": "code",
   "execution_count": 78,
   "metadata": {},
   "outputs": [
    {
     "data": {
      "text/plain": [
       "<Response [200]>"
      ]
     },
     "execution_count": 78,
     "metadata": {},
     "output_type": "execute_result"
    }
   ],
   "source": [
    "response"
   ]
  },
  {
   "cell_type": "code",
   "execution_count": 89,
   "metadata": {},
   "outputs": [],
   "source": [
    "result = response.json()['documents'][0]"
   ]
  },
  {
   "cell_type": "code",
   "execution_count": 91,
   "metadata": {},
   "outputs": [],
   "source": [
    "lat, lan ,zip_code = result['address']['x'], result['address']['y'],  result['address']['zip_code']"
   ]
  },
  {
   "cell_type": "code",
   "execution_count": 93,
   "metadata": {},
   "outputs": [
    {
     "data": {
      "text/plain": [
       "('127.06094570824767', '37.58828829997644', '130878')"
      ]
     },
     "execution_count": 93,
     "metadata": {},
     "output_type": "execute_result"
    }
   ],
   "source": [
    "lat, lan, zip_code"
   ]
  },
  {
   "cell_type": "markdown",
   "metadata": {},
   "source": [
    "### 카카오 번역 API"
   ]
  },
  {
   "cell_type": "code",
   "execution_count": 97,
   "metadata": {},
   "outputs": [],
   "source": [
    "headers = {'Authorization':'KakaoAK {}'.format(key)}"
   ]
  },
  {
   "cell_type": "code",
   "execution_count": 98,
   "metadata": {},
   "outputs": [],
   "source": [
    "params = {\n",
    "    'query': '파이썬 웹 크롤링 및 자동화',\n",
    "    'src_lang': 'kr',\n",
    "    'target_lang': 'en'\n",
    "}"
   ]
  },
  {
   "cell_type": "code",
   "execution_count": 102,
   "metadata": {},
   "outputs": [],
   "source": [
    "url = 'https://kapi.kakao.com/v1/translation/translate?query={}&src_lang={}&target_lang={}'.format(params['query'],params['src_lang'],params['target_lang'])"
   ]
  },
  {
   "cell_type": "code",
   "execution_count": 103,
   "metadata": {},
   "outputs": [
    {
     "data": {
      "text/plain": [
       "<Response [200]>"
      ]
     },
     "execution_count": 103,
     "metadata": {},
     "output_type": "execute_result"
    }
   ],
   "source": [
    "response = requests.get(url, headers = headers)\n",
    "response"
   ]
  },
  {
   "cell_type": "code",
   "execution_count": 112,
   "metadata": {},
   "outputs": [
    {
     "data": {
      "text/plain": [
       "'Python web crawling and automation'"
      ]
     },
     "execution_count": 112,
     "metadata": {},
     "output_type": "execute_result"
    }
   ],
   "source": [
    "response.json()['translated_text'][0][0]"
   ]
  },
  {
   "cell_type": "markdown",
   "metadata": {},
   "source": [
    "### Oauth\n",
    "- 비밀번호 없이 사이트의 정보를 제 3자에게 제공해주는 인증하는 표준 프로토콜"
   ]
  },
  {
   "cell_type": "markdown",
   "metadata": {},
   "source": [
    "### 카카오톡 메세지 전송하기\n",
    "- app_id, app_key를 통해 authorize_code를 받는다\n",
    "- authorize_code를 통해 access_code를 받는다"
   ]
  },
  {
   "cell_type": "code",
   "execution_count": 120,
   "metadata": {},
   "outputs": [],
   "source": [
    "app_id = '402446'\n",
    "app_key = '53828473d1ed2163380a6165ef7c6185'\n",
    "redirect_uri = 'https://naver.com'\n"
   ]
  },
  {
   "cell_type": "code",
   "execution_count": 123,
   "metadata": {},
   "outputs": [],
   "source": [
    "# authorize_code 받기\n",
    "url = 'https://kauth.kakao.com/oauth/authorize?client_id={}&redirect_uri={}&response_type=code'.format(app_key, redirect_uri)"
   ]
  },
  {
   "cell_type": "code",
   "execution_count": 124,
   "metadata": {},
   "outputs": [
    {
     "name": "stdout",
     "output_type": "stream",
     "text": [
      "https://kauth.kakao.com/oauth/authorize?client_id=53828473d1ed2163380a6165ef7c6185&redirect_uri=https://naver.com&response_type=code\n"
     ]
    }
   ],
   "source": [
    "print(url)"
   ]
  },
  {
   "cell_type": "code",
   "execution_count": 126,
   "metadata": {},
   "outputs": [],
   "source": [
    "authorize_code = 'Qrdl-Rl_0MAhPlv3uVmM4X7j-npTPoYrxpOsRjCR43JMR2e5RH_9C6O_OYXxSGK0943dBQopb9QAAAFwhZGeLA'"
   ]
  },
  {
   "cell_type": "code",
   "execution_count": 127,
   "metadata": {},
   "outputs": [],
   "source": [
    "url = 'https://kauth.kakao.com/oauth/token'\n",
    "\n",
    "headers = {\n",
    "    'grant_type' : 'authorization_code',\n",
    "    'client_id' : '{}'.format(app_key),\n",
    "    'redirect_uri': '{}'.format(redirect_uri),\n",
    "    'code': '{}'.format(authorize_code)\n",
    "}"
   ]
  },
  {
   "cell_type": "code",
   "execution_count": 128,
   "metadata": {},
   "outputs": [
    {
     "data": {
      "text/plain": [
       "<Response [200]>"
      ]
     },
     "execution_count": 128,
     "metadata": {},
     "output_type": "execute_result"
    }
   ],
   "source": [
    "response = requests.post(url, headers)\n",
    "response"
   ]
  },
  {
   "cell_type": "code",
   "execution_count": 138,
   "metadata": {},
   "outputs": [],
   "source": [
    "user_datas = response.json()"
   ]
  },
  {
   "cell_type": "code",
   "execution_count": 136,
   "metadata": {},
   "outputs": [
    {
     "data": {
      "text/plain": [
       "'Ntq3_8I0v76rGWS15C5xZmpTQELtYLEojeYb8AorDNMAAAFwhZUYIQ'"
      ]
     },
     "execution_count": 136,
     "metadata": {},
     "output_type": "execute_result"
    }
   ],
   "source": [
    "access_token = response.json()['access_token']\n",
    "access_token"
   ]
  },
  {
   "cell_type": "code",
   "execution_count": 139,
   "metadata": {},
   "outputs": [
    {
     "data": {
      "text/plain": [
       "{'access_token': 'Ntq3_8I0v76rGWS15C5xZmpTQELtYLEojeYb8AorDNMAAAFwhZUYIQ',\n",
       " 'expires_in': 21599,\n",
       " 'refresh_token': 'ltkHfX1jJnZevymzWUb_O1dx8SbsuabE0E5JaAorDNMAAAFwhZUYIA',\n",
       " 'refresh_token_expires_in': 5183999,\n",
       " 'scope': 'account_email talk_message profile',\n",
       " 'token_type': 'bearer'}"
      ]
     },
     "execution_count": 139,
     "metadata": {},
     "output_type": "execute_result"
    }
   ],
   "source": [
    "# 프로필 데이터 가져오기\n",
    "user_datas"
   ]
  },
  {
   "cell_type": "code",
   "execution_count": 140,
   "metadata": {},
   "outputs": [],
   "source": [
    "url  ='https://kapi.kakao.com/v1/api/talk/profile'\n",
    "headers = {\n",
    "    'Authorization' : 'Bearer {}'.format(access_token)\n",
    "}\n"
   ]
  },
  {
   "cell_type": "code",
   "execution_count": 142,
   "metadata": {},
   "outputs": [
    {
     "data": {
      "text/plain": [
       "<Response [200]>"
      ]
     },
     "execution_count": 142,
     "metadata": {},
     "output_type": "execute_result"
    }
   ],
   "source": [
    "response = requests.get(url, headers = headers)\n",
    "response"
   ]
  },
  {
   "cell_type": "code",
   "execution_count": 145,
   "metadata": {},
   "outputs": [
    {
     "data": {
      "text/plain": [
       "{'countryISO': 'KR',\n",
       " 'nickName': '황상선',\n",
       " 'profileImageURL': 'http://th-p.talk.kakao.co.kr/th/talkp/wkUUetmAAc/blYKGb0kAfuJxI0NcasrzK/5h9j0a_640x640_s.jpg',\n",
       " 'thumbnailURL': 'http://th-p.talk.kakao.co.kr/th/talkp/wkUUetmAAc/blYKGb0kAfuJxI0NcasrzK/5h9j0a_110x110_c.jpg'}"
      ]
     },
     "execution_count": 145,
     "metadata": {},
     "output_type": "execute_result"
    }
   ],
   "source": [
    "response.json()"
   ]
  },
  {
   "cell_type": "code",
   "execution_count": 148,
   "metadata": {},
   "outputs": [
    {
     "name": "stdout",
     "output_type": "stream",
     "text": [
      "http://th-p.talk.kakao.co.kr/th/talkp/wkUUetmAAc/blYKGb0kAfuJxI0NcasrzK/5h9j0a_640x640_s.jpg\n"
     ]
    }
   ],
   "source": [
    "print(response.json()['profileImageURL'])"
   ]
  },
  {
   "cell_type": "code",
   "execution_count": 167,
   "metadata": {},
   "outputs": [],
   "source": [
    "url = 'https://kapi.kakao.com/v2/api/talk/memo/default/send'\n",
    "\n",
    "headers = {\n",
    "    'Content-Type': \"application/x-www-form-urlencoded\",\n",
    "    'Cache-Control': \"no-cache\",\n",
    "    \"Authorization\": \"Bearer {}\".format(user_datas[\"access_token\"])\n",
    "}\n",
    "\n",
    "\n",
    "template_object = {\n",
    "    \"object_type\": \"text\",\n",
    "    \"text\": \"뭐하냐?\",\n",
    "    \"link\": {\n",
    "            \"web_url\": \"https://naver.com\",\n",
    "            \"mobile_web_url\": \"https://naver.com\"},\n",
    "    'button' : '바로 확인'\n",
    "\n",
    "}"
   ]
  },
  {
   "cell_type": "code",
   "execution_count": 168,
   "metadata": {},
   "outputs": [
    {
     "data": {
      "text/plain": [
       "'{\"msg\":\"Forbidden\",\"code\":-403}'"
      ]
     },
     "execution_count": 168,
     "metadata": {},
     "output_type": "execute_result"
    }
   ],
   "source": [
    "payload = 'template_object=' + str(json.dumps(template_object))\n",
    "response = requests.get(url, payload, headers = headers)\n",
    "response.text"
   ]
  },
  {
   "cell_type": "code",
   "execution_count": 161,
   "metadata": {},
   "outputs": [
    {
     "data": {
      "text/plain": [
       "'template_object={\"text\": \"\\\\ubb50\\\\ud558\\\\ub0d0?\", \"link\": {\"mobile_web_url\": \"https://developers.kakao.com\", \"web_url\": \"https://developers.kakao.com\"}, \"button\": \"\\\\ubc14\\\\ub85c \\\\ud655\\\\uc778\", \"object_type\": \"text\"}'"
      ]
     },
     "execution_count": 161,
     "metadata": {},
     "output_type": "execute_result"
    }
   ],
   "source": [
    "'template_object=' + str(json.dumps(template_object))"
   ]
  },
  {
   "cell_type": "code",
   "execution_count": 169,
   "metadata": {},
   "outputs": [
    {
     "data": {
      "text/plain": [
       "'{\"msg\":\"Forbidden\",\"code\":-403}'"
      ]
     },
     "execution_count": 169,
     "metadata": {},
     "output_type": "execute_result"
    }
   ],
   "source": [
    "response.text"
   ]
  }
 ],
 "metadata": {
  "kernelspec": {
   "display_name": "Python [conda env:tensorflow]",
   "language": "python",
   "name": "conda-env-tensorflow-py"
  },
  "language_info": {
   "codemirror_mode": {
    "name": "ipython",
    "version": 3
   },
   "file_extension": ".py",
   "mimetype": "text/x-python",
   "name": "python",
   "nbconvert_exporter": "python",
   "pygments_lexer": "ipython3",
   "version": "3.5.5"
  }
 },
 "nbformat": 4,
 "nbformat_minor": 2
}
