{
 "cells": [
  {
   "cell_type": "code",
   "execution_count": 1,
   "metadata": {},
   "outputs": [],
   "source": [
    "%run C:/Users/HSS/dd.py"
   ]
  },
  {
   "cell_type": "code",
   "execution_count": 2,
   "metadata": {},
   "outputs": [
    {
     "name": "stdout",
     "output_type": "stream",
     "text": [
      "done\n"
     ]
    }
   ],
   "source": [
    "print('done')"
   ]
  },
  {
   "cell_type": "code",
   "execution_count": 3,
   "metadata": {},
   "outputs": [
    {
     "ename": "SyntaxError",
     "evalue": "invalid syntax (<ipython-input-3-6c7b395a92e3>, line 4)",
     "output_type": "error",
     "traceback": [
      "\u001b[1;36m  File \u001b[1;32m\"<ipython-input-3-6c7b395a92e3>\"\u001b[1;36m, line \u001b[1;32m4\u001b[0m\n\u001b[1;33m    2a3bcdcd\u001b[0m\n\u001b[1;37m           ^\u001b[0m\n\u001b[1;31mSyntaxError\u001b[0m\u001b[1;31m:\u001b[0m invalid syntax\n"
     ]
    }
   ],
   "source": [
    "s = 'aabbbbcdcd'\n"
   ]
  },
  {
   "cell_type": "code",
   "execution_count": 65,
   "metadata": {},
   "outputs": [
    {
     "ename": "UnboundLocalError",
     "evalue": "local variable 'letters' referenced before assignment",
     "output_type": "error",
     "traceback": [
      "\u001b[1;31m---------------------------------------------------------------------------\u001b[0m",
      "\u001b[1;31mUnboundLocalError\u001b[0m                         Traceback (most recent call last)",
      "\u001b[1;32m<ipython-input-65-1a220af1142c>\u001b[0m in \u001b[0;36m<module>\u001b[1;34m()\u001b[0m\n\u001b[1;32m----> 1\u001b[1;33m \u001b[0msolution\u001b[0m\u001b[1;33m(\u001b[0m\u001b[0ms\u001b[0m\u001b[1;33m)\u001b[0m\u001b[1;33m\u001b[0m\u001b[0m\n\u001b[0m",
      "\u001b[1;32m<ipython-input-63-7a51b6ab847a>\u001b[0m in \u001b[0;36msolution\u001b[1;34m(s)\u001b[0m\n\u001b[0;32m     15\u001b[0m \u001b[1;33m\u001b[0m\u001b[0m\n\u001b[0;32m     16\u001b[0m     \u001b[1;32mfor\u001b[0m \u001b[0midx\u001b[0m\u001b[1;33m,\u001b[0m\u001b[0mkey\u001b[0m \u001b[1;32min\u001b[0m \u001b[0mwd\u001b[0m\u001b[1;33m.\u001b[0m\u001b[0mitems\u001b[0m\u001b[1;33m(\u001b[0m\u001b[1;33m)\u001b[0m\u001b[1;33m:\u001b[0m\u001b[1;33m\u001b[0m\u001b[0m\n\u001b[1;32m---> 17\u001b[1;33m         \u001b[0mletters\u001b[0m \u001b[1;33m+=\u001b[0m \u001b[1;33m(\u001b[0m\u001b[0mstr\u001b[0m\u001b[1;33m(\u001b[0m\u001b[0mkey\u001b[0m\u001b[1;33m)\u001b[0m\u001b[1;33m+\u001b[0m\u001b[0mstr\u001b[0m\u001b[1;33m(\u001b[0m\u001b[0midx\u001b[0m\u001b[1;33m)\u001b[0m\u001b[1;33m)\u001b[0m\u001b[1;33m\u001b[0m\u001b[0m\n\u001b[0m\u001b[0;32m     18\u001b[0m \u001b[1;33m\u001b[0m\u001b[0m\n\u001b[0;32m     19\u001b[0m         \u001b[1;32mreturn\u001b[0m \u001b[0mletters\u001b[0m\u001b[1;33m\u001b[0m\u001b[0m\n",
      "\u001b[1;31mUnboundLocalError\u001b[0m: local variable 'letters' referenced before assignment"
     ]
    }
   ],
   "source": [
    "solution(s)"
   ]
  },
  {
   "cell_type": "code",
   "execution_count": 5,
   "metadata": {},
   "outputs": [],
   "source": [
    "#직관적으로 1글자 검사는 i = 1로\n",
    "#len(s) = 10\n",
    "#range(10) : 0~9 \n",
    "\n",
    "def solution(s):\n",
    "    s = list(s)\n",
    "    dict1 = {}\n",
    "    letters = ''\n",
    "    \n",
    "    \n",
    "    for i in range(1,7):\n",
    "        print('-----------')\n",
    "        for j in range(len(s)-i):\n",
    "            print(i,j,j+i)\n",
    "            first = s[j:j+i]\n",
    "            second = s[j+1:j+i+1]\n",
    "        \n",
    "        \n",
    "\n",
    "    \n",
    "    for word in s:\n",
    "        dict1[word] = 1\n",
    "    \n",
    "    for i in range(len(s)-1):\n",
    "        if s[i] == s[i+1]:\n",
    "            dict1[s[i]] += 1\n",
    "    \n",
    "    answer = make_letters(dict1)\n",
    "    print(answer)\n",
    "        \n",
    "    pass"
   ]
  },
  {
   "cell_type": "code",
   "execution_count": 6,
   "metadata": {},
   "outputs": [
    {
     "ename": "NameError",
     "evalue": "name 's' is not defined",
     "output_type": "error",
     "traceback": [
      "\u001b[1;31m---------------------------------------------------------------------------\u001b[0m",
      "\u001b[1;31mNameError\u001b[0m                                 Traceback (most recent call last)",
      "\u001b[1;32m<ipython-input-6-1a220af1142c>\u001b[0m in \u001b[0;36m<module>\u001b[1;34m()\u001b[0m\n\u001b[1;32m----> 1\u001b[1;33m \u001b[0msolution\u001b[0m\u001b[1;33m(\u001b[0m\u001b[0ms\u001b[0m\u001b[1;33m)\u001b[0m\u001b[1;33m\u001b[0m\u001b[0m\n\u001b[0m",
      "\u001b[1;31mNameError\u001b[0m: name 's' is not defined"
     ]
    }
   ],
   "source": [
    "solution(s)"
   ]
  },
  {
   "cell_type": "code",
   "execution_count": 77,
   "metadata": {},
   "outputs": [
    {
     "name": "stdout",
     "output_type": "stream",
     "text": [
      "['a', 'a', 'b', 'b', 'b', 'b', 'c', 'd', 'c', 'd']\n",
      "True\n",
      "False\n",
      "True\n",
      "True\n",
      "True\n",
      "False\n",
      "False\n",
      "False\n",
      "False\n"
     ]
    },
    {
     "data": {
      "text/plain": [
       "'2a1c4b1d'"
      ]
     },
     "execution_count": 77,
     "metadata": {},
     "output_type": "execute_result"
    }
   ],
   "source": [
    "def make_letters(blank):\n",
    "    letters = ''\n",
    "    for idx,key in blank.items():\n",
    "        letters += (str(key)+str(idx))\n",
    "    return(letters)\n",
    "\n",
    "b = list(s)\n",
    "\n",
    "blank = {}\n",
    "for i in b:\n",
    "    blank[i] = 1\n",
    "\n",
    "print(b)\n",
    "for i in range(len(b)-1):\n",
    "    print(b[i] == b[i+1])\n",
    "    if b[i] == b[i+1]:\n",
    "        blank[b[i]] += 1\n",
    "\n",
    "make_letters(blank)\n",
    "\n",
    "\n",
    "\n"
   ]
  },
  {
   "cell_type": "code",
   "execution_count": null,
   "metadata": {},
   "outputs": [],
   "source": []
  },
  {
   "cell_type": "code",
   "execution_count": 61,
   "metadata": {},
   "outputs": [],
   "source": [
    "letters = ''\n",
    "for idx,key in blank.items():\n",
    "    letters += (str(key)+str(idx))"
   ]
  },
  {
   "cell_type": "code",
   "execution_count": 62,
   "metadata": {},
   "outputs": [
    {
     "data": {
      "text/plain": [
       "'2a1c4b1d'"
      ]
     },
     "execution_count": 62,
     "metadata": {},
     "output_type": "execute_result"
    }
   ],
   "source": [
    "letters"
   ]
  },
  {
   "cell_type": "code",
   "execution_count": 58,
   "metadata": {},
   "outputs": [
    {
     "data": {
      "text/plain": [
       "dict_items([('a', 2), ('c', 1), ('b', 4), ('d', 1)])"
      ]
     },
     "execution_count": 58,
     "metadata": {},
     "output_type": "execute_result"
    }
   ],
   "source": [
    "blank.items()"
   ]
  },
  {
   "cell_type": "code",
   "execution_count": 159,
   "metadata": {},
   "outputs": [],
   "source": [
    "def solution(s):\n",
    "    letter = ''\n",
    "    \n",
    "    comparison = []\n",
    "\n",
    "    for i in range(1,len(s)):\n",
    "        \n",
    "        blank = {}\n",
    "        answer = []\n",
    "#         print('-----------')\n",
    "#         print(s)\n",
    "        bag = []\n",
    "        for j in range(len(s)-i):\n",
    "            print(i,j,j+i)\n",
    "    \n",
    "            \n",
    "#             first = s[j:j+i]\n",
    "#             second = s[j+i:j+i+i]\n",
    "            first = s[i*j : i*j+i]\n",
    "            second = s[i*j+i : i*j+2*i]\n",
    "        \n",
    "            if len(first) != len(second):\n",
    "                break   \n",
    "            print(first,second, first==second)\n",
    "#             print(second)\n",
    "            if second not in blank.keys():\n",
    "                blank[second]=1\n",
    "            if first == second:\n",
    "                blank[second]+=1\n",
    "                print(blank)\n",
    "            digit = len(s)\n",
    "            for rep, num in blank.items():\n",
    "                \n",
    "                if num>=2:\n",
    "                    print(rep,num)\n",
    "                    digit -= ((num-1)*len(rep)-1)\n",
    "#                     print('##################',digit)\n",
    "                    answer.append(digit)\n",
    "                else:\n",
    "                    answer.append(digit)\n",
    "        try:            \n",
    "            comparison.append(min(answer))\n",
    "        except ValueError:\n",
    "            pass\n",
    "            \n",
    "        print(comparison)\n",
    "    print(min(comparison))\n",
    "    j = j+i\n",
    "    return min(comparison)\n",
    "    #     print(blank)\n",
    "\n",
    "###비교끝\n",
    "### 같으면 : 숫자만들고 언어\n",
    "### 다르면 :\n",
    "            \n",
    "    \n",
    "#1글자 같은지 ~ 2~6까지 : for i in range(7)\n",
    "# 글자 수대로 탐색 for j in range(len(s)):\n",
    "# 글자분할 : first, second\n",
    "\n",
    "\n",
    "# dict에 first와 second를 다 키로 넣고 1로 설정한다.\n",
    "# second만 넣으면 (제일첫 글자가 안들어감)\n",
    "\n",
    "        \n"
   ]
  },
  {
   "cell_type": "code",
   "execution_count": 161,
   "metadata": {
    "scrolled": true
   },
   "outputs": [
    {
     "name": "stdout",
     "output_type": "stream",
     "text": [
      "24\n",
      "-----------\n",
      "abcdabcdabcdabcdabcdabcd\n",
      "1 0 1\n",
      "a b False\n",
      "1 1 2\n",
      "b c False\n",
      "1 2 3\n",
      "c d False\n",
      "1 3 4\n",
      "d a False\n",
      "1 4 5\n",
      "a b False\n",
      "1 5 6\n",
      "b c False\n",
      "1 6 7\n",
      "c d False\n",
      "1 7 8\n",
      "d a False\n",
      "1 8 9\n",
      "a b False\n",
      "1 9 10\n",
      "b c False\n",
      "1 10 11\n",
      "c d False\n",
      "1 11 12\n",
      "d a False\n",
      "1 12 13\n",
      "a b False\n",
      "1 13 14\n",
      "b c False\n",
      "1 14 15\n",
      "c d False\n",
      "1 15 16\n",
      "d a False\n",
      "1 16 17\n",
      "a b False\n",
      "1 17 18\n",
      "b c False\n",
      "1 18 19\n",
      "c d False\n",
      "1 19 20\n",
      "d a False\n",
      "1 20 21\n",
      "a b False\n",
      "1 21 22\n",
      "b c False\n",
      "1 22 23\n",
      "c d False\n",
      "[24]\n",
      "-----------\n",
      "abcdabcdabcdabcdabcdabcd\n",
      "2 0 2\n",
      "ab cd False\n",
      "2 1 3\n",
      "cd ab False\n",
      "2 2 4\n",
      "ab cd False\n",
      "2 3 5\n",
      "cd ab False\n",
      "2 4 6\n",
      "ab cd False\n",
      "2 5 7\n",
      "cd ab False\n",
      "2 6 8\n",
      "ab cd False\n",
      "2 7 9\n",
      "cd ab False\n",
      "2 8 10\n",
      "ab cd False\n",
      "2 9 11\n",
      "cd ab False\n",
      "2 10 12\n",
      "ab cd False\n",
      "2 11 13\n",
      "[24, 24]\n",
      "-----------\n",
      "abcdabcdabcdabcdabcdabcd\n",
      "3 0 3\n",
      "abc dab False\n",
      "3 1 4\n",
      "dab cda False\n",
      "3 2 5\n",
      "cda bcd False\n",
      "3 3 6\n",
      "bcd abc False\n",
      "3 4 7\n",
      "abc dab False\n",
      "3 5 8\n",
      "dab cda False\n",
      "3 6 9\n",
      "cda bcd False\n",
      "3 7 10\n",
      "[24, 24, 24]\n",
      "-----------\n",
      "abcdabcdabcdabcdabcdabcd\n",
      "4 0 4\n",
      "abcd abcd True\n",
      "{'abcd': 2}\n",
      "abcd 2\n",
      "4 1 5\n",
      "abcd abcd True\n",
      "{'abcd': 3}\n",
      "abcd 3\n",
      "4 2 6\n",
      "abcd abcd True\n",
      "{'abcd': 4}\n",
      "abcd 4\n",
      "4 3 7\n",
      "abcd abcd True\n",
      "{'abcd': 5}\n",
      "abcd 5\n",
      "4 4 8\n",
      "abcd abcd True\n",
      "{'abcd': 6}\n",
      "abcd 6\n",
      "4 5 9\n",
      "[24, 24, 24, 5]\n",
      "-----------\n",
      "abcdabcdabcdabcdabcdabcd\n",
      "5 0 5\n",
      "abcda bcdab False\n",
      "5 1 6\n",
      "bcdab cdabc False\n",
      "5 2 7\n",
      "cdabc dabcd False\n",
      "5 3 8\n",
      "[24, 24, 24, 5, 24]\n",
      "-----------\n",
      "abcdabcdabcdabcdabcdabcd\n",
      "6 0 6\n",
      "abcdab cdabcd False\n",
      "6 1 7\n",
      "cdabcd abcdab False\n",
      "6 2 8\n",
      "abcdab cdabcd False\n",
      "6 3 9\n",
      "[24, 24, 24, 5, 24, 24]\n",
      "-----------\n",
      "abcdabcdabcdabcdabcdabcd\n",
      "7 0 7\n",
      "abcdabc dabcdab False\n",
      "7 1 8\n",
      "dabcdab cdabcda False\n",
      "7 2 9\n",
      "[24, 24, 24, 5, 24, 24, 24]\n",
      "-----------\n",
      "abcdabcdabcdabcdabcdabcd\n",
      "8 0 8\n",
      "abcdabcd abcdabcd True\n",
      "{'abcdabcd': 2}\n",
      "abcdabcd 2\n",
      "8 1 9\n",
      "abcdabcd abcdabcd True\n",
      "{'abcdabcd': 3}\n",
      "abcdabcd 3\n",
      "8 2 10\n",
      "[24, 24, 24, 5, 24, 24, 24, 9]\n",
      "-----------\n",
      "abcdabcdabcdabcdabcdabcd\n",
      "9 0 9\n",
      "abcdabcda bcdabcdab False\n",
      "9 1 10\n",
      "[24, 24, 24, 5, 24, 24, 24, 9, 24]\n",
      "-----------\n",
      "abcdabcdabcdabcdabcdabcd\n",
      "10 0 10\n",
      "abcdabcdab cdabcdabcd False\n",
      "10 1 11\n",
      "[24, 24, 24, 5, 24, 24, 24, 9, 24, 24]\n",
      "-----------\n",
      "abcdabcdabcdabcdabcdabcd\n",
      "11 0 11\n",
      "abcdabcdabc dabcdabcdab False\n",
      "11 1 12\n",
      "[24, 24, 24, 5, 24, 24, 24, 9, 24, 24, 24]\n",
      "-----------\n",
      "abcdabcdabcdabcdabcdabcd\n",
      "12 0 12\n",
      "abcdabcdabcd abcdabcdabcd True\n",
      "{'abcdabcdabcd': 2}\n",
      "abcdabcdabcd 2\n",
      "12 1 13\n",
      "[24, 24, 24, 5, 24, 24, 24, 9, 24, 24, 24, 13]\n",
      "-----------\n",
      "abcdabcdabcdabcdabcdabcd\n",
      "13 0 13\n",
      "[24, 24, 24, 5, 24, 24, 24, 9, 24, 24, 24, 13]\n",
      "-----------\n",
      "abcdabcdabcdabcdabcdabcd\n",
      "14 0 14\n",
      "[24, 24, 24, 5, 24, 24, 24, 9, 24, 24, 24, 13]\n",
      "-----------\n",
      "abcdabcdabcdabcdabcdabcd\n",
      "15 0 15\n",
      "[24, 24, 24, 5, 24, 24, 24, 9, 24, 24, 24, 13]\n",
      "-----------\n",
      "abcdabcdabcdabcdabcdabcd\n",
      "16 0 16\n",
      "[24, 24, 24, 5, 24, 24, 24, 9, 24, 24, 24, 13]\n",
      "-----------\n",
      "abcdabcdabcdabcdabcdabcd\n",
      "17 0 17\n",
      "[24, 24, 24, 5, 24, 24, 24, 9, 24, 24, 24, 13]\n",
      "-----------\n",
      "abcdabcdabcdabcdabcdabcd\n",
      "18 0 18\n",
      "[24, 24, 24, 5, 24, 24, 24, 9, 24, 24, 24, 13]\n",
      "-----------\n",
      "abcdabcdabcdabcdabcdabcd\n",
      "19 0 19\n",
      "[24, 24, 24, 5, 24, 24, 24, 9, 24, 24, 24, 13]\n",
      "-----------\n",
      "abcdabcdabcdabcdabcdabcd\n",
      "20 0 20\n",
      "[24, 24, 24, 5, 24, 24, 24, 9, 24, 24, 24, 13]\n",
      "-----------\n",
      "abcdabcdabcdabcdabcdabcd\n",
      "21 0 21\n",
      "[24, 24, 24, 5, 24, 24, 24, 9, 24, 24, 24, 13]\n",
      "-----------\n",
      "abcdabcdabcdabcdabcdabcd\n",
      "22 0 22\n",
      "[24, 24, 24, 5, 24, 24, 24, 9, 24, 24, 24, 13]\n",
      "-----------\n",
      "abcdabcdabcdabcdabcdabcd\n",
      "23 0 23\n",
      "[24, 24, 24, 5, 24, 24, 24, 9, 24, 24, 24, 13]\n",
      "5\n"
     ]
    },
    {
     "data": {
      "text/plain": [
       "5"
      ]
     },
     "execution_count": 161,
     "metadata": {},
     "output_type": "execute_result"
    }
   ],
   "source": [
    "s = 'abcdabcd'*3 \n",
    "print(len(s))\n",
    "solution(s)\n"
   ]
  },
  {
   "cell_type": "code",
   "execution_count": 138,
   "metadata": {},
   "outputs": [],
   "source": [
    "def solution(s):\n",
    "    letter = ''\n",
    "    \n",
    "    comparison = []\n",
    "#         for i in range(1,7):\n",
    "#         print('-----------')\n",
    "#         for j in range(len(s)-i):\n",
    "#             print(i,i*j,i*j+i)\n",
    "#             first = s[j:j+i]\n",
    "#             second = s[j+1:j+i+1]\n",
    "    \n",
    "    \n",
    "    for i in range(1,len(s)):\n",
    "        \n",
    "        blank = {}\n",
    "        answer = []\n",
    "        # print('-----------')\n",
    "        # print(s)\n",
    "        bag = []\n",
    "        for j in range(len(s)-i):\n",
    "            # print(i,j,j+i)\n",
    "\n",
    "            \n",
    "            first = s[i*j : i*j+i]\n",
    "            second = s[i*j+i : i*j+2*i]\n",
    "            if len(first) > len(s)/2:\n",
    "                break   \n",
    "\n",
    "            # print(first,second, first==second)\n",
    "#             print(second)\n",
    "            if second not in blank.keys():\n",
    "                blank[second]=1\n",
    "            if first == second:\n",
    "                blank[second]+=1\n",
    "                # print(blank)\n",
    "            for rep, num in blank.items():\n",
    "                digit = len(s)\n",
    "                if num>=2:\n",
    "                    # print(rep,num)\n",
    "                    digit -= ((num-1)*len(rep)-1)\n",
    "#                     print('##################',digit)\n",
    "                    answer.append(digit)\n",
    "                else:\n",
    "                    answer.append(digit)\n",
    "        try:            \n",
    "            comparison.append(min(answer))\n",
    "        except ValueError:\n",
    "            pass\n",
    "            \n",
    "    #     print(comparison)\n",
    "    # print(min(comparison))\n",
    "    \n",
    "    return min(comparison)\n",
    "    #     print(blank)\n",
    "\n",
    "###비교끝\n",
    "### 같으면 : 숫자만들고 언어\n",
    "### 다르면 :\n",
    "            \n",
    "    \n",
    "#1글자 같은지 ~ 2~6까지 : for i in range(7)\n",
    "# 글자 수대로 탐색 for j in range(len(s)):\n",
    "# 글자분할 : first, second\n",
    "\n",
    "\n",
    "# dict에 first와 second를 다 키로 넣고 1로 설정한다.\n",
    "# second만 넣으면 (제일첫 글자가 안들어감)\n",
    "\n",
    "        "
   ]
  },
  {
   "cell_type": "code",
   "execution_count": 139,
   "metadata": {},
   "outputs": [
    {
     "data": {
      "text/plain": [
       "15"
      ]
     },
     "execution_count": 139,
     "metadata": {},
     "output_type": "execute_result"
    }
   ],
   "source": [
    "s = 'abcabcabcabcdededededede'\n",
    "solution(s)"
   ]
  },
  {
   "cell_type": "code",
   "execution_count": 127,
   "metadata": {},
   "outputs": [
    {
     "name": "stdout",
     "output_type": "stream",
     "text": [
      "-----------\n",
      "1 0 1\n",
      "1\n",
      "a b\n",
      "1 1 2\n",
      "2\n",
      "b a\n",
      "1 2 3\n",
      "3\n",
      "a b\n",
      "1 3 4\n",
      "4\n",
      "b a\n",
      "1 4 5\n",
      "5\n",
      "a b\n",
      "1 5 6\n",
      "6\n",
      "b a\n",
      "1 6 7\n",
      "7\n",
      "a b\n",
      "-----------\n",
      "2 0 2\n",
      "2\n",
      "ab ab\n",
      "2 2 4\n",
      "4\n",
      "ab ab\n",
      "2 4 6\n",
      "6\n",
      "ab ab\n",
      "2 6 8\n",
      "8\n",
      "ab \n",
      "2 8 10\n",
      "10\n",
      " \n",
      "2 10 12\n",
      "12\n",
      " \n",
      "-----------\n",
      "3 0 3\n",
      "3\n",
      "aba bab\n",
      "3 3 6\n",
      "6\n",
      "bab ab\n",
      "3 6 9\n",
      "9\n",
      "ab \n",
      "3 9 12\n",
      "12\n",
      " \n",
      "3 12 15\n",
      "15\n",
      " \n",
      "-----------\n",
      "4 0 4\n",
      "4\n",
      "abab abab\n",
      "4 4 8\n",
      "8\n",
      "abab \n",
      "4 8 12\n",
      "12\n",
      " \n",
      "4 12 16\n",
      "16\n",
      " \n",
      "-----------\n",
      "5 0 5\n",
      "5\n",
      "ababa bab\n",
      "5 5 10\n",
      "10\n",
      "bab \n",
      "5 10 15\n",
      "15\n",
      " \n",
      "-----------\n",
      "6 0 6\n",
      "6\n",
      "ababab ab\n",
      "6 6 12\n",
      "12\n",
      "ab \n"
     ]
    }
   ],
   "source": [
    " s = 'abababab'\n",
    "for i in range(1,7):\n",
    "    print('-----------')\n",
    "    for j in range(len(s)-i):\n",
    "        print(i,i*j,i*j+i)\n",
    "        print(i*j+i)\n",
    "        \n",
    "        \n",
    "        \n",
    "        first = s[i*j : i*j+i]\n",
    "        second = s[i*j+i : i*j+2*i]\n",
    "        print(first,second)\n",
    "    "
   ]
  },
  {
   "cell_type": "code",
   "execution_count": 148,
   "metadata": {},
   "outputs": [],
   "source": [
    "a = ['a',1]"
   ]
  },
  {
   "cell_type": "code",
   "execution_count": 153,
   "metadata": {},
   "outputs": [
    {
     "name": "stdout",
     "output_type": "stream",
     "text": [
      "1\n"
     ]
    }
   ],
   "source": [
    "b = []\n",
    "for i in a:\n",
    "    if isinstance(i,int):\n",
    "        print(i)\n",
    "    "
   ]
  },
  {
   "cell_type": "code",
   "execution_count": 151,
   "metadata": {},
   "outputs": [
    {
     "data": {
      "text/plain": [
       "True"
      ]
     },
     "execution_count": 151,
     "metadata": {},
     "output_type": "execute_result"
    }
   ],
   "source": [
    "isinstance(1,int)"
   ]
  },
  {
   "cell_type": "code",
   "execution_count": null,
   "metadata": {},
   "outputs": [],
   "source": []
  }
 ],
 "metadata": {
  "kernelspec": {
   "display_name": "Python [default]",
   "language": "python",
   "name": "python3"
  },
  "language_info": {
   "codemirror_mode": {
    "name": "ipython",
    "version": 3
   },
   "file_extension": ".py",
   "mimetype": "text/x-python",
   "name": "python",
   "nbconvert_exporter": "python",
   "pygments_lexer": "ipython3",
   "version": "3.5.5"
  }
 },
 "nbformat": 4,
 "nbformat_minor": 2
}
