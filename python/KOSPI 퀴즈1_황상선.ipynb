{
 "cells": [
  {
   "cell_type": "code",
   "execution_count": 1,
   "metadata": {},
   "outputs": [],
   "source": [
    "%run C:\\\\Users\\\\HSS\\\\dd.py"
   ]
  },
  {
   "cell_type": "code",
   "execution_count": 2,
   "metadata": {},
   "outputs": [],
   "source": [
    "kospi_df = pd.read_csv('kospi.csv')"
   ]
  },
  {
   "cell_type": "code",
   "execution_count": 3,
   "metadata": {},
   "outputs": [
    {
     "name": "stdout",
     "output_type": "stream",
     "text": [
      "<class 'pandas.core.frame.DataFrame'>\n",
      "RangeIndex: 10000 entries, 0 to 9999\n",
      "Data columns (total 10 columns):\n",
      "aq      10000 non-null int64\n",
      "cr      10000 non-null float64\n",
      "cv      10000 non-null int64\n",
      "dt      10000 non-null int64\n",
      "hv      10000 non-null float64\n",
      "lv      10000 non-null float64\n",
      "ncv     10000 non-null int64\n",
      "ov      10000 non-null float64\n",
      "rf      10000 non-null int64\n",
      "name    10000 non-null object\n",
      "dtypes: float64(4), int64(5), object(1)\n",
      "memory usage: 781.3+ KB\n"
     ]
    }
   ],
   "source": [
    "kospi_df.info()"
   ]
  },
  {
   "cell_type": "markdown",
   "metadata": {},
   "source": [
    "### Q1. 유니크한 날짜와 기업 수를 구하라"
   ]
  },
  {
   "cell_type": "code",
   "execution_count": 4,
   "metadata": {},
   "outputs": [
    {
     "name": "stdout",
     "output_type": "stream",
     "text": [
      "데이터는 100일 동안 100개의 기업의 KOSPI 데이터가 기록되었습니다.\n"
     ]
    }
   ],
   "source": [
    "data = kospi_df.copy()\n",
    "print('데이터는 {}일 동안 {}개의 기업의 KOSPI 데이터가 기록되었습니다.'.format(len(data['dt'].unique()), len(data['name'].unique())))"
   ]
  },
  {
   "cell_type": "markdown",
   "metadata": {},
   "source": [
    "### Q2. 2019 12 08 이후의 날짜별 평균 상승률을 소수 셋째자리까지 리스트의 딕셔너리 형태로 나타내시오\n"
   ]
  },
  {
   "cell_type": "code",
   "execution_count": 5,
   "metadata": {},
   "outputs": [
    {
     "data": {
      "text/html": [
       "<div>\n",
       "<style scoped>\n",
       "    .dataframe tbody tr th:only-of-type {\n",
       "        vertical-align: middle;\n",
       "    }\n",
       "\n",
       "    .dataframe tbody tr th {\n",
       "        vertical-align: top;\n",
       "    }\n",
       "\n",
       "    .dataframe thead th {\n",
       "        text-align: right;\n",
       "    }\n",
       "</style>\n",
       "<table border=\"1\" class=\"dataframe\">\n",
       "  <thead>\n",
       "    <tr style=\"text-align: right;\">\n",
       "      <th></th>\n",
       "      <th>aq</th>\n",
       "      <th>cr</th>\n",
       "      <th>cv</th>\n",
       "      <th>dt</th>\n",
       "      <th>hv</th>\n",
       "      <th>lv</th>\n",
       "      <th>ncv</th>\n",
       "      <th>ov</th>\n",
       "      <th>rf</th>\n",
       "      <th>name</th>\n",
       "    </tr>\n",
       "  </thead>\n",
       "  <tbody>\n",
       "    <tr>\n",
       "      <th>9995</th>\n",
       "      <td>858185</td>\n",
       "      <td>0.000000</td>\n",
       "      <td>0</td>\n",
       "      <td>20190723</td>\n",
       "      <td>5420.0</td>\n",
       "      <td>5340.0</td>\n",
       "      <td>5380</td>\n",
       "      <td>5380.0</td>\n",
       "      <td>3</td>\n",
       "      <td>메리츠종금증권</td>\n",
       "    </tr>\n",
       "    <tr>\n",
       "      <th>9996</th>\n",
       "      <td>1187064</td>\n",
       "      <td>0.560748</td>\n",
       "      <td>30</td>\n",
       "      <td>20190722</td>\n",
       "      <td>5430.0</td>\n",
       "      <td>5310.0</td>\n",
       "      <td>5380</td>\n",
       "      <td>5340.0</td>\n",
       "      <td>2</td>\n",
       "      <td>메리츠종금증권</td>\n",
       "    </tr>\n",
       "    <tr>\n",
       "      <th>9997</th>\n",
       "      <td>939903</td>\n",
       "      <td>1.325758</td>\n",
       "      <td>70</td>\n",
       "      <td>20190719</td>\n",
       "      <td>5360.0</td>\n",
       "      <td>5260.0</td>\n",
       "      <td>5350</td>\n",
       "      <td>5350.0</td>\n",
       "      <td>2</td>\n",
       "      <td>메리츠종금증권</td>\n",
       "    </tr>\n",
       "    <tr>\n",
       "      <th>9998</th>\n",
       "      <td>1053114</td>\n",
       "      <td>0.763359</td>\n",
       "      <td>40</td>\n",
       "      <td>20190718</td>\n",
       "      <td>5340.0</td>\n",
       "      <td>5240.0</td>\n",
       "      <td>5280</td>\n",
       "      <td>5240.0</td>\n",
       "      <td>2</td>\n",
       "      <td>메리츠종금증권</td>\n",
       "    </tr>\n",
       "    <tr>\n",
       "      <th>9999</th>\n",
       "      <td>1146495</td>\n",
       "      <td>-0.380228</td>\n",
       "      <td>-20</td>\n",
       "      <td>20190717</td>\n",
       "      <td>5350.0</td>\n",
       "      <td>5220.0</td>\n",
       "      <td>5240</td>\n",
       "      <td>5260.0</td>\n",
       "      <td>5</td>\n",
       "      <td>메리츠종금증권</td>\n",
       "    </tr>\n",
       "  </tbody>\n",
       "</table>\n",
       "</div>"
      ],
      "text/plain": [
       "           aq        cr  cv        dt      hv      lv   ncv      ov  rf  \\\n",
       "9995   858185  0.000000   0  20190723  5420.0  5340.0  5380  5380.0   3   \n",
       "9996  1187064  0.560748  30  20190722  5430.0  5310.0  5380  5340.0   2   \n",
       "9997   939903  1.325758  70  20190719  5360.0  5260.0  5350  5350.0   2   \n",
       "9998  1053114  0.763359  40  20190718  5340.0  5240.0  5280  5240.0   2   \n",
       "9999  1146495 -0.380228 -20  20190717  5350.0  5220.0  5240  5260.0   5   \n",
       "\n",
       "         name  \n",
       "9995  메리츠종금증권  \n",
       "9996  메리츠종금증권  \n",
       "9997  메리츠종금증권  \n",
       "9998  메리츠종금증권  \n",
       "9999  메리츠종금증권  "
      ]
     },
     "execution_count": 5,
     "metadata": {},
     "output_type": "execute_result"
    }
   ],
   "source": [
    "data = kospi_df.copy()\n",
    "data.tail()"
   ]
  },
  {
   "cell_type": "code",
   "execution_count": 6,
   "metadata": {},
   "outputs": [
    {
     "data": {
      "text/plain": [
       "[{'cr': -0.041142984999999986, 'dt': 20191209.0},\n",
       " {'cr': 0.5446000007748605, 'dt': 20191210.0}]"
      ]
     },
     "execution_count": 6,
     "metadata": {},
     "output_type": "execute_result"
    }
   ],
   "source": [
    "data = data.sort_values(['name','dt','cr'], ascending = True)[['name','dt','cr']]\n",
    "data = data[data['dt']>20191208]\n",
    "data = data.groupby('dt').mean().reset_index()\n",
    "data = data.to_dict('records'); data"
   ]
  },
  {
   "cell_type": "markdown",
   "metadata": {},
   "source": [
    "### Q3. 2019년 10월 21일 상승률 상위 5개 회사를 출력하시오"
   ]
  },
  {
   "cell_type": "code",
   "execution_count": 7,
   "metadata": {},
   "outputs": [
    {
     "data": {
      "text/html": [
       "<div>\n",
       "<style scoped>\n",
       "    .dataframe tbody tr th:only-of-type {\n",
       "        vertical-align: middle;\n",
       "    }\n",
       "\n",
       "    .dataframe tbody tr th {\n",
       "        vertical-align: top;\n",
       "    }\n",
       "\n",
       "    .dataframe thead th {\n",
       "        text-align: right;\n",
       "    }\n",
       "</style>\n",
       "<table border=\"1\" class=\"dataframe\">\n",
       "  <thead>\n",
       "    <tr style=\"text-align: right;\">\n",
       "      <th></th>\n",
       "      <th>name</th>\n",
       "      <th>dt</th>\n",
       "      <th>cr</th>\n",
       "    </tr>\n",
       "  </thead>\n",
       "  <tbody>\n",
       "    <tr>\n",
       "      <th>1</th>\n",
       "      <td>LG디스플레이</td>\n",
       "      <td>20191021</td>\n",
       "      <td>3.928571</td>\n",
       "    </tr>\n",
       "    <tr>\n",
       "      <th>2</th>\n",
       "      <td>엔씨소프트</td>\n",
       "      <td>20191021</td>\n",
       "      <td>3.689320</td>\n",
       "    </tr>\n",
       "    <tr>\n",
       "      <th>3</th>\n",
       "      <td>오리온</td>\n",
       "      <td>20191021</td>\n",
       "      <td>3.000000</td>\n",
       "    </tr>\n",
       "    <tr>\n",
       "      <th>4</th>\n",
       "      <td>삼성전기</td>\n",
       "      <td>20191021</td>\n",
       "      <td>2.739726</td>\n",
       "    </tr>\n",
       "    <tr>\n",
       "      <th>5</th>\n",
       "      <td>CJ제일제당</td>\n",
       "      <td>20191021</td>\n",
       "      <td>2.690583</td>\n",
       "    </tr>\n",
       "  </tbody>\n",
       "</table>\n",
       "</div>"
      ],
      "text/plain": [
       "      name        dt        cr\n",
       "1  LG디스플레이  20191021  3.928571\n",
       "2    엔씨소프트  20191021  3.689320\n",
       "3      오리온  20191021  3.000000\n",
       "4     삼성전기  20191021  2.739726\n",
       "5   CJ제일제당  20191021  2.690583"
      ]
     },
     "execution_count": 7,
     "metadata": {},
     "output_type": "execute_result"
    }
   ],
   "source": [
    "data = kospi_df.copy()\n",
    "data = data[data['dt'] == 20191021]\n",
    "data = data.sort_values(['name','dt','cr'], ascending = True)[['name','dt','cr']]\n",
    "data = data.sort_values(['cr'], ascending= False).reset_index(drop = True)[:5]\n",
    "data.index = [1,2,3,4,5]\n",
    "data"
   ]
  },
  {
   "cell_type": "markdown",
   "metadata": {},
   "source": [
    "### Q4. 2019년 11월 30일에서 12월 5일까지 일별 상승률 상위5개 회사의 평균 상승율을 소수점 셋째 자리까지 출력하세요."
   ]
  },
  {
   "cell_type": "code",
   "execution_count": 8,
   "metadata": {},
   "outputs": [
    {
     "data": {
      "text/html": [
       "<div>\n",
       "<style scoped>\n",
       "    .dataframe tbody tr th:only-of-type {\n",
       "        vertical-align: middle;\n",
       "    }\n",
       "\n",
       "    .dataframe tbody tr th {\n",
       "        vertical-align: top;\n",
       "    }\n",
       "\n",
       "    .dataframe thead th {\n",
       "        text-align: right;\n",
       "    }\n",
       "</style>\n",
       "<table border=\"1\" class=\"dataframe\">\n",
       "  <thead>\n",
       "    <tr style=\"text-align: right;\">\n",
       "      <th></th>\n",
       "      <th>name</th>\n",
       "      <th>cr</th>\n",
       "    </tr>\n",
       "  </thead>\n",
       "  <tbody>\n",
       "    <tr>\n",
       "      <th>1</th>\n",
       "      <td>한진칼</td>\n",
       "      <td>2.816390</td>\n",
       "    </tr>\n",
       "    <tr>\n",
       "      <th>2</th>\n",
       "      <td>BNK금융지주</td>\n",
       "      <td>1.500651</td>\n",
       "    </tr>\n",
       "    <tr>\n",
       "      <th>3</th>\n",
       "      <td>포스코인터내셔널</td>\n",
       "      <td>1.409590</td>\n",
       "    </tr>\n",
       "    <tr>\n",
       "      <th>4</th>\n",
       "      <td>두산밥캣</td>\n",
       "      <td>0.949353</td>\n",
       "    </tr>\n",
       "    <tr>\n",
       "      <th>5</th>\n",
       "      <td>삼성전기</td>\n",
       "      <td>0.904271</td>\n",
       "    </tr>\n",
       "  </tbody>\n",
       "</table>\n",
       "</div>"
      ],
      "text/plain": [
       "       name        cr\n",
       "1       한진칼  2.816390\n",
       "2   BNK금융지주  1.500651\n",
       "3  포스코인터내셔널  1.409590\n",
       "4      두산밥캣  0.949353\n",
       "5      삼성전기  0.904271"
      ]
     },
     "execution_count": 8,
     "metadata": {},
     "output_type": "execute_result"
    }
   ],
   "source": [
    "data = kospi_df.copy()\n",
    "data = data.sort_values(['name','dt','cr'], ascending = True)[['name','dt','cr']]\n",
    "data = data[(data['dt'] >= 20191130) * (data['dt'] <= 20191205)]\n",
    "data = data.groupby(['name']).mean()['cr'].reset_index()\n",
    "\n",
    "data = data.sort_values('cr', ascending = False)[:5]\n",
    "data.index = [1,2,3,4,5]\n",
    "data\n"
   ]
  },
  {
   "cell_type": "code",
   "execution_count": 9,
   "metadata": {},
   "outputs": [
    {
     "name": "stdout",
     "output_type": "stream",
     "text": [
      "\n",
      " 기간 : [2019 11월 30일 : 2019년 12월 5일]\n",
      " 일별 상승률 상위 5개 회사는['한진칼' 'BNK금융지주' '포스코인터내셔널' '두산밥캣' '삼성전기']로 기록되었습니다. \n",
      " 이 5개 회사의 평균 상승율은 1.516% 입니다.\n"
     ]
    }
   ],
   "source": [
    "company = data['name'].values\n",
    "avg = str(round(np.mean(data['cr']),3))\n",
    "print('\\n 기간 : [2019 11월 30일 : 2019년 12월 5일]\\n 일별 상승률 상위 5개 회사는{}로 기록되었습니다. \\n 이 5개 회사의 평균 상승율은 {}% 입니다.'.format(company,avg))"
   ]
  },
  {
   "cell_type": "markdown",
   "metadata": {},
   "source": [
    "### Q5. 전체 기간에서 평균 등락이 가장 높은 3개의 회사 이름과 평균 등락 수치를 구하시오"
   ]
  },
  {
   "cell_type": "code",
   "execution_count": 10,
   "metadata": {},
   "outputs": [
    {
     "data": {
      "text/html": [
       "<div>\n",
       "<style scoped>\n",
       "    .dataframe tbody tr th:only-of-type {\n",
       "        vertical-align: middle;\n",
       "    }\n",
       "\n",
       "    .dataframe tbody tr th {\n",
       "        vertical-align: top;\n",
       "    }\n",
       "\n",
       "    .dataframe thead th {\n",
       "        text-align: right;\n",
       "    }\n",
       "</style>\n",
       "<table border=\"1\" class=\"dataframe\">\n",
       "  <thead>\n",
       "    <tr style=\"text-align: right;\">\n",
       "      <th></th>\n",
       "      <th>dt</th>\n",
       "      <th>cr</th>\n",
       "    </tr>\n",
       "    <tr>\n",
       "      <th>name</th>\n",
       "      <th></th>\n",
       "      <th></th>\n",
       "    </tr>\n",
       "  </thead>\n",
       "  <tbody>\n",
       "    <tr>\n",
       "      <th>NAVER</th>\n",
       "      <td>20190957.23</td>\n",
       "      <td>0.404000</td>\n",
       "    </tr>\n",
       "    <tr>\n",
       "      <th>한진칼</th>\n",
       "      <td>20190957.23</td>\n",
       "      <td>0.375141</td>\n",
       "    </tr>\n",
       "    <tr>\n",
       "      <th>삼성바이오로직스</th>\n",
       "      <td>20190957.23</td>\n",
       "      <td>0.308734</td>\n",
       "    </tr>\n",
       "  </tbody>\n",
       "</table>\n",
       "</div>"
      ],
      "text/plain": [
       "                   dt        cr\n",
       "name                           \n",
       "NAVER     20190957.23  0.404000\n",
       "한진칼       20190957.23  0.375141\n",
       "삼성바이오로직스  20190957.23  0.308734"
      ]
     },
     "execution_count": 10,
     "metadata": {},
     "output_type": "execute_result"
    }
   ],
   "source": [
    "data = kospi_df.copy()\n",
    "data = data.sort_values(['name','dt','cr'], ascending = True)[['name','dt','cr']]\n",
    "data = data.groupby('name').mean().sort_values('cr', ascending = False)[:3]\n",
    "data"
   ]
  },
  {
   "cell_type": "code",
   "execution_count": 11,
   "metadata": {},
   "outputs": [
    {
     "name": "stdout",
     "output_type": "stream",
     "text": [
      "\n",
      " 기간 : 전체 \n",
      " ['NAVER' '한진칼' '삼성바이오로직스'] 3개의 회사가 가장 높은 등락율을 기록했습니다. \n",
      " 이 3개 회사의 평균 등락 수치는 0.363% 입니다.\n"
     ]
    }
   ],
   "source": [
    "name = data.index.values\n",
    "avg = round(np.mean(data['cr'].values),3)\n",
    "\n",
    "print('\\n 기간 : 전체 \\n {} 3개의 회사가 가장 높은 등락율을 기록했습니다. \\n 이 3개 회사의 평균 등락 수치는 {}% 입니다.'\n",
    "     .format(name, avg))"
   ]
  },
  {
   "cell_type": "markdown",
   "metadata": {},
   "source": [
    "### Q6. 네이버와 한국전력의 종가 데이터의 상관계수를 소수 둘째자리까지 출력하세요 NCV"
   ]
  },
  {
   "cell_type": "code",
   "execution_count": 12,
   "metadata": {},
   "outputs": [],
   "source": [
    "data = kospi_df.copy()\n",
    "data = data.sort_values(['name','dt','ncv'], ascending = True)[['name','dt','ncv']]\n",
    "naver, ke = data[data['name'] == 'NAVER'], data[data['name'] == '한국전력']"
   ]
  },
  {
   "cell_type": "code",
   "execution_count": 13,
   "metadata": {},
   "outputs": [
    {
     "name": "stdout",
     "output_type": "stream",
     "text": [
      "네이버와 한국전력의 종가 상관계수는 0.48% 입니다.\n"
     ]
    }
   ],
   "source": [
    "corr = round(np.corrcoef(naver['ncv'], ke['ncv'])[0,1],2)\n",
    "print('네이버와 한국전력의 종가 상관계수는 {}% 입니다.'.format(corr))"
   ]
  },
  {
   "cell_type": "code",
   "execution_count": null,
   "metadata": {
    "scrolled": true
   },
   "outputs": [],
   "source": []
  },
  {
   "cell_type": "code",
   "execution_count": null,
   "metadata": {},
   "outputs": [],
   "source": []
  }
 ],
 "metadata": {
  "kernelspec": {
   "display_name": "Python [conda env:tensorflow]",
   "language": "python",
   "name": "conda-env-tensorflow-py"
  },
  "language_info": {
   "codemirror_mode": {
    "name": "ipython",
    "version": 3
   },
   "file_extension": ".py",
   "mimetype": "text/x-python",
   "name": "python",
   "nbconvert_exporter": "python",
   "pygments_lexer": "ipython3",
   "version": "3.5.5"
  }
 },
 "nbformat": 4,
 "nbformat_minor": 2
}
