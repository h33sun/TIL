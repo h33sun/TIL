{
 "cells": [
  {
   "cell_type": "markdown",
   "metadata": {},
   "source": [
    "###  1. 같은 숫자는 싫어\n",
    "- 참조 : https://programmers.co.kr/learn/courses/30/lessons/12906\n",
    "- 어려웠던 점\n",
    "    - 이 문제에서 가장 난처했던 부분은 `arr[i]`와 `arr[i+1]`의 비교에서 i+1가 인덱싱 에러를 일으키는 점이었다.\n",
    "\n",
    "- 나의 해결방법\n",
    "    - 이를 해결하기 위해 원 리스트의 길이값을 저장하고, 이 리스트에는 공백을 넣어 문제를 해결했다.\n",
    "    \n",
    "- 고수의 방법\n",
    "    - 빈 리스트를 생성, 빈 리스트 `a[-1:]` 와 `[word]` 를 비교한다.\n",
    "    - 대단.."
   ]
  },
  {
   "cell_type": "code",
   "execution_count": 207,
   "metadata": {},
   "outputs": [],
   "source": [
    "def solution(arr):\n",
    "    answer = []\n",
    "    # [실행] 버튼을 누르면 출력 값을 볼 수 있습니다.\n",
    "    num = len(arr)\n",
    "    # 의미없는 a를 넣어 i+1 에러를 방지한다.\n",
    "    arr.append('a')\n",
    "    #앞이랑 뒤가 같으면 그냥 넘어가고 앞이랑 뒤랑 다르면 앞을 append\n",
    "    for i in range(num):\n",
    "        if arr[i] != arr[i+1]:\n",
    "            answer.append(arr[i])\n",
    "    return answer"
   ]
  },
  {
   "cell_type": "code",
   "execution_count": 208,
   "metadata": {},
   "outputs": [
    {
     "data": {
      "text/plain": [
       "[2, 3, 4, 5]"
      ]
     },
     "execution_count": 208,
     "metadata": {},
     "output_type": "execute_result"
    }
   ],
   "source": [
    "arr = [2,2,3,3,4,4,5]\n",
    "solution(arr)"
   ]
  },
  {
   "cell_type": "code",
   "execution_count": 209,
   "metadata": {},
   "outputs": [],
   "source": [
    "\n",
    "# 문제가 개편 되었습니다. 이로 인해 함수 구성이 변경되어, 과거의 코드는 동작하지 않을 수 있습니다.\n",
    "# 새로운 함수 구성을 적용하려면 [코드 초기화] 버튼을 누르세요. 단, [코드 초기화] 버튼을 누르면 작성 중인 코드는 사라집니다.\n",
    "def gosu_solution(s):\n",
    "    a = []\n",
    "    for i in s:\n",
    "        if a[-1:] == [i]: continue\n",
    "        print(a[-1:],[i])\n",
    "        a.append(i)\n",
    "    return a"
   ]
  },
  {
   "cell_type": "code",
   "execution_count": 206,
   "metadata": {},
   "outputs": [
    {
     "name": "stdout",
     "output_type": "stream",
     "text": [
      "[] [1]\n",
      "[1] [3]\n",
      "[3] [2]\n",
      "[2] [4]\n",
      "[4] [5]\n",
      "[5] [6]\n",
      "[6] [7]\n"
     ]
    },
    {
     "data": {
      "text/plain": [
       "[1, 3, 2, 4, 5, 6, 7]"
      ]
     },
     "execution_count": 206,
     "metadata": {},
     "output_type": "execute_result"
    }
   ],
   "source": [
    "gosu_solution(arr)"
   ]
  },
  {
   "cell_type": "markdown",
   "metadata": {},
   "source": [
    "### k번째 숫자\n",
    "- 참조 : https://programmers.co.kr/learn/courses/30/lessons/42748\n",
    "- 슬라이싱 기초 문제였다.\n",
    "- 어려웠던 점\n",
    "    - command가 다양한 길이의 다중 list로 들어온다는 점\n",
    "    - command를 잘 나눠서 i,j,k를 만드는 것이 관건\n",
    "- 나의 해결법\n",
    "    - command를 for문으로 받아 i,j,k를 분리했다.\n",
    "- 고수의 해결법\n",
    "    - `i,j,k = command[0],command[1],command[2]`를 `i,j,k = command`로 만들어도 작동한다\n",
    "    - 그리고 인덱싱 start와 end 변수를 지정하는 것은 메모리 낭비, 그러나 나한텐 아직 가독성 면에서 지정하는 방법이 익숙하다.\n",
    "    - 리스트를 sort해서 리턴하지 않고 `sorte(list)`를 사용해 바로 리턴"
   ]
  },
  {
   "cell_type": "code",
   "execution_count": 210,
   "metadata": {},
   "outputs": [],
   "source": [
    "#i부터 j까지 자른다.\n",
    "#2번째 부터 5번째 까지 자른다고 하면\n",
    "# 2번째 : i = 1, 5번째 : i=4 뒤의 슬라이스는 +1더해줘야함\n",
    "# start = i-1 , end = j\n",
    "def solution(array, commands):\n",
    "    \n",
    "    answer = []\n",
    "\n",
    "    for p in range(len(commands)):\n",
    "        command = commands[p]\n",
    "        i,j,k = command[0],command[1],command[2]\n",
    "        #i,j,k = command\n",
    "        start, end = i-1, j \n",
    "        temp1 = array[start:end]\n",
    "        temp1.sort()\n",
    "        answer.append(temp1[k-1])\n",
    "        #return sorted(temp1)[k-1]\n",
    "    return answer"
   ]
  },
  {
   "cell_type": "code",
   "execution_count": 211,
   "metadata": {},
   "outputs": [
    {
     "data": {
      "text/plain": [
       "[3, 1]"
      ]
     },
     "execution_count": 211,
     "metadata": {},
     "output_type": "execute_result"
    }
   ],
   "source": [
    "arr = [1,3,2,4,5,6,7]\n",
    "solution(arr,[[2,4,2],[1,5,1]])"
   ]
  },
  {
   "cell_type": "markdown",
   "metadata": {},
   "source": [
    "###  나누어 떨어지는 숫자 배열\n",
    "- 참조 : https://programmers.co.kr/learn/courses/30/lessons/12910\n",
    "- 어렵진 않았고 최대한 한줄로 만들고 싶었다.\n",
    "\n",
    "- 문제점\n",
    "    - 최대한 길이를 줄이는 것\n",
    "    - answer의 길이가 0일때의 [-1]을 리턴하는 문제를 한줄로 처리할 수 없었다.\n",
    "\n",
    "- 해결책\n",
    "    - 리스트 컴프리헨션과 삼항연산을 사용해 길이를 줄였다.\n",
    "- 고수의 해결책\n",
    "    - or를 사용해 아주 멋지게 해결했다. []는 boolean으로 False와 같았다.\n",
    "    - if 길이 == 0 을 사용할 필요가 없이 길이0인 조건 or else조건시 리턴!"
   ]
  },
  {
   "cell_type": "code",
   "execution_count": 219,
   "metadata": {},
   "outputs": [],
   "source": [
    "def solution(arr, divisor):\n",
    "    answer = []\n",
    "    answer.append([x for x in arr if x%divisor  == 0])\n",
    "    if len(answer[0]) == 0:\n",
    "        return [-1]\n",
    "    return sorted(answer[0])"
   ]
  },
  {
   "cell_type": "code",
   "execution_count": 220,
   "metadata": {},
   "outputs": [],
   "source": [
    "def gosu_solution(arr, divisor):\n",
    "    return sorted([x for x in a if x%divisor==0]) or [-1]\n"
   ]
  },
  {
   "cell_type": "code",
   "execution_count": 221,
   "metadata": {},
   "outputs": [
    {
     "data": {
      "text/plain": [
       "([5, 10], [5, 10])"
      ]
     },
     "execution_count": 221,
     "metadata": {},
     "output_type": "execute_result"
    }
   ],
   "source": [
    "a = [5,9,7,10]\n",
    "solution(a,5), gosu_solution(a,5)"
   ]
  }
 ],
 "metadata": {
  "kernelspec": {
   "display_name": "Python [conda env:tensorflow]",
   "language": "python",
   "name": "conda-env-tensorflow-py"
  },
  "language_info": {
   "codemirror_mode": {
    "name": "ipython",
    "version": 3
   },
   "file_extension": ".py",
   "mimetype": "text/x-python",
   "name": "python",
   "nbconvert_exporter": "python",
   "pygments_lexer": "ipython3",
   "version": "3.5.5"
  }
 },
 "nbformat": 4,
 "nbformat_minor": 2
}
