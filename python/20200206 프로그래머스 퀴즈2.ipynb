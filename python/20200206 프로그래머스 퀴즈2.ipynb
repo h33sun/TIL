{
 "cells": [
  {
   "cell_type": "code",
   "execution_count": 1,
   "metadata": {},
   "outputs": [],
   "source": [
    "%run C:/Users/HSS/dd.py"
   ]
  },
  {
   "cell_type": "code",
   "execution_count": 2,
   "metadata": {},
   "outputs": [
    {
     "name": "stdout",
     "output_type": "stream",
     "text": [
      "done\n"
     ]
    }
   ],
   "source": [
    "print('done')"
   ]
  },
  {
   "cell_type": "code",
   "execution_count": 16,
   "metadata": {},
   "outputs": [
    {
     "name": "stdout",
     "output_type": "stream",
     "text": [
      "10\n"
     ]
    },
    {
     "data": {
      "text/plain": [
       "'d'"
      ]
     },
     "execution_count": 16,
     "metadata": {},
     "output_type": "execute_result"
    }
   ],
   "source": [
    "s = 'aabbbbcdcd'\n",
    "print(len(s))\n",
    "s[9]\n",
    "2a3bcdcd\n",
    "s[9]"
   ]
  },
  {
   "cell_type": "code",
   "execution_count": 65,
   "metadata": {},
   "outputs": [
    {
     "ename": "UnboundLocalError",
     "evalue": "local variable 'letters' referenced before assignment",
     "output_type": "error",
     "traceback": [
      "\u001b[1;31m---------------------------------------------------------------------------\u001b[0m",
      "\u001b[1;31mUnboundLocalError\u001b[0m                         Traceback (most recent call last)",
      "\u001b[1;32m<ipython-input-65-1a220af1142c>\u001b[0m in \u001b[0;36m<module>\u001b[1;34m()\u001b[0m\n\u001b[1;32m----> 1\u001b[1;33m \u001b[0msolution\u001b[0m\u001b[1;33m(\u001b[0m\u001b[0ms\u001b[0m\u001b[1;33m)\u001b[0m\u001b[1;33m\u001b[0m\u001b[0m\n\u001b[0m",
      "\u001b[1;32m<ipython-input-63-7a51b6ab847a>\u001b[0m in \u001b[0;36msolution\u001b[1;34m(s)\u001b[0m\n\u001b[0;32m     15\u001b[0m \u001b[1;33m\u001b[0m\u001b[0m\n\u001b[0;32m     16\u001b[0m     \u001b[1;32mfor\u001b[0m \u001b[0midx\u001b[0m\u001b[1;33m,\u001b[0m\u001b[0mkey\u001b[0m \u001b[1;32min\u001b[0m \u001b[0mwd\u001b[0m\u001b[1;33m.\u001b[0m\u001b[0mitems\u001b[0m\u001b[1;33m(\u001b[0m\u001b[1;33m)\u001b[0m\u001b[1;33m:\u001b[0m\u001b[1;33m\u001b[0m\u001b[0m\n\u001b[1;32m---> 17\u001b[1;33m         \u001b[0mletters\u001b[0m \u001b[1;33m+=\u001b[0m \u001b[1;33m(\u001b[0m\u001b[0mstr\u001b[0m\u001b[1;33m(\u001b[0m\u001b[0mkey\u001b[0m\u001b[1;33m)\u001b[0m\u001b[1;33m+\u001b[0m\u001b[0mstr\u001b[0m\u001b[1;33m(\u001b[0m\u001b[0midx\u001b[0m\u001b[1;33m)\u001b[0m\u001b[1;33m)\u001b[0m\u001b[1;33m\u001b[0m\u001b[0m\n\u001b[0m\u001b[0;32m     18\u001b[0m \u001b[1;33m\u001b[0m\u001b[0m\n\u001b[0;32m     19\u001b[0m         \u001b[1;32mreturn\u001b[0m \u001b[0mletters\u001b[0m\u001b[1;33m\u001b[0m\u001b[0m\n",
      "\u001b[1;31mUnboundLocalError\u001b[0m: local variable 'letters' referenced before assignment"
     ]
    }
   ],
   "source": [
    "solution(s)"
   ]
  },
  {
   "cell_type": "code",
   "execution_count": 93,
   "metadata": {},
   "outputs": [],
   "source": [
    "#직관적으로 1글자 검사는 i = 1로\n",
    "#len(s) = 10\n",
    "#range(10) : 0~9 \n",
    "\n",
    "def solution(s):\n",
    "    s = list(s)\n",
    "    dict1 = {}\n",
    "    letters = ''\n",
    "    \n",
    "    \n",
    "    for i in range(1,7):\n",
    "    print('-----------')\n",
    "    for j in range(len(s)-i):\n",
    "        print(i,j,j+i)\n",
    "        first = s[j:j+i]\n",
    "        second = s[j+1:j+i+1]\n",
    "        \n",
    "        \n",
    "\n",
    "    \n",
    "    for word in s:\n",
    "        dict1[word] = 1\n",
    "    \n",
    "    for i in range(len(s)-1):\n",
    "        if s[i] == s[i+1]:\n",
    "            dict1[s[i]] += 1\n",
    "    \n",
    "    answer = make_letters(dict1)\n",
    "    print(answer)\n",
    "        \n",
    "    pass"
   ]
  },
  {
   "cell_type": "code",
   "execution_count": 94,
   "metadata": {},
   "outputs": [
    {
     "name": "stdout",
     "output_type": "stream",
     "text": [
      "2a1c4b1d\n"
     ]
    }
   ],
   "source": [
    "solution(s)"
   ]
  },
  {
   "cell_type": "code",
   "execution_count": 77,
   "metadata": {},
   "outputs": [
    {
     "name": "stdout",
     "output_type": "stream",
     "text": [
      "['a', 'a', 'b', 'b', 'b', 'b', 'c', 'd', 'c', 'd']\n",
      "True\n",
      "False\n",
      "True\n",
      "True\n",
      "True\n",
      "False\n",
      "False\n",
      "False\n",
      "False\n"
     ]
    },
    {
     "data": {
      "text/plain": [
       "'2a1c4b1d'"
      ]
     },
     "execution_count": 77,
     "metadata": {},
     "output_type": "execute_result"
    }
   ],
   "source": [
    "def make_letters(blank):\n",
    "    letters = ''\n",
    "    for idx,key in blank.items():\n",
    "        letters += (str(key)+str(idx))\n",
    "    return(letters)\n",
    "\n",
    "b = list(s)\n",
    "\n",
    "blank = {}\n",
    "for i in b:\n",
    "    blank[i] = 1\n",
    "\n",
    "print(b)\n",
    "for i in range(len(b)-1):\n",
    "    print(b[i] == b[i+1])\n",
    "    if b[i] == b[i+1]:\n",
    "        blank[b[i]] += 1\n",
    "\n",
    "make_letters(blank)\n",
    "\n",
    "\n",
    "\n"
   ]
  },
  {
   "cell_type": "code",
   "execution_count": null,
   "metadata": {},
   "outputs": [],
   "source": []
  },
  {
   "cell_type": "code",
   "execution_count": 61,
   "metadata": {},
   "outputs": [],
   "source": [
    "letters = ''\n",
    "for idx,key in blank.items():\n",
    "    letters += (str(key)+str(idx))"
   ]
  },
  {
   "cell_type": "code",
   "execution_count": 62,
   "metadata": {},
   "outputs": [
    {
     "data": {
      "text/plain": [
       "'2a1c4b1d'"
      ]
     },
     "execution_count": 62,
     "metadata": {},
     "output_type": "execute_result"
    }
   ],
   "source": [
    "letters"
   ]
  },
  {
   "cell_type": "code",
   "execution_count": 58,
   "metadata": {},
   "outputs": [
    {
     "data": {
      "text/plain": [
       "dict_items([('a', 2), ('c', 1), ('b', 4), ('d', 1)])"
      ]
     },
     "execution_count": 58,
     "metadata": {},
     "output_type": "execute_result"
    }
   ],
   "source": [
    "blank.items()"
   ]
  },
  {
   "cell_type": "code",
   "execution_count": 157,
   "metadata": {},
   "outputs": [
    {
     "name": "stdout",
     "output_type": "stream",
     "text": [
      "abcabc\n",
      "-----------\n",
      "1 0 1\n",
      "a b False\n",
      "1 1 2\n",
      "b c False\n",
      "1 2 3\n",
      "c a False\n",
      "1 3 4\n",
      "a b False\n",
      "1 4 5\n",
      "b c False\n",
      "-----------\n",
      "2 0 2\n",
      "ab ca False\n",
      "2 1 3\n",
      "bc ab False\n",
      "2 2 4\n",
      "ca bc False\n",
      "2 3 5\n",
      "ab c False\n",
      "-----------\n",
      "3 0 3\n",
      "abc abc True\n",
      "3 1 4\n",
      "bca bc False\n",
      "3 2 5\n",
      "cab c False\n",
      "-----------\n",
      "4 0 4\n",
      "abca bc False\n",
      "4 1 5\n",
      "bcab c False\n",
      "-----------\n",
      "5 0 5\n",
      "abcab c False\n",
      "-----------\n"
     ]
    }
   ],
   "source": [
    "s = 'abcabc'\n",
    "print(s)\n",
    "letter = ''\n",
    "blank = {}\n",
    "\n",
    "for i in range(1,7):\n",
    "    print('-----------')\n",
    "    bag = []\n",
    "    for j in range(len(s)-i):\n",
    "        print(i,j,j+i)\n",
    "\n",
    "    \n",
    "        first = s[j:j+i]\n",
    "        second = s[j+i:j+i+i]\n",
    "        print(first,second, first==second)\n",
    "\n",
    "###비교끝\n",
    "### 같으면 : 숫자만들고 언어\n",
    "### 다르면 :\n",
    "            \n",
    "\n",
    "\n",
    "        \n"
   ]
  },
  {
   "cell_type": "code",
   "execution_count": null,
   "metadata": {},
   "outputs": [],
   "source": []
  }
 ],
 "metadata": {
  "kernelspec": {
   "display_name": "Python [default]",
   "language": "python",
   "name": "python3"
  },
  "language_info": {
   "codemirror_mode": {
    "name": "ipython",
    "version": 3
   },
   "file_extension": ".py",
   "mimetype": "text/x-python",
   "name": "python",
   "nbconvert_exporter": "python",
   "pygments_lexer": "ipython3",
   "version": "3.5.5"
  }
 },
 "nbformat": 4,
 "nbformat_minor": 2
}
