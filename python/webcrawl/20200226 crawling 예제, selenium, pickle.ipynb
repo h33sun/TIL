{
 "cells": [
  {
   "cell_type": "markdown",
   "metadata": {},
   "source": [
    "### [복습] CSS Selector\n",
    "- HTML Element를 선택하는 방법\n",
    "- tag: 그대로\n",
    "- id: #\n",
    "- class: .\n",
    "- attr: []\n",
    "\n",
    "- 혼합사용\n",
    "    - tag.class\n",
    "- not, nth-child\n",
    "    - .wrap:not(.class) 배제\n",
    "    - .wrap:nth-child(3)\n",
    "- 계층 구조로 선택\n",
    "    - #wrap > .txt: 바로 한단계 하위 엘리먼트 선택 \n",
    "    - #wrap .txt: 모든 하위 엘리먼트 선택"
   ]
  },
  {
   "cell_type": "markdown",
   "metadata": {},
   "source": [
    "### 1. msit: 과학기술통신부 보도자료 크롤링\n",
    "- URL: https://msit.go.kr\n",
    "- 항목: 보도자료\n",
    "- 형태: json 데이터 안에 html 코드가 있다.\n"
   ]
  },
  {
   "cell_type": "code",
   "execution_count": 1,
   "metadata": {},
   "outputs": [],
   "source": [
    "%run C:/Users/HSS/dd.py\n",
    "import requests"
   ]
  },
  {
   "cell_type": "code",
   "execution_count": 2,
   "metadata": {},
   "outputs": [],
   "source": [
    "page, n_list = 1,30\n",
    "url = 'https://www.msit.go.kr/dynamic/article/_policycom2?&search=&sort=operday=desc&below=false&catids=&index=&fields=&pageout=true&aradon.result.format=json&aradon.page.pageNo={}&aradon.page.listNum={}&aradon.page.screenCount=5&'.format(page, n_list)\n",
    "\n",
    "response = requests.get(url)"
   ]
  },
  {
   "cell_type": "code",
   "execution_count": 3,
   "metadata": {},
   "outputs": [
    {
     "data": {
      "text/html": [
       "<div>\n",
       "<style scoped>\n",
       "    .dataframe tbody tr th:only-of-type {\n",
       "        vertical-align: middle;\n",
       "    }\n",
       "\n",
       "    .dataframe tbody tr th {\n",
       "        vertical-align: top;\n",
       "    }\n",
       "\n",
       "    .dataframe thead th {\n",
       "        text-align: right;\n",
       "    }\n",
       "</style>\n",
       "<table border=\"1\" class=\"dataframe\">\n",
       "  <thead>\n",
       "    <tr style=\"text-align: right;\">\n",
       "      <th></th>\n",
       "      <th>action</th>\n",
       "      <th>admin_p</th>\n",
       "      <th>artsubject</th>\n",
       "      <th>artcont</th>\n",
       "    </tr>\n",
       "  </thead>\n",
       "  <tbody>\n",
       "    <tr>\n",
       "      <th>0</th>\n",
       "      <td>INS</td>\n",
       "      <td>생명기술과</td>\n",
       "      <td>과기정통부, 출연(연) 연구협의체로 진단기업 지원키로</td>\n",
       "      <td>&lt;p align=\"center\" style=\"margin: 0px; text-ali...</td>\n",
       "    </tr>\n",
       "    <tr>\n",
       "      <th>1</th>\n",
       "      <td>INS</td>\n",
       "      <td>사이버침해대응과</td>\n",
       "      <td>대학에 대한 정보보호 중복부담 해소(ISMS 인증 면제 관련)</td>\n",
       "      <td>&lt;p align=\"center\" style=\"margin: 0px; text-ali...</td>\n",
       "    </tr>\n",
       "    <tr>\n",
       "      <th>2</th>\n",
       "      <td>INS</td>\n",
       "      <td>정보보호기획과</td>\n",
       "      <td>2019년 정보보호 실태조사 결과 발표</td>\n",
       "      <td>&lt;p align=\"center\" style=\"margin: 0px; text-ali...</td>\n",
       "    </tr>\n",
       "    <tr>\n",
       "      <th>3</th>\n",
       "      <td>MOD</td>\n",
       "      <td>디지털신산업제도과</td>\n",
       "      <td>2019 인터넷이용실태조사 결과 발표</td>\n",
       "      <td>&lt;p align=\"center\" style=\"margin: 0px; text-ali...</td>\n",
       "    </tr>\n",
       "    <tr>\n",
       "      <th>4</th>\n",
       "      <td>MOD</td>\n",
       "      <td>과학기술정책과</td>\n",
       "      <td>최기영 과기정통부 장관, 한국과학기술기획평가원(KISTEP) 신사옥 개청식 참석</td>\n",
       "      <td>&lt;p&gt;&lt;font size=\"3\"&gt;&amp;nbsp;&lt;/font&gt;&lt;/p&gt;\\r\\n&lt;p alig...</td>\n",
       "    </tr>\n",
       "    <tr>\n",
       "      <th>5</th>\n",
       "      <td>MOD</td>\n",
       "      <td>디지털포용정책팀</td>\n",
       "      <td>장석영 제2차관, 사회적 기업 현장방문</td>\n",
       "      <td>&lt;p align=\"center\" style=\"margin: 0px; text-ali...</td>\n",
       "    </tr>\n",
       "    <tr>\n",
       "      <th>6</th>\n",
       "      <td>MOD</td>\n",
       "      <td>중이온가속기팀</td>\n",
       "      <td>정병선 제1차관, 중이온가속기 건설현장에서의 코로나19 대응태세 점검</td>\n",
       "      <td>&lt;p&gt;&lt;font size=\"3\"&gt;&amp;nbsp;&lt;/font&gt;&lt;/p&gt;\\r\\n&lt;p alig...</td>\n",
       "    </tr>\n",
       "    <tr>\n",
       "      <th>7</th>\n",
       "      <td>MOD</td>\n",
       "      <td>혁신네트워크팀</td>\n",
       "      <td>2019년 사물인터넷 산업 실태조사 결과 발표</td>\n",
       "      <td>&lt;p&gt;&lt;font size=\"3\"&gt;&lt;/font&gt;&lt;/p&gt;\\r\\n&lt;p align=\"cen...</td>\n",
       "    </tr>\n",
       "    <tr>\n",
       "      <th>8</th>\n",
       "      <td>MOD</td>\n",
       "      <td>지역과학기술진흥과</td>\n",
       "      <td>연구소기업 설립 900호 돌파</td>\n",
       "      <td>&lt;p align=\"center\" style=\"margin: 0px; text-ali...</td>\n",
       "    </tr>\n",
       "    <tr>\n",
       "      <th>9</th>\n",
       "      <td>MOD</td>\n",
       "      <td>국립중앙과학관 과학교육과</td>\n",
       "      <td>국립중앙과학관, 2020년 상반기 성인 대상 교육과정 운영</td>\n",
       "      <td>&lt;p align=\"center\" style=\"margin: 0px; text-ali...</td>\n",
       "    </tr>\n",
       "    <tr>\n",
       "      <th>10</th>\n",
       "      <td>INS</td>\n",
       "      <td>연구성과일자리정책과</td>\n",
       "      <td>창업기술 시장성 검증을 통해 실험실창업 성공률 높인다</td>\n",
       "      <td>&lt;p align=\"center\" style=\"margin: 0px; text-ali...</td>\n",
       "    </tr>\n",
       "    <tr>\n",
       "      <th>11</th>\n",
       "      <td>MOD</td>\n",
       "      <td>연구예산총괄과</td>\n",
       "      <td>2021년도 정부연구개발 투자방향 및 기준(안) 온라인 공청회 개최</td>\n",
       "      <td>&lt;p align=\"center\" style=\"margin: 0px; text-ali...</td>\n",
       "    </tr>\n",
       "    <tr>\n",
       "      <th>12</th>\n",
       "      <td>INS</td>\n",
       "      <td>소프트웨어정책과</td>\n",
       "      <td>소프트웨어 인재양성의 요람, 이노베이션아카데미 1기 교육 시작</td>\n",
       "      <td>&lt;p&gt;&amp;nbsp;&lt;/p&gt;\\r\\n&lt;p align=\"center\" style=\"marg...</td>\n",
       "    </tr>\n",
       "    <tr>\n",
       "      <th>13</th>\n",
       "      <td>INS</td>\n",
       "      <td>운영지원과</td>\n",
       "      <td>고위공무원 임용(국립과천과학관장)</td>\n",
       "      <td>&lt;div style=\"margin: 0cm 0cm 0pt; text-align: c...</td>\n",
       "    </tr>\n",
       "    <tr>\n",
       "      <th>14</th>\n",
       "      <td>MOD</td>\n",
       "      <td>생명기초조정과</td>\n",
       "      <td>김성수 과학기술혁신본부장, 감염병 전문가와 함께 과학기술 측면의 대응방향 논의</td>\n",
       "      <td>&lt;font size=\"3\"&gt;&amp;nbsp;&lt;/font&gt;\\r\\n&lt;p align=\"cent...</td>\n",
       "    </tr>\n",
       "    <tr>\n",
       "      <th>15</th>\n",
       "      <td>MOD</td>\n",
       "      <td>정보통신산업정책과</td>\n",
       "      <td>과기정통부, 코로나19 대응 ICT산업 지원방안 발표</td>\n",
       "      <td>&lt;p align=\"center\" style=\"margin: 0px; text-ali...</td>\n",
       "    </tr>\n",
       "    <tr>\n",
       "      <th>16</th>\n",
       "      <td>INS</td>\n",
       "      <td>우주기술과</td>\n",
       "      <td>정병선 제1차관, 세계 최대 우주발사 서비스 기업 아리안스페이스(Arianespac...</td>\n",
       "      <td>&lt;p align=\"center\" style=\"margin: 0px; text-ali...</td>\n",
       "    </tr>\n",
       "    <tr>\n",
       "      <th>17</th>\n",
       "      <td>MOD</td>\n",
       "      <td>디지털포용정책팀</td>\n",
       "      <td>과기정통부, 2019년 스마트폰 과의존 실태조사 결과 발표</td>\n",
       "      <td>&lt;p align=\"center\" style=\"margin: 0px; text-ali...</td>\n",
       "    </tr>\n",
       "    <tr>\n",
       "      <th>18</th>\n",
       "      <td>INS</td>\n",
       "      <td>연구예산총괄과</td>\n",
       "      <td>김성수 과학기술혁신본부장, 찾아가는 연구현장 간담회 개최</td>\n",
       "      <td>&lt;p&gt;&amp;nbsp;&lt;/p&gt;\\r\\n&lt;p align=\"center\" style=\"marg...</td>\n",
       "    </tr>\n",
       "    <tr>\n",
       "      <th>19</th>\n",
       "      <td>INS</td>\n",
       "      <td>연구개발정책과</td>\n",
       "      <td>미래사회 시나리오 공모전 시상식 개최</td>\n",
       "      <td>&lt;p align=\"center\" style=\"margin: 0px; text-ali...</td>\n",
       "    </tr>\n",
       "    <tr>\n",
       "      <th>20</th>\n",
       "      <td>INS</td>\n",
       "      <td>디지털신산업제도과</td>\n",
       "      <td>ICT 규제 샌드박스 통한 민간 최초 ‘스마트 전기자동차 충전콘센트’ 본격 출시</td>\n",
       "      <td>&lt;p align=\"center\" style=\"margin: 0px; text-ali...</td>\n",
       "    </tr>\n",
       "    <tr>\n",
       "      <th>21</th>\n",
       "      <td>INS</td>\n",
       "      <td>우주기술과</td>\n",
       "      <td>천리안위성 2B호, 2월 19일 아침 발사 성공</td>\n",
       "      <td>&lt;p align=\"center\" style=\"margin: 0px; text-ali...</td>\n",
       "    </tr>\n",
       "    <tr>\n",
       "      <th>22</th>\n",
       "      <td>INS</td>\n",
       "      <td>사이버침해대응과</td>\n",
       "      <td>장석영 제2차관, 제100차 정보보호 최고책임자 포럼 참석</td>\n",
       "      <td>&lt;p align=\"center\" style=\"margin: 0px; text-ali...</td>\n",
       "    </tr>\n",
       "    <tr>\n",
       "      <th>23</th>\n",
       "      <td>MOD</td>\n",
       "      <td>뉴미디어정책과</td>\n",
       "      <td>장석영 제2차관, 코로나19 예방 방송 현장 방문</td>\n",
       "      <td>&lt;p align=\"center\" style=\"margin: 0px; text-ali...</td>\n",
       "    </tr>\n",
       "    <tr>\n",
       "      <th>24</th>\n",
       "      <td>MOD</td>\n",
       "      <td>디지털신산업제도과</td>\n",
       "      <td>디지털 정부혁신 일환, 공공 페이퍼리스 촉진 시범사업 공모</td>\n",
       "      <td>&lt;p align=\"center\" style=\"margin: 0px; text-ali...</td>\n",
       "    </tr>\n",
       "    <tr>\n",
       "      <th>25</th>\n",
       "      <td>MOD</td>\n",
       "      <td>통신이용제도과</td>\n",
       "      <td>코로나19 악용 보이스피싱 전화, 스미싱 문자 주의 당부</td>\n",
       "      <td>&lt;p align=\"center\" style=\"margin: 0px; text-ali...</td>\n",
       "    </tr>\n",
       "    <tr>\n",
       "      <th>26</th>\n",
       "      <td>MOD</td>\n",
       "      <td>과학기술안전기반팀</td>\n",
       "      <td>‘대한민국 엔지니어상’ 2020년 2월 수상자 선정</td>\n",
       "      <td>&lt;p align=\"center\" style=\"margin: 0px; text-ali...</td>\n",
       "    </tr>\n",
       "    <tr>\n",
       "      <th>27</th>\n",
       "      <td>MOD</td>\n",
       "      <td>미래인재양성과</td>\n",
       "      <td>정부출연연구소에서 연구역량 높여 우수기업 문 두드린다</td>\n",
       "      <td>&lt;p align=\"center\" style=\"margin: 0px; text-ali...</td>\n",
       "    </tr>\n",
       "    <tr>\n",
       "      <th>28</th>\n",
       "      <td>MOD</td>\n",
       "      <td>거대공공연구협력과</td>\n",
       "      <td>국제핵융합실험로 건설 총괄 고위직에 한국 전문가 진출</td>\n",
       "      <td>&lt;p align=\"center\" style=\"margin: 0px; text-ali...</td>\n",
       "    </tr>\n",
       "    <tr>\n",
       "      <th>29</th>\n",
       "      <td>MOD</td>\n",
       "      <td>정보통신산업기반과</td>\n",
       "      <td>2020년 글로벌 핵심인재 양성지원 사업공고 추진</td>\n",
       "      <td>&lt;p&gt;&lt;font size=\"3\"&gt;&lt;/font&gt;&lt;/p&gt;\\r\\n&lt;p align=\"cen...</td>\n",
       "    </tr>\n",
       "  </tbody>\n",
       "</table>\n",
       "</div>"
      ],
      "text/plain": [
       "   action        admin_p                                         artsubject  \\\n",
       "0     INS          생명기술과                      과기정통부, 출연(연) 연구협의체로 진단기업 지원키로   \n",
       "1     INS       사이버침해대응과                 대학에 대한 정보보호 중복부담 해소(ISMS 인증 면제 관련)   \n",
       "2     INS        정보보호기획과                              2019년 정보보호 실태조사 결과 발표   \n",
       "3     MOD      디지털신산업제도과                               2019 인터넷이용실태조사 결과 발표   \n",
       "4     MOD        과학기술정책과       최기영 과기정통부 장관, 한국과학기술기획평가원(KISTEP) 신사옥 개청식 참석   \n",
       "5     MOD       디지털포용정책팀                              장석영 제2차관, 사회적 기업 현장방문   \n",
       "6     MOD        중이온가속기팀             정병선 제1차관, 중이온가속기 건설현장에서의 코로나19 대응태세 점검   \n",
       "7     MOD        혁신네트워크팀                          2019년 사물인터넷 산업 실태조사 결과 발표   \n",
       "8     MOD      지역과학기술진흥과                                   연구소기업 설립 900호 돌파   \n",
       "9     MOD  국립중앙과학관 과학교육과                   국립중앙과학관, 2020년 상반기 성인 대상 교육과정 운영   \n",
       "10    INS     연구성과일자리정책과                      창업기술 시장성 검증을 통해 실험실창업 성공률 높인다   \n",
       "11    MOD        연구예산총괄과              2021년도 정부연구개발 투자방향 및 기준(안) 온라인 공청회 개최   \n",
       "12    INS       소프트웨어정책과                 소프트웨어 인재양성의 요람, 이노베이션아카데미 1기 교육 시작   \n",
       "13    INS          운영지원과                                 고위공무원 임용(국립과천과학관장)   \n",
       "14    MOD        생명기초조정과        김성수 과학기술혁신본부장, 감염병 전문가와 함께 과학기술 측면의 대응방향 논의   \n",
       "15    MOD      정보통신산업정책과                      과기정통부, 코로나19 대응 ICT산업 지원방안 발표   \n",
       "16    INS          우주기술과  정병선 제1차관, 세계 최대 우주발사 서비스 기업 아리안스페이스(Arianespac...   \n",
       "17    MOD       디지털포용정책팀                   과기정통부, 2019년 스마트폰 과의존 실태조사 결과 발표   \n",
       "18    INS        연구예산총괄과                    김성수 과학기술혁신본부장, 찾아가는 연구현장 간담회 개최   \n",
       "19    INS        연구개발정책과                               미래사회 시나리오 공모전 시상식 개최   \n",
       "20    INS      디지털신산업제도과       ICT 규제 샌드박스 통한 민간 최초 ‘스마트 전기자동차 충전콘센트’ 본격 출시   \n",
       "21    INS          우주기술과                         천리안위성 2B호, 2월 19일 아침 발사 성공   \n",
       "22    INS       사이버침해대응과                   장석영 제2차관, 제100차 정보보호 최고책임자 포럼 참석   \n",
       "23    MOD        뉴미디어정책과                        장석영 제2차관, 코로나19 예방 방송 현장 방문   \n",
       "24    MOD      디지털신산업제도과                   디지털 정부혁신 일환, 공공 페이퍼리스 촉진 시범사업 공모   \n",
       "25    MOD        통신이용제도과                    코로나19 악용 보이스피싱 전화, 스미싱 문자 주의 당부   \n",
       "26    MOD      과학기술안전기반팀                       ‘대한민국 엔지니어상’ 2020년 2월 수상자 선정   \n",
       "27    MOD        미래인재양성과                      정부출연연구소에서 연구역량 높여 우수기업 문 두드린다   \n",
       "28    MOD      거대공공연구협력과                      국제핵융합실험로 건설 총괄 고위직에 한국 전문가 진출   \n",
       "29    MOD      정보통신산업기반과                        2020년 글로벌 핵심인재 양성지원 사업공고 추진   \n",
       "\n",
       "                                              artcont  \n",
       "0   <p align=\"center\" style=\"margin: 0px; text-ali...  \n",
       "1   <p align=\"center\" style=\"margin: 0px; text-ali...  \n",
       "2   <p align=\"center\" style=\"margin: 0px; text-ali...  \n",
       "3   <p align=\"center\" style=\"margin: 0px; text-ali...  \n",
       "4   <p><font size=\"3\">&nbsp;</font></p>\\r\\n<p alig...  \n",
       "5   <p align=\"center\" style=\"margin: 0px; text-ali...  \n",
       "6   <p><font size=\"3\">&nbsp;</font></p>\\r\\n<p alig...  \n",
       "7   <p><font size=\"3\"></font></p>\\r\\n<p align=\"cen...  \n",
       "8   <p align=\"center\" style=\"margin: 0px; text-ali...  \n",
       "9   <p align=\"center\" style=\"margin: 0px; text-ali...  \n",
       "10  <p align=\"center\" style=\"margin: 0px; text-ali...  \n",
       "11  <p align=\"center\" style=\"margin: 0px; text-ali...  \n",
       "12  <p>&nbsp;</p>\\r\\n<p align=\"center\" style=\"marg...  \n",
       "13  <div style=\"margin: 0cm 0cm 0pt; text-align: c...  \n",
       "14  <font size=\"3\">&nbsp;</font>\\r\\n<p align=\"cent...  \n",
       "15  <p align=\"center\" style=\"margin: 0px; text-ali...  \n",
       "16  <p align=\"center\" style=\"margin: 0px; text-ali...  \n",
       "17  <p align=\"center\" style=\"margin: 0px; text-ali...  \n",
       "18  <p>&nbsp;</p>\\r\\n<p align=\"center\" style=\"marg...  \n",
       "19  <p align=\"center\" style=\"margin: 0px; text-ali...  \n",
       "20  <p align=\"center\" style=\"margin: 0px; text-ali...  \n",
       "21  <p align=\"center\" style=\"margin: 0px; text-ali...  \n",
       "22  <p align=\"center\" style=\"margin: 0px; text-ali...  \n",
       "23  <p align=\"center\" style=\"margin: 0px; text-ali...  \n",
       "24  <p align=\"center\" style=\"margin: 0px; text-ali...  \n",
       "25  <p align=\"center\" style=\"margin: 0px; text-ali...  \n",
       "26  <p align=\"center\" style=\"margin: 0px; text-ali...  \n",
       "27  <p align=\"center\" style=\"margin: 0px; text-ali...  \n",
       "28  <p align=\"center\" style=\"margin: 0px; text-ali...  \n",
       "29  <p><font size=\"3\"></font></p>\\r\\n<p align=\"cen...  "
      ]
     },
     "execution_count": 3,
     "metadata": {},
     "output_type": "execute_result"
    }
   ],
   "source": [
    "result = response.json()['result']['nodes']\n",
    "msit_df = pd.DataFrame(result)[['action', 'admin_p', 'artsubject', 'artcont']]\n",
    "msit_df"
   ]
  },
  {
   "cell_type": "code",
   "execution_count": 4,
   "metadata": {},
   "outputs": [
    {
     "data": {
      "text/plain": [
       "'<p align=\"cen'"
      ]
     },
     "execution_count": 4,
     "metadata": {},
     "output_type": "execute_result"
    }
   ],
   "source": [
    "msit_df.artcont[0][:13]"
   ]
  },
  {
   "cell_type": "code",
   "execution_count": 5,
   "metadata": {},
   "outputs": [],
   "source": [
    "from bs4 import BeautifulSoup as bs"
   ]
  },
  {
   "cell_type": "code",
   "execution_count": 6,
   "metadata": {},
   "outputs": [
    {
     "data": {
      "text/plain": [
       "'과기정통부, 출연(연) 연구협의체로\\r\\n진단기업 지원키로\\n- 코로나19\\r\\n진단기업을 방문, 기업격려 및 애로사항 청취\\n- 감염병 의료기기 연구협의체를 구성, 기업의 감염병 연구 집중\\r\\n지원\\n\\xa0\\n□ 최기영 과학기술정보통신부 장관은 2월\\r\\n26일(수), 코로나19 진단시약 생산업체 ‘씨젠’을 방문하여 기업 관계자 및 현장 연구자들을 격려하였으며, 간담회를 통해 현장의 목소리를\\r\\n청취하였다.\\n\\xa0\\nㅇ 이번 방문은 국내기술로 코로나19 진단시약을 자체\\r\\n역량으로 개발한 ‘씨젠’의 임직원에 대한 격려를 위해 추진되었으며,\\n\\xa0\\nㅇ 이어서 진행된 현장 간담회에서는 기업 현장의 애로사항에 대한 청취뿐 아니라, 새롭게 구성된 ‘감염병 의료기기 연구협의체’를 통한 구체적인 기업 지원방안 등이 논의되었다.\\n\\xa0\\n□ ‘감염병 의료기기 연구협의체’(이하 연구협의체)는 국내 진단기업 등 감염병 관련 기업들의 기술경쟁력 확보를 지원하기 위해 감염병 및 의료기기\\r\\n분야의 주요 출연(연)들이 참여하여 구성된 연구협의체이다.\\n* 감염병 의료기기 연구협의체는 생명(연), 원자력의학원, 기계(연), 전기(연), 화학(연), ETRI, 바이오나노헬스가드연구단 등 7개 기관으로 구성\\n\\xa0\\nㅇ 이번에 구성된 연구협의체는 우수기업과의 산학연병 협업연구, 기업의 R&D 성과창출을 위한 기술 및 임상 자문, 장비 및 시설 제공 등을 통해 관련\\r\\n기업의 기술적 어려움을 지원해 나갈 계획이다.\\n\\xa0\\n□ 특히,\\r\\n현장 간담회에서는 씨젠 등 진단시약 개발기업들이 요청하고 있는\\r\\n애로사항이 연구협의체와 함께 논의될 예정이다.\\n\\xa0\\nㅇ 이번 간담회에서는 생명(연)과\\r\\n화학(연)에 구축된 생물안전시설(BSL3급)을 활용하여 진단기업들의 고위험 바이러스의 실험에 활용할 수 있게 지원해 주고, 기업의 수요를 기반으로 산학연병 연구\\r\\nR&D팀을 구성하는 방안 등이 폭넓게 논의될 예정이다.\\n\\xa0\\nㅇ 과학기술정보통신부는 이날 논의된 내용을\\r\\n바탕으로 진단기업들의 기술력 향상을 위한 지원방안을 구체화할 계획이다.\\n\\xa0\\n□ 최기영 장관은 “코로나 19의 국내‧외 확산이 지속됨에 따라 국민들의 우려가 커지고 있는\\r\\n와중에, 국내 기업들의 잇따른\\r\\n진단시약개발 성공은 국가 감염병 위기대응에 큰 힘이\\r\\n되고 있다.”라며,\\n\\xa0\\nㅇ “과기정통부는\\r\\n‘감염병 의료기기 연구협의체’를 통해, 우리 기업의 기술 경쟁력 확보와 국가 감염병 위기대응에\\r\\n기여할 계획“이라고 밝혔다.\\n\\xa0\\n□ 정부는 그간 신종바이러스 융합연구단\\r\\n등 출연(연) 중심의 연구단과 바이오의료기술개발사업 등 국책사업을 통해 감염병 분아의 R&D를 지원해 왔으며,\\n\\xa0\\nㅇ 올해 인체 감염병 관련 R&D에 1,289억원을 투자할 계획으로, 이는 미래 감염병 대응, 예방, 치료 기술개발 등에 활용될 예정이다.\\n\\xa0\\n\\xa0'"
      ]
     },
     "execution_count": 6,
     "metadata": {},
     "output_type": "execute_result"
    }
   ],
   "source": [
    "html = msit_df.artcont[0]\n",
    "content = bs(html, 'html.parser').text\n",
    "content"
   ]
  },
  {
   "cell_type": "code",
   "execution_count": 7,
   "metadata": {},
   "outputs": [
    {
     "data": {
      "text/plain": [
       "'과기정통부, 출연(연) 연구협의체로진단기업 지원키로- 코로나19진단기업을 방문, 기업격려 및 애로사항 청취- 감염병 의료기기 연구협의체를 구성, 기업의 감염병 연구 집중지원 최기영 과학기술정보통신부 장관은 2월26일(수), 코로나19 진단시약 생산업체 ‘씨젠’을 방문하여 기업 관계자 및 현장 연구자들을 격려하였으며, 간담회를 통해 현장의 목소리를청취하였다.ㅇ 이번 방문은 국내기술로 코로나19 진단시약을 자체역량으로 개발한 ‘씨젠’의 임직원에 대한 격려를 위해 추진되었으며,ㅇ 이어서 진행된 현장 간담회에서는 기업 현장의 애로사항에 대한 청취뿐 아니라, 새롭게 구성된 ‘감염병 의료기기 연구협의체’를 통한 구체적인 기업 지원방안 등이 논의되었다. ‘감염병 의료기기 연구협의체’(이하 연구협의체)는 국내 진단기업 등 감염병 관련 기업들의 기술경쟁력 확보를 지원하기 위해 감염병 및 의료기기분야의 주요 출연(연)들이 참여하여 구성된 연구협의체이다. 감염병 의료기기 연구협의체는 생명(연), 원자력의학원, 기계(연), 전기(연), 화학(연), ETRI, 바이오나노헬스가드연구단 등 7개 기관으로 구성ㅇ 이번에 구성된 연구협의체는 우수기업과의 산학연병 협업연구, 기업의 R&D 성과창출을 위한 기술 및 임상 자문, 장비 및 시설 제공 등을 통해 관련기업의 기술적 어려움을 지원해 나갈 계획이다. 특히,현장 간담회에서는 씨젠 등 진단시약 개발기업들이 요청하고 있는애로사항이 연구협의체와 함께 논의될 예정이다.ㅇ 이번 간담회에서는 생명(연)과화학(연)에 구축된 생물안전시설(BSL3급)을 활용하여 진단기업들의 고위험 바이러스의 실험에 활용할 수 있게 지원해 주고, 기업의 수요를 기반으로 산학연병 연구R&D팀을 구성하는 방안 등이 폭넓게 논의될 예정이다.ㅇ 과학기술정보통신부는 이날 논의된 내용을바탕으로 진단기업들의 기술력 향상을 위한 지원방안을 구체화할 계획이다. 최기영 장관은 “코로나 19의 국내‧외 확산이 지속됨에 따라 국민들의 우려가 커지고 있는와중에, 국내 기업들의 잇따른진단시약개발 성공은 국가 감염병 위기대응에 큰 힘이되고 있다.”라며,ㅇ “과기정통부는‘감염병 의료기기 연구협의체’를 통해, 우리 기업의 기술 경쟁력 확보와 국가 감염병 위기대응에기여할 계획“이라고 밝혔다. 정부는 그간 신종바이러스 융합연구단등 출연(연) 중심의 연구단과 바이오의료기술개발사업 등 국책사업을 통해 감염병 분아의 R&D를 지원해 왔으며,ㅇ 올해 인체 감염병 관련 R&D에 1,289억원을 투자할 계획으로, 이는 미래 감염병 대응, 예방, 치료 기술개발 등에 활용될 예정이다.'"
      ]
     },
     "execution_count": 7,
     "metadata": {},
     "output_type": "execute_result"
    }
   ],
   "source": [
    "remove_words = ['\\n','\\r','\\xa0','□','*']\n",
    "for remove_word in remove_words:\n",
    "    content = content.replace(remove_word,'')\n",
    "content\n"
   ]
  },
  {
   "cell_type": "code",
   "execution_count": 8,
   "metadata": {},
   "outputs": [],
   "source": [
    "## html 텍스트 변환 함수 만들기\n",
    "def html_to_txt(html):\n",
    "    content = bs(html, 'html.parser').text\n",
    "    remove_words = ['\\n','\\r','\\xa0','□','*']\n",
    "    for remove_word in remove_words:\n",
    "        content = content.replace(remove_word,'')\n",
    "    return content\n"
   ]
  },
  {
   "cell_type": "code",
   "execution_count": 9,
   "metadata": {},
   "outputs": [],
   "source": [
    "msit_df.artcont = msit_df.artcont.apply(html_to_txt)"
   ]
  },
  {
   "cell_type": "code",
   "execution_count": 10,
   "metadata": {},
   "outputs": [
    {
     "data": {
      "text/html": [
       "<div>\n",
       "<style scoped>\n",
       "    .dataframe tbody tr th:only-of-type {\n",
       "        vertical-align: middle;\n",
       "    }\n",
       "\n",
       "    .dataframe tbody tr th {\n",
       "        vertical-align: top;\n",
       "    }\n",
       "\n",
       "    .dataframe thead th {\n",
       "        text-align: right;\n",
       "    }\n",
       "</style>\n",
       "<table border=\"1\" class=\"dataframe\">\n",
       "  <thead>\n",
       "    <tr style=\"text-align: right;\">\n",
       "      <th></th>\n",
       "      <th>action</th>\n",
       "      <th>admin_p</th>\n",
       "      <th>artsubject</th>\n",
       "      <th>artcont</th>\n",
       "    </tr>\n",
       "  </thead>\n",
       "  <tbody>\n",
       "    <tr>\n",
       "      <th>28</th>\n",
       "      <td>MOD</td>\n",
       "      <td>거대공공연구협력과</td>\n",
       "      <td>국제핵융합실험로 건설 총괄 고위직에 한국 전문가 진출</td>\n",
       "      <td>국제핵융합실험로 건설 총괄 고위직에 한국 전문가 진출- 김근경 한수원 前 건설기술처...</td>\n",
       "    </tr>\n",
       "    <tr>\n",
       "      <th>29</th>\n",
       "      <td>MOD</td>\n",
       "      <td>정보통신산업기반과</td>\n",
       "      <td>2020년 글로벌 핵심인재 양성지원 사업공고 추진</td>\n",
       "      <td>“글로벌 핵심인재 육성에 박차, 우리나라 4차 산업혁명 앞당긴다”- 2020년 글로...</td>\n",
       "    </tr>\n",
       "  </tbody>\n",
       "</table>\n",
       "</div>"
      ],
      "text/plain": [
       "   action    admin_p                     artsubject  \\\n",
       "28    MOD  거대공공연구협력과  국제핵융합실험로 건설 총괄 고위직에 한국 전문가 진출   \n",
       "29    MOD  정보통신산업기반과    2020년 글로벌 핵심인재 양성지원 사업공고 추진   \n",
       "\n",
       "                                              artcont  \n",
       "28  국제핵융합실험로 건설 총괄 고위직에 한국 전문가 진출- 김근경 한수원 前 건설기술처...  \n",
       "29  “글로벌 핵심인재 육성에 박차, 우리나라 4차 산업혁명 앞당긴다”- 2020년 글로...  "
      ]
     },
     "execution_count": 10,
     "metadata": {},
     "output_type": "execute_result"
    }
   ],
   "source": [
    "msit_df.tail(2)"
   ]
  },
  {
   "cell_type": "code",
   "execution_count": 11,
   "metadata": {},
   "outputs": [],
   "source": [
    "#모든 부분 함수화\n",
    "def get_news_msit(page = 1, n_list = 20):\n",
    "    url = 'https://www.msit.go.kr/dynamic/article/_policycom2?\\\n",
    "    &sort=operday=desc&below=false&pageout=true&aradon.result.format=json&aradon.page.pageNo={}&aradon.page.listNum={}&aradon.page.screenCount=5&'\\\n",
    "    .format(page, n_list)\n",
    "\n",
    "    response = requests.get(url)\n",
    "    result = response.json()['result']['nodes']\n",
    "    msit_df = pd.DataFrame(result)[['action', 'admin_p', 'artsubject', 'artcont']]\n",
    "    msit_df['artcont'] = msit_df['artcont'].apply(html_to_txt)\n",
    "    return msit_df\n",
    "    "
   ]
  },
  {
   "cell_type": "code",
   "execution_count": 12,
   "metadata": {},
   "outputs": [
    {
     "data": {
      "text/html": [
       "<div>\n",
       "<style scoped>\n",
       "    .dataframe tbody tr th:only-of-type {\n",
       "        vertical-align: middle;\n",
       "    }\n",
       "\n",
       "    .dataframe tbody tr th {\n",
       "        vertical-align: top;\n",
       "    }\n",
       "\n",
       "    .dataframe thead th {\n",
       "        text-align: right;\n",
       "    }\n",
       "</style>\n",
       "<table border=\"1\" class=\"dataframe\">\n",
       "  <thead>\n",
       "    <tr style=\"text-align: right;\">\n",
       "      <th></th>\n",
       "      <th>action</th>\n",
       "      <th>admin_p</th>\n",
       "      <th>artsubject</th>\n",
       "      <th>artcont</th>\n",
       "    </tr>\n",
       "  </thead>\n",
       "  <tbody>\n",
       "    <tr>\n",
       "      <th>17</th>\n",
       "      <td>MOD</td>\n",
       "      <td>디지털포용정책팀</td>\n",
       "      <td>과기정통부, 2019년 스마트폰 과의존 실태조사 결과 발표</td>\n",
       "      <td>스마트폰 과의존 위험군 20%, 전년대비0.9%p 증가- 과기정통부,「2019년 스...</td>\n",
       "    </tr>\n",
       "    <tr>\n",
       "      <th>18</th>\n",
       "      <td>INS</td>\n",
       "      <td>연구예산총괄과</td>\n",
       "      <td>김성수 과학기술혁신본부장, 찾아가는 연구현장 간담회 개최</td>\n",
       "      <td>김성수 과학기술혁신본부장, 찾아가는 연구현장 간담회 개최-2월 19일(수)대전지역 ...</td>\n",
       "    </tr>\n",
       "    <tr>\n",
       "      <th>19</th>\n",
       "      <td>INS</td>\n",
       "      <td>연구개발정책과</td>\n",
       "      <td>미래사회 시나리오 공모전 시상식 개최</td>\n",
       "      <td>「미래사회 시나리오 공모전」 시상식 개최국민의 상상, 현실로!- 국민이 상상한 미래...</td>\n",
       "    </tr>\n",
       "  </tbody>\n",
       "</table>\n",
       "</div>"
      ],
      "text/plain": [
       "   action   admin_p                        artsubject  \\\n",
       "17    MOD  디지털포용정책팀  과기정통부, 2019년 스마트폰 과의존 실태조사 결과 발표   \n",
       "18    INS   연구예산총괄과   김성수 과학기술혁신본부장, 찾아가는 연구현장 간담회 개최   \n",
       "19    INS   연구개발정책과              미래사회 시나리오 공모전 시상식 개최   \n",
       "\n",
       "                                              artcont  \n",
       "17  스마트폰 과의존 위험군 20%, 전년대비0.9%p 증가- 과기정통부,「2019년 스...  \n",
       "18  김성수 과학기술혁신본부장, 찾아가는 연구현장 간담회 개최-2월 19일(수)대전지역 ...  \n",
       "19  「미래사회 시나리오 공모전」 시상식 개최국민의 상상, 현실로!- 국민이 상상한 미래...  "
      ]
     },
     "execution_count": 12,
     "metadata": {},
     "output_type": "execute_result"
    }
   ],
   "source": [
    "get_news_msit().tail(3)"
   ]
  },
  {
   "cell_type": "markdown",
   "metadata": {},
   "source": [
    "### 2. 행정안전부 보도자료 크롤링\n",
    "- URL: https://mois.go.kr\n",
    "- 항목: 보도자료\n",
    "- 형태: URL에 정보가 담겨 있지 않은 `POST` 방식\n",
    "    - `POST`에서는 paras에 정보를 담아 요청한다"
   ]
  },
  {
   "cell_type": "code",
   "execution_count": 13,
   "metadata": {},
   "outputs": [],
   "source": [
    "url = 'https://www.mois.go.kr/frt/bbs/type010/commonSelectBoardList.do?bbsId=BBSMSTR_000000000008'\n",
    "page = 1\n",
    "params = {\n",
    "    'nttId': 0,\n",
    "    'bbsTyCode': 'BBST03',\n",
    "    'bbsAttrbCode': 'BBSA03',\n",
    "    'authFlag': 'Y',\n",
    "    'pageIndex': page,\n",
    "    'cal_url': '/sym/cal/EgovNormalCalPopup.do',\n",
    "    'searchCnd': 0,\n",
    "    'searchWrd': ''\n",
    "}"
   ]
  },
  {
   "cell_type": "code",
   "execution_count": 14,
   "metadata": {},
   "outputs": [
    {
     "data": {
      "text/plain": [
       "{'authFlag': 'Y',\n",
       " 'bbsAttrbCode': 'BBSA03',\n",
       " 'bbsTyCode': 'BBST03',\n",
       " 'cal_url': '/sym/cal/EgovNormalCalPopup.do',\n",
       " 'nttId': 0,\n",
       " 'pageIndex': 1,\n",
       " 'searchCnd': 0,\n",
       " 'searchWrd': ''}"
      ]
     },
     "execution_count": 14,
     "metadata": {},
     "output_type": "execute_result"
    }
   ],
   "source": [
    "params"
   ]
  },
  {
   "cell_type": "code",
   "execution_count": 15,
   "metadata": {},
   "outputs": [
    {
     "data": {
      "text/plain": [
       "<Response [200]>"
      ]
     },
     "execution_count": 15,
     "metadata": {},
     "output_type": "execute_result"
    }
   ],
   "source": [
    "response = requests.post(url, params)\n",
    "response"
   ]
  },
  {
   "cell_type": "code",
   "execution_count": 16,
   "metadata": {},
   "outputs": [
    {
     "data": {
      "text/plain": [
       "[<tr>\n",
       " <td class=\"res_hide\">\n",
       " \t\t\t\t\t\t\t\t10621\n",
       " \t\t\t\t\t\t\t</td>\n",
       " <td class=\"l\">\n",
       " <div class=\"wrap\">\n",
       " <a href=\"/frt/bbs/type010/commonSelectBoardArticle.do;jsessionid=7B-ogICuZvfpPBNEkJpDG-2M.node10?bbsId=BBSMSTR_000000000008&amp;nttId=76012\" onclick=\"javascript:fn_egov_inqire_notice('76012', 'BBSMSTR_000000000008'); return false;\">납세자보호관, 지방세 고충민원 해결사로 정착! </a>\n",
       " </div>\n",
       " </td>\n",
       " <td class=\"res_hide\">\n",
       " <img alt=\"첨부파일\" src=\"/images/board/icon_file.gif;jsessionid=7B-ogICuZvfpPBNEkJpDG-2M.node10\">\n",
       " </img></td>\n",
       " <td class=\"res_hide\">\n",
       " \t\t\t\t\t\t\t\t지방세정책과\n",
       " \t\t\t\t\t\t\t</td>\n",
       " <td>\n",
       " \t\t\t\t\t\t\t\t2020.02.26.\n",
       " \t\t\t\t\t\t\t</td>\n",
       " <td class=\"res_hide\">\n",
       " \t\t\t\t\t\t\t\t235\n",
       " \t\t\t\t\t\t\t</td>\n",
       " </tr>, <tr>\n",
       " <td class=\"res_hide\">\n",
       " \t\t\t\t\t\t\t\t10620\n",
       " \t\t\t\t\t\t\t</td>\n",
       " <td class=\"l\">\n",
       " <div class=\"wrap\">\n",
       " <a href=\"/frt/bbs/type010/commonSelectBoardArticle.do;jsessionid=7B-ogICuZvfpPBNEkJpDG-2M.node10?bbsId=BBSMSTR_000000000008&amp;nttId=76011\" onclick=\"javascript:fn_egov_inqire_notice('76011', 'BBSMSTR_000000000008'); return false;\">위기경보‘심각’발령에 따른 코로나19 긴급대책비 지원 </a>\n",
       " </div>\n",
       " </td>\n",
       " <td class=\"res_hide\">\n",
       " <img alt=\"첨부파일\" src=\"/images/board/icon_file.gif;jsessionid=7B-ogICuZvfpPBNEkJpDG-2M.node10\">\n",
       " </img></td>\n",
       " <td class=\"res_hide\">\n",
       " \t\t\t\t\t\t\t\t재난관리정책과\n",
       " \t\t\t\t\t\t\t</td>\n",
       " <td>\n",
       " \t\t\t\t\t\t\t\t2020.02.26.\n",
       " \t\t\t\t\t\t\t</td>\n",
       " <td class=\"res_hide\">\n",
       " \t\t\t\t\t\t\t\t836\n",
       " \t\t\t\t\t\t\t</td>\n",
       " </tr>, <tr>\n",
       " <td class=\"res_hide\">\n",
       " \t\t\t\t\t\t\t\t10619\n",
       " \t\t\t\t\t\t\t</td>\n",
       " <td class=\"l\">\n",
       " <div class=\"wrap\">\n",
       " <a href=\"/frt/bbs/type010/commonSelectBoardArticle.do;jsessionid=7B-ogICuZvfpPBNEkJpDG-2M.node10?bbsId=BBSMSTR_000000000008&amp;nttId=75999\" onclick=\"javascript:fn_egov_inqire_notice('75999', 'BBSMSTR_000000000008'); return false;\">터널 안 교통사고, 최근 5년간 3,218건, 인명피해 7,472명 </a>\n",
       " </div>\n",
       " </td>\n",
       " <td class=\"res_hide\">\n",
       " <img alt=\"첨부파일\" src=\"/images/board/icon_file.gif;jsessionid=7B-ogICuZvfpPBNEkJpDG-2M.node10\">\n",
       " </img></td>\n",
       " <td class=\"res_hide\">\n",
       " \t\t\t\t\t\t\t\t예방안전과\n",
       " \t\t\t\t\t\t\t</td>\n",
       " <td>\n",
       " \t\t\t\t\t\t\t\t2020.02.25.\n",
       " \t\t\t\t\t\t\t</td>\n",
       " <td class=\"res_hide\">\n",
       " \t\t\t\t\t\t\t\t451\n",
       " \t\t\t\t\t\t\t</td>\n",
       " </tr>, <tr>\n",
       " <td class=\"res_hide\">\n",
       " \t\t\t\t\t\t\t\t10618\n",
       " \t\t\t\t\t\t\t</td>\n",
       " <td class=\"l\">\n",
       " <div class=\"wrap\">\n",
       " <a href=\"/frt/bbs/type010/commonSelectBoardArticle.do;jsessionid=7B-ogICuZvfpPBNEkJpDG-2M.node10?bbsId=BBSMSTR_000000000008&amp;nttId=75998\" onclick=\"javascript:fn_egov_inqire_notice('75998', 'BBSMSTR_000000000008'); return false;\">‘제7기(2014~2018) 지방의회백서’ 발간 </a>\n",
       " </div>\n",
       " </td>\n",
       " <td class=\"res_hide\">\n",
       " <img alt=\"첨부파일\" src=\"/images/board/icon_file.gif;jsessionid=7B-ogICuZvfpPBNEkJpDG-2M.node10\"/>\n",
       " </td>\n",
       " <td class=\"res_hide\">\n",
       " \t\t\t\t\t\t\t\t선거의회과\n",
       " \t\t\t\t\t\t\t</td>\n",
       " <td>\n",
       " \t\t\t\t\t\t\t\t2020.02.25.\n",
       " \t\t\t\t\t\t\t</td>\n",
       " <td class=\"res_hide\">\n",
       " \t\t\t\t\t\t\t\t200\n",
       " \t\t\t\t\t\t\t</td>\n",
       " </tr>, <tr>\n",
       " <td class=\"res_hide\">\n",
       " \t\t\t\t\t\t\t\t10617\n",
       " \t\t\t\t\t\t\t</td>\n",
       " <td class=\"l\">\n",
       " <div class=\"wrap\">\n",
       " <a href=\"/frt/bbs/type010/commonSelectBoardArticle.do;jsessionid=7B-ogICuZvfpPBNEkJpDG-2M.node10?bbsId=BBSMSTR_000000000008&amp;nttId=75994\" onclick=\"javascript:fn_egov_inqire_notice('75994', 'BBSMSTR_000000000008'); return false;\">정부청사, 코로나19 유입대비 출입강화, 집중방역 실시 </a>\n",
       " </div>\n",
       " </td>\n",
       " <td class=\"res_hide\">\n",
       " <img alt=\"첨부파일\" src=\"/images/board/icon_file.gif;jsessionid=7B-ogICuZvfpPBNEkJpDG-2M.node10\"/>\n",
       " </td>\n",
       " <td class=\"res_hide\">\n",
       " \t\t\t\t\t\t\t\t노사후생과\n",
       " \t\t\t\t\t\t\t</td>\n",
       " <td>\n",
       " \t\t\t\t\t\t\t\t2020.02.24.\n",
       " \t\t\t\t\t\t\t</td>\n",
       " <td class=\"res_hide\">\n",
       " \t\t\t\t\t\t\t\t468\n",
       " \t\t\t\t\t\t\t</td>\n",
       " </tr>, <tr>\n",
       " <td class=\"res_hide\">\n",
       " \t\t\t\t\t\t\t\t10616\n",
       " \t\t\t\t\t\t\t</td>\n",
       " <td class=\"l\">\n",
       " <div class=\"wrap\">\n",
       " <a href=\"/frt/bbs/type010/commonSelectBoardArticle.do;jsessionid=7B-ogICuZvfpPBNEkJpDG-2M.node10?bbsId=BBSMSTR_000000000008&amp;nttId=75961\" onclick=\"javascript:fn_egov_inqire_notice('75961', 'BBSMSTR_000000000008'); return false;\">소하천 토지변경 없으면, 점용허가 끝나도 원상복구 면제 </a>\n",
       " </div>\n",
       " </td>\n",
       " <td class=\"res_hide\">\n",
       " <img alt=\"첨부파일\" src=\"/images/board/icon_file.gif;jsessionid=7B-ogICuZvfpPBNEkJpDG-2M.node10\"/>\n",
       " </td>\n",
       " <td class=\"res_hide\">\n",
       " \t\t\t\t\t\t\t\t재난경감과\n",
       " \t\t\t\t\t\t\t</td>\n",
       " <td>\n",
       " \t\t\t\t\t\t\t\t2020.02.24.\n",
       " \t\t\t\t\t\t\t</td>\n",
       " <td class=\"res_hide\">\n",
       " \t\t\t\t\t\t\t\t347\n",
       " \t\t\t\t\t\t\t</td>\n",
       " </tr>, <tr>\n",
       " <td class=\"res_hide\">\n",
       " \t\t\t\t\t\t\t\t10615\n",
       " \t\t\t\t\t\t\t</td>\n",
       " <td class=\"l\">\n",
       " <div class=\"wrap\">\n",
       " <a href=\"/frt/bbs/type010/commonSelectBoardArticle.do;jsessionid=7B-ogICuZvfpPBNEkJpDG-2M.node10?bbsId=BBSMSTR_000000000008&amp;nttId=75960\" onclick=\"javascript:fn_egov_inqire_notice('75960', 'BBSMSTR_000000000008'); return false;\">각종 규제에 가로막힌 접경지역 발전에 올해 2,160억원 투자 </a>\n",
       " </div>\n",
       " </td>\n",
       " <td class=\"res_hide\">\n",
       " <img alt=\"첨부파일\" src=\"/images/board/icon_file.gif;jsessionid=7B-ogICuZvfpPBNEkJpDG-2M.node10\"/>\n",
       " </td>\n",
       " <td class=\"res_hide\">\n",
       " \t\t\t\t\t\t\t\t지역균형발전과\n",
       " \t\t\t\t\t\t\t</td>\n",
       " <td>\n",
       " \t\t\t\t\t\t\t\t2020.02.24.\n",
       " \t\t\t\t\t\t\t</td>\n",
       " <td class=\"res_hide\">\n",
       " \t\t\t\t\t\t\t\t512\n",
       " \t\t\t\t\t\t\t</td>\n",
       " </tr>, <tr>\n",
       " <td class=\"res_hide\">\n",
       " \t\t\t\t\t\t\t\t10614\n",
       " \t\t\t\t\t\t\t</td>\n",
       " <td class=\"l\">\n",
       " <div class=\"wrap\">\n",
       " <a href=\"/frt/bbs/type010/commonSelectBoardArticle.do;jsessionid=7B-ogICuZvfpPBNEkJpDG-2M.node10?bbsId=BBSMSTR_000000000008&amp;nttId=75954\" onclick=\"javascript:fn_egov_inqire_notice('75954', 'BBSMSTR_000000000008'); return false;\">행안부, 대한적십자사와 손잡고 일원화된 재난심리회복 체계 구축 </a>\n",
       " </div>\n",
       " </td>\n",
       " <td class=\"res_hide\">\n",
       " <img alt=\"첨부파일\" src=\"/images/board/icon_file.gif;jsessionid=7B-ogICuZvfpPBNEkJpDG-2M.node10\"/>\n",
       " </td>\n",
       " <td class=\"res_hide\">\n",
       " \t\t\t\t\t\t\t\t재난구호과\n",
       " \t\t\t\t\t\t\t</td>\n",
       " <td>\n",
       " \t\t\t\t\t\t\t\t2020.02.23.\n",
       " \t\t\t\t\t\t\t</td>\n",
       " <td class=\"res_hide\">\n",
       " \t\t\t\t\t\t\t\t473\n",
       " \t\t\t\t\t\t\t</td>\n",
       " </tr>, <tr>\n",
       " <td class=\"res_hide\">\n",
       " \t\t\t\t\t\t\t\t10613\n",
       " \t\t\t\t\t\t\t</td>\n",
       " <td class=\"l\">\n",
       " <div class=\"wrap\">\n",
       " <a href=\"/frt/bbs/type010/commonSelectBoardArticle.do;jsessionid=7B-ogICuZvfpPBNEkJpDG-2M.node10?bbsId=BBSMSTR_000000000008&amp;nttId=75983\" onclick=\"javascript:fn_egov_inqire_notice('75983', 'BBSMSTR_000000000008'); return false;\">행안부, 코로나19 확산에 따른 현장 대비상황 종합 점검 </a>\n",
       " </div>\n",
       " </td>\n",
       " <td class=\"res_hide\">\n",
       " <img alt=\"첨부파일\" src=\"/images/board/icon_file.gif;jsessionid=7B-ogICuZvfpPBNEkJpDG-2M.node10\"/>\n",
       " </td>\n",
       " <td class=\"res_hide\">\n",
       " \t\t\t\t\t\t\t\t안전기획과\n",
       " \t\t\t\t\t\t\t</td>\n",
       " <td>\n",
       " \t\t\t\t\t\t\t\t2020.02.22.\n",
       " \t\t\t\t\t\t\t</td>\n",
       " <td class=\"res_hide\">\n",
       " \t\t\t\t\t\t\t\t363\n",
       " \t\t\t\t\t\t\t</td>\n",
       " </tr>, <tr>\n",
       " <td class=\"res_hide\">\n",
       " \t\t\t\t\t\t\t\t10612\n",
       " \t\t\t\t\t\t\t</td>\n",
       " <td class=\"l\">\n",
       " <div class=\"wrap\">\n",
       " <a href=\"/frt/bbs/type010/commonSelectBoardArticle.do;jsessionid=7B-ogICuZvfpPBNEkJpDG-2M.node10?bbsId=BBSMSTR_000000000008&amp;nttId=75932\" onclick=\"javascript:fn_egov_inqire_notice('75932', 'BBSMSTR_000000000008'); return false;\">진영 장관, 코로나19 확산 방지에 전국 지자체 총력 대응 요청 </a>\n",
       " </div>\n",
       " </td>\n",
       " <td class=\"res_hide\">\n",
       " <img alt=\"첨부파일\" src=\"/images/board/icon_file.gif;jsessionid=7B-ogICuZvfpPBNEkJpDG-2M.node10\"/>\n",
       " </td>\n",
       " <td class=\"res_hide\">\n",
       " \t\t\t\t\t\t\t\t자치행정과\n",
       " \t\t\t\t\t\t\t</td>\n",
       " <td>\n",
       " \t\t\t\t\t\t\t\t2020.02.20.\n",
       " \t\t\t\t\t\t\t</td>\n",
       " <td class=\"res_hide\">\n",
       " \t\t\t\t\t\t\t\t2727\n",
       " \t\t\t\t\t\t\t</td>\n",
       " </tr>]"
      ]
     },
     "execution_count": 16,
     "metadata": {},
     "output_type": "execute_result"
    }
   ],
   "source": [
    "#doc type html 확인\n",
    "html = bs(response.content, 'html.parser')\n",
    "titles = html.select('.table_style1.mobile > tbody > tr')\n",
    "titles"
   ]
  },
  {
   "cell_type": "code",
   "execution_count": 17,
   "metadata": {},
   "outputs": [
    {
     "data": {
      "text/plain": [
       "'10621'"
      ]
     },
     "execution_count": 17,
     "metadata": {},
     "output_type": "execute_result"
    }
   ],
   "source": [
    "titles[0].select_one('td:nth-child(1)').text.strip()"
   ]
  },
  {
   "cell_type": "code",
   "execution_count": 18,
   "metadata": {},
   "outputs": [
    {
     "data": {
      "text/plain": [
       "'납세자보호관, 지방세 고충민원 해결사로 정착!'"
      ]
     },
     "execution_count": 18,
     "metadata": {},
     "output_type": "execute_result"
    }
   ],
   "source": [
    "titles[0].select_one('div').text.strip()"
   ]
  },
  {
   "cell_type": "code",
   "execution_count": 19,
   "metadata": {},
   "outputs": [
    {
     "data": {
      "text/plain": [
       "'지방세정책과'"
      ]
     },
     "execution_count": 19,
     "metadata": {},
     "output_type": "execute_result"
    }
   ],
   "source": [
    "titles[0].select_one('td:nth-child(4)').text.strip()"
   ]
  },
  {
   "cell_type": "code",
   "execution_count": 20,
   "metadata": {},
   "outputs": [
    {
     "data": {
      "text/plain": [
       "'2020.02.26.'"
      ]
     },
     "execution_count": 20,
     "metadata": {},
     "output_type": "execute_result"
    }
   ],
   "source": [
    "titles[0].select_one('td:nth-child(5)').text.strip()"
   ]
  },
  {
   "cell_type": "code",
   "execution_count": 21,
   "metadata": {},
   "outputs": [
    {
     "data": {
      "text/plain": [
       "'235'"
      ]
     },
     "execution_count": 21,
     "metadata": {},
     "output_type": "execute_result"
    }
   ],
   "source": [
    "titles[0].select_one('td:nth-child(6)').text.strip()"
   ]
  },
  {
   "cell_type": "code",
   "execution_count": 22,
   "metadata": {
    "scrolled": true
   },
   "outputs": [
    {
     "data": {
      "text/plain": [
       "'https://www.mois.go.kr/frt/bbs/type010/commonSelectBoardArticle.do;jsessionid=7B-ogICuZvfpPBNEkJpDG-2M.node10?bbsId=BBSMSTR_000000000008&nttId=76012'"
      ]
     },
     "execution_count": 22,
     "metadata": {},
     "output_type": "execute_result"
    }
   ],
   "source": [
    "domain = 'https://www.mois.go.kr'\n",
    "domain + titles[0].select_one('a').get('href')"
   ]
  },
  {
   "cell_type": "code",
   "execution_count": 23,
   "metadata": {},
   "outputs": [
    {
     "data": {
      "text/html": [
       "<div>\n",
       "<style scoped>\n",
       "    .dataframe tbody tr th:only-of-type {\n",
       "        vertical-align: middle;\n",
       "    }\n",
       "\n",
       "    .dataframe tbody tr th {\n",
       "        vertical-align: top;\n",
       "    }\n",
       "\n",
       "    .dataframe thead th {\n",
       "        text-align: right;\n",
       "    }\n",
       "</style>\n",
       "<table border=\"1\" class=\"dataframe\">\n",
       "  <thead>\n",
       "    <tr style=\"text-align: right;\">\n",
       "      <th></th>\n",
       "      <th>date</th>\n",
       "      <th>div</th>\n",
       "      <th>no</th>\n",
       "      <th>title</th>\n",
       "      <th>view</th>\n",
       "    </tr>\n",
       "  </thead>\n",
       "  <tbody>\n",
       "    <tr>\n",
       "      <th>0</th>\n",
       "      <td>2020.02.26.</td>\n",
       "      <td>지방세정책과</td>\n",
       "      <td>10621</td>\n",
       "      <td>납세자보호관, 지방세 고충민원 해결사로 정착!</td>\n",
       "      <td>235</td>\n",
       "    </tr>\n",
       "    <tr>\n",
       "      <th>1</th>\n",
       "      <td>2020.02.26.</td>\n",
       "      <td>재난관리정책과</td>\n",
       "      <td>10620</td>\n",
       "      <td>위기경보‘심각’발령에 따른 코로나19 긴급대책비 지원</td>\n",
       "      <td>836</td>\n",
       "    </tr>\n",
       "    <tr>\n",
       "      <th>2</th>\n",
       "      <td>2020.02.25.</td>\n",
       "      <td>예방안전과</td>\n",
       "      <td>10619</td>\n",
       "      <td>터널 안 교통사고, 최근 5년간 3,218건, 인명피해 7,472명</td>\n",
       "      <td>451</td>\n",
       "    </tr>\n",
       "    <tr>\n",
       "      <th>3</th>\n",
       "      <td>2020.02.25.</td>\n",
       "      <td>선거의회과</td>\n",
       "      <td>10618</td>\n",
       "      <td>‘제7기(2014~2018) 지방의회백서’ 발간</td>\n",
       "      <td>200</td>\n",
       "    </tr>\n",
       "    <tr>\n",
       "      <th>4</th>\n",
       "      <td>2020.02.24.</td>\n",
       "      <td>노사후생과</td>\n",
       "      <td>10617</td>\n",
       "      <td>정부청사, 코로나19 유입대비 출입강화, 집중방역 실시</td>\n",
       "      <td>468</td>\n",
       "    </tr>\n",
       "    <tr>\n",
       "      <th>5</th>\n",
       "      <td>2020.02.24.</td>\n",
       "      <td>재난경감과</td>\n",
       "      <td>10616</td>\n",
       "      <td>소하천 토지변경 없으면, 점용허가 끝나도 원상복구 면제</td>\n",
       "      <td>347</td>\n",
       "    </tr>\n",
       "    <tr>\n",
       "      <th>6</th>\n",
       "      <td>2020.02.24.</td>\n",
       "      <td>지역균형발전과</td>\n",
       "      <td>10615</td>\n",
       "      <td>각종 규제에 가로막힌 접경지역 발전에 올해 2,160억원 투자</td>\n",
       "      <td>512</td>\n",
       "    </tr>\n",
       "    <tr>\n",
       "      <th>7</th>\n",
       "      <td>2020.02.23.</td>\n",
       "      <td>재난구호과</td>\n",
       "      <td>10614</td>\n",
       "      <td>행안부, 대한적십자사와 손잡고 일원화된 재난심리회복 체계 구축</td>\n",
       "      <td>473</td>\n",
       "    </tr>\n",
       "    <tr>\n",
       "      <th>8</th>\n",
       "      <td>2020.02.22.</td>\n",
       "      <td>안전기획과</td>\n",
       "      <td>10613</td>\n",
       "      <td>행안부, 코로나19 확산에 따른 현장 대비상황 종합 점검</td>\n",
       "      <td>363</td>\n",
       "    </tr>\n",
       "    <tr>\n",
       "      <th>9</th>\n",
       "      <td>2020.02.20.</td>\n",
       "      <td>자치행정과</td>\n",
       "      <td>10612</td>\n",
       "      <td>진영 장관, 코로나19 확산 방지에 전국 지자체 총력 대응 요청</td>\n",
       "      <td>2727</td>\n",
       "    </tr>\n",
       "  </tbody>\n",
       "</table>\n",
       "</div>"
      ],
      "text/plain": [
       "          date      div     no                                  title  view\n",
       "0  2020.02.26.   지방세정책과  10621              납세자보호관, 지방세 고충민원 해결사로 정착!   235\n",
       "1  2020.02.26.  재난관리정책과  10620          위기경보‘심각’발령에 따른 코로나19 긴급대책비 지원   836\n",
       "2  2020.02.25.    예방안전과  10619  터널 안 교통사고, 최근 5년간 3,218건, 인명피해 7,472명   451\n",
       "3  2020.02.25.    선거의회과  10618             ‘제7기(2014~2018) 지방의회백서’ 발간   200\n",
       "4  2020.02.24.    노사후생과  10617         정부청사, 코로나19 유입대비 출입강화, 집중방역 실시   468\n",
       "5  2020.02.24.    재난경감과  10616         소하천 토지변경 없으면, 점용허가 끝나도 원상복구 면제   347\n",
       "6  2020.02.24.  지역균형발전과  10615     각종 규제에 가로막힌 접경지역 발전에 올해 2,160억원 투자   512\n",
       "7  2020.02.23.    재난구호과  10614     행안부, 대한적십자사와 손잡고 일원화된 재난심리회복 체계 구축   473\n",
       "8  2020.02.22.    안전기획과  10613        행안부, 코로나19 확산에 따른 현장 대비상황 종합 점검   363\n",
       "9  2020.02.20.    자치행정과  10612    진영 장관, 코로나19 확산 방지에 전국 지자체 총력 대응 요청  2727"
      ]
     },
     "execution_count": 23,
     "metadata": {},
     "output_type": "execute_result"
    }
   ],
   "source": [
    "data = []\n",
    "for title in titles:\n",
    "    data.append({\n",
    "    'no': title.select_one('td:nth-child(1)').text.strip(),\n",
    "    'title':title.select_one('div').text.strip(),\n",
    "    'div':title.select_one('td:nth-child(4)').text.strip(),\n",
    "    'date':title.select_one('td:nth-child(5)').text.strip(),\n",
    "    'view':title.select_one('td:nth-child(6)').text.strip()\n",
    "    })\n",
    "pd.DataFrame(data)"
   ]
  },
  {
   "cell_type": "code",
   "execution_count": 24,
   "metadata": {},
   "outputs": [],
   "source": [
    "# 함수화\n",
    "def get_news_moit(page):\n",
    "    \n",
    "\n",
    "    pages = range(1,page+1)\n",
    "    data = []\n",
    "    domain = 'https://www.mois.go.kr'\n",
    "    url = 'https://www.mois.go.kr/frt/bbs/type010/commonSelectBoardList.do?bbsId=BBSMSTR_000000000008'\n",
    "    for page in pages:\n",
    "        params = {\n",
    "            'nttId': 0,\n",
    "            'bbsTyCode': 'BBST03',\n",
    "            'bbsAttrbCode': 'BBSA03',\n",
    "            'authFlag': 'Y',\n",
    "            'pageIndex': page,\n",
    "            'cal_url': '/sym/cal/EgovNormalCalPopup.do',\n",
    "            'searchCnd': 0,\n",
    "            'searchWrd': ''\n",
    "        }\n",
    "        \n",
    "        response = requests.post(url, params)\n",
    "        html = bs(response.content, 'html.parser')\n",
    "        titles = html.select('.table_style1.mobile > tbody > tr')\n",
    "        \n",
    "        \n",
    "        for title in titles:\n",
    "            data.append({\n",
    "            'no': title.select_one('td:nth-child(1)').text.strip(),\n",
    "            'title':title.select_one('div').text.strip(),\n",
    "            'div':title.select_one('td:nth-child(4)').text.strip(),\n",
    "            'date':title.select_one('td:nth-child(5)').text.strip(),\n",
    "            'view':title.select_one('td:nth-child(6)').text.strip(),\n",
    "            'link': domain + title.select_one('a').get('href')\n",
    "            })\n",
    "    return pd.DataFrame(data)[['no','title','link', 'div','date','view']]"
   ]
  },
  {
   "cell_type": "code",
   "execution_count": 25,
   "metadata": {
    "scrolled": false
   },
   "outputs": [
    {
     "data": {
      "text/html": [
       "<div>\n",
       "<style scoped>\n",
       "    .dataframe tbody tr th:only-of-type {\n",
       "        vertical-align: middle;\n",
       "    }\n",
       "\n",
       "    .dataframe tbody tr th {\n",
       "        vertical-align: top;\n",
       "    }\n",
       "\n",
       "    .dataframe thead th {\n",
       "        text-align: right;\n",
       "    }\n",
       "</style>\n",
       "<table border=\"1\" class=\"dataframe\">\n",
       "  <thead>\n",
       "    <tr style=\"text-align: right;\">\n",
       "      <th></th>\n",
       "      <th>no</th>\n",
       "      <th>title</th>\n",
       "      <th>link</th>\n",
       "      <th>div</th>\n",
       "      <th>date</th>\n",
       "      <th>view</th>\n",
       "    </tr>\n",
       "  </thead>\n",
       "  <tbody>\n",
       "    <tr>\n",
       "      <th>0</th>\n",
       "      <td>10621</td>\n",
       "      <td>납세자보호관, 지방세 고충민원 해결사로 정착!</td>\n",
       "      <td>https://www.mois.go.kr/frt/bbs/type010/commonS...</td>\n",
       "      <td>지방세정책과</td>\n",
       "      <td>2020.02.26.</td>\n",
       "      <td>235</td>\n",
       "    </tr>\n",
       "    <tr>\n",
       "      <th>1</th>\n",
       "      <td>10620</td>\n",
       "      <td>위기경보‘심각’발령에 따른 코로나19 긴급대책비 지원</td>\n",
       "      <td>https://www.mois.go.kr/frt/bbs/type010/commonS...</td>\n",
       "      <td>재난관리정책과</td>\n",
       "      <td>2020.02.26.</td>\n",
       "      <td>836</td>\n",
       "    </tr>\n",
       "    <tr>\n",
       "      <th>2</th>\n",
       "      <td>10619</td>\n",
       "      <td>터널 안 교통사고, 최근 5년간 3,218건, 인명피해 7,472명</td>\n",
       "      <td>https://www.mois.go.kr/frt/bbs/type010/commonS...</td>\n",
       "      <td>예방안전과</td>\n",
       "      <td>2020.02.25.</td>\n",
       "      <td>451</td>\n",
       "    </tr>\n",
       "    <tr>\n",
       "      <th>3</th>\n",
       "      <td>10618</td>\n",
       "      <td>‘제7기(2014~2018) 지방의회백서’ 발간</td>\n",
       "      <td>https://www.mois.go.kr/frt/bbs/type010/commonS...</td>\n",
       "      <td>선거의회과</td>\n",
       "      <td>2020.02.25.</td>\n",
       "      <td>200</td>\n",
       "    </tr>\n",
       "    <tr>\n",
       "      <th>4</th>\n",
       "      <td>10617</td>\n",
       "      <td>정부청사, 코로나19 유입대비 출입강화, 집중방역 실시</td>\n",
       "      <td>https://www.mois.go.kr/frt/bbs/type010/commonS...</td>\n",
       "      <td>노사후생과</td>\n",
       "      <td>2020.02.24.</td>\n",
       "      <td>468</td>\n",
       "    </tr>\n",
       "    <tr>\n",
       "      <th>5</th>\n",
       "      <td>10616</td>\n",
       "      <td>소하천 토지변경 없으면, 점용허가 끝나도 원상복구 면제</td>\n",
       "      <td>https://www.mois.go.kr/frt/bbs/type010/commonS...</td>\n",
       "      <td>재난경감과</td>\n",
       "      <td>2020.02.24.</td>\n",
       "      <td>347</td>\n",
       "    </tr>\n",
       "    <tr>\n",
       "      <th>6</th>\n",
       "      <td>10615</td>\n",
       "      <td>각종 규제에 가로막힌 접경지역 발전에 올해 2,160억원 투자</td>\n",
       "      <td>https://www.mois.go.kr/frt/bbs/type010/commonS...</td>\n",
       "      <td>지역균형발전과</td>\n",
       "      <td>2020.02.24.</td>\n",
       "      <td>512</td>\n",
       "    </tr>\n",
       "    <tr>\n",
       "      <th>7</th>\n",
       "      <td>10614</td>\n",
       "      <td>행안부, 대한적십자사와 손잡고 일원화된 재난심리회복 체계 구축</td>\n",
       "      <td>https://www.mois.go.kr/frt/bbs/type010/commonS...</td>\n",
       "      <td>재난구호과</td>\n",
       "      <td>2020.02.23.</td>\n",
       "      <td>473</td>\n",
       "    </tr>\n",
       "    <tr>\n",
       "      <th>8</th>\n",
       "      <td>10613</td>\n",
       "      <td>행안부, 코로나19 확산에 따른 현장 대비상황 종합 점검</td>\n",
       "      <td>https://www.mois.go.kr/frt/bbs/type010/commonS...</td>\n",
       "      <td>안전기획과</td>\n",
       "      <td>2020.02.22.</td>\n",
       "      <td>363</td>\n",
       "    </tr>\n",
       "    <tr>\n",
       "      <th>9</th>\n",
       "      <td>10612</td>\n",
       "      <td>진영 장관, 코로나19 확산 방지에 전국 지자체 총력 대응 요청</td>\n",
       "      <td>https://www.mois.go.kr/frt/bbs/type010/commonS...</td>\n",
       "      <td>자치행정과</td>\n",
       "      <td>2020.02.20.</td>\n",
       "      <td>2727</td>\n",
       "    </tr>\n",
       "    <tr>\n",
       "      <th>10</th>\n",
       "      <td>10611</td>\n",
       "      <td>캠핑장 안전사고의 30.8%가 화상‧중독사고</td>\n",
       "      <td>https://www.mois.go.kr/frt/bbs/type010/commonS...</td>\n",
       "      <td>예방안전과</td>\n",
       "      <td>2020.02.20.</td>\n",
       "      <td>489</td>\n",
       "    </tr>\n",
       "    <tr>\n",
       "      <th>11</th>\n",
       "      <td>10610</td>\n",
       "      <td>전자증명서 발급・유통 홍보대사로 이순재, 김혜림 위촉</td>\n",
       "      <td>https://www.mois.go.kr/frt/bbs/type010/commonS...</td>\n",
       "      <td>행정정보공유과</td>\n",
       "      <td>2020.02.20.</td>\n",
       "      <td>2768</td>\n",
       "    </tr>\n",
       "    <tr>\n",
       "      <th>12</th>\n",
       "      <td>10609</td>\n",
       "      <td>행정안전부,「2019 재난안전산업 실태조사」결과 발표</td>\n",
       "      <td>https://www.mois.go.kr/frt/bbs/type010/commonS...</td>\n",
       "      <td>재난안전산업과</td>\n",
       "      <td>2020.02.20.</td>\n",
       "      <td>432</td>\n",
       "    </tr>\n",
       "    <tr>\n",
       "      <th>13</th>\n",
       "      <td>10608</td>\n",
       "      <td>정부, '지역 민생규제 혁신방안' 50건 발표</td>\n",
       "      <td>https://www.mois.go.kr/frt/bbs/type010/commonS...</td>\n",
       "      <td>지방규제혁신과</td>\n",
       "      <td>2020.02.20.</td>\n",
       "      <td>481</td>\n",
       "    </tr>\n",
       "    <tr>\n",
       "      <th>14</th>\n",
       "      <td>10607</td>\n",
       "      <td>코로나19 긴급대책비 재난안전 특교세 추가 지원</td>\n",
       "      <td>https://www.mois.go.kr/frt/bbs/type010/commonS...</td>\n",
       "      <td>재난관리정책과</td>\n",
       "      <td>2020.02.20.</td>\n",
       "      <td>534</td>\n",
       "    </tr>\n",
       "    <tr>\n",
       "      <th>15</th>\n",
       "      <td>10606</td>\n",
       "      <td>마을기업이 우리 마을을 살린다</td>\n",
       "      <td>https://www.mois.go.kr/frt/bbs/type010/commonS...</td>\n",
       "      <td>지역공동체과</td>\n",
       "      <td>2020.02.19.</td>\n",
       "      <td>541</td>\n",
       "    </tr>\n",
       "    <tr>\n",
       "      <th>16</th>\n",
       "      <td>10605</td>\n",
       "      <td>정부, 올해 미군기지 주변지역 개발 1조 3천억원 투입</td>\n",
       "      <td>https://www.mois.go.kr/frt/bbs/type010/commonS...</td>\n",
       "      <td>지역균형발전과</td>\n",
       "      <td>2020.02.19.</td>\n",
       "      <td>608</td>\n",
       "    </tr>\n",
       "    <tr>\n",
       "      <th>17</th>\n",
       "      <td>10604</td>\n",
       "      <td>전국 지자체, 올해 소방·복지직 등 지방공무원 3만2,042명 채용</td>\n",
       "      <td>https://www.mois.go.kr/frt/bbs/type010/commonS...</td>\n",
       "      <td>지방인사제도과</td>\n",
       "      <td>2020.02.19.</td>\n",
       "      <td>726</td>\n",
       "    </tr>\n",
       "    <tr>\n",
       "      <th>18</th>\n",
       "      <td>10603</td>\n",
       "      <td>행안부, 코로나19로 위축된 지역경제 살리기 총력 대응 추진</td>\n",
       "      <td>https://www.mois.go.kr/frt/bbs/type010/commonS...</td>\n",
       "      <td>지역일자리경제과</td>\n",
       "      <td>2020.02.19.</td>\n",
       "      <td>563</td>\n",
       "    </tr>\n",
       "    <tr>\n",
       "      <th>19</th>\n",
       "      <td>10602</td>\n",
       "      <td>행정안전부, 혈액공급부족 상황에 단체 헌혈</td>\n",
       "      <td>https://www.mois.go.kr/frt/bbs/type010/commonS...</td>\n",
       "      <td>운영지원과</td>\n",
       "      <td>2020.02.19.</td>\n",
       "      <td>220</td>\n",
       "    </tr>\n",
       "  </tbody>\n",
       "</table>\n",
       "</div>"
      ],
      "text/plain": [
       "       no                                  title  \\\n",
       "0   10621              납세자보호관, 지방세 고충민원 해결사로 정착!   \n",
       "1   10620          위기경보‘심각’발령에 따른 코로나19 긴급대책비 지원   \n",
       "2   10619  터널 안 교통사고, 최근 5년간 3,218건, 인명피해 7,472명   \n",
       "3   10618             ‘제7기(2014~2018) 지방의회백서’ 발간   \n",
       "4   10617         정부청사, 코로나19 유입대비 출입강화, 집중방역 실시   \n",
       "5   10616         소하천 토지변경 없으면, 점용허가 끝나도 원상복구 면제   \n",
       "6   10615     각종 규제에 가로막힌 접경지역 발전에 올해 2,160억원 투자   \n",
       "7   10614     행안부, 대한적십자사와 손잡고 일원화된 재난심리회복 체계 구축   \n",
       "8   10613        행안부, 코로나19 확산에 따른 현장 대비상황 종합 점검   \n",
       "9   10612    진영 장관, 코로나19 확산 방지에 전국 지자체 총력 대응 요청   \n",
       "10  10611               캠핑장 안전사고의 30.8%가 화상‧중독사고   \n",
       "11  10610          전자증명서 발급・유통 홍보대사로 이순재, 김혜림 위촉   \n",
       "12  10609          행정안전부,「2019 재난안전산업 실태조사」결과 발표   \n",
       "13  10608              정부, '지역 민생규제 혁신방안' 50건 발표   \n",
       "14  10607             코로나19 긴급대책비 재난안전 특교세 추가 지원   \n",
       "15  10606                       마을기업이 우리 마을을 살린다   \n",
       "16  10605         정부, 올해 미군기지 주변지역 개발 1조 3천억원 투입   \n",
       "17  10604  전국 지자체, 올해 소방·복지직 등 지방공무원 3만2,042명 채용   \n",
       "18  10603      행안부, 코로나19로 위축된 지역경제 살리기 총력 대응 추진   \n",
       "19  10602                행정안전부, 혈액공급부족 상황에 단체 헌혈   \n",
       "\n",
       "                                                 link       div         date  \\\n",
       "0   https://www.mois.go.kr/frt/bbs/type010/commonS...    지방세정책과  2020.02.26.   \n",
       "1   https://www.mois.go.kr/frt/bbs/type010/commonS...   재난관리정책과  2020.02.26.   \n",
       "2   https://www.mois.go.kr/frt/bbs/type010/commonS...     예방안전과  2020.02.25.   \n",
       "3   https://www.mois.go.kr/frt/bbs/type010/commonS...     선거의회과  2020.02.25.   \n",
       "4   https://www.mois.go.kr/frt/bbs/type010/commonS...     노사후생과  2020.02.24.   \n",
       "5   https://www.mois.go.kr/frt/bbs/type010/commonS...     재난경감과  2020.02.24.   \n",
       "6   https://www.mois.go.kr/frt/bbs/type010/commonS...   지역균형발전과  2020.02.24.   \n",
       "7   https://www.mois.go.kr/frt/bbs/type010/commonS...     재난구호과  2020.02.23.   \n",
       "8   https://www.mois.go.kr/frt/bbs/type010/commonS...     안전기획과  2020.02.22.   \n",
       "9   https://www.mois.go.kr/frt/bbs/type010/commonS...     자치행정과  2020.02.20.   \n",
       "10  https://www.mois.go.kr/frt/bbs/type010/commonS...     예방안전과  2020.02.20.   \n",
       "11  https://www.mois.go.kr/frt/bbs/type010/commonS...   행정정보공유과  2020.02.20.   \n",
       "12  https://www.mois.go.kr/frt/bbs/type010/commonS...   재난안전산업과  2020.02.20.   \n",
       "13  https://www.mois.go.kr/frt/bbs/type010/commonS...   지방규제혁신과  2020.02.20.   \n",
       "14  https://www.mois.go.kr/frt/bbs/type010/commonS...   재난관리정책과  2020.02.20.   \n",
       "15  https://www.mois.go.kr/frt/bbs/type010/commonS...    지역공동체과  2020.02.19.   \n",
       "16  https://www.mois.go.kr/frt/bbs/type010/commonS...   지역균형발전과  2020.02.19.   \n",
       "17  https://www.mois.go.kr/frt/bbs/type010/commonS...   지방인사제도과  2020.02.19.   \n",
       "18  https://www.mois.go.kr/frt/bbs/type010/commonS...  지역일자리경제과  2020.02.19.   \n",
       "19  https://www.mois.go.kr/frt/bbs/type010/commonS...     운영지원과  2020.02.19.   \n",
       "\n",
       "    view  \n",
       "0    235  \n",
       "1    836  \n",
       "2    451  \n",
       "3    200  \n",
       "4    468  \n",
       "5    347  \n",
       "6    512  \n",
       "7    473  \n",
       "8    363  \n",
       "9   2727  \n",
       "10   489  \n",
       "11  2768  \n",
       "12   432  \n",
       "13   481  \n",
       "14   534  \n",
       "15   541  \n",
       "16   608  \n",
       "17   726  \n",
       "18   563  \n",
       "19   220  "
      ]
     },
     "execution_count": 25,
     "metadata": {},
     "output_type": "execute_result"
    }
   ],
   "source": [
    "# pd.set_option('display.max_colwidth',-1)\n",
    "get_news_moit(2)"
   ]
  },
  {
   "cell_type": "markdown",
   "metadata": {},
   "source": [
    "### Selenium\n",
    "- 브라우저를 직접 실행하여 자동화하고 브라우저상에 있는 데이터를 수집\n",
    "- 웹 테스트 자동화를 위해 만들어짐\n",
    "- 다양한 브라우저와 언어 지원"
   ]
  },
  {
   "cell_type": "markdown",
   "metadata": {},
   "source": [
    "#### 설정\n",
    "- chrome driver 설정\n",
    "    - 크롬 드라이버 다운로드\n",
    "    - 본인 컴퓨터에 맞는 드라이버 버전을 설치\n",
    "    - 사용중인 주피터 노트북과 같은 경로에 드라이버 업로드\n",
    "        - 글로벌 설정\n",
    "            - 환경변수 추가\n",
    "            - 내컴퓨터 -속성 -고급시스템설정 -환경변수\n",
    "            - 크롬드라이버의 path를 추가한다.\n",
    "- selenium python package 설치\n",
    "    - sudo pip install selenium"
   ]
  },
  {
   "cell_type": "code",
   "execution_count": 26,
   "metadata": {},
   "outputs": [],
   "source": [
    "from selenium import webdriver"
   ]
  },
  {
   "cell_type": "code",
   "execution_count": 27,
   "metadata": {},
   "outputs": [],
   "source": [
    "driver = webdriver.Chrome()"
   ]
  },
  {
   "cell_type": "code",
   "execution_count": 42,
   "metadata": {},
   "outputs": [],
   "source": [
    "#페이지 조정\n",
    "driver.get('https://comic.naver.com')"
   ]
  },
  {
   "cell_type": "code",
   "execution_count": 43,
   "metadata": {},
   "outputs": [],
   "source": [
    "#윈도우 사이즈 조절\n",
    "driver.set_window_size(3000, 3000)"
   ]
  },
  {
   "cell_type": "markdown",
   "metadata": {},
   "source": [
    "- `driver.excute_script('JavaScriptcode')`\n",
    "- 셀레니움은 화면에 있는 부분에 대해서만 click event를 실행할 수 있기 때문에 창조절과 스크롤 이동이 필요함"
   ]
  },
  {
   "cell_type": "code",
   "execution_count": 44,
   "metadata": {},
   "outputs": [],
   "source": [
    "#스크롤 위치 조절\n",
    "driver.execute_script('window.scrollTo(100, 20);') "
   ]
  },
  {
   "cell_type": "code",
   "execution_count": 45,
   "metadata": {},
   "outputs": [],
   "source": [
    "#alert 다루기 (경고창)\n",
    "driver.execute_script(\"alert('FastCampus!!')\") "
   ]
  },
  {
   "cell_type": "code",
   "execution_count": 46,
   "metadata": {},
   "outputs": [],
   "source": [
    "#경고창, 팝업 등 확인 누르기\n",
    "alert = driver.switch_to.alert\n",
    "alert.accept()"
   ]
  },
  {
   "attachments": {
    "image.png": {
     "image/png": "[encoded data removed]"
    }
   },
   "cell_type": "markdown",
   "metadata": {},
   "source": [
    "- 새로운 문자열이 입력되는것이 아니라 추가로 문자열이 입력됨\n",
    "![image.png](attachment:image.png)"
   ]
  },
  {
   "attachments": {
    "image.png": {
     "image/png": "[encoded data removed]"
    }
   },
   "cell_type": "markdown",
   "metadata": {},
   "source": [
    "![image.png](attachment:image.png)"
   ]
  },
  {
   "cell_type": "code",
   "execution_count": 47,
   "metadata": {},
   "outputs": [],
   "source": [
    "#비우고 검색어 헬퍼\n",
    "driver.find_element_by_css_selector('div.snb_search_box_sub > input.snb_search_text').clear()\n",
    "driver.find_element_by_css_selector('div.snb_search_box_sub > input.snb_search_text').send_keys('헬퍼')\n",
    "driver.find_element_by_css_selector('div.snb_search_box_sub > .btn_search').click()\n",
    "# 버튼 클릭하기\n",
    "# driver.find_element_by_css_selector('.snb_search_box > .btn_search').click()"
   ]
  },
  {
   "cell_type": "code",
   "execution_count": 48,
   "metadata": {},
   "outputs": [],
   "source": [
    "driver.find_element_by_css_selector('div.snb_search_box_sub > .btn_search').click()"
   ]
  },
  {
   "cell_type": "code",
   "execution_count": 49,
   "metadata": {},
   "outputs": [],
   "source": [
    "# 브라우저종료\n",
    "driver.quit()"
   ]
  },
  {
   "cell_type": "markdown",
   "metadata": {},
   "source": [
    "### Darksky API 키 재발급 자동화"
   ]
  },
  {
   "cell_type": "code",
   "execution_count": 38,
   "metadata": {},
   "outputs": [],
   "source": [
    "#브라우저열기\n",
    "driver = webdriver.Chrome()\n"
   ]
  },
  {
   "cell_type": "code",
   "execution_count": 39,
   "metadata": {},
   "outputs": [],
   "source": [
    "#로그인 페이지 이동\n",
    "driver.get('https://darksky.net/dev/login')\n",
    "email = 'youremail'\n",
    "pw = 'yourpwd'\n"
   ]
  },
  {
   "cell_type": "code",
   "execution_count": null,
   "metadata": {},
   "outputs": [],
   "source": [
    "#이메일, 패스워드 입력\n",
    "driver.find_element_by_css_selector('#email').send_keys(email)\n",
    "driver.find_element_by_css_selector('#password').send_keys(pw)\n"
   ]
  },
  {
   "cell_type": "code",
   "execution_count": null,
   "metadata": {},
   "outputs": [],
   "source": [
    "#로그인 버튼 클릭\n",
    "driver.find_element_by_css_selector('div.form-last > button[type = \"submit\"]').click()"
   ]
  },
  {
   "cell_type": "code",
   "execution_count": null,
   "metadata": {},
   "outputs": [],
   "source": [
    "#리셋 시크릿 버튼 클릭\n",
    "driver.find_element_by_css_selector('.reset-key').click()"
   ]
  },
  {
   "cell_type": "code",
   "execution_count": null,
   "metadata": {},
   "outputs": [],
   "source": [
    "# alert 확인 누르기\n",
    "alert = driver.switch_to.alert\n",
    "alert.accept()"
   ]
  },
  {
   "cell_type": "code",
   "execution_count": null,
   "metadata": {},
   "outputs": [],
   "source": [
    "#바뀐 키값 가져오기\n",
    "new_key = driver.find_element_by_css_selector('#api-key')\\\n",
    ".get_attribute('value')\n",
    "\n",
    "new_key\n"
   ]
  },
  {
   "cell_type": "code",
   "execution_count": null,
   "metadata": {},
   "outputs": [],
   "source": [
    "#브라우져 종료\n",
    "driver.quit()"
   ]
  },
  {
   "cell_type": "code",
   "execution_count": null,
   "metadata": {},
   "outputs": [],
   "source": [
    "#함수화 \n",
    "def renew_darksky_key():\n",
    "    email = input('Insert email: ')\n",
    "    pw = input('Insert pwd: ')\n",
    "    driver = webdriver.Chrome()\n",
    "    driver.get('https://darksky.net/dev/login')\n",
    "    \n",
    "    driver.find_element_by_css_selector('#email').send_keys(email)\n",
    "    driver.find_element_by_css_selector('#password').send_keys(pw)\n",
    "    driver.find_element_by_css_selector('div.form-last > button[type = \"submit\"]').click()\n",
    "    driver.find_element_by_css_selector('.reset-key').click()\n",
    "    alert = driver.switch_to.alert\n",
    "    alert.accept()\n",
    "    \n",
    "    new_key = driver.find_element_by_css_selector('#api-key').get_attribute('value')\n",
    "    print('Your new API key is ...')\n",
    "    driver.quit()\n",
    "    return new_key"
   ]
  },
  {
   "cell_type": "markdown",
   "metadata": {},
   "source": [
    "### 네이버 기사 제목 크롤링\n",
    "- selenium을 이용한 텍스트 데이터 수집\n",
    "- thread 이용한 데이터 수집 (더 빠른 크롤링이 가능하다)\n",
    "    - request 후 IDLE 타임을 활용해 다음 request를 보낸다"
   ]
  },
  {
   "cell_type": "code",
   "execution_count": null,
   "metadata": {},
   "outputs": [],
   "source": [
    "date = 20200226\n",
    "page = 2\n",
    "url ='https://news.naver.com/main/list.nhn?mode=LSD&mid=sec&sid1=100&date={}&page={}'.format(date, page)"
   ]
  },
  {
   "cell_type": "code",
   "execution_count": null,
   "metadata": {},
   "outputs": [],
   "source": [
    "driver = webdriver.Chrome()\n",
    "driver.get(url)"
   ]
  },
  {
   "cell_type": "code",
   "execution_count": null,
   "metadata": {},
   "outputs": [],
   "source": [
    "articles = driver.find_elements_by_css_selector('.list_body.newsflash_body li')\n",
    "len(articles)"
   ]
  },
  {
   "cell_type": "code",
   "execution_count": null,
   "metadata": {},
   "outputs": [],
   "source": [
    "articles[0].find_element_by_css_selector('dt:not(.photo) > a').text"
   ]
  },
  {
   "cell_type": "code",
   "execution_count": null,
   "metadata": {},
   "outputs": [],
   "source": [
    "data = []\n",
    "for article in articles:\n",
    "    title = article.find_element_by_css_selector('dt:not(.photo) > a').text\n",
    "    data.append(title)\n",
    "data"
   ]
  },
  {
   "cell_type": "code",
   "execution_count": null,
   "metadata": {},
   "outputs": [],
   "source": [
    "driver.quit()\n"
   ]
  },
  {
   "cell_type": "code",
   "execution_count": null,
   "metadata": {},
   "outputs": [],
   "source": [
    "import datetime\n",
    "now = datetime.datetime.now()\n",
    "now"
   ]
  },
  {
   "cell_type": "code",
   "execution_count": null,
   "metadata": {},
   "outputs": [],
   "source": [
    "import datetime\n",
    "# 함수화\n",
    "\n",
    "article_list = []\n",
    "def get_naver_article(page):\n",
    "    date = str(datetime.datetime.now().year) + '0'+str(datetime.datetime.now().month) + str(datetime.datetime.now().day)\n",
    "    url ='https://news.naver.com/main/list.nhn?mode=LSD&mid=sec&sid1=100&date={}&page={}'.format(date, page)\n",
    "    \n",
    "    driver = webdriver.Chrome()\n",
    "    driver.get(url)\n",
    "    \n",
    "    articles = driver.find_elements_by_css_selector('.list_body.newsflash_body li')\n",
    "    articles[0].find_element_by_css_selector('dt:not(.photo) > a').text\n",
    "    \n",
    "\n",
    "    \n",
    "    for article in articles:\n",
    "        title = article.find_element_by_css_selector('dt:not(.photo) > a').text\n",
    "        article_list.append(title)\n",
    "    print('crawling : {}'.format(page))\n",
    "    driver.quit()\n",
    "    \n"
   ]
  },
  {
   "cell_type": "code",
   "execution_count": null,
   "metadata": {},
   "outputs": [],
   "source": [
    "%%time\n",
    "for page in range(1,5):\n",
    "    get_naver_article(page)\n"
   ]
  },
  {
   "cell_type": "code",
   "execution_count": null,
   "metadata": {},
   "outputs": [],
   "source": [
    "article_list"
   ]
  },
  {
   "cell_type": "markdown",
   "metadata": {},
   "source": [
    "### thread 사용"
   ]
  },
  {
   "cell_type": "code",
   "execution_count": null,
   "metadata": {},
   "outputs": [],
   "source": [
    "import threading"
   ]
  },
  {
   "cell_type": "code",
   "execution_count": null,
   "metadata": {},
   "outputs": [],
   "source": [
    "# 다수의 브라우저를 띄워서 한번에 처리한다. 내 컴퓨터에선 좀 힘들어하겠구나 hahaha\n",
    "article_list = []\n",
    "for page in range(1,5):\n",
    "    th = threading.Thread(target = get_naver_article, args = (page,))\n",
    "    th.start()"
   ]
  },
  {
   "cell_type": "code",
   "execution_count": null,
   "metadata": {},
   "outputs": [],
   "source": [
    "import time\n",
    "sec = 0\n",
    "while len(article_list) < 80:\n",
    "    time.sleep(1)\n",
    "    sec += 1\n",
    "    print(sec, end = ' ')"
   ]
  },
  {
   "cell_type": "code",
   "execution_count": null,
   "metadata": {},
   "outputs": [],
   "source": [
    "article_list"
   ]
  },
  {
   "cell_type": "code",
   "execution_count": null,
   "metadata": {},
   "outputs": [],
   "source": []
  },
  {
   "cell_type": "code",
   "execution_count": null,
   "metadata": {},
   "outputs": [],
   "source": []
  },
  {
   "cell_type": "markdown",
   "metadata": {},
   "source": [
    "### 개시크\n",
    "- https://shopping.naver.com/pet/stores/100150961?NaPm=ct=k739vpf1|ci=checkout|tr=ds|trx=|hk=6ca55006cf936186f191fdab3ea6c553efb011ac"
   ]
  },
  {
   "cell_type": "code",
   "execution_count": null,
   "metadata": {},
   "outputs": [],
   "source": [
    "table = []\n",
    "def get_gaechic(page, num):\n",
    "    \n",
    "    url = 'https://shopping.naver.com/v1/products?\\\n",
    "_nc_=1582642800000&subVertical=PET&page={}&pageSize={}\\\n",
    "&sort=RECENT&displayType=CATEGORY_HOME&includeZzim=true&includeViewCount=false&includeStoreCardInfo=false&includeStockQuantity=false&includeBrandInfo=false&includeBrandLogoImage=false&includeRepresentativeReview=false&includeListCardAttribute=false&includeRanking=false&includeRankingByMenus=false&includeStoreCategoryName=false&storeId=100150961&standardSizeKeys=&standardColorKeys=&optionFilters=&attributeValueIds=&attributeValueIdsAll=&certifications='\\\n",
    "    .format(page, num)\n",
    "    \n",
    "    response = requests.get(url)\n",
    "    result = response.json()['products']\n",
    "    \n",
    "    \n",
    "    for product in result:\n",
    "        table.append({\n",
    "            'ID': product['naverShoppingCategory']['_id'],\n",
    "            'Name' : product['name'],\n",
    "            'Price' : product['mobileDiscountPrice'],\n",
    "            'Detail' : product['contentText'],\n",
    "            'Star' : product['averageReviewScore']\n",
    "            \n",
    "        })\n",
    "    \n",
    "    pass"
   ]
  },
  {
   "cell_type": "code",
   "execution_count": null,
   "metadata": {
    "scrolled": true
   },
   "outputs": [],
   "source": [
    "table = []\n",
    "for i in range(1,5):\n",
    "    get_gaechic(i,50)\n",
    "pd.DataFrame(table)[['ID','Name','Price','Star','Price']]"
   ]
  },
  {
   "cell_type": "markdown",
   "metadata": {},
   "source": [
    "### - Pickle\n",
    "- 객체를 파일로 저장할 때 직렬화라는 과정을 통해 저장한다\n",
    "    - 직렬화\n",
    "        - 객체의 데이터타입과, 저장되는 파일의 데이터타입은 다르다\n",
    "        - 객체의 타입을 하드디스크에 저장되는 타입으로 변경하는 작업을 뜻함\n",
    "- 장점: 파일을 읽고 저장하는 속도가 빠르다\n"
   ]
  },
  {
   "cell_type": "code",
   "execution_count": 54,
   "metadata": {},
   "outputs": [],
   "source": [
    "import pickle"
   ]
  },
  {
   "cell_type": "code",
   "execution_count": 55,
   "metadata": {},
   "outputs": [],
   "source": [
    "class A:\n",
    "    \n",
    "    def __init__(self,data):\n",
    "        self.data = data\n",
    "        \n",
    "    def disp(self):\n",
    "        print(self.data)\n",
    "        "
   ]
  },
  {
   "cell_type": "code",
   "execution_count": 56,
   "metadata": {},
   "outputs": [
    {
     "data": {
      "text/plain": [
       "<__main__.A at 0x2c2111f79b0>"
      ]
     },
     "execution_count": 56,
     "metadata": {},
     "output_type": "execute_result"
    }
   ],
   "source": [
    "obj = A('pickle test')\n",
    "obj"
   ]
  },
  {
   "cell_type": "code",
   "execution_count": 57,
   "metadata": {},
   "outputs": [],
   "source": [
    "# 객체 저장하기\n",
    "with open('obj.pkl', 'wb') as f:\n",
    "#     f.write()\n",
    "    pickle.dump(obj, f)"
   ]
  },
  {
   "cell_type": "code",
   "execution_count": 62,
   "metadata": {},
   "outputs": [],
   "source": [
    "# 객체 불러오기\n",
    "with open('obj.pkl', 'rb') as f:\n",
    "    load_obj = pickle.load(f)"
   ]
  },
  {
   "cell_type": "code",
   "execution_count": 63,
   "metadata": {},
   "outputs": [
    {
     "data": {
      "text/plain": [
       "<__main__.A at 0x2c2111f7780>"
      ]
     },
     "execution_count": 63,
     "metadata": {},
     "output_type": "execute_result"
    }
   ],
   "source": [
    "load_obj"
   ]
  }
 ],
 "metadata": {
  "kernelspec": {
   "display_name": "Python [conda env:tensorflow]",
   "language": "python",
   "name": "conda-env-tensorflow-py"
  },
  "language_info": {
   "codemirror_mode": {
    "name": "ipython",
    "version": 3
   },
   "file_extension": ".py",
   "mimetype": "text/x-python",
   "name": "python",
   "nbconvert_exporter": "python",
   "pygments_lexer": "ipython3",
   "version": "3.5.5"
  }
 },
 "nbformat": 4,
 "nbformat_minor": 2
}
