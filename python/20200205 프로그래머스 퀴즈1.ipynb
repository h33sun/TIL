{
 "cells": [
  {
   "cell_type": "markdown",
   "metadata": {},
   "source": [
    "### 문제1.\n",
    "- 참조 : https://programmers.co.kr/learn/courses/30/lessons/42576"
   ]
  },
  {
   "cell_type": "markdown",
   "metadata": {},
   "source": [
    "### - 조건\n",
    "#### - 마라톤 참가자 그룹과 완주 그룹을 비교해서 중도 포기 인원을 체크하는 문제\n",
    "#### - 항상 len(참가자) = len(완주자) + 1\n",
    "#### - 동명이인이 있을 수 있다.\n",
    "\n",
    "### - 풀이1 \n",
    "    - 동명이인이 아닌 경우 : not in completion을 조건으로 추려냈다.\n",
    "    - 첫번째 조건문에서 동명이인과 실제 완주한 사람이 걸러지지 않았다.\n",
    "     \n",
    "    - 걸러지지 않은 사람/ 참가자 중 첫번째 사람을 검사 후보로 지정\n",
    "    - 후보가 완주그룹에 있다면(통과, 그리고 참가/완주 그룹에서 삭제) : 실제 완주자는 삭제되지만 동명이인은 삭제되지 않고 남는다.\n",
    "    - 반복. 마지막까지 통과되지 않고 남은 사람이 중도 포기자\n",
    "\n",
    "### - 문제점\n",
    "    - 정답은 모두 맞췄지만 time complexity라는 조건에 걸렸다.\n",
    "    - 코드의 효율성이 떨어진다는 판정을 받았는데 어느 부분에서 문제가 발생했는지 몰라 time complexity를 검색\n",
    "    - for문과 remove를 같이 쓰면 O(n*n)이 되기 때문에 효율성이 크게 저하된다는 사실을 알았다."
   ]
  },
  {
   "cell_type": "code",
   "execution_count": 671,
   "metadata": {},
   "outputs": [],
   "source": [
    "def solution(participant,completion):\n",
    "    for name in participant:\n",
    "        if name not in participant:\n",
    "            answer = name\n",
    "        \n",
    "        # check1 : 완료에 이름이 있다. 통과 (그리고 삭제)\n",
    "#         print(name)     \n",
    "        for i in range(len(participant)-1):\n",
    "            candidate = participant[0] \n",
    "            if candidate in completion:\n",
    "                participant.remove(candidate)\n",
    "                completion.remove(candidate)\n",
    "                print(participant)\n",
    "                print(completion)\n",
    "        answer = participant[0]\n",
    "        # check2 : 완료에 이름이 없다.\n",
    "#     print(answer)\n",
    "    return answer\n",
    "        "
   ]
  },
  {
   "cell_type": "code",
   "execution_count": 672,
   "metadata": {
    "scrolled": true
   },
   "outputs": [
    {
     "name": "stdout",
     "output_type": "stream",
     "text": [
      "['stanko', 'mislav', 'ana', 'mislav']\n",
      "['ana', 'stanko', 'mislav']\n",
      "['mislav', 'ana', 'mislav']\n",
      "['ana', 'mislav']\n",
      "['ana', 'mislav']\n",
      "['ana']\n",
      "['mislav']\n",
      "[]\n"
     ]
    },
    {
     "data": {
      "text/plain": [
       "'mislav'"
      ]
     },
     "execution_count": 672,
     "metadata": {},
     "output_type": "execute_result"
    }
   ],
   "source": [
    "participant = ['mislav',\"stanko\", \"mislav\", \"ana\",'mislav']\n",
    "completion = ['ana',\"stanko\", 'mislav', \"mislav\"]\n",
    "solution(participant,completion)"
   ]
  },
  {
   "cell_type": "markdown",
   "metadata": {},
   "source": [
    "### 해결책\n",
    "- 이전 방법에서 검사를 진행할 때 iteration 때문에 계속해서 for문을 돌려야 했다.\n",
    "- 강제적으로 idx를 맞출 수 있으면 검사는 편리할 것\n",
    "- 참가자와 완주자 그룹의 길이가 항상 1만 차이 나기 때문에 sort를 해서 줄을 예쁘게 세운다.\n",
    "\n",
    "- 포기자를 제외하고 모든 순서가 동일한 두 줄에서 같은 순서에 서있는 사람이 다르다면? 그는 포기자\n",
    "- 만약 마지막까지 다 돌았는데도 포기자가 안나온다면 마지막 완주자 뒤의 자리에 서있는 참가자가 포기자\n",
    "\n",
    "- 이 문제를 풀려고 약 400번 이상의 실행을 했다. 후욱후욱\n"
   ]
  },
  {
   "cell_type": "code",
   "execution_count": 683,
   "metadata": {},
   "outputs": [],
   "source": [
    "participant = [\"stanko\", \"mislav\", \"ana\",'ze']\n",
    "completion = [\"stanko\", \"mislav\", 'ana']\n",
    "\n",
    "def solution(participant, completion):\n",
    "    participant.sort()\n",
    "    completion.sort()\n",
    "    \n",
    "    print('줄을 섭니다. \\n 왼쪽은 참가자 오른쪽은 완주자')\n",
    "    for i in range(len(completion)):\n",
    "\n",
    "        \n",
    "        print(i, ' ',participant[i],completion[i])\n",
    "        if participant[i] != completion[i]:\n",
    "\n",
    "            return participant[i]\n",
    "        \n",
    "    return participant[-1]"
   ]
  },
  {
   "cell_type": "code",
   "execution_count": 682,
   "metadata": {
    "scrolled": true
   },
   "outputs": [
    {
     "name": "stdout",
     "output_type": "stream",
     "text": [
      "줄을 섭니다. \n",
      " 왼쪽은 참가자 오른쪽은 완주자\n",
      "0   ana ana\n",
      "1   mislav mislav\n",
      "2   stanko stanko\n"
     ]
    },
    {
     "data": {
      "text/plain": [
       "'ze'"
      ]
     },
     "execution_count": 682,
     "metadata": {},
     "output_type": "execute_result"
    }
   ],
   "source": [
    "solution(participant,completion)"
   ]
  },
  {
   "cell_type": "markdown",
   "metadata": {},
   "source": [
    "# 문제2. \n",
    "- 참조 : https://programmers.co.kr/learn/courses/30/lessons/42840\n",
    "- 일정한 패턴으로 답을 찍는 수포자 3명\n",
    "- 각자 모두가 자신의 패턴을 계속 반복할 때 '우연히' 답을 가장 많이 맞춘 사람을 수포자로 return\n",
    "- 만약 동일한 개수를 맞췄다면 수포1,수포2 식으로 오름차순으로 return 할 것"
   ]
  },
  {
   "cell_type": "markdown",
   "metadata": {},
   "source": [
    "- 문제는 최대 10000 문제\n",
    "- a1의 패턴은 길이가 5, a2는 8, a3는 10이었다.\n",
    "- 최대 만문제에 대비해, 최소공배수인 길이 40의 패턴을 만들고 250배를 했다.\n",
    "- 정답지와 비교해서 맞으면 True, False를 반환하고 이 개수를 확인한다.\n",
    "- 마지막 성적표에서 수포자1,2,3과 max(성적)이 같으면 수포자로 선언"
   ]
  },
  {
   "cell_type": "code",
   "execution_count": 693,
   "metadata": {},
   "outputs": [],
   "source": [
    "def solution(answers):\n",
    "    answer = []\n",
    "    a1 = [1,2,3,4,5]*8*250\n",
    "    a2 = [2,1,2,3,2,4,2,5]*5*250\n",
    "    a3 = [3,3,1,1,2,2,4,4,5,5]*4*250\n",
    "    score = []\n",
    "    b1,b2,b3 = [],[],[]\n",
    "    for i in range(len(answers)):\n",
    "        b1.append(a1[i] == answers[i])\n",
    "        b2.append(a2[i] == answers[i])\n",
    "        b3.append(a3[i] == answers[i])\n",
    "    score.append([sum(b1),sum(b2),sum(b3)])\n",
    "    score = score[0]\n",
    "    print(score)\n",
    "    for i in range(len(blank)):\n",
    "        if blank[i] == max(blank):\n",
    "            answer.append(i)\n",
    "        \n",
    "    return answer\n"
   ]
  },
  {
   "cell_type": "code",
   "execution_count": 694,
   "metadata": {},
   "outputs": [
    {
     "name": "stdout",
     "output_type": "stream",
     "text": [
      "[6, 3, 0]\n"
     ]
    },
    {
     "data": {
      "text/plain": [
       "[]"
      ]
     },
     "execution_count": 694,
     "metadata": {},
     "output_type": "execute_result"
    }
   ],
   "source": [
    "a = solution([1,2,3,4,5,4,3,2,4,3,2,1,2,3,4])\n",
    "a"
   ]
  },
  {
   "cell_type": "markdown",
   "metadata": {},
   "source": [
    "## 느낀점\n",
    "\n",
    "- Iteration은 정말로 중요하고, 은근 까다롭다.\n",
    "- 길이가 비슷해 sort가 가능한 비교라면 sort를 진행했을 때, 추후 인덱스 비교에 드는 시간을 절약할 수 있다."
   ]
  },
  {
   "cell_type": "code",
   "execution_count": null,
   "metadata": {},
   "outputs": [],
   "source": []
  }
 ],
 "metadata": {
  "kernelspec": {
   "display_name": "Python [conda env:tensorflow]",
   "language": "python",
   "name": "conda-env-tensorflow-py"
  },
  "language_info": {
   "codemirror_mode": {
    "name": "ipython",
    "version": 3
   },
   "file_extension": ".py",
   "mimetype": "text/x-python",
   "name": "python",
   "nbconvert_exporter": "python",
   "pygments_lexer": "ipython3",
   "version": "3.5.5"
  }
 },
 "nbformat": 4,
 "nbformat_minor": 2
}
