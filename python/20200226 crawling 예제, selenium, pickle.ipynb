{
 "cells": [
  {
   "cell_type": "markdown",
   "metadata": {},
   "source": [
    "### [복습] CSS Selector\n",
    "- HTML Element를 선택하는 방법\n",
    "- tag: 그대로\n",
    "- id: #\n",
    "- class: .\n",
    "- attr: []\n",
    "\n",
    "- 혼합사용\n",
    "    - tag.class\n",
    "- not, nth-child\n",
    "    - .wrap:not(.class) 배제\n",
    "    - .wrap:nth-child(3)\n",
    "- 계층 구조로 선택\n",
    "    - #wrap > .txt: 바로 한단계 하위 엘리먼트 선택 \n",
    "    - #wrap .txt: 모든 하위 엘리먼트 선택"
   ]
  },
  {
   "cell_type": "markdown",
   "metadata": {},
   "source": [
    "### 1. msit: 과학기술통신부 보도자료 크롤링\n",
    "- URL: https://msit.go.kr\n",
    "- 항목: 보도자료\n",
    "- 형태: json 데이터 안에 html 코드가 있다.\n"
   ]
  },
  {
   "cell_type": "code",
   "execution_count": 1,
   "metadata": {},
   "outputs": [],
   "source": [
    "%run C:/Users/HSS/dd.py\n",
    "import requests"
   ]
  },
  {
   "cell_type": "code",
   "execution_count": 147,
   "metadata": {},
   "outputs": [],
   "source": [
    "page, nlist = 1,30\n",
    "url = 'https://www.msit.go.kr/dynamic/article/_policycom2?&search=&sort=operday=desc&below=false&catids=&index=&fields=&pageout=true&aradon.result.format=json&aradon.page.pageNo={}&aradon.page.listNum={}&aradon.page.screenCount=5&'.format(page, n_list)\n",
    "\n",
    "response = requests.get(url)"
   ]
  },
  {
   "cell_type": "code",
   "execution_count": 166,
   "metadata": {},
   "outputs": [
    {
     "data": {
      "text/html": [
       "<div>\n",
       "<style scoped>\n",
       "    .dataframe tbody tr th:only-of-type {\n",
       "        vertical-align: middle;\n",
       "    }\n",
       "\n",
       "    .dataframe tbody tr th {\n",
       "        vertical-align: top;\n",
       "    }\n",
       "\n",
       "    .dataframe thead th {\n",
       "        text-align: right;\n",
       "    }\n",
       "</style>\n",
       "<table border=\"1\" class=\"dataframe\">\n",
       "  <thead>\n",
       "    <tr style=\"text-align: right;\">\n",
       "      <th></th>\n",
       "      <th>action</th>\n",
       "      <th>admin_p</th>\n",
       "      <th>artsubject</th>\n",
       "      <th>artcont</th>\n",
       "    </tr>\n",
       "  </thead>\n",
       "  <tbody>\n",
       "    <tr>\n",
       "      <th>0</th>\n",
       "      <td>MOD</td>\n",
       "      <td>과학기술정책과</td>\n",
       "      <td>최기영 과기정통부 장관, 한국과학기술기획평가원(KISTEP) 신사옥 개청식 참석</td>\n",
       "      <td>&lt;p&gt;&lt;font size=\"3\"&gt;&amp;nbsp;&lt;/font&gt;&lt;/p&gt;\\r\\n&lt;p alig...</td>\n",
       "    </tr>\n",
       "    <tr>\n",
       "      <th>1</th>\n",
       "      <td>MOD</td>\n",
       "      <td>디지털포용정책팀</td>\n",
       "      <td>장석영 제2차관, 사회적 기업 현장방문</td>\n",
       "      <td>&lt;p align=\"center\" style=\"margin: 0px; text-ali...</td>\n",
       "    </tr>\n",
       "    <tr>\n",
       "      <th>2</th>\n",
       "      <td>MOD</td>\n",
       "      <td>중이온가속기팀</td>\n",
       "      <td>정병선 제1차관, 중이온가속기 건설현장에서의 코로나19 대응태세 점검</td>\n",
       "      <td>&lt;p&gt;&lt;font size=\"3\"&gt;&amp;nbsp;&lt;/font&gt;&lt;/p&gt;\\r\\n&lt;p alig...</td>\n",
       "    </tr>\n",
       "    <tr>\n",
       "      <th>3</th>\n",
       "      <td>MOD</td>\n",
       "      <td>혁신네트워크팀</td>\n",
       "      <td>2019년 사물인터넷 산업 실태조사 결과 발표</td>\n",
       "      <td>&lt;p&gt;&lt;font size=\"3\"&gt;&lt;/font&gt;&lt;/p&gt;\\r\\n&lt;p align=\"cen...</td>\n",
       "    </tr>\n",
       "    <tr>\n",
       "      <th>4</th>\n",
       "      <td>MOD</td>\n",
       "      <td>지역과학기술진흥과</td>\n",
       "      <td>연구소기업 설립 900호 돌파</td>\n",
       "      <td>&lt;p align=\"center\" style=\"margin: 0px; text-ali...</td>\n",
       "    </tr>\n",
       "    <tr>\n",
       "      <th>5</th>\n",
       "      <td>MOD</td>\n",
       "      <td>국립중앙과학관 과학교육과</td>\n",
       "      <td>국립중앙과학관, 2020년 상반기 성인 대상 교육과정 운영</td>\n",
       "      <td>&lt;p align=\"center\" style=\"margin: 0px; text-ali...</td>\n",
       "    </tr>\n",
       "    <tr>\n",
       "      <th>6</th>\n",
       "      <td>INS</td>\n",
       "      <td>연구성과일자리정책과</td>\n",
       "      <td>창업기술 시장성 검증을 통해 실험실창업 성공률 높인다</td>\n",
       "      <td>&lt;p align=\"center\" style=\"margin: 0px; text-ali...</td>\n",
       "    </tr>\n",
       "    <tr>\n",
       "      <th>7</th>\n",
       "      <td>MOD</td>\n",
       "      <td>연구예산총괄과</td>\n",
       "      <td>2021년도 정부연구개발 투자방향 및 기준(안) 온라인 공청회 개최</td>\n",
       "      <td>&lt;p align=\"center\" style=\"margin: 0px; text-ali...</td>\n",
       "    </tr>\n",
       "    <tr>\n",
       "      <th>8</th>\n",
       "      <td>INS</td>\n",
       "      <td>소프트웨어정책과</td>\n",
       "      <td>소프트웨어 인재양성의 요람, 이노베이션아카데미 1기 교육 시작</td>\n",
       "      <td>&lt;p&gt;&amp;nbsp;&lt;/p&gt;\\r\\n&lt;p align=\"center\" style=\"marg...</td>\n",
       "    </tr>\n",
       "    <tr>\n",
       "      <th>9</th>\n",
       "      <td>INS</td>\n",
       "      <td>운영지원과</td>\n",
       "      <td>고위공무원 임용(국립과천과학관장)</td>\n",
       "      <td>&lt;div style=\"margin: 0cm 0cm 0pt; text-align: c...</td>\n",
       "    </tr>\n",
       "    <tr>\n",
       "      <th>10</th>\n",
       "      <td>MOD</td>\n",
       "      <td>생명기초조정과</td>\n",
       "      <td>김성수 과학기술혁신본부장, 감염병 전문가와 함께 과학기술 측면의 대응방향 논의</td>\n",
       "      <td>&lt;font size=\"3\"&gt;&amp;nbsp;&lt;/font&gt;\\r\\n&lt;p align=\"cent...</td>\n",
       "    </tr>\n",
       "    <tr>\n",
       "      <th>11</th>\n",
       "      <td>MOD</td>\n",
       "      <td>정보통신산업정책과</td>\n",
       "      <td>과기정통부, 코로나19 대응 ICT산업 지원방안 발표</td>\n",
       "      <td>&lt;p align=\"center\" style=\"margin: 0px; text-ali...</td>\n",
       "    </tr>\n",
       "    <tr>\n",
       "      <th>12</th>\n",
       "      <td>INS</td>\n",
       "      <td>우주기술과</td>\n",
       "      <td>정병선 제1차관, 세계 최대 우주발사 서비스 기업 아리안스페이스(Arianespac...</td>\n",
       "      <td>&lt;p align=\"center\" style=\"margin: 0px; text-ali...</td>\n",
       "    </tr>\n",
       "    <tr>\n",
       "      <th>13</th>\n",
       "      <td>MOD</td>\n",
       "      <td>디지털포용정책팀</td>\n",
       "      <td>과기정통부, 2019년 스마트폰 과의존 실태조사 결과 발표</td>\n",
       "      <td>&lt;p align=\"center\" style=\"margin: 0px; text-ali...</td>\n",
       "    </tr>\n",
       "    <tr>\n",
       "      <th>14</th>\n",
       "      <td>INS</td>\n",
       "      <td>연구예산총괄과</td>\n",
       "      <td>김성수 과학기술혁신본부장, 찾아가는 연구현장 간담회 개최</td>\n",
       "      <td>&lt;p&gt;&amp;nbsp;&lt;/p&gt;\\r\\n&lt;p align=\"center\" style=\"marg...</td>\n",
       "    </tr>\n",
       "    <tr>\n",
       "      <th>15</th>\n",
       "      <td>INS</td>\n",
       "      <td>연구개발정책과</td>\n",
       "      <td>미래사회 시나리오 공모전 시상식 개최</td>\n",
       "      <td>&lt;p align=\"center\" style=\"margin: 0px; text-ali...</td>\n",
       "    </tr>\n",
       "    <tr>\n",
       "      <th>16</th>\n",
       "      <td>INS</td>\n",
       "      <td>디지털신산업제도과</td>\n",
       "      <td>ICT 규제 샌드박스 통한 민간 최초 ‘스마트 전기자동차 충전콘센트’ 본격 출시</td>\n",
       "      <td>&lt;p align=\"center\" style=\"margin: 0px; text-ali...</td>\n",
       "    </tr>\n",
       "    <tr>\n",
       "      <th>17</th>\n",
       "      <td>INS</td>\n",
       "      <td>우주기술과</td>\n",
       "      <td>천리안위성 2B호, 2월 19일 아침 발사 성공</td>\n",
       "      <td>&lt;p align=\"center\" style=\"margin: 0px; text-ali...</td>\n",
       "    </tr>\n",
       "    <tr>\n",
       "      <th>18</th>\n",
       "      <td>INS</td>\n",
       "      <td>사이버침해대응과</td>\n",
       "      <td>장석영 제2차관, 제100차 정보보호 최고책임자 포럼 참석</td>\n",
       "      <td>&lt;p align=\"center\" style=\"margin: 0px; text-ali...</td>\n",
       "    </tr>\n",
       "    <tr>\n",
       "      <th>19</th>\n",
       "      <td>MOD</td>\n",
       "      <td>뉴미디어정책과</td>\n",
       "      <td>장석영 제2차관, 코로나19 예방 방송 현장 방문</td>\n",
       "      <td>&lt;p align=\"center\" style=\"margin: 0px; text-ali...</td>\n",
       "    </tr>\n",
       "    <tr>\n",
       "      <th>20</th>\n",
       "      <td>MOD</td>\n",
       "      <td>디지털신산업제도과</td>\n",
       "      <td>디지털 정부혁신 일환, 공공 페이퍼리스 촉진 시범사업 공모</td>\n",
       "      <td>&lt;p align=\"center\" style=\"margin: 0px; text-ali...</td>\n",
       "    </tr>\n",
       "    <tr>\n",
       "      <th>21</th>\n",
       "      <td>MOD</td>\n",
       "      <td>통신이용제도과</td>\n",
       "      <td>코로나19 악용 보이스피싱 전화, 스미싱 문자 주의 당부</td>\n",
       "      <td>&lt;p align=\"center\" style=\"margin: 0px; text-ali...</td>\n",
       "    </tr>\n",
       "    <tr>\n",
       "      <th>22</th>\n",
       "      <td>MOD</td>\n",
       "      <td>과학기술안전기반팀</td>\n",
       "      <td>‘대한민국 엔지니어상’ 2020년 2월 수상자 선정</td>\n",
       "      <td>&lt;p align=\"center\" style=\"margin: 0px; text-ali...</td>\n",
       "    </tr>\n",
       "    <tr>\n",
       "      <th>23</th>\n",
       "      <td>MOD</td>\n",
       "      <td>미래인재양성과</td>\n",
       "      <td>정부출연연구소에서 연구역량 높여 우수기업 문 두드린다</td>\n",
       "      <td>&lt;p align=\"center\" style=\"margin: 0px; text-ali...</td>\n",
       "    </tr>\n",
       "    <tr>\n",
       "      <th>24</th>\n",
       "      <td>MOD</td>\n",
       "      <td>거대공공연구협력과</td>\n",
       "      <td>국제핵융합실험로 건설 총괄 고위직에 한국 전문가 진출</td>\n",
       "      <td>&lt;p align=\"center\" style=\"margin: 0px; text-ali...</td>\n",
       "    </tr>\n",
       "    <tr>\n",
       "      <th>25</th>\n",
       "      <td>MOD</td>\n",
       "      <td>정보통신산업기반과</td>\n",
       "      <td>2020년 글로벌 핵심인재 양성지원 사업공고 추진</td>\n",
       "      <td>&lt;p&gt;&lt;font size=\"3\"&gt;&lt;/font&gt;&lt;/p&gt;\\r\\n&lt;p align=\"cen...</td>\n",
       "    </tr>\n",
       "    <tr>\n",
       "      <th>26</th>\n",
       "      <td>MOD</td>\n",
       "      <td>연구산업진흥과</td>\n",
       "      <td>2020년 연구장비 개발 및 고도화 지원사업 신규 추진</td>\n",
       "      <td>&lt;p align=\"center\" style=\"margin: 0px; text-ali...</td>\n",
       "    </tr>\n",
       "    <tr>\n",
       "      <th>27</th>\n",
       "      <td>MOD</td>\n",
       "      <td>혁신네트워크팀</td>\n",
       "      <td>과기정통부, 사물인터넷 육성에 117억 원 지원한다</td>\n",
       "      <td>&lt;p&gt;&lt;font size=\"3\"&gt;&lt;/font&gt;&lt;/p&gt;\\r\\n&lt;p align=\"cen...</td>\n",
       "    </tr>\n",
       "    <tr>\n",
       "      <th>28</th>\n",
       "      <td>MOD</td>\n",
       "      <td>정보통신산업정책과</td>\n",
       "      <td>코로나19로 인한 ICT업계 피해최소화를 위해 민관 머리 맞대</td>\n",
       "      <td>&lt;p align=\"center\" style=\"margin: 0px; text-ali...</td>\n",
       "    </tr>\n",
       "    <tr>\n",
       "      <th>29</th>\n",
       "      <td>INS</td>\n",
       "      <td>운영지원과</td>\n",
       "      <td>국·과장급 인사</td>\n",
       "      <td>&lt;div style=\"margin: 0cm 0cm 0pt; text-align: c...</td>\n",
       "    </tr>\n",
       "  </tbody>\n",
       "</table>\n",
       "</div>"
      ],
      "text/plain": [
       "   action        admin_p                                         artsubject  \\\n",
       "0     MOD        과학기술정책과       최기영 과기정통부 장관, 한국과학기술기획평가원(KISTEP) 신사옥 개청식 참석   \n",
       "1     MOD       디지털포용정책팀                              장석영 제2차관, 사회적 기업 현장방문   \n",
       "2     MOD        중이온가속기팀             정병선 제1차관, 중이온가속기 건설현장에서의 코로나19 대응태세 점검   \n",
       "3     MOD        혁신네트워크팀                          2019년 사물인터넷 산업 실태조사 결과 발표   \n",
       "4     MOD      지역과학기술진흥과                                   연구소기업 설립 900호 돌파   \n",
       "5     MOD  국립중앙과학관 과학교육과                   국립중앙과학관, 2020년 상반기 성인 대상 교육과정 운영   \n",
       "6     INS     연구성과일자리정책과                      창업기술 시장성 검증을 통해 실험실창업 성공률 높인다   \n",
       "7     MOD        연구예산총괄과              2021년도 정부연구개발 투자방향 및 기준(안) 온라인 공청회 개최   \n",
       "8     INS       소프트웨어정책과                 소프트웨어 인재양성의 요람, 이노베이션아카데미 1기 교육 시작   \n",
       "9     INS          운영지원과                                 고위공무원 임용(국립과천과학관장)   \n",
       "10    MOD        생명기초조정과        김성수 과학기술혁신본부장, 감염병 전문가와 함께 과학기술 측면의 대응방향 논의   \n",
       "11    MOD      정보통신산업정책과                      과기정통부, 코로나19 대응 ICT산업 지원방안 발표   \n",
       "12    INS          우주기술과  정병선 제1차관, 세계 최대 우주발사 서비스 기업 아리안스페이스(Arianespac...   \n",
       "13    MOD       디지털포용정책팀                   과기정통부, 2019년 스마트폰 과의존 실태조사 결과 발표   \n",
       "14    INS        연구예산총괄과                    김성수 과학기술혁신본부장, 찾아가는 연구현장 간담회 개최   \n",
       "15    INS        연구개발정책과                               미래사회 시나리오 공모전 시상식 개최   \n",
       "16    INS      디지털신산업제도과       ICT 규제 샌드박스 통한 민간 최초 ‘스마트 전기자동차 충전콘센트’ 본격 출시   \n",
       "17    INS          우주기술과                         천리안위성 2B호, 2월 19일 아침 발사 성공   \n",
       "18    INS       사이버침해대응과                   장석영 제2차관, 제100차 정보보호 최고책임자 포럼 참석   \n",
       "19    MOD        뉴미디어정책과                        장석영 제2차관, 코로나19 예방 방송 현장 방문   \n",
       "20    MOD      디지털신산업제도과                   디지털 정부혁신 일환, 공공 페이퍼리스 촉진 시범사업 공모   \n",
       "21    MOD        통신이용제도과                    코로나19 악용 보이스피싱 전화, 스미싱 문자 주의 당부   \n",
       "22    MOD      과학기술안전기반팀                       ‘대한민국 엔지니어상’ 2020년 2월 수상자 선정   \n",
       "23    MOD        미래인재양성과                      정부출연연구소에서 연구역량 높여 우수기업 문 두드린다   \n",
       "24    MOD      거대공공연구협력과                      국제핵융합실험로 건설 총괄 고위직에 한국 전문가 진출   \n",
       "25    MOD      정보통신산업기반과                        2020년 글로벌 핵심인재 양성지원 사업공고 추진   \n",
       "26    MOD        연구산업진흥과                     2020년 연구장비 개발 및 고도화 지원사업 신규 추진   \n",
       "27    MOD        혁신네트워크팀                       과기정통부, 사물인터넷 육성에 117억 원 지원한다   \n",
       "28    MOD      정보통신산업정책과                 코로나19로 인한 ICT업계 피해최소화를 위해 민관 머리 맞대   \n",
       "29    INS          운영지원과                                           국·과장급 인사   \n",
       "\n",
       "                                              artcont  \n",
       "0   <p><font size=\"3\">&nbsp;</font></p>\\r\\n<p alig...  \n",
       "1   <p align=\"center\" style=\"margin: 0px; text-ali...  \n",
       "2   <p><font size=\"3\">&nbsp;</font></p>\\r\\n<p alig...  \n",
       "3   <p><font size=\"3\"></font></p>\\r\\n<p align=\"cen...  \n",
       "4   <p align=\"center\" style=\"margin: 0px; text-ali...  \n",
       "5   <p align=\"center\" style=\"margin: 0px; text-ali...  \n",
       "6   <p align=\"center\" style=\"margin: 0px; text-ali...  \n",
       "7   <p align=\"center\" style=\"margin: 0px; text-ali...  \n",
       "8   <p>&nbsp;</p>\\r\\n<p align=\"center\" style=\"marg...  \n",
       "9   <div style=\"margin: 0cm 0cm 0pt; text-align: c...  \n",
       "10  <font size=\"3\">&nbsp;</font>\\r\\n<p align=\"cent...  \n",
       "11  <p align=\"center\" style=\"margin: 0px; text-ali...  \n",
       "12  <p align=\"center\" style=\"margin: 0px; text-ali...  \n",
       "13  <p align=\"center\" style=\"margin: 0px; text-ali...  \n",
       "14  <p>&nbsp;</p>\\r\\n<p align=\"center\" style=\"marg...  \n",
       "15  <p align=\"center\" style=\"margin: 0px; text-ali...  \n",
       "16  <p align=\"center\" style=\"margin: 0px; text-ali...  \n",
       "17  <p align=\"center\" style=\"margin: 0px; text-ali...  \n",
       "18  <p align=\"center\" style=\"margin: 0px; text-ali...  \n",
       "19  <p align=\"center\" style=\"margin: 0px; text-ali...  \n",
       "20  <p align=\"center\" style=\"margin: 0px; text-ali...  \n",
       "21  <p align=\"center\" style=\"margin: 0px; text-ali...  \n",
       "22  <p align=\"center\" style=\"margin: 0px; text-ali...  \n",
       "23  <p align=\"center\" style=\"margin: 0px; text-ali...  \n",
       "24  <p align=\"center\" style=\"margin: 0px; text-ali...  \n",
       "25  <p><font size=\"3\"></font></p>\\r\\n<p align=\"cen...  \n",
       "26  <p align=\"center\" style=\"margin: 0px; text-ali...  \n",
       "27  <p><font size=\"3\"></font></p>\\r\\n<p align=\"cen...  \n",
       "28  <p align=\"center\" style=\"margin: 0px; text-ali...  \n",
       "29  <div style=\"margin: 0cm 0cm 0pt; text-align: c...  "
      ]
     },
     "execution_count": 166,
     "metadata": {},
     "output_type": "execute_result"
    }
   ],
   "source": [
    "result = response.json()['result']['nodes']\n",
    "msit_df = pd.DataFrame(result)[['action', 'admin_p', 'artsubject', 'artcont']]\n",
    "msit_df"
   ]
  },
  {
   "cell_type": "code",
   "execution_count": 167,
   "metadata": {},
   "outputs": [
    {
     "data": {
      "text/plain": [
       "'<p><font size'"
      ]
     },
     "execution_count": 167,
     "metadata": {},
     "output_type": "execute_result"
    }
   ],
   "source": [
    "msit_df.artcont[0][:13]"
   ]
  },
  {
   "cell_type": "code",
   "execution_count": 150,
   "metadata": {},
   "outputs": [],
   "source": [
    "from bs4 import BeautifulSoup as bs"
   ]
  },
  {
   "cell_type": "code",
   "execution_count": 151,
   "metadata": {},
   "outputs": [
    {
     "data": {
      "text/plain": [
       "'\\xa0\\n최기영 과기정통부 장관, 한국과학기술기획평가원(KISTEP) 신사옥 개청식 참석\\n\\n\\xa0\\n\\n□ 최기영 과학기술정보통신부 장관은 2월 26일(수) 오전, 한국과학기술기획평가원(KISTEP) 신사옥 개청식에 참석하여 KISTEP 임직원을 격려하였다.\\n\\n\\xa0\\n\\nㅇ KISTEP은 1999년에 설립된\\r\\n과학기술분야 정책지원기관으로, 국가과학기술 정책수립‧조정 지원, 국가연구개발예산의 배분‧조정 지원, 국가연구개발 통계수집‧분석, 국가연구개발사업 예비타당성조사 등의 역할을 수행한다.\\n\\n\\xa0\\n\\n□ 최기영 장관은 KISTEP의 지방이전 및 신사옥 완공을 축하하며 “대한민국 대표 과학기술 정책지원기관*인 KISTEP 임직원들이 새로운 환경에 잘 적응하여 정부 R&D 24조원\\r\\n시대에 걸맞는 전문성, 책임성을 가지고 업무에 임해달라.”라고 당부하고,\\n\\n* 과학기술기본법\\r\\n제20조에 근거하여 설립\\n\\n\\xa0\\n\\nㅇ “과학기술정보통신부와 KISTEP이끊임없이 소통하고 협력하며 국가연구개발 생태계 혁신을 위해 노력하자.”라고 강조하였다.\\n\\n\\xa0\\n\\xa0'"
      ]
     },
     "execution_count": 151,
     "metadata": {},
     "output_type": "execute_result"
    }
   ],
   "source": [
    "html = msit_df.artcont[0]\n",
    "content = bs(html, 'html.parser').text\n",
    "content"
   ]
  },
  {
   "cell_type": "code",
   "execution_count": 152,
   "metadata": {},
   "outputs": [
    {
     "data": {
      "text/plain": [
       "'최기영 과기정통부 장관, 한국과학기술기획평가원(KISTEP) 신사옥 개청식 참석 최기영 과학기술정보통신부 장관은 2월 26일(수) 오전, 한국과학기술기획평가원(KISTEP) 신사옥 개청식에 참석하여 KISTEP 임직원을 격려하였다.ㅇ KISTEP은 1999년에 설립된과학기술분야 정책지원기관으로, 국가과학기술 정책수립‧조정 지원, 국가연구개발예산의 배분‧조정 지원, 국가연구개발 통계수집‧분석, 국가연구개발사업 예비타당성조사 등의 역할을 수행한다. 최기영 장관은 KISTEP의 지방이전 및 신사옥 완공을 축하하며 “대한민국 대표 과학기술 정책지원기관인 KISTEP 임직원들이 새로운 환경에 잘 적응하여 정부 R&D 24조원시대에 걸맞는 전문성, 책임성을 가지고 업무에 임해달라.”라고 당부하고, 과학기술기본법제20조에 근거하여 설립ㅇ “과학기술정보통신부와 KISTEP이끊임없이 소통하고 협력하며 국가연구개발 생태계 혁신을 위해 노력하자.”라고 강조하였다.'"
      ]
     },
     "execution_count": 152,
     "metadata": {},
     "output_type": "execute_result"
    }
   ],
   "source": [
    "remove_words = ['\\n','\\r','\\xa0','□','*']\n",
    "for remove_word in remove_words:\n",
    "    content = content.replace(remove_word,'')\n",
    "content\n"
   ]
  },
  {
   "cell_type": "code",
   "execution_count": 160,
   "metadata": {},
   "outputs": [],
   "source": [
    "## html 텍스트 변환 함수 만들기\n",
    "def html_to_txt(html):\n",
    "    content = bs(html, 'html.parser').text\n",
    "    remove_words = ['\\n','\\r','\\xa0','□','*']\n",
    "    for remove_word in remove_words:\n",
    "        content = content.replace(remove_word,'')\n",
    "    return content\n"
   ]
  },
  {
   "cell_type": "code",
   "execution_count": 154,
   "metadata": {},
   "outputs": [],
   "source": [
    "msit_df.artcont = msit_df.artcont.apply(html_to_txt)"
   ]
  },
  {
   "cell_type": "code",
   "execution_count": 156,
   "metadata": {},
   "outputs": [
    {
     "data": {
      "text/html": [
       "<div>\n",
       "<style scoped>\n",
       "    .dataframe tbody tr th:only-of-type {\n",
       "        vertical-align: middle;\n",
       "    }\n",
       "\n",
       "    .dataframe tbody tr th {\n",
       "        vertical-align: top;\n",
       "    }\n",
       "\n",
       "    .dataframe thead th {\n",
       "        text-align: right;\n",
       "    }\n",
       "</style>\n",
       "<table border=\"1\" class=\"dataframe\">\n",
       "  <thead>\n",
       "    <tr style=\"text-align: right;\">\n",
       "      <th></th>\n",
       "      <th>action</th>\n",
       "      <th>admin_p</th>\n",
       "      <th>artsubject</th>\n",
       "      <th>artcont</th>\n",
       "    </tr>\n",
       "  </thead>\n",
       "  <tbody>\n",
       "    <tr>\n",
       "      <th>28</th>\n",
       "      <td>MOD</td>\n",
       "      <td>정보통신산업정책과</td>\n",
       "      <td>코로나19로 인한 ICT업계 피해최소화를 위해 민관 머리 맞대</td>\n",
       "      <td>코로나19로 인한 ICT업계 피해최소화를위해 민관 머리 맞대- 최기영 장관, ICT...</td>\n",
       "    </tr>\n",
       "    <tr>\n",
       "      <th>29</th>\n",
       "      <td>INS</td>\n",
       "      <td>운영지원과</td>\n",
       "      <td>국·과장급 인사</td>\n",
       "      <td>과학기술정보통신부 인사 국장급 승진▲ 정보통신산업정책관최 우 혁(崔祐赫, 정보통신정...</td>\n",
       "    </tr>\n",
       "  </tbody>\n",
       "</table>\n",
       "</div>"
      ],
      "text/plain": [
       "   action    admin_p                          artsubject  \\\n",
       "28    MOD  정보통신산업정책과  코로나19로 인한 ICT업계 피해최소화를 위해 민관 머리 맞대   \n",
       "29    INS      운영지원과                            국·과장급 인사   \n",
       "\n",
       "                                              artcont  \n",
       "28  코로나19로 인한 ICT업계 피해최소화를위해 민관 머리 맞대- 최기영 장관, ICT...  \n",
       "29  과학기술정보통신부 인사 국장급 승진▲ 정보통신산업정책관최 우 혁(崔祐赫, 정보통신정...  "
      ]
     },
     "execution_count": 156,
     "metadata": {},
     "output_type": "execute_result"
    }
   ],
   "source": [
    "msit_df.tail(2)"
   ]
  },
  {
   "cell_type": "code",
   "execution_count": 161,
   "metadata": {},
   "outputs": [],
   "source": [
    "#모든 부분 함수화\n",
    "def get_news_msit(page = 1, n_list = 20):\n",
    "    url = 'https://www.msit.go.kr/dynamic/article/_policycom2?\\\n",
    "    &sort=operday=desc&below=false&pageout=true&aradon.result.format=json&aradon.page.pageNo={}&aradon.page.listNum={}&aradon.page.screenCount=5&'\\\n",
    "    .format(page, n_list)\n",
    "\n",
    "    response = requests.get(url)\n",
    "    result = response.json()['result']['nodes']\n",
    "    msit_df = pd.DataFrame(result)[['action', 'admin_p', 'artsubject', 'artcont']]\n",
    "    msit_df['artcont'] = msit_df['artcont'].apply(html_to_txt)\n",
    "    return msit_df\n",
    "    "
   ]
  },
  {
   "cell_type": "code",
   "execution_count": 163,
   "metadata": {},
   "outputs": [
    {
     "data": {
      "text/html": [
       "<div>\n",
       "<style scoped>\n",
       "    .dataframe tbody tr th:only-of-type {\n",
       "        vertical-align: middle;\n",
       "    }\n",
       "\n",
       "    .dataframe tbody tr th {\n",
       "        vertical-align: top;\n",
       "    }\n",
       "\n",
       "    .dataframe thead th {\n",
       "        text-align: right;\n",
       "    }\n",
       "</style>\n",
       "<table border=\"1\" class=\"dataframe\">\n",
       "  <thead>\n",
       "    <tr style=\"text-align: right;\">\n",
       "      <th></th>\n",
       "      <th>action</th>\n",
       "      <th>admin_p</th>\n",
       "      <th>artsubject</th>\n",
       "      <th>artcont</th>\n",
       "    </tr>\n",
       "  </thead>\n",
       "  <tbody>\n",
       "    <tr>\n",
       "      <th>17</th>\n",
       "      <td>INS</td>\n",
       "      <td>우주기술과</td>\n",
       "      <td>천리안위성 2B호, 2월 19일 아침 발사 성공</td>\n",
       "      <td>천리안위성 2B호, 오늘(2월 19일) 아침 발사 성공◇ 발사 약 31분 후에 천리...</td>\n",
       "    </tr>\n",
       "    <tr>\n",
       "      <th>18</th>\n",
       "      <td>INS</td>\n",
       "      <td>사이버침해대응과</td>\n",
       "      <td>장석영 제2차관, 제100차 정보보호 최고책임자 포럼 참석</td>\n",
       "      <td>장석영 제2차관, 제100차 정보보호 최고책임자 포럼 참석- 사이버 침해사고 예방을...</td>\n",
       "    </tr>\n",
       "    <tr>\n",
       "      <th>19</th>\n",
       "      <td>MOD</td>\n",
       "      <td>뉴미디어정책과</td>\n",
       "      <td>장석영 제2차관, 코로나19 예방 방송 현장 방문</td>\n",
       "      <td>장석영 과기정통부 제2차관, 코로나19 예방방송 현장 방문- 코로나19 대응 관련 ...</td>\n",
       "    </tr>\n",
       "  </tbody>\n",
       "</table>\n",
       "</div>"
      ],
      "text/plain": [
       "   action   admin_p                        artsubject  \\\n",
       "17    INS     우주기술과        천리안위성 2B호, 2월 19일 아침 발사 성공   \n",
       "18    INS  사이버침해대응과  장석영 제2차관, 제100차 정보보호 최고책임자 포럼 참석   \n",
       "19    MOD   뉴미디어정책과       장석영 제2차관, 코로나19 예방 방송 현장 방문   \n",
       "\n",
       "                                              artcont  \n",
       "17  천리안위성 2B호, 오늘(2월 19일) 아침 발사 성공◇ 발사 약 31분 후에 천리...  \n",
       "18  장석영 제2차관, 제100차 정보보호 최고책임자 포럼 참석- 사이버 침해사고 예방을...  \n",
       "19  장석영 과기정통부 제2차관, 코로나19 예방방송 현장 방문- 코로나19 대응 관련 ...  "
      ]
     },
     "execution_count": 163,
     "metadata": {},
     "output_type": "execute_result"
    }
   ],
   "source": [
    "get_news_msit().tail(3)"
   ]
  },
  {
   "cell_type": "markdown",
   "metadata": {},
   "source": [
    "### 2. 행정안전부 보도자료 크롤링\n",
    "- URL: https://mois.go.kr\n",
    "- 항목: 보도자료\n",
    "- 형태: URL에 정보가 담겨 있지 않은 `POST` 방식\n",
    "    - `POST`에서는 paras에 정보를 담아 요청한다"
   ]
  },
  {
   "cell_type": "code",
   "execution_count": 175,
   "metadata": {},
   "outputs": [],
   "source": [
    "url = 'https://www.mois.go.kr/frt/bbs/type010/commonSelectBoardList.do?bbsId=BBSMSTR_000000000008'\n",
    "page = 1\n",
    "params = {\n",
    "    'nttId': 0,\n",
    "    'bbsTyCode': 'BBST03',\n",
    "    'bbsAttrbCode': 'BBSA03',\n",
    "    'authFlag': 'Y',\n",
    "    'pageIndex': page,\n",
    "    'cal_url': '/sym/cal/EgovNormalCalPopup.do',\n",
    "    'searchCnd': 0,\n",
    "    'searchWrd': ''\n",
    "}"
   ]
  },
  {
   "cell_type": "code",
   "execution_count": 176,
   "metadata": {},
   "outputs": [
    {
     "data": {
      "text/plain": [
       "{'authFlag': 'Y',\n",
       " 'bbsAttrbCode': 'BBSA03',\n",
       " 'bbsTyCode': 'BBST03',\n",
       " 'cal_url': '/sym/cal/EgovNormalCalPopup.do',\n",
       " 'nttId': 0,\n",
       " 'pageIndex': 1,\n",
       " 'searchCnd': 0,\n",
       " 'searchWrd': ''}"
      ]
     },
     "execution_count": 176,
     "metadata": {},
     "output_type": "execute_result"
    }
   ],
   "source": [
    "params"
   ]
  },
  {
   "cell_type": "code",
   "execution_count": 178,
   "metadata": {},
   "outputs": [
    {
     "data": {
      "text/plain": [
       "<Response [200]>"
      ]
     },
     "execution_count": 178,
     "metadata": {},
     "output_type": "execute_result"
    }
   ],
   "source": [
    "response = requests.post(url, params)\n",
    "response"
   ]
  },
  {
   "cell_type": "code",
   "execution_count": 239,
   "metadata": {},
   "outputs": [
    {
     "data": {
      "text/plain": [
       "[<tr>\n",
       " <td class=\"res_hide\">\n",
       " \t\t\t\t\t\t\t\t10621\n",
       " \t\t\t\t\t\t\t</td>\n",
       " <td class=\"l\">\n",
       " <div class=\"wrap\">\n",
       " <a href=\"/frt/bbs/type010/commonSelectBoardArticle.do;jsessionid=bnpjsL3mV0NJwHnnm4tK-YCn.node40?bbsId=BBSMSTR_000000000008&amp;nttId=76012\" onclick=\"javascript:fn_egov_inqire_notice('76012', 'BBSMSTR_000000000008'); return false;\">납세자보호관, 지방세 고충민원 해결사로 정착! </a>\n",
       " </div>\n",
       " </td>\n",
       " <td class=\"res_hide\">\n",
       " <img alt=\"첨부파일\" src=\"/images/board/icon_file.gif;jsessionid=bnpjsL3mV0NJwHnnm4tK-YCn.node40\">\n",
       " </img></td>\n",
       " <td class=\"res_hide\">\n",
       " \t\t\t\t\t\t\t\t지방세정책과\n",
       " \t\t\t\t\t\t\t</td>\n",
       " <td>\n",
       " \t\t\t\t\t\t\t\t2020.02.26.\n",
       " \t\t\t\t\t\t\t</td>\n",
       " <td class=\"res_hide\">\n",
       " \t\t\t\t\t\t\t\t45\n",
       " \t\t\t\t\t\t\t</td>\n",
       " </tr>, <tr>\n",
       " <td class=\"res_hide\">\n",
       " \t\t\t\t\t\t\t\t10620\n",
       " \t\t\t\t\t\t\t</td>\n",
       " <td class=\"l\">\n",
       " <div class=\"wrap\">\n",
       " <a href=\"/frt/bbs/type010/commonSelectBoardArticle.do;jsessionid=bnpjsL3mV0NJwHnnm4tK-YCn.node40?bbsId=BBSMSTR_000000000008&amp;nttId=76011\" onclick=\"javascript:fn_egov_inqire_notice('76011', 'BBSMSTR_000000000008'); return false;\">위기경보‘심각’발령에 따른 코로나19 긴급대책비 지원 </a>\n",
       " </div>\n",
       " </td>\n",
       " <td class=\"res_hide\">\n",
       " <img alt=\"첨부파일\" src=\"/images/board/icon_file.gif;jsessionid=bnpjsL3mV0NJwHnnm4tK-YCn.node40\">\n",
       " </img></td>\n",
       " <td class=\"res_hide\">\n",
       " \t\t\t\t\t\t\t\t재난관리정책과\n",
       " \t\t\t\t\t\t\t</td>\n",
       " <td>\n",
       " \t\t\t\t\t\t\t\t2020.02.26.\n",
       " \t\t\t\t\t\t\t</td>\n",
       " <td class=\"res_hide\">\n",
       " \t\t\t\t\t\t\t\t527\n",
       " \t\t\t\t\t\t\t</td>\n",
       " </tr>, <tr>\n",
       " <td class=\"res_hide\">\n",
       " \t\t\t\t\t\t\t\t10619\n",
       " \t\t\t\t\t\t\t</td>\n",
       " <td class=\"l\">\n",
       " <div class=\"wrap\">\n",
       " <a href=\"/frt/bbs/type010/commonSelectBoardArticle.do;jsessionid=bnpjsL3mV0NJwHnnm4tK-YCn.node40?bbsId=BBSMSTR_000000000008&amp;nttId=75999\" onclick=\"javascript:fn_egov_inqire_notice('75999', 'BBSMSTR_000000000008'); return false;\">터널 안 교통사고, 최근 5년간 3,218건, 인명피해 7,472명 </a>\n",
       " </div>\n",
       " </td>\n",
       " <td class=\"res_hide\">\n",
       " <img alt=\"첨부파일\" src=\"/images/board/icon_file.gif;jsessionid=bnpjsL3mV0NJwHnnm4tK-YCn.node40\">\n",
       " </img></td>\n",
       " <td class=\"res_hide\">\n",
       " \t\t\t\t\t\t\t\t예방안전과\n",
       " \t\t\t\t\t\t\t</td>\n",
       " <td>\n",
       " \t\t\t\t\t\t\t\t2020.02.25.\n",
       " \t\t\t\t\t\t\t</td>\n",
       " <td class=\"res_hide\">\n",
       " \t\t\t\t\t\t\t\t338\n",
       " \t\t\t\t\t\t\t</td>\n",
       " </tr>, <tr>\n",
       " <td class=\"res_hide\">\n",
       " \t\t\t\t\t\t\t\t10618\n",
       " \t\t\t\t\t\t\t</td>\n",
       " <td class=\"l\">\n",
       " <div class=\"wrap\">\n",
       " <a href=\"/frt/bbs/type010/commonSelectBoardArticle.do;jsessionid=bnpjsL3mV0NJwHnnm4tK-YCn.node40?bbsId=BBSMSTR_000000000008&amp;nttId=75998\" onclick=\"javascript:fn_egov_inqire_notice('75998', 'BBSMSTR_000000000008'); return false;\">‘제7기(2014~2018) 지방의회백서’ 발간 </a>\n",
       " </div>\n",
       " </td>\n",
       " <td class=\"res_hide\">\n",
       " <img alt=\"첨부파일\" src=\"/images/board/icon_file.gif;jsessionid=bnpjsL3mV0NJwHnnm4tK-YCn.node40\"/>\n",
       " </td>\n",
       " <td class=\"res_hide\">\n",
       " \t\t\t\t\t\t\t\t선거의회과\n",
       " \t\t\t\t\t\t\t</td>\n",
       " <td>\n",
       " \t\t\t\t\t\t\t\t2020.02.25.\n",
       " \t\t\t\t\t\t\t</td>\n",
       " <td class=\"res_hide\">\n",
       " \t\t\t\t\t\t\t\t144\n",
       " \t\t\t\t\t\t\t</td>\n",
       " </tr>, <tr>\n",
       " <td class=\"res_hide\">\n",
       " \t\t\t\t\t\t\t\t10617\n",
       " \t\t\t\t\t\t\t</td>\n",
       " <td class=\"l\">\n",
       " <div class=\"wrap\">\n",
       " <a href=\"/frt/bbs/type010/commonSelectBoardArticle.do;jsessionid=bnpjsL3mV0NJwHnnm4tK-YCn.node40?bbsId=BBSMSTR_000000000008&amp;nttId=75994\" onclick=\"javascript:fn_egov_inqire_notice('75994', 'BBSMSTR_000000000008'); return false;\">정부청사, 코로나19 유입대비 출입강화, 집중방역 실시 </a>\n",
       " </div>\n",
       " </td>\n",
       " <td class=\"res_hide\">\n",
       " <img alt=\"첨부파일\" src=\"/images/board/icon_file.gif;jsessionid=bnpjsL3mV0NJwHnnm4tK-YCn.node40\"/>\n",
       " </td>\n",
       " <td class=\"res_hide\">\n",
       " \t\t\t\t\t\t\t\t노사후생과\n",
       " \t\t\t\t\t\t\t</td>\n",
       " <td>\n",
       " \t\t\t\t\t\t\t\t2020.02.24.\n",
       " \t\t\t\t\t\t\t</td>\n",
       " <td class=\"res_hide\">\n",
       " \t\t\t\t\t\t\t\t387\n",
       " \t\t\t\t\t\t\t</td>\n",
       " </tr>, <tr>\n",
       " <td class=\"res_hide\">\n",
       " \t\t\t\t\t\t\t\t10616\n",
       " \t\t\t\t\t\t\t</td>\n",
       " <td class=\"l\">\n",
       " <div class=\"wrap\">\n",
       " <a href=\"/frt/bbs/type010/commonSelectBoardArticle.do;jsessionid=bnpjsL3mV0NJwHnnm4tK-YCn.node40?bbsId=BBSMSTR_000000000008&amp;nttId=75961\" onclick=\"javascript:fn_egov_inqire_notice('75961', 'BBSMSTR_000000000008'); return false;\">소하천 토지변경 없으면, 점용허가 끝나도 원상복구 면제 </a>\n",
       " </div>\n",
       " </td>\n",
       " <td class=\"res_hide\">\n",
       " <img alt=\"첨부파일\" src=\"/images/board/icon_file.gif;jsessionid=bnpjsL3mV0NJwHnnm4tK-YCn.node40\"/>\n",
       " </td>\n",
       " <td class=\"res_hide\">\n",
       " \t\t\t\t\t\t\t\t재난경감과\n",
       " \t\t\t\t\t\t\t</td>\n",
       " <td>\n",
       " \t\t\t\t\t\t\t\t2020.02.24.\n",
       " \t\t\t\t\t\t\t</td>\n",
       " <td class=\"res_hide\">\n",
       " \t\t\t\t\t\t\t\t293\n",
       " \t\t\t\t\t\t\t</td>\n",
       " </tr>, <tr>\n",
       " <td class=\"res_hide\">\n",
       " \t\t\t\t\t\t\t\t10615\n",
       " \t\t\t\t\t\t\t</td>\n",
       " <td class=\"l\">\n",
       " <div class=\"wrap\">\n",
       " <a href=\"/frt/bbs/type010/commonSelectBoardArticle.do;jsessionid=bnpjsL3mV0NJwHnnm4tK-YCn.node40?bbsId=BBSMSTR_000000000008&amp;nttId=75960\" onclick=\"javascript:fn_egov_inqire_notice('75960', 'BBSMSTR_000000000008'); return false;\">각종 규제에 가로막힌 접경지역 발전에 올해 2,160억원 투자 </a>\n",
       " </div>\n",
       " </td>\n",
       " <td class=\"res_hide\">\n",
       " <img alt=\"첨부파일\" src=\"/images/board/icon_file.gif;jsessionid=bnpjsL3mV0NJwHnnm4tK-YCn.node40\"/>\n",
       " </td>\n",
       " <td class=\"res_hide\">\n",
       " \t\t\t\t\t\t\t\t지역균형발전과\n",
       " \t\t\t\t\t\t\t</td>\n",
       " <td>\n",
       " \t\t\t\t\t\t\t\t2020.02.24.\n",
       " \t\t\t\t\t\t\t</td>\n",
       " <td class=\"res_hide\">\n",
       " \t\t\t\t\t\t\t\t393\n",
       " \t\t\t\t\t\t\t</td>\n",
       " </tr>, <tr>\n",
       " <td class=\"res_hide\">\n",
       " \t\t\t\t\t\t\t\t10614\n",
       " \t\t\t\t\t\t\t</td>\n",
       " <td class=\"l\">\n",
       " <div class=\"wrap\">\n",
       " <a href=\"/frt/bbs/type010/commonSelectBoardArticle.do;jsessionid=bnpjsL3mV0NJwHnnm4tK-YCn.node40?bbsId=BBSMSTR_000000000008&amp;nttId=75954\" onclick=\"javascript:fn_egov_inqire_notice('75954', 'BBSMSTR_000000000008'); return false;\">행안부, 대한적십자사와 손잡고 일원화된 재난심리회복 체계 구축 </a>\n",
       " </div>\n",
       " </td>\n",
       " <td class=\"res_hide\">\n",
       " <img alt=\"첨부파일\" src=\"/images/board/icon_file.gif;jsessionid=bnpjsL3mV0NJwHnnm4tK-YCn.node40\"/>\n",
       " </td>\n",
       " <td class=\"res_hide\">\n",
       " \t\t\t\t\t\t\t\t재난구호과\n",
       " \t\t\t\t\t\t\t</td>\n",
       " <td>\n",
       " \t\t\t\t\t\t\t\t2020.02.23.\n",
       " \t\t\t\t\t\t\t</td>\n",
       " <td class=\"res_hide\">\n",
       " \t\t\t\t\t\t\t\t425\n",
       " \t\t\t\t\t\t\t</td>\n",
       " </tr>, <tr>\n",
       " <td class=\"res_hide\">\n",
       " \t\t\t\t\t\t\t\t10613\n",
       " \t\t\t\t\t\t\t</td>\n",
       " <td class=\"l\">\n",
       " <div class=\"wrap\">\n",
       " <a href=\"/frt/bbs/type010/commonSelectBoardArticle.do;jsessionid=bnpjsL3mV0NJwHnnm4tK-YCn.node40?bbsId=BBSMSTR_000000000008&amp;nttId=75983\" onclick=\"javascript:fn_egov_inqire_notice('75983', 'BBSMSTR_000000000008'); return false;\">행안부, 코로나19 확산에 따른 현장 대비상황 종합 점검 </a>\n",
       " </div>\n",
       " </td>\n",
       " <td class=\"res_hide\">\n",
       " <img alt=\"첨부파일\" src=\"/images/board/icon_file.gif;jsessionid=bnpjsL3mV0NJwHnnm4tK-YCn.node40\"/>\n",
       " </td>\n",
       " <td class=\"res_hide\">\n",
       " \t\t\t\t\t\t\t\t안전기획과\n",
       " \t\t\t\t\t\t\t</td>\n",
       " <td>\n",
       " \t\t\t\t\t\t\t\t2020.02.22.\n",
       " \t\t\t\t\t\t\t</td>\n",
       " <td class=\"res_hide\">\n",
       " \t\t\t\t\t\t\t\t277\n",
       " \t\t\t\t\t\t\t</td>\n",
       " </tr>, <tr>\n",
       " <td class=\"res_hide\">\n",
       " \t\t\t\t\t\t\t\t10612\n",
       " \t\t\t\t\t\t\t</td>\n",
       " <td class=\"l\">\n",
       " <div class=\"wrap\">\n",
       " <a href=\"/frt/bbs/type010/commonSelectBoardArticle.do;jsessionid=bnpjsL3mV0NJwHnnm4tK-YCn.node40?bbsId=BBSMSTR_000000000008&amp;nttId=75932\" onclick=\"javascript:fn_egov_inqire_notice('75932', 'BBSMSTR_000000000008'); return false;\">진영 장관, 코로나19 확산 방지에 전국 지자체 총력 대응 요청 </a>\n",
       " </div>\n",
       " </td>\n",
       " <td class=\"res_hide\">\n",
       " <img alt=\"첨부파일\" src=\"/images/board/icon_file.gif;jsessionid=bnpjsL3mV0NJwHnnm4tK-YCn.node40\"/>\n",
       " </td>\n",
       " <td class=\"res_hide\">\n",
       " \t\t\t\t\t\t\t\t자치행정과\n",
       " \t\t\t\t\t\t\t</td>\n",
       " <td>\n",
       " \t\t\t\t\t\t\t\t2020.02.20.\n",
       " \t\t\t\t\t\t\t</td>\n",
       " <td class=\"res_hide\">\n",
       " \t\t\t\t\t\t\t\t2492\n",
       " \t\t\t\t\t\t\t</td>\n",
       " </tr>]"
      ]
     },
     "execution_count": 239,
     "metadata": {},
     "output_type": "execute_result"
    }
   ],
   "source": [
    "#doc type html 확인\n",
    "html = bs(response.content, 'html.parser')\n",
    "titles = html.select('.table_style1.mobile > tbody > tr')\n",
    "titles"
   ]
  },
  {
   "cell_type": "code",
   "execution_count": 250,
   "metadata": {},
   "outputs": [
    {
     "data": {
      "text/plain": [
       "'10621'"
      ]
     },
     "execution_count": 250,
     "metadata": {},
     "output_type": "execute_result"
    }
   ],
   "source": [
    "titles[0].select_one('td:nth-child(1)').text.strip()"
   ]
  },
  {
   "cell_type": "code",
   "execution_count": 243,
   "metadata": {},
   "outputs": [
    {
     "data": {
      "text/plain": [
       "'납세자보호관, 지방세 고충민원 해결사로 정착!'"
      ]
     },
     "execution_count": 243,
     "metadata": {},
     "output_type": "execute_result"
    }
   ],
   "source": [
    "titles[0].select_one('div').text.strip()"
   ]
  },
  {
   "cell_type": "code",
   "execution_count": 244,
   "metadata": {},
   "outputs": [
    {
     "data": {
      "text/plain": [
       "'지방세정책과'"
      ]
     },
     "execution_count": 244,
     "metadata": {},
     "output_type": "execute_result"
    }
   ],
   "source": [
    "titles[0].select_one('td:nth-child(4)').text.strip()"
   ]
  },
  {
   "cell_type": "code",
   "execution_count": 245,
   "metadata": {},
   "outputs": [
    {
     "data": {
      "text/plain": [
       "'2020.02.26.'"
      ]
     },
     "execution_count": 245,
     "metadata": {},
     "output_type": "execute_result"
    }
   ],
   "source": [
    "titles[0].select_one('td:nth-child(5)').text.strip()"
   ]
  },
  {
   "cell_type": "code",
   "execution_count": 246,
   "metadata": {},
   "outputs": [
    {
     "data": {
      "text/plain": [
       "'45'"
      ]
     },
     "execution_count": 246,
     "metadata": {},
     "output_type": "execute_result"
    }
   ],
   "source": [
    "titles[0].select_one('td:nth-child(6)').text.strip()"
   ]
  },
  {
   "cell_type": "code",
   "execution_count": 269,
   "metadata": {
    "scrolled": true
   },
   "outputs": [
    {
     "data": {
      "text/plain": [
       "'https://www.mois.go.kr/frt/bbs/type010/commonSelectBoardArticle.do;jsessionid=bnpjsL3mV0NJwHnnm4tK-YCn.node40?bbsId=BBSMSTR_000000000008&nttId=76012'"
      ]
     },
     "execution_count": 269,
     "metadata": {},
     "output_type": "execute_result"
    }
   ],
   "source": [
    "domain = 'https://www.mois.go.kr'\n",
    "domain + titles[0].select_one('a').get('href')"
   ]
  },
  {
   "cell_type": "code",
   "execution_count": 254,
   "metadata": {},
   "outputs": [
    {
     "data": {
      "text/html": [
       "<div>\n",
       "<style scoped>\n",
       "    .dataframe tbody tr th:only-of-type {\n",
       "        vertical-align: middle;\n",
       "    }\n",
       "\n",
       "    .dataframe tbody tr th {\n",
       "        vertical-align: top;\n",
       "    }\n",
       "\n",
       "    .dataframe thead th {\n",
       "        text-align: right;\n",
       "    }\n",
       "</style>\n",
       "<table border=\"1\" class=\"dataframe\">\n",
       "  <thead>\n",
       "    <tr style=\"text-align: right;\">\n",
       "      <th></th>\n",
       "      <th>date</th>\n",
       "      <th>div</th>\n",
       "      <th>no</th>\n",
       "      <th>title</th>\n",
       "      <th>view</th>\n",
       "    </tr>\n",
       "  </thead>\n",
       "  <tbody>\n",
       "    <tr>\n",
       "      <th>0</th>\n",
       "      <td>2020.02.26.</td>\n",
       "      <td>지방세정책과</td>\n",
       "      <td>10621</td>\n",
       "      <td>납세자보호관, 지방세 고충민원 해결사로 정착!</td>\n",
       "      <td>45</td>\n",
       "    </tr>\n",
       "    <tr>\n",
       "      <th>1</th>\n",
       "      <td>2020.02.26.</td>\n",
       "      <td>재난관리정책과</td>\n",
       "      <td>10620</td>\n",
       "      <td>위기경보‘심각’발령에 따른 코로나19 긴급대책비 지원</td>\n",
       "      <td>527</td>\n",
       "    </tr>\n",
       "    <tr>\n",
       "      <th>2</th>\n",
       "      <td>2020.02.25.</td>\n",
       "      <td>예방안전과</td>\n",
       "      <td>10619</td>\n",
       "      <td>터널 안 교통사고, 최근 5년간 3,218건, 인명피해 7,472명</td>\n",
       "      <td>338</td>\n",
       "    </tr>\n",
       "    <tr>\n",
       "      <th>3</th>\n",
       "      <td>2020.02.25.</td>\n",
       "      <td>선거의회과</td>\n",
       "      <td>10618</td>\n",
       "      <td>‘제7기(2014~2018) 지방의회백서’ 발간</td>\n",
       "      <td>144</td>\n",
       "    </tr>\n",
       "    <tr>\n",
       "      <th>4</th>\n",
       "      <td>2020.02.24.</td>\n",
       "      <td>노사후생과</td>\n",
       "      <td>10617</td>\n",
       "      <td>정부청사, 코로나19 유입대비 출입강화, 집중방역 실시</td>\n",
       "      <td>387</td>\n",
       "    </tr>\n",
       "    <tr>\n",
       "      <th>5</th>\n",
       "      <td>2020.02.24.</td>\n",
       "      <td>재난경감과</td>\n",
       "      <td>10616</td>\n",
       "      <td>소하천 토지변경 없으면, 점용허가 끝나도 원상복구 면제</td>\n",
       "      <td>293</td>\n",
       "    </tr>\n",
       "    <tr>\n",
       "      <th>6</th>\n",
       "      <td>2020.02.24.</td>\n",
       "      <td>지역균형발전과</td>\n",
       "      <td>10615</td>\n",
       "      <td>각종 규제에 가로막힌 접경지역 발전에 올해 2,160억원 투자</td>\n",
       "      <td>393</td>\n",
       "    </tr>\n",
       "    <tr>\n",
       "      <th>7</th>\n",
       "      <td>2020.02.23.</td>\n",
       "      <td>재난구호과</td>\n",
       "      <td>10614</td>\n",
       "      <td>행안부, 대한적십자사와 손잡고 일원화된 재난심리회복 체계 구축</td>\n",
       "      <td>425</td>\n",
       "    </tr>\n",
       "    <tr>\n",
       "      <th>8</th>\n",
       "      <td>2020.02.22.</td>\n",
       "      <td>안전기획과</td>\n",
       "      <td>10613</td>\n",
       "      <td>행안부, 코로나19 확산에 따른 현장 대비상황 종합 점검</td>\n",
       "      <td>277</td>\n",
       "    </tr>\n",
       "    <tr>\n",
       "      <th>9</th>\n",
       "      <td>2020.02.20.</td>\n",
       "      <td>자치행정과</td>\n",
       "      <td>10612</td>\n",
       "      <td>진영 장관, 코로나19 확산 방지에 전국 지자체 총력 대응 요청</td>\n",
       "      <td>2492</td>\n",
       "    </tr>\n",
       "  </tbody>\n",
       "</table>\n",
       "</div>"
      ],
      "text/plain": [
       "          date      div     no                                  title  view\n",
       "0  2020.02.26.   지방세정책과  10621              납세자보호관, 지방세 고충민원 해결사로 정착!    45\n",
       "1  2020.02.26.  재난관리정책과  10620          위기경보‘심각’발령에 따른 코로나19 긴급대책비 지원   527\n",
       "2  2020.02.25.    예방안전과  10619  터널 안 교통사고, 최근 5년간 3,218건, 인명피해 7,472명   338\n",
       "3  2020.02.25.    선거의회과  10618             ‘제7기(2014~2018) 지방의회백서’ 발간   144\n",
       "4  2020.02.24.    노사후생과  10617         정부청사, 코로나19 유입대비 출입강화, 집중방역 실시   387\n",
       "5  2020.02.24.    재난경감과  10616         소하천 토지변경 없으면, 점용허가 끝나도 원상복구 면제   293\n",
       "6  2020.02.24.  지역균형발전과  10615     각종 규제에 가로막힌 접경지역 발전에 올해 2,160억원 투자   393\n",
       "7  2020.02.23.    재난구호과  10614     행안부, 대한적십자사와 손잡고 일원화된 재난심리회복 체계 구축   425\n",
       "8  2020.02.22.    안전기획과  10613        행안부, 코로나19 확산에 따른 현장 대비상황 종합 점검   277\n",
       "9  2020.02.20.    자치행정과  10612    진영 장관, 코로나19 확산 방지에 전국 지자체 총력 대응 요청  2492"
      ]
     },
     "execution_count": 254,
     "metadata": {},
     "output_type": "execute_result"
    }
   ],
   "source": [
    "data = []\n",
    "for title in titles:\n",
    "    data.append({\n",
    "    'no': title.select_one('td:nth-child(1)').text.strip(),\n",
    "    'title':title.select_one('div').text.strip(),\n",
    "    'div':title.select_one('td:nth-child(4)').text.strip(),\n",
    "    'date':title.select_one('td:nth-child(5)').text.strip(),\n",
    "    'view':title.select_one('td:nth-child(6)').text.strip()\n",
    "    })\n",
    "pd.DataFrame(data)"
   ]
  },
  {
   "cell_type": "code",
   "execution_count": 272,
   "metadata": {},
   "outputs": [],
   "source": [
    "# 함수화\n",
    "def get_news_moit(page):\n",
    "    \n",
    "\n",
    "    pages = range(1,page+1)\n",
    "    data = []\n",
    "    domain = 'https://www.mois.go.kr'\n",
    "    url = 'https://www.mois.go.kr/frt/bbs/type010/commonSelectBoardList.do?bbsId=BBSMSTR_000000000008'\n",
    "    for page in pages:\n",
    "        params = {\n",
    "            'nttId': 0,\n",
    "            'bbsTyCode': 'BBST03',\n",
    "            'bbsAttrbCode': 'BBSA03',\n",
    "            'authFlag': 'Y',\n",
    "            'pageIndex': page,\n",
    "            'cal_url': '/sym/cal/EgovNormalCalPopup.do',\n",
    "            'searchCnd': 0,\n",
    "            'searchWrd': ''\n",
    "        }\n",
    "        \n",
    "        response = requests.post(url, params)\n",
    "        html = bs(response.content, 'html.parser')\n",
    "        titles = html.select('.table_style1.mobile > tbody > tr')\n",
    "        \n",
    "        \n",
    "        for title in titles:\n",
    "            data.append({\n",
    "            'no': title.select_one('td:nth-child(1)').text.strip(),\n",
    "            'title':title.select_one('div').text.strip(),\n",
    "            'div':title.select_one('td:nth-child(4)').text.strip(),\n",
    "            'date':title.select_one('td:nth-child(5)').text.strip(),\n",
    "            'view':title.select_one('td:nth-child(6)').text.strip(),\n",
    "            'link': domain + title.select_one('a').get('href')\n",
    "            })\n",
    "    return pd.DataFrame(data)[['no','title','link', 'div','date','view']]"
   ]
  },
  {
   "cell_type": "code",
   "execution_count": 277,
   "metadata": {
    "scrolled": false
   },
   "outputs": [
    {
     "ename": "ValueError",
     "evalue": "Must provide an even number of non-keyword arguments",
     "output_type": "error",
     "traceback": [
      "\u001b[1;31m---------------------------------------------------------------------------\u001b[0m",
      "\u001b[1;31mValueError\u001b[0m                                Traceback (most recent call last)",
      "\u001b[1;32m<ipython-input-277-17ced8581aaf>\u001b[0m in \u001b[0;36m<module>\u001b[1;34m()\u001b[0m\n\u001b[1;32m----> 1\u001b[1;33m \u001b[0mpd\u001b[0m\u001b[1;33m.\u001b[0m\u001b[0mset_option\u001b[0m\u001b[1;33m(\u001b[0m\u001b[1;33m)\u001b[0m\u001b[1;33m\u001b[0m\u001b[0m\n\u001b[0m\u001b[0;32m      2\u001b[0m \u001b[0mget_news_moit\u001b[0m\u001b[1;33m(\u001b[0m\u001b[1;36m2\u001b[0m\u001b[1;33m)\u001b[0m\u001b[1;33m\u001b[0m\u001b[0m\n",
      "\u001b[1;32m~\\Documents\\Anaconda3\\envs\\tensorflow\\lib\\site-packages\\pandas\\core\\config.py\u001b[0m in \u001b[0;36m__call__\u001b[1;34m(self, *args, **kwds)\u001b[0m\n\u001b[0;32m    225\u001b[0m \u001b[1;33m\u001b[0m\u001b[0m\n\u001b[0;32m    226\u001b[0m     \u001b[1;32mdef\u001b[0m \u001b[0m__call__\u001b[0m\u001b[1;33m(\u001b[0m\u001b[0mself\u001b[0m\u001b[1;33m,\u001b[0m \u001b[1;33m*\u001b[0m\u001b[0margs\u001b[0m\u001b[1;33m,\u001b[0m \u001b[1;33m**\u001b[0m\u001b[0mkwds\u001b[0m\u001b[1;33m)\u001b[0m\u001b[1;33m:\u001b[0m\u001b[1;33m\u001b[0m\u001b[0m\n\u001b[1;32m--> 227\u001b[1;33m         \u001b[1;32mreturn\u001b[0m \u001b[0mself\u001b[0m\u001b[1;33m.\u001b[0m\u001b[0m__func__\u001b[0m\u001b[1;33m(\u001b[0m\u001b[1;33m*\u001b[0m\u001b[0margs\u001b[0m\u001b[1;33m,\u001b[0m \u001b[1;33m**\u001b[0m\u001b[0mkwds\u001b[0m\u001b[1;33m)\u001b[0m\u001b[1;33m\u001b[0m\u001b[0m\n\u001b[0m\u001b[0;32m    228\u001b[0m \u001b[1;33m\u001b[0m\u001b[0m\n\u001b[0;32m    229\u001b[0m     \u001b[1;33m@\u001b[0m\u001b[0mproperty\u001b[0m\u001b[1;33m\u001b[0m\u001b[0m\n",
      "\u001b[1;32m~\\Documents\\Anaconda3\\envs\\tensorflow\\lib\\site-packages\\pandas\\core\\config.py\u001b[0m in \u001b[0;36m_set_option\u001b[1;34m(*args, **kwargs)\u001b[0m\n\u001b[0;32m    106\u001b[0m     \u001b[0mnargs\u001b[0m \u001b[1;33m=\u001b[0m \u001b[0mlen\u001b[0m\u001b[1;33m(\u001b[0m\u001b[0margs\u001b[0m\u001b[1;33m)\u001b[0m\u001b[1;33m\u001b[0m\u001b[0m\n\u001b[0;32m    107\u001b[0m     \u001b[1;32mif\u001b[0m \u001b[1;32mnot\u001b[0m \u001b[0mnargs\u001b[0m \u001b[1;32mor\u001b[0m \u001b[0mnargs\u001b[0m \u001b[1;33m%\u001b[0m \u001b[1;36m2\u001b[0m \u001b[1;33m!=\u001b[0m \u001b[1;36m0\u001b[0m\u001b[1;33m:\u001b[0m\u001b[1;33m\u001b[0m\u001b[0m\n\u001b[1;32m--> 108\u001b[1;33m         raise ValueError(\"Must provide an even number of non-keyword \"\n\u001b[0m\u001b[0;32m    109\u001b[0m                          \"arguments\")\n\u001b[0;32m    110\u001b[0m \u001b[1;33m\u001b[0m\u001b[0m\n",
      "\u001b[1;31mValueError\u001b[0m: Must provide an even number of non-keyword arguments"
     ]
    }
   ],
   "source": [
    "# pd.set_option('display.max_colwidth',-1)\n",
    "get_news_moit(2)"
   ]
  },
  {
   "cell_type": "code",
   "execution_count": null,
   "metadata": {},
   "outputs": [],
   "source": []
  }
 ],
 "metadata": {
  "kernelspec": {
   "display_name": "Python [conda env:tensorflow]",
   "language": "python",
   "name": "conda-env-tensorflow-py"
  },
  "language_info": {
   "codemirror_mode": {
    "name": "ipython",
    "version": 3
   },
   "file_extension": ".py",
   "mimetype": "text/x-python",
   "name": "python",
   "nbconvert_exporter": "python",
   "pygments_lexer": "ipython3",
   "version": "3.5.5"
  }
 },
 "nbformat": 4,
 "nbformat_minor": 2
}
