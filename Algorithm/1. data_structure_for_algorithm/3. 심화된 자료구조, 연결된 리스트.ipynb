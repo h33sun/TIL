{
 "cells": [
  {
   "cell_type": "markdown",
   "metadata": {},
   "source": [
    "### 1. 연결된 리스트?\n",
    "- 여러개의 노드들이 한줄로 연결\n",
    "    - 노드: `저장할 데이터` + `다음 노드로의 연결`\n",
    "- 1. 단순연결리스트: 한 방향으로만 연결된 리스트\n",
    "- 2. 이중연결리스트: 양 방향으로 연결된 리스트\n",
    "- 3. 원형연결리스트: 가장 뒤의 노드가 맨 앞의 노드와 연결된 리스트\n",
    "\n",
    "#### 1-1. 배열 VS 연결된 리스트\n",
    "- 배열:  인덱스를 사용해 데이터에 접근\n",
    "- 연결된리스트: 현재 노드에서 연결된 노드로만 접근\n",
    "    - 항상 Head를 지정해줘야함\n",
    "- 연결리스트의 시간 복잡도\n",
    "    - 자료 추가/삭제: 리스트의 크기와 상관없이 항상 O(1) -> 매우 `효율적!`\n",
    "        - 단순 연결만 추가하거나 삭제하면 되기 때문"
   ]
  },
  {
   "cell_type": "code",
   "execution_count": 1,
   "metadata": {},
   "outputs": [],
   "source": [
    "#노드는 자신이 갖는 data와 연결 방향을 갖는다.\n",
    "class Node:\n",
    "    def __init__(self, val):\n",
    "        #데이터\n",
    "        self.val = val\n",
    "        #연결방향\n",
    "        self.next = None\n",
    "        \n",
    "    def __str__(self):\n",
    "        return str(self.val)\n",
    "\n",
    "    \n",
    "    \n",
    "#연결리스트는 여러 노드의 연결이며, head와 tail을 갖는다.\n",
    "class LinkedList:\n",
    "    def __init__(self, head):\n",
    "        self.head = head\n",
    "        self.tail = head\n",
    "#노드를 입력으로 받아 tail의 next에 연결한다\n",
    "#자동적으로 tail은 연결된 노드가 된다\n",
    "    def addToEnd(self, node):\n",
    "        self.tail.next = node\n",
    "        self.tail = node\n",
    "        \n",
    "    def __str__(self):\n",
    "        node = self.head\n",
    "        toPrint = []\n",
    "        while node:\n",
    "            toPrint.append(str(node.val))\n",
    "            node = node.next\n",
    "        return \"->\".join(toPrint)\n",
    "        "
   ]
  },
  {
   "cell_type": "code",
   "execution_count": 1,
   "metadata": {},
   "outputs": [],
   "source": [
    "#연결리스트를 받아 array로 변환하라\n",
    "def toArray(llNode):\n",
    "    arr = []\n",
    "    it = llNode.head\n",
    "    \n",
    "    #llNode의 시작점부터 노드가 tail인지 확인하며 val을 저장하고, next로 다음 노드를 부른다\n",
    "    while it != llNode.tail:\n",
    "        arr.append(it.val)\n",
    "        it = it.next\n",
    "    #while만으로는 tail의 val은 append되지 않는다.\n",
    "    \n",
    "    arr.append(it.val)\n",
    "    return arr\n",
    "\n",
    "\n",
    "# 리스트를 받아 연결리스트로 변환하라\n",
    "def toLinkedList(lst):\n",
    "    #LinkedList의 Node꼴로 들어간다\n",
    "    # 첫 노드(head)는 lst의 첫 원소\n",
    "    llNode = LinkedList(Node(lst[0]))\n",
    "    \n",
    "    for x in lst[1:]:\n",
    "        llNode.addToEnd(Node(x))\n",
    "        \n",
    "    return llNode\n"
   ]
  },
  {
   "cell_type": "markdown",
   "metadata": {},
   "source": [
    "### 2. 큐\n",
    "- 앞의 데이터가 먼저 나간다 FIFO *EX):은행 줄*\n",
    "- 시간복잡도\n",
    "    - 입/출력: O(1) *매우 효율적*\n",
    "\n",
    "- 배열로 구현이 가능하지만 시간복잡도에서 엄청난 차이를 갖는다"
   ]
  },
  {
   "cell_type": "code",
   "execution_count": 2,
   "metadata": {},
   "outputs": [
    {
     "data": {
      "text/plain": [
       "2"
      ]
     },
     "execution_count": 2,
     "metadata": {},
     "output_type": "execute_result"
    }
   ],
   "source": [
    "import queue\n",
    "\n",
    "q = queue.Queue()\n",
    "q.put(2)\n",
    "q.put(8)\n",
    "q.get() #put의 순서대로 반환한다"
   ]
  },
  {
   "cell_type": "markdown",
   "metadata": {},
   "source": [
    "### Q1. 스트리밍 데이터의 이동평균\n",
    "\n",
    "정수 데이터가 스트리밍으로 (한번에 하나씩) 주어진다고 합시다. 이때, 주어진 범위 만큼의 이동 평균을 구하는 클래스 MovingAvg를 만들어 봅시다.\n",
    "\n",
    "MovingAvg는 처음에 이동 평균의 범위를 입력받아서 초기화 되며, 매 정수 데이타가 입력되는 nextVal(num)함수는 이때까지의 이동 평균을 반환합니다.\n",
    "\n",
    "예를 들어서, 2,8,19,37,4,5 의 순서로 데이터가 입력되고, 이동 평균의 범위는 3이라고 합시다. 이 경우 다음과 같이 MovingAvg가 사용 될 것입니다."
   ]
  },
  {
   "cell_type": "code",
   "execution_count": 5,
   "metadata": {},
   "outputs": [
    {
     "name": "stdout",
     "output_type": "stream",
     "text": [
      "2\n",
      "1\n",
      "1\n",
      "2\n",
      "[2.0, 5.0, 9.666666666666666, 21.333333333333332, 20.0, 15.333333333333334]\n"
     ]
    }
   ],
   "source": [
    "import queue\n",
    "\n",
    "class MovingAvg():\n",
    "    def __init__(self, size):\n",
    "        self.size = size\n",
    "        self.q = queue.Queue()\n",
    "        self.sum = 0\n",
    "        pass\n",
    "    #self.size는 이동평균의 범위를 뜻하는 size\n",
    "    #num은 새로 들어올 숫자\n",
    "    def nextVal(self, num):\n",
    "        if self.q.qsize() < self.size:\n",
    "            self.q.put(num)\n",
    "            self.sum += num\n",
    "            return self.sum / self.q.qsize()\n",
    "        else:\n",
    "            self.sum -= self.q.get()\n",
    "            self.q.put(num)\n",
    "            self.sum += num\n",
    "            return self.sum/self.size\n",
    "\n",
    "\n",
    "def queueExample():\n",
    "    q = queue.Queue()\n",
    "    q.put(1)\n",
    "    q.put(2)\n",
    "    print(q.qsize())\n",
    "    print(q.get())\n",
    "    print(q.qsize())\n",
    "    print(q.get())\n",
    "    \n",
    "def main():\n",
    "    queueExample()\n",
    "\n",
    "    nums = [2,8,19,37,4,5]\n",
    "    ma = MovingAvg(3)\n",
    "    results = []\n",
    "    for num in nums:\n",
    "        avg = ma.nextVal(num)\n",
    "        results.append(avg)\n",
    "    print(results) # [2.0, 5.0, 9.666666666666666, 21.333333333333332, 20.0, 15.333333333333334]\n",
    "\n",
    "if __name__ == \"__main__\":\n",
    "    main()"
   ]
  },
  {
   "cell_type": "markdown",
   "metadata": {},
   "source": [
    "### 3. 스택\n",
    "- 나중에 들어온 데이터가 먼저 나간다 LIFO *EX):쌓여진 접시*\n",
    "- 스택은 배열을 그냥 사용한다. `append()`, `pop()`"
   ]
  },
  {
   "cell_type": "code",
   "execution_count": null,
   "metadata": {},
   "outputs": [],
   "source": []
  }
 ],
 "metadata": {
  "kernelspec": {
   "display_name": "Python [conda env:tensorflow]",
   "language": "python",
   "name": "conda-env-tensorflow-py"
  },
  "language_info": {
   "codemirror_mode": {
    "name": "ipython",
    "version": 3
   },
   "file_extension": ".py",
   "mimetype": "text/x-python",
   "name": "python",
   "nbconvert_exporter": "python",
   "pygments_lexer": "ipython3",
   "version": "3.5.5"
  }
 },
 "nbformat": 4,
 "nbformat_minor": 2
}
