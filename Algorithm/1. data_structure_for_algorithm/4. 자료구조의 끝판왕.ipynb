{
 "cells": [
  {
   "cell_type": "markdown",
   "metadata": {},
   "source": [
    "### 1. 프로그래밍의 핵심\n",
    "\n",
    "- 1. 반복: 어떻게 반복을 효율적으로 처리할 것인가?\n",
    "\n",
    "```def doSomething(nums):\n",
    "       sum = 0\n",
    "       for num in nums:\n",
    "           sum += num\n",
    "       return sum\n",
    "```\n",
    "\n",
    "- 2. 재귀:  주어진 일이 반복이면서 동시에 더 작은 일(sub task)로 나뉘어질 수 있다면 적용 가능.\n",
    "    - ex) 1을 n번 더하기\n",
    "    - 가장 첫 base(종료 조건)이 필요하다.\n",
    "        - sum(n) = 1 + sum(n-1) = 1 + 1+ sum(n-2)\n",
    "        - base: sum(0) = 0"
   ]
  },
  {
   "cell_type": "code",
   "execution_count": 7,
   "metadata": {},
   "outputs": [
    {
     "name": "stdout",
     "output_type": "stream",
     "text": [
      "120\n",
      "120\n"
     ]
    }
   ],
   "source": [
    "# factorial 계산\n",
    "## factorial(n) = n * factorial(n-1)\n",
    "\n",
    "### 1. 반복문을 활용한 factorial 구현\n",
    "def factorial(n):\n",
    "    product = 1\n",
    "    if n == 0:\n",
    "        return 1\n",
    "    for x in range(1, n+1):\n",
    "        product *= x\n",
    "    return product\n",
    "\n",
    "print(factorial(5))\n",
    "\n",
    "\n",
    "### 2. 재귀를 활용한 factorial 구현\n",
    "\n",
    "def recur_factorial(n):\n",
    "    #0팩은 0이다.\n",
    "    if n == 0:\n",
    "        return 1 \n",
    "    return recur_factorial(n-1) * n\n",
    "\n",
    "print(recur_factorial(5))"
   ]
  },
  {
   "cell_type": "markdown",
   "metadata": {},
   "source": [
    "### 2. 동적프로그래밍\n",
    "\n",
    "- 재귀 + 정보저장(메모이제이션): 한 부분을 계산했다면 다시 계산할 필요가 없도록 다른 자료 구조에 값을 저장"
   ]
  },
  {
   "cell_type": "code",
   "execution_count": 8,
   "metadata": {},
   "outputs": [
    {
     "name": "stdout",
     "output_type": "stream",
     "text": [
      "55\n"
     ]
    }
   ],
   "source": [
    "class Fib():\n",
    "    def __init__(self):\n",
    "        self.memo = {}\n",
    "\n",
    "    def fibonacci(self, num):\n",
    "        #n번째 수가 n-1과 n-2의 합인 수\n",
    "        if num == 0:\n",
    "            return 0\n",
    "            \n",
    "        if num == 1:\n",
    "            return 1\n",
    "        \n",
    "        if num in self.memo:\n",
    "            return self.memo[num]\n",
    "        \n",
    "        #계산값을 memo에 넣어주자\n",
    "        self.memo[num] = self.fibonacci(num - 1) + self.fibonacci(num - 2)\n",
    "        \n",
    "        return self.memo[num]\n",
    "        \n",
    "def main():\n",
    "    f = Fib()\n",
    "    print(f.fibonacci(10)) # should return 55\n",
    "\n",
    "if __name__ == \"__main__\":\n",
    "    main()"
   ]
  },
  {
   "cell_type": "markdown",
   "metadata": {},
   "source": [
    "### 3. 트리\n",
    "- 나무 형태의 자료구조\n",
    "- 부모와 자식(가계도? ㅋㅋ)\n",
    "    - 부모 노드 -> 자식 노드 방향으로의 연결이 존재\n",
    "    - `root`: 부모가 없는 노드(시조)\n",
    "    - `leaf`: 자식이 없는 노드(마지막 손)\n",
    "- 트리의 깊이 : `root`에서 `leaf`까지 경로의 길이, Depth\n",
    "\n",
    "#### 3.1 트리의 특성\n",
    "- 1. 루트는 하나만 존재\n",
    "- 2. 방향성이 존재(일방향) -> 순환 구조가 없음\n",
    "\n",
    "#### 3.2 이진트리\n",
    "- 모든 노드가 `최대` 2개의 자식을 갖는 트리\n",
    "    - `이진탐색트리`(BST): 모든 부모 노드의 값이 왼쪽 자식 보다는 크고, 오른쪽 자식 보다는 작은 형태의 이진 트리\n",
    "    - `완전이진트리`(CBT): 마지막 레벨을 제외하고 모든 노드가 채워진 이진 트리 & 마지막 레벨 노드는 `왼쪽`부터 채워진 이진 트리\n",
    "    - `포화이진트리`(FBT): 모든 노드가 채워진 이진 트리"
   ]
  },
  {
   "cell_type": "markdown",
   "metadata": {},
   "source": [
    "### 4. 탐색\n",
    "\n",
    "#### 4.1 너비 우선 탐색(BFS)\n",
    "- 반복 기반의 탐색\n",
    "- `for`, `while` 문을 활용한 탐색\n",
    "- 횡적으로 한 층씩 탐색하는 방식\n",
    "- 큐에 노드를 순서대로 넣고 빼는 방식으로 탐색\n",
    "\n",
    "\n",
    "- ex) 큐에 검색 대상이 되는 node를 put\n",
    "      검색 이후에 left, right를 다시 큐에 put\n",
    "      \n",
    "\n",
    "``` def BFS(root):\n",
    "    q = queue.Queue()\n",
    "    q = q.put(root)\n",
    "    while q.qsize() > 0:\n",
    "        node = q.get()\n",
    "        if node:\n",
    "            탐색목적에 맞는 행위\n",
    "        q.put(node.left)\n",
    "        q.put(node.right)\n",
    "```\n",
    "\n"
   ]
  },
  {
   "cell_type": "markdown",
   "metadata": {},
   "source": [
    "\n",
    "\n",
    "#### 4.2 깊이우선탐색(DFS)\n",
    "- 재귀 기반의 탐색\n",
    "- 가장 깊은 곳까지 내려갔다가 오는 방식의 탐색\n",
    "- [[1],[2,3],[4,5,6,7]]의 구조 일 때\n",
    "    - DFS(1) -> DFS(2) -> DFS(4),DFS(5) -> DFS(3) -> DFS(6),DFS(7)\n",
    "\n",
    "``` def DFS(node):\n",
    "       doSomething\n",
    "       if node == 리프:\n",
    "           doSomething\n",
    "           return\n",
    "        DFS(node.left)\n",
    "        DFS(node.right)\n",
    "```"
   ]
  },
  {
   "cell_type": "markdown",
   "metadata": {},
   "source": [
    "### Q1. 경로의 합\n",
    "\n",
    "완벽한 이진 트리가 주어졌다고 합시다. 그리고 어떤 합 숫자가 주어졌다고 합시다. 이때, 이 트리의 루트(root)에서부터 잎(leaf)까지의 가능한 경로들을 고려해서, 이 경로들 중 최소 하나 이상의 해당 경로상의 value들의 합산과 주어진 합 숫자가 일치하면 True를, 아니면 Fals를 반환하는 함수를 구현 해 봅시다.\n",
    "\n",
    "예를 들어서,\n",
    "\n",
    " 1\n",
    "2 3\n",
    "Copy\n",
    "와 같은 트리가 주어지고 3 값이 주어진다면 1->2 경로의 합이 3이기 때문에 True를 반환하면 됩니다.\n",
    "\n",
    "   1\n",
    " 2   3\n",
    "4 5 6  7\n",
    "Copy\n",
    "과 같은 트리가 주어지고 8이 주어진다면 1->2->5 경로의 합이 8이기 때문에 True를 반환하면 됩니다. 하지만 만약 15가 주어진다면 해당 트리의 어떤 경로도 합산이 15가 되지 않기 때문에 False를 반환하면 됩니다.\n",
    "\n",
    "깊이 우선 탐색을 활용 해 봅시다."
   ]
  },
  {
   "cell_type": "code",
   "execution_count": 1,
   "metadata": {},
   "outputs": [
    {
     "name": "stdout",
     "output_type": "stream",
     "text": [
      "1\n",
      "2 3\n",
      "4 5 6 7\n",
      "True\n",
      "False\n"
     ]
    }
   ],
   "source": [
    "#====이 문제를 풀기 위해 필요한 클래스와 함수들입니다. 따로 수정 할 필요는 없습니다.\n",
    "class Node():\n",
    "    def __init__(self, val):\n",
    "        self.val = val\n",
    "        self.left = None\n",
    "        self.right = None\n",
    "\n",
    "def listToCompleteBinaryTree(lst):\n",
    "    def helper(index):\n",
    "        if index >= len(lst):\n",
    "            return None\n",
    "        node = Node(lst[index])\n",
    "        node.left = helper(index * 2 + 1)\n",
    "        node.right = helper(index * 2 + 2)\n",
    "        return node\n",
    "    return helper(0)\n",
    "\n",
    "def printTree(node):\n",
    "    q = [Node(-1), node]\n",
    "\n",
    "    line = []\n",
    "    while q:\n",
    "        node = q.pop()\n",
    "        if not node:\n",
    "            continue\n",
    "        elif node.val == -1:\n",
    "            if len(line) > 0:\n",
    "                print(\" \".join(line))\n",
    "                line = []\n",
    "                q.insert(0,Node(-1))\n",
    "        else:\n",
    "            q.insert(0,node.left)\n",
    "            q.insert(0,node.right)\n",
    "            line.append(str(node.val))\n",
    "#=================================================================================\n",
    "def path_sum(node, targetSum):\n",
    "    def dfsHelper(node, curSum):\n",
    "        # 여기에 깊이 우선 탐색을 구현 해 봅시다.\n",
    "        # 리프노드에 도달하지 않았을 때, left와 right로 다시 재귀호출\n",
    "        if node:\n",
    "            curSum += node.val\n",
    "            dfs_left = dfsHelper(node.left, curSum)\n",
    "            dfs_right = dfsHelper(node.right, curSum)\n",
    "        #리프노드에 도달했을 때 \n",
    "        else:\n",
    "            return curSum == targetSum\n",
    "            \n",
    "        return dfs_left or dfs_right\n",
    "    \n",
    "    return dfsHelper(node, 0)\n",
    "    \n",
    "def main():\n",
    "    node = listToCompleteBinaryTree([1,2,3,4,5,6,7])\n",
    "    printTree(node)\n",
    "    print(path_sum(node, 8)) # return True\n",
    "    print(path_sum(node, 15)) # return False\n",
    "\n",
    "if __name__ == \"__main__\":\n",
    "    main()\n",
    "    "
   ]
  },
  {
   "cell_type": "code",
   "execution_count": null,
   "metadata": {},
   "outputs": [],
   "source": []
  }
 ],
 "metadata": {
  "kernelspec": {
   "display_name": "Python [conda env:tensorflow]",
   "language": "python",
   "name": "conda-env-tensorflow-py"
  },
  "language_info": {
   "codemirror_mode": {
    "name": "ipython",
    "version": 3
   },
   "file_extension": ".py",
   "mimetype": "text/x-python",
   "name": "python",
   "nbconvert_exporter": "python",
   "pygments_lexer": "ipython3",
   "version": "3.5.5"
  }
 },
 "nbformat": 4,
 "nbformat_minor": 2
}
