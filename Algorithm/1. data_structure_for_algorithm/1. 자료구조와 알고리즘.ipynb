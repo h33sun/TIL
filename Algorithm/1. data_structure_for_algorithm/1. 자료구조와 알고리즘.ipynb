{
 "cells": [
  {
   "cell_type": "markdown",
   "metadata": {},
   "source": [
    "### 1. 프로그램의 기본 구성\n",
    "- 1. `입력`: 12 + 13\n",
    "- 2. `실행`: = 25\n",
    "- 3. `저장`: 25라는 값 저장\n",
    "- 4. `출력`: 화면에 보여줌\n",
    "\n",
    "#### 1-1. 데이터의 흐름과 저장\n",
    "- 1~4 까지 일련의 과정\n",
    "- 자료구조: 정수, 실수, 문자, 배열, 해쉬, 링크드리스트, 스택, 큐, 트리, 그래프\n",
    "- 조건에 맞는 자료 구조를 선택해야함\n",
    "\n",
    "#### 1-2. 효율성\n",
    "- `실행`에서의 효율성 (알고리즘!)\n",
    "\n",
    "#### 1-3. 좋은 알고리즘의 조건\n",
    "\n",
    "- `적절한 입력`\n",
    "- `적절한 출력`\n",
    "- `명확성`: 알고리즘의 각 단계 혹은 코드가 어떠한 기능을 위해 존재하는지 목적이 명확해야 \n",
    "- `유한성`: 무한루프에 빠지는 문제를 방지\n",
    "- `효율성`: 높을수록 좋은 알고리즘\n",
    "    - 어떻게 측정할까?\n",
    "    \n",
    "#### 1-4. 자료구조와 알고리즘의 관계\n",
    "\n",
    "- 1. `자료구조` -> `알고리즘`\n",
    "    - 자료구조를 활용하여 어떤 문제를 해결    \n",
    "    \n",
    "- 2. `자료구조` <- `알고리즘`\n",
    "    - 자료구조를 구현하는데 알고리즘이 사용됨\n",
    "    - 라이브러리를 사용하며 구현이 할 필요가 없을 때도 있지만, *문제에 맞는 최적의 자료구조를 구현하기 위해*\n"
   ]
  },
  {
   "cell_type": "markdown",
   "metadata": {},
   "source": [
    "### Q1. 두 수의 합\n",
    "\n",
    "숫자들의 배열이 주어지고 표적 숫자가 주어졌다고 합시다.배열에 주어진 숫자들 중 두 개의 숫자를 더하면 표적 숫자가 되는데요, 이때 어떤 두 수를 더하면 표적숫자가 되는지 찾는 문제를 풀어 봅시다.예를 들어서, [2, 8, 19, 37, 4, 5] 가 배열로 주어지고 12 가 표적으로 주어지면 8,4 를 찾아내시면 됩니다.\n",
    "\n",
    "입력 배열에는 중복되는 수가 없습니다.\n",
    "입력 배열에는 합해서 표적이 되는 어떤 두 수가 반드시 있습니다.\n",
    "출력의 순서는 상관 없습니다. 위 예시의 경우, 8,4 와 4,8은 둘 다 정답으로 인정합니다."
   ]
  },
  {
   "cell_type": "markdown",
   "metadata": {},
   "source": [
    "### A1. \n",
    "- 4/5 테스트케이스 통과\n",
    "- 5번 효율성 조건 불만족"
   ]
  },
  {
   "cell_type": "code",
   "execution_count": 12,
   "metadata": {},
   "outputs": [],
   "source": [
    "import time"
   ]
  },
  {
   "cell_type": "code",
   "execution_count": 15,
   "metadata": {},
   "outputs": [
    {
     "data": {
      "text/plain": [
       "(8, 4)"
      ]
     },
     "execution_count": 15,
     "metadata": {},
     "output_type": "execute_result"
    }
   ],
   "source": [
    "def twoSum(nums, target):\n",
    "\n",
    "    for num in nums:\n",
    "        if target - num in nums:\n",
    "            return num, target-num\n",
    "twoSum(nums,target)"
   ]
  },
  {
   "cell_type": "markdown",
   "metadata": {},
   "source": [
    "### A2.\n",
    "- SORT를 활용.\n",
    "- 모든 배열을 다 돌지 않게 코드를 작성한다."
   ]
  },
  {
   "cell_type": "code",
   "execution_count": 16,
   "metadata": {},
   "outputs": [
    {
     "data": {
      "text/plain": [
       "(4, 8)"
      ]
     },
     "execution_count": 16,
     "metadata": {},
     "output_type": "execute_result"
    }
   ],
   "source": [
    "def twoSum(nums, target):\n",
    "    i = 0\n",
    "    j = len(nums) - 1\n",
    "    \n",
    "    nums.sort()\n",
    "    \n",
    "    while i < j:\n",
    "        # nums의 첫 원소와 마지막 원소의 합이 같다면?\n",
    "        sums = nums[i] + nums[j]\n",
    "        if sums == target:\n",
    "            return nums[i], nums[j]\n",
    "        # sums가 target 보다 크다면? 더 작은 수를 더해줘야한다. j를 땡긴다        \n",
    "        elif sums > target:\n",
    "            j -= 1\n",
    "        # sums가 target보다 작다면? 더 큰수를 더해야 한다. i를 민다.\n",
    "        else:\n",
    "            i+= 1\n",
    "\n",
    "twoSum(nums,target)"
   ]
  },
  {
   "cell_type": "markdown",
   "metadata": {},
   "source": [
    "### Q2. 가장 큰 두수의 차\n",
    "\n",
    "0보다 큰 정수들의 배열이 주어졌다고 합시다. 여기서 가능한 모든 서로 다른 두 숫자의 차이를 고려 해 보고, 이중 가장 큰 차이를 반환하는 함수를 적어봅시다. 예를 들어서, [2, 8, 19, 37, 4, 5, 12, 50, 1, 34, 23] 가 입력으로 주어졌을 경우 가장 큰 차이를 내는 숫자쌍은 50-1 = 49 입니다.\n",
    "\n",
    "두 수의 차에 해당하는 값을 반환하면 됩니다. 위 예시의 경우, 49를 반환합니다.\n",
    "양의 값을 반환해야 합니다. 위 예시의 경우 -49가 아니라 49를 반환해야 합니다.\n",
    "배열의 길이는 2보다 크거나 같다고 가정합니다."
   ]
  },
  {
   "cell_type": "markdown",
   "metadata": {},
   "source": [
    "### A1. \n",
    "- 완벽하다고 생각했는데(배열을 다 돌지도 않았는데!) , 더 좋은 답이 있다고 한다"
   ]
  },
  {
   "cell_type": "code",
   "execution_count": 20,
   "metadata": {},
   "outputs": [
    {
     "data": {
      "text/plain": [
       "49"
      ]
     },
     "execution_count": 20,
     "metadata": {},
     "output_type": "execute_result"
    }
   ],
   "source": [
    "nums = [2, 8, 19, 37, 4, 5, 12, 50, 1, 34, 23]\n",
    "\n",
    "def maxTwoDiff(nums):\n",
    "    nums.sort()\n",
    "    return nums[-1] - nums[0]\n",
    "\n",
    "\n",
    "\n",
    "maxTwoDiff(nums)"
   ]
  },
  {
   "cell_type": "markdown",
   "metadata": {},
   "source": [
    "### A2. \n",
    "- sort를 건너뛸 수 있었다..\n",
    "- `sort`의 시간복잡도 O(NlogN)\n",
    "- `max`, `min`의 시간복잡도 O(N)\n",
    "\n",
    "- 어떻게 산정하는걸까?"
   ]
  },
  {
   "cell_type": "code",
   "execution_count": 21,
   "metadata": {},
   "outputs": [
    {
     "data": {
      "text/plain": [
       "49"
      ]
     },
     "execution_count": 21,
     "metadata": {},
     "output_type": "execute_result"
    }
   ],
   "source": [
    "def maxTwoDiff(nums):\n",
    "    return max(nums) - min(nums)\n",
    "\n",
    "maxTwoDiff(nums)"
   ]
  },
  {
   "cell_type": "markdown",
   "metadata": {},
   "source": [
    "### Q3. 중복된 하나의 숫자 찾아내기\n",
    "\n",
    "숫자들의 배열이 주어집니다. 이 배열은 길이 n을 가지며, 1부터 n-1까지의 숫자로 이루어져있습니다. 모든 숫자가 배열에 단 한번씩만 나타납니다. 그런데, 딱 하나의 수가 배열에 두번 등장합니다. 이 중복되는 숫자를 찾아내어 보세요.\n",
    "\n",
    "예를 들어서, [1, 5, 2, 4, 5, 6, 3] 를 살펴봅시다. 배열의 길이는 7이며, 따라서 1~6까지의 숫자들이 한번씩 등장합니다. 그런데 5만 한번 더 등장했네요.따라서 이 경우에는5를 찾아내면 됩니다."
   ]
  },
  {
   "cell_type": "code",
   "execution_count": 3,
   "metadata": {},
   "outputs": [
    {
     "name": "stdout",
     "output_type": "stream",
     "text": [
      "5\n"
     ]
    }
   ],
   "source": [
    "\n",
    "def findDuplicate(nums):\n",
    "    nums.sort()\n",
    "    for i in range(len(nums)):\n",
    "        if nums[i-1] == nums[i]:\n",
    "            return nums[i]\n",
    "    \n",
    "print(findDuplicate([1, 5, 2, 4, 5, 6, 3]))\n"
   ]
  },
  {
   "cell_type": "markdown",
   "metadata": {},
   "source": [
    "### Q4. 가장 큰 부분합 구하기\n",
    "\n",
    "정수들의 리스트가 입력으로 들어옵니다. 이 정수들의 리스트를 일부분만 잘라내어 모두 더했을 때의 값을 부분합이라 부릅니다. 이때 가장 큰 부분합을 구해봅시다.\n",
    "\n",
    "예를 들어, [-10, -7, 5, -7, 10, 5, -2, 17, -25, 1]이 입력으로 들어왔다면 [10, 5, -2, 17]을 모두 더한 30이 정답이 됩니다.\n",
    "\n",
    "※입력에는 최소 하나 이상의 양수가 존재합니다"
   ]
  },
  {
   "cell_type": "code",
   "execution_count": 32,
   "metadata": {},
   "outputs": [
    {
     "name": "stdout",
     "output_type": "stream",
     "text": [
      "0 10 [-10, -7, 5, -7, 10, 5, -2, 17, -25, 1] -13\n",
      "0 9 [-10, -7, 5, -7, 10, 5, -2, 17, -25] -14\n",
      "0 8 [-10, -7, 5, -7, 10, 5, -2, 17] 11\n",
      "0 7 [-10, -7, 5, -7, 10, 5, -2] -6\n",
      "0 6 [-10, -7, 5, -7, 10, 5] -4\n",
      "0 5 [-10, -7, 5, -7, 10] -9\n",
      "0 4 [-10, -7, 5, -7] -19\n",
      "0 3 [-10, -7, 5] -12\n",
      "0 2 [-10, -7] -17\n",
      "0 1 [-10] -10\n",
      "1 10 [-7, 5, -7, 10, 5, -2, 17, -25, 1] -3\n",
      "1 9 [-7, 5, -7, 10, 5, -2, 17, -25] -4\n",
      "1 8 [-7, 5, -7, 10, 5, -2, 17] 21\n",
      "1 7 [-7, 5, -7, 10, 5, -2] 4\n",
      "1 6 [-7, 5, -7, 10, 5] 6\n",
      "1 5 [-7, 5, -7, 10] 1\n",
      "1 4 [-7, 5, -7] -9\n",
      "1 3 [-7, 5] -2\n",
      "1 2 [-7] -7\n",
      "2 10 [5, -7, 10, 5, -2, 17, -25, 1] 4\n",
      "2 9 [5, -7, 10, 5, -2, 17, -25] 3\n",
      "2 8 [5, -7, 10, 5, -2, 17] 28\n",
      "2 7 [5, -7, 10, 5, -2] 11\n",
      "2 6 [5, -7, 10, 5] 13\n",
      "2 5 [5, -7, 10] 8\n",
      "2 4 [5, -7] -2\n",
      "2 3 [5] 5\n",
      "3 10 [-7, 10, 5, -2, 17, -25, 1] -1\n",
      "3 9 [-7, 10, 5, -2, 17, -25] -2\n",
      "3 8 [-7, 10, 5, -2, 17] 23\n",
      "3 7 [-7, 10, 5, -2] 6\n",
      "3 6 [-7, 10, 5] 8\n",
      "3 5 [-7, 10] 3\n",
      "3 4 [-7] -7\n",
      "4 10 [10, 5, -2, 17, -25, 1] 6\n",
      "4 9 [10, 5, -2, 17, -25] 5\n",
      "4 8 [10, 5, -2, 17] 30\n",
      "4 7 [10, 5, -2] 13\n",
      "4 6 [10, 5] 15\n",
      "4 5 [10] 10\n",
      "5 10 [5, -2, 17, -25, 1] -4\n",
      "5 9 [5, -2, 17, -25] -5\n",
      "5 8 [5, -2, 17] 20\n",
      "5 7 [5, -2] 3\n",
      "5 6 [5] 5\n",
      "6 10 [-2, 17, -25, 1] -9\n",
      "6 9 [-2, 17, -25] -10\n",
      "6 8 [-2, 17] 15\n",
      "6 7 [-2] -2\n",
      "7 10 [17, -25, 1] -7\n",
      "7 9 [17, -25] -8\n",
      "7 8 [17] 17\n",
      "8 10 [-25, 1] -24\n",
      "8 9 [-25] -25\n",
      "9 10 [1] 1\n"
     ]
    },
    {
     "data": {
      "text/plain": [
       "30"
      ]
     },
     "execution_count": 32,
     "metadata": {},
     "output_type": "execute_result"
    }
   ],
   "source": [
    "\n",
    "def maxSubArray(nums):\n",
    "    #부분합 시작과 끝 인덱스 필요\n",
    "    blank = []\n",
    "    \n",
    "    i = 0\n",
    "    j = len(nums)\n",
    "    while j > i: \n",
    "        print(i,j, nums[i:j], sum(nums[i:j]))\n",
    "        blank.append(sum(nums[i:j]))\n",
    "                \n",
    "        j -= 1\n",
    "        if j == i:\n",
    "            i+=1\n",
    "            j = len(nums)\n",
    "\n",
    "#     print(blank)\n",
    "    return (max(blank))\n",
    "\n",
    "    \n",
    "maxSubArray([-10, -7, 5, -7, 10, 5, -2, 17, -25, 1])"
   ]
  },
  {
   "cell_type": "code",
   "execution_count": null,
   "metadata": {},
   "outputs": [],
   "source": [
    "list.sort()"
   ]
  },
  {
   "cell_type": "markdown",
   "metadata": {},
   "source": [
    "### 2. 객체\n",
    "\n",
    "#### 2-1. 객체란 무엇일까\n",
    "- `객체`: 상태 + 행동 = 속성(state, property) + (Behavior, method)\n",
    "- 차에 비유한다면?\n",
    "    - 속성: 색상, 모델, 연도\n",
    "    - 행동: 가속, 정지\n",
    "    \n",
    "#### 2-2. 객체지향 프로그래밍의 장점\n",
    "- `캡슈화`: 코드를 묶어서 정리, 정보 은닉(보안성)\n",
    "- `상속` : 기존의 코드를 재활용\n",
    "- `다형성`: 코드를 더 간단하게"
   ]
  },
  {
   "cell_type": "code",
   "execution_count": null,
   "metadata": {},
   "outputs": [],
   "source": []
  }
 ],
 "metadata": {
  "kernelspec": {
   "display_name": "Python [conda env:tensorflow]",
   "language": "python",
   "name": "conda-env-tensorflow-py"
  },
  "language_info": {
   "codemirror_mode": {
    "name": "ipython",
    "version": 3
   },
   "file_extension": ".py",
   "mimetype": "text/x-python",
   "name": "python",
   "nbconvert_exporter": "python",
   "pygments_lexer": "ipython3",
   "version": "3.5.5"
  }
 },
 "nbformat": 4,
 "nbformat_minor": 2
}
