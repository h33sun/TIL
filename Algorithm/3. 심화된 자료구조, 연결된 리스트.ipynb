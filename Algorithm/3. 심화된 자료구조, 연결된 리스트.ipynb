{
 "cells": [
  {
   "cell_type": "markdown",
   "metadata": {},
   "source": [
    "### 1. 연결된 리스트?\n",
    "- 여러개의 노드들이 한줄로 연결\n",
    "    - 노드: `저장할 데이터` + `다음 노드로의 연결`\n",
    "- 1. 단순연결리스트: 한 방향으로만 연결된 리스트\n",
    "- 2. 이중연결리스트: 양 방향으로 연결된 리스트\n",
    "- 3. 원형연결리스트: 가장 뒤의 노드가 맨 앞의 노드와 연결된 리스트\n",
    "\n",
    "#### 1-1. 배열 VS 연결된 리스트\n",
    "- 배열:  인덱스를 사용해 데이터에 접근\n",
    "- 연결된리스트: 현재 노드에서 연결된 노드로만 접근\n",
    "    - 항상 Head를 지정해줘야함\n",
    "- 연결리스트의 시간 복잡도\n",
    "    - 자료 추가/삭제: 리스트의 크기와 상관없이 항상 O(1) -> 매우 `효율적!`\n",
    "        - 단순 연결만 추가하거나 삭제하면 되기 때문"
   ]
  },
  {
   "cell_type": "code",
   "execution_count": 1,
   "metadata": {},
   "outputs": [],
   "source": [
    "#노드는 자신이 갖는 data와 연결 방향을 갖는다.\n",
    "class Node:\n",
    "    def __init__(self, val):\n",
    "        #데이터\n",
    "        self.val = val\n",
    "        #연결방향\n",
    "        self.next = None\n",
    "        \n",
    "    def __str__(self):\n",
    "        return str(self.val)\n",
    "\n",
    "    \n",
    "    \n",
    "#연결리스트는 여러 노드의 연결이며, head와 tail을 갖는다.\n",
    "class LinkedList:\n",
    "    def __init__(self, head):\n",
    "        self.head = head\n",
    "        self.tail = head\n",
    "#노드를 입력으로 받아 tail의 next에 연결한다\n",
    "#자동적으로 tail은 연결된 노드가 된다\n",
    "    def addToEnd(self, node):\n",
    "        self.tail.next = node\n",
    "        self.tail = node\n",
    "        \n",
    "    def __str__(self):\n",
    "        node = self.head\n",
    "        toPrint = []\n",
    "        while node:\n",
    "            toPrint.append(str(node.val))\n",
    "            node = node.next\n",
    "        return \"->\".join(toPrint)\n",
    "        "
   ]
  },
  {
   "cell_type": "code",
   "execution_count": null,
   "metadata": {},
   "outputs": [],
   "source": [
    "#연결리스트를 받아 array로 변환하라\n",
    "def toArray(llNode):\n",
    "    arr = []\n",
    "    it = llNode.head\n",
    "    \n",
    "    #llNode의 시작점부터 노드가 tail인지 확인하며 val을 저장하고, next로 다음 노드를 부른다\n",
    "    while it != llNode.tail:\n",
    "        arr.append(it.val)\n",
    "        it = it.next\n",
    "    #while만으로는 tail의 val은 append되지 않는다.\n",
    "    \n",
    "    arr.append(it.val)\n",
    "    return arr\n",
    "\n",
    "\n",
    "# 리스트를 받아 연결리스트로 변환하라\n",
    "def toLinkedList(lst):\n",
    "    #LinkedList의 Node꼴로 들어간다\n",
    "    # 첫 노드(head)는 lst의 첫 원소\n",
    "    llNode = LinkedList(Node(lst[0]))\n",
    "    \n",
    "    for x in lst[1:]:\n",
    "        llNode.addToEnd(Node(x))\n",
    "        \n",
    "    return llNode\n"
   ]
  }
 ],
 "metadata": {
  "kernelspec": {
   "display_name": "Python [conda env:tensorflow]",
   "language": "python",
   "name": "conda-env-tensorflow-py"
  },
  "language_info": {
   "codemirror_mode": {
    "name": "ipython",
    "version": 3
   },
   "file_extension": ".py",
   "mimetype": "text/x-python",
   "name": "python",
   "nbconvert_exporter": "python",
   "pygments_lexer": "ipython3",
   "version": "3.5.5"
  }
 },
 "nbformat": 4,
 "nbformat_minor": 2
}
