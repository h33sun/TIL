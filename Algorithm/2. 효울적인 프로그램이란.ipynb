{
 "cells": [
  {
   "cell_type": "markdown",
   "metadata": {},
   "source": [
    "### 1. 효율성의 측정 방식\n",
    "\n",
    "- 1. 시간복잡도: 코드가 얼마나 빠르게 실행되는가?\n",
    "    - 알고리즘에 사용되는 총 연산횟수, *시간과는 연관이 없음!*\n",
    "    -  `Big-O`: 시간복잡도 함수의 *가장 높은 차수* (계수는 차수에 비해 영향력이 미미하기 때문에 무시)\n",
    "        - ARRAY: O(N)\n",
    "        - SET: O(1)\n",
    "        - SORT: O(N * LOG(N))\n",
    "   \n",
    "- 2. 공간복잡도: 코드가 얼마나 많은 메모리를 사용하는가?"
   ]
  },
  {
   "cell_type": "markdown",
   "metadata": {},
   "source": [
    "### Q1. 0 이동시키기\n",
    "\n",
    "여러개의 0과 양의 정수들이 섞여 있는 배열이 주어졌다고 합시다. 이 배열에서 0들은 전부 뒤로 빼내고, 나머지 숫자들의 순서는 그대로 유지한 배열을 반환하는 함수를 만들어 봅시다.\n",
    "\n",
    "예를 들어서, [0, 8, 0, 37, 4, 5, 0, 50, 0, 34, 0, 0] 가 입력으로 주어졌을 경우 [8, 37, 4, 5, 50, 34, 0, 0, 0, 0, 0, 0] 을 반환하면 됩니다.\n"
   ]
  },
  {
   "cell_type": "markdown",
   "metadata": {},
   "source": [
    "### A1. 시간초과"
   ]
  },
  {
   "cell_type": "code",
   "execution_count": 13,
   "metadata": {},
   "outputs": [
    {
     "name": "stdout",
     "output_type": "stream",
     "text": [
      "[8, 37, 4, 5, 50, 34, 0, 0, 0, 0, 0, 0]\n"
     ]
    }
   ],
   "source": [
    "def moveZerosToEnd(nums):\n",
    "    \n",
    "    for num in nums:\n",
    "        if num == 0:\n",
    "            nums.append(nums.pop(nums.index(num)))\n",
    "    return nums\n",
    "\n",
    "print(moveZerosToEnd([0, 8, 0, 37, 4, 5, 0, 50, 0, 34, 0, 0]))\n"
   ]
  },
  {
   "cell_type": "markdown",
   "metadata": {},
   "source": [
    "### A2. FOR문 X remove or pop 은 복잡도 최대의 적이구나..\n",
    "- 인덱싱이 이렇게 어려웠는지 몰랐다"
   ]
  },
  {
   "cell_type": "code",
   "execution_count": 30,
   "metadata": {},
   "outputs": [
    {
     "name": "stdout",
     "output_type": "stream",
     "text": [
      "0\n",
      "8\n",
      "0\n",
      "37\n",
      "4\n",
      "5\n",
      "0\n",
      "50\n",
      "0\n",
      "34\n",
      "0\n",
      "0\n",
      "[8, 37, 4, 5, 50, 34, 0, 0, 0, 0, 0, 0]\n"
     ]
    }
   ],
   "source": [
    "def moveZerosToEnd(nums):\n",
    "    \n",
    "    position = 0\n",
    "    \n",
    "    for i in range(len(nums)):\n",
    "        print(nums[i])\n",
    "        if nums[i] != 0:\n",
    "            nums[position] = nums[i]\n",
    "            nums[i] = 0\n",
    "            position += 1\n",
    "        \n",
    "    return nums \n",
    "\n",
    "print(moveZerosToEnd([0, 8, 0, 37, 4, 5, 0, 50, 0, 34, 0, 0]))\n"
   ]
  },
  {
   "cell_type": "markdown",
   "metadata": {},
   "source": [
    "### 2. 배열\n",
    "\n",
    "- 가장 기본적인 자료 구조\n",
    "    - index는 0부터 시작\n",
    "    - 배열의 공간복잡도는 O(N)\n",
    "    - 배열의 시간 복잡도\n",
    "        - 인덱스를 안다면 O(1): 바로 접근하기 때문\n",
    "        - 인덱스는 모르고 값으로 찾는다면 O(N) : 모든 배열을 검색해야해서\n",
    "            - 운이 좋아 배열의 앞에 값이 있어도 Big O에는 영향을 미치지 않는다.\n",
    "        - 자료 끝에 원소 추가하기 O(1)\n",
    "            - `nums.append(7)`\n",
    "        - 자료 중간에 추가하기 O(N)\n",
    "            - `nums.insert(3,9)`\n",
    "            \n",
    "            \n",
    "### 3. 해쉬\n",
    "\n",
    "- dict의 key와 value의 조합\n",
    "- *key는 중복될 수 없고* 공간 복잡도는 대략 O(N)"
   ]
  },
  {
   "cell_type": "markdown",
   "metadata": {},
   "source": [
    "###  Q1. 아나그램 탐지\n",
    "\n",
    "아나그램(Anagram)은 한 문자열의 문자를 재배열해서 다른 뜻을 가지는 다른 단어로 바꾸는 것을 의미합니다.\n",
    "\n",
    "두 개의 문자열이 주어졌을 때, 서로가 서로의 아나그램인지 아닌지의 여부를 탐지하는 함수를 만들어 보세요.\n",
    "\n",
    "elice 와 leice 는 아나그램입니다. True를 리턴해야 합니다.\n",
    "cat 과 cap 는 아나그램이 아닙니다. False 를 리턴해야 합니다.\n",
    "iamlordvoldemort 와 tommarvoloriddle 은 아나그램입니다. True를 리턴해야 합니다.\n",
    "문자열의 모든 문자는 영어 소문자라고 가정합시다.\n",
    "\n"
   ]
  },
  {
   "cell_type": "markdown",
   "metadata": {},
   "source": [
    "### A1.\n",
    "\n",
    "- 순서를 뒤바꾸는 그런 문제들은 SORT로 쉽게 해결이 가능하다.\n",
    "- 그러나 해쉬를 사용해서 문제를 해결할 수 있을까?"
   ]
  },
  {
   "cell_type": "code",
   "execution_count": 55,
   "metadata": {},
   "outputs": [
    {
     "data": {
      "text/plain": [
       "True"
      ]
     },
     "execution_count": 55,
     "metadata": {},
     "output_type": "execute_result"
    }
   ],
   "source": [
    "def isAnagram(str1, str2):\n",
    "\n",
    "    str1 = list(str1.lower()).sort()\n",
    "    str2 = list(str2.lower()).sort()\n",
    "    \n",
    "    \n",
    "    return str1 == str2\n",
    "\n",
    "\n",
    "isAnagram('iamlordvoldemort', 'tommarvoloriddle')"
   ]
  },
  {
   "cell_type": "markdown",
   "metadata": {},
   "source": [
    "### A2.\n",
    "- KEY에는 각 알파벳을, VALUE에는 빈도를 저장하자!"
   ]
  },
  {
   "cell_type": "code",
   "execution_count": 61,
   "metadata": {},
   "outputs": [
    {
     "data": {
      "text/plain": [
       "True"
      ]
     },
     "execution_count": 61,
     "metadata": {},
     "output_type": "execute_result"
    }
   ],
   "source": [
    "def isAnagram(str1, str2):\n",
    "\n",
    "    str1 =str1.lower()\n",
    "    str2 = str2.lower()\n",
    "    \n",
    "    dict1 = {}\n",
    "    for ch in str1:\n",
    "        if ch not in dict1:\n",
    "            dict1[ch] = 1\n",
    "        else:\n",
    "            dict1[ch] += 1\n",
    "    dict2 = {}\n",
    "    for ch in str2:\n",
    "        if ch not in dict2:\n",
    "            dict2[ch] =1\n",
    "        else:\n",
    "            dict2[ch] += 1\n",
    "            \n",
    "    \n",
    "    return dict1 == dict2\n",
    "\n",
    "\n",
    "isAnagram('iamlordvoldemort', 'tommarvoloriddle')"
   ]
  },
  {
   "cell_type": "markdown",
   "metadata": {},
   "source": [
    "### A3.\n",
    "\n",
    "- collections라는 내장 모듈을 사용하면 더욱 멋지게"
   ]
  },
  {
   "cell_type": "code",
   "execution_count": 65,
   "metadata": {},
   "outputs": [
    {
     "data": {
      "text/plain": [
       "True"
      ]
     },
     "execution_count": 65,
     "metadata": {},
     "output_type": "execute_result"
    }
   ],
   "source": [
    "import collections\n",
    "def isAnagram(str1, str2):\n",
    "\n",
    "\n",
    "    \n",
    "    str1 =str1.lower()\n",
    "    str2 = str2.lower()\n",
    "    return collections.Counter(str1) == collections.Counter(str2)\n",
    "\n",
    "\n",
    "isAnagram('iamlordvoldemort', 'tommarvoloriddle')"
   ]
  },
  {
   "cell_type": "code",
   "execution_count": 91,
   "metadata": {},
   "outputs": [
    {
     "data": {
      "text/plain": [
       "'z'"
      ]
     },
     "execution_count": 91,
     "metadata": {},
     "output_type": "execute_result"
    }
   ],
   "source": [
    "a = collections.Counter('iamlordvoldemortz') - collections.Counter('iamlordvoldemort')\n",
    "list(a.keys())[0]"
   ]
  },
  {
   "cell_type": "code",
   "execution_count": 92,
   "metadata": {},
   "outputs": [
    {
     "ename": "TypeError",
     "evalue": "unsupported operand type(s) for -: 'list' and 'list'",
     "output_type": "error",
     "traceback": [
      "\u001b[1;31m---------------------------------------------------------------------------\u001b[0m",
      "\u001b[1;31mTypeError\u001b[0m                                 Traceback (most recent call last)",
      "\u001b[1;32m<ipython-input-92-568e8f09ae26>\u001b[0m in \u001b[0;36m<module>\u001b[1;34m()\u001b[0m\n\u001b[0;32m      2\u001b[0m \u001b[0mb\u001b[0m \u001b[1;33m=\u001b[0m \u001b[1;34m'appzle'\u001b[0m\u001b[1;33m\u001b[0m\u001b[0m\n\u001b[0;32m      3\u001b[0m \u001b[1;33m\u001b[0m\u001b[0m\n\u001b[1;32m----> 4\u001b[1;33m \u001b[0mlist\u001b[0m\u001b[1;33m(\u001b[0m\u001b[0mb\u001b[0m\u001b[1;33m)\u001b[0m \u001b[1;33m-\u001b[0m \u001b[0mlist\u001b[0m\u001b[1;33m(\u001b[0m\u001b[0ma\u001b[0m\u001b[1;33m)\u001b[0m\u001b[1;33m\u001b[0m\u001b[0m\n\u001b[0m",
      "\u001b[1;31mTypeError\u001b[0m: unsupported operand type(s) for -: 'list' and 'list'"
     ]
    }
   ],
   "source": [
    "a = 'apple'\n",
    "b = 'appzle'\n",
    "\n",
    "list(b) - list(a)"
   ]
  },
  {
   "cell_type": "code",
   "execution_count": 96,
   "metadata": {},
   "outputs": [],
   "source": [
    "pt = 'aabb'\n",
    "\n",
    "\n",
    "strl = ['elice','elice','alice','alice']"
   ]
  },
  {
   "cell_type": "code",
   "execution_count": 103,
   "metadata": {},
   "outputs": [
    {
     "data": {
      "text/plain": [
       "{'a': 'elice', 'b': 'alice'}"
      ]
     },
     "execution_count": 103,
     "metadata": {},
     "output_type": "execute_result"
    }
   ],
   "source": [
    "dict1 = {}\n",
    "for x,y in zip(list(set(pt)), list(set(strl))):\n",
    "    dict1[x] = y\n",
    "\n",
    "dict1"
   ]
  },
  {
   "cell_type": "code",
   "execution_count": 106,
   "metadata": {},
   "outputs": [
    {
     "name": "stdout",
     "output_type": "stream",
     "text": [
      "['elice', 'alice', 'elice', 'alice']\n"
     ]
    },
    {
     "data": {
      "text/plain": [
       "False"
      ]
     },
     "execution_count": 106,
     "metadata": {},
     "output_type": "execute_result"
    }
   ],
   "source": [
    "def wordPattern(pattern, strList):\n",
    "\n",
    "    dict1 = {}\n",
    "    for pt, strl in zip(list(set(pattern)), list(set(strList))):\n",
    "        dict1[pt] = strl\n",
    "    ans = []\n",
    "    \n",
    "    for pt in pattern:\n",
    "        ans.append(dict1[pt])\n",
    "        \n",
    "    print(ans)\n",
    "    return strList == ans\n",
    "\n",
    "wordPattern(\"abab\", [\"elice\", \"elice\", \"alice\", \"alice\"])"
   ]
  },
  {
   "cell_type": "markdown",
   "metadata": {},
   "source": [
    "### 3. 배열과 해쉬의 trade-off\n",
    "\n",
    "- 배열\n",
    "    - 식별자가 없는 데이터, 시간복잡도+ / 공간복잡도-\n",
    "- 해쉬\n",
    "    - 식별자가 있는 데이터, 시간복잡도- / 공간복잡도+\n",
    "\n",
    "    "
   ]
  },
  {
   "cell_type": "code",
   "execution_count": null,
   "metadata": {},
   "outputs": [],
   "source": []
  }
 ],
 "metadata": {
  "kernelspec": {
   "display_name": "Python [conda env:tensorflow]",
   "language": "python",
   "name": "conda-env-tensorflow-py"
  },
  "language_info": {
   "codemirror_mode": {
    "name": "ipython",
    "version": 3
   },
   "file_extension": ".py",
   "mimetype": "text/x-python",
   "name": "python",
   "nbconvert_exporter": "python",
   "pygments_lexer": "ipython3",
   "version": "3.5.5"
  }
 },
 "nbformat": 4,
 "nbformat_minor": 2
}
