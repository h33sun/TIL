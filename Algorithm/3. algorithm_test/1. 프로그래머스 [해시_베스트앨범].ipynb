{
 "cells": [
  {
   "cell_type": "code",
   "execution_count": 121,
   "metadata": {},
   "outputs": [],
   "source": [
    "genres = ['classic', 'pop', 'classic', 'classic', 'pop','pop','rock']\n",
    "plays = [500, 200, 200, 200, 2500, 200,2700]"
   ]
  },
  {
   "cell_type": "code",
   "execution_count": 212,
   "metadata": {},
   "outputs": [],
   "source": [
    "def solution(genres, plays):\n",
    "    genre_best = {}\n",
    "    best_play = {}\n",
    "    ans = []\n",
    "    score = list(zip(genres, plays))\n",
    "\n",
    "    for i in range(len(score)):\n",
    "        genre, play = score[i][0], score[i][1]\n",
    "\n",
    "        if genre not in genre_best:\n",
    "            genre_best[genre] = play\n",
    "            best_play[genre] = [[i, play]]\n",
    "        else:\n",
    "            genre_best[genre] += play\n",
    "            best_play[genre].append([i,play])\n",
    "    \n",
    "   \n",
    "    genre_best = sorted(genre_best.items(), key = lambda x:x[1], reverse = True)\n",
    "    \n",
    "    for genre_ in genre_best:\n",
    "        genre_name = genre_[0]\n",
    "#         print(genre_name, best_play[genre_name])\n",
    "        \n",
    "        top2 = sorted(best_play[genre_name], key = lambda x: (x[1], -x[0]), reverse = True)\n",
    "        for x in top2[:2]:\n",
    "            ans.append(x[0])\n",
    "    return ans\n",
    "\n",
    "\n",
    "\n",
    "        "
   ]
  },
  {
   "cell_type": "code",
   "execution_count": 213,
   "metadata": {},
   "outputs": [
    {
     "data": {
      "text/plain": [
       "[4, 1, 6, 0, 2]"
      ]
     },
     "execution_count": 213,
     "metadata": {},
     "output_type": "execute_result"
    }
   ],
   "source": [
    "solution(genres, plays)"
   ]
  },
  {
   "cell_type": "markdown",
   "metadata": {},
   "source": [
    "### sorted\n",
    "\n",
    "- 문제 풀이의 핵심은 sorted와 lambda의 활용이었다. `sorted(대상, key = lambda x:(x[0], -x[1]), reverse = True)` 등 복수의 키와 정렬을 튜플, - 부호를 사용하는 문제였다."
   ]
  },
  {
   "cell_type": "code",
   "execution_count": null,
   "metadata": {},
   "outputs": [],
   "source": []
  }
 ],
 "metadata": {
  "kernelspec": {
   "display_name": "Python [conda env:tensorflow]",
   "language": "python",
   "name": "conda-env-tensorflow-py"
  },
  "language_info": {
   "codemirror_mode": {
    "name": "ipython",
    "version": 3
   },
   "file_extension": ".py",
   "mimetype": "text/x-python",
   "name": "python",
   "nbconvert_exporter": "python",
   "pygments_lexer": "ipython3",
   "version": "3.5.5"
  }
 },
 "nbformat": 4,
 "nbformat_minor": 2
}
