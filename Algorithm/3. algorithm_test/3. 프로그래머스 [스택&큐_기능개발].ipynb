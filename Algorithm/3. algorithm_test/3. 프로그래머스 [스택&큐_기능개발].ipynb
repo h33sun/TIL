{
 "cells": [
  {
   "cell_type": "code",
   "execution_count": 119,
   "metadata": {},
   "outputs": [],
   "source": [
    "def remove_done(progresses):\n",
    "    \n",
    "    while progresses:\n",
    "        if progresses[0] == 100:\n",
    "            progresses.pop(0)\n",
    "            speeds.pop(0)\n",
    "        else:\n",
    "            break\n",
    "        \n",
    "#         print(progresses)\n",
    "    return progresses, speeds\n",
    "\n",
    "\n",
    "def solution(progresses, speeds):\n",
    "    # 각 기능마다 개발 속도가 다르다\n",
    "    # 앞의 기능이 마무리 되어야 뒤의 기능도 배포가 가능하다.\n",
    "    jobs_left = len(progresses)\n",
    "    ans = []\n",
    "    \n",
    "    day = 1\n",
    "    while progresses:\n",
    "        remove_done(progresses)\n",
    "        \n",
    "        for i in range(len(progresses)):\n",
    "            progresses[i] += speeds[i]\n",
    "            \n",
    "            if progresses[i] >= 100:\n",
    "                progresses[i] = 100\n",
    "        \n",
    "            \n",
    "#         print(day, progresses)\n",
    "        day += 1\n",
    "        \n",
    "        if jobs_left != len(progresses):\n",
    "            ans.append(jobs_left - len(progresses))\n",
    "            jobs_left = len(progresses)\n",
    "            \n",
    "    return ans\n",
    "        "
   ]
  },
  {
   "cell_type": "code",
   "execution_count": 120,
   "metadata": {},
   "outputs": [
    {
     "data": {
      "text/plain": [
       "[2, 1]"
      ]
     },
     "execution_count": 120,
     "metadata": {},
     "output_type": "execute_result"
    }
   ],
   "source": [
    "progresses = [93,30,55]\n",
    "speeds = [1,30,5]\n",
    "\n",
    "solution(progresses, speeds)"
   ]
  },
  {
   "cell_type": "code",
   "execution_count": null,
   "metadata": {},
   "outputs": [],
   "source": []
  },
  {
   "cell_type": "code",
   "execution_count": null,
   "metadata": {},
   "outputs": [],
   "source": []
  }
 ],
 "metadata": {
  "kernelspec": {
   "display_name": "Python [conda env:tensorflow]",
   "language": "python",
   "name": "conda-env-tensorflow-py"
  },
  "language_info": {
   "codemirror_mode": {
    "name": "ipython",
    "version": 3
   },
   "file_extension": ".py",
   "mimetype": "text/x-python",
   "name": "python",
   "nbconvert_exporter": "python",
   "pygments_lexer": "ipython3",
   "version": "3.5.5"
  }
 },
 "nbformat": 4,
 "nbformat_minor": 2
}
