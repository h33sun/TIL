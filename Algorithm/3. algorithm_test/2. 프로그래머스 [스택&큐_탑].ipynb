{
 "cells": [
  {
   "cell_type": "code",
   "execution_count": 52,
   "metadata": {},
   "outputs": [],
   "source": [
    "def solution(heights):\n",
    "    # 수신 > 발사보다 높은 탑에서만 가능하다(수신된 신호는 더 이상 송신하지 않는다.)\n",
    "    # 신호는 왼쪽으로만\n",
    "    # 수신이 없는 탑은 0으로 반환한다.\n",
    "    ans = []\n",
    "    \n",
    "    for i in range(len(heights)):\n",
    "        go = heights[i]\n",
    "        receive = heights[:i]\n",
    "        result = False\n",
    "\n",
    "#         if len(receive) == 0:\n",
    "#             ans.append('first_0')\n",
    "\n",
    "        for ii in range(len(receive)-1, -1, -1):\n",
    "            print(go, receive[ii], receive[ii] > go)\n",
    "            if receive[ii] > go:\n",
    "                ans.append(ii+1)\n",
    "                result = True\n",
    "                break\n",
    "            \n",
    "            else:\n",
    "                result = False\n",
    "        if result == False:\n",
    "            ans.append(0)\n",
    "        \n",
    "        print('\\n')\n",
    "        \n",
    "    print(ans)  \n",
    "    pass"
   ]
  },
  {
   "cell_type": "markdown",
   "metadata": {},
   "source": [
    "### 딱히 어느 부분에서 stack을 사용하는지 모르겠다.."
   ]
  },
  {
   "cell_type": "code",
   "execution_count": null,
   "metadata": {},
   "outputs": [],
   "source": []
  }
 ],
 "metadata": {
  "kernelspec": {
   "display_name": "Python [conda env:tensorflow]",
   "language": "python",
   "name": "conda-env-tensorflow-py"
  },
  "language_info": {
   "codemirror_mode": {
    "name": "ipython",
    "version": 3
   },
   "file_extension": ".py",
   "mimetype": "text/x-python",
   "name": "python",
   "nbconvert_exporter": "python",
   "pygments_lexer": "ipython3",
   "version": "3.5.5"
  }
 },
 "nbformat": 4,
 "nbformat_minor": 2
}
