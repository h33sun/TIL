{
 "cells": [
  {
   "cell_type": "code",
   "execution_count": 48,
   "metadata": {},
   "outputs": [
    {
     "name": "stdout",
     "output_type": "stream",
     "text": [
      "[4, 3, 2, 1]\n",
      "[1, 2, 3, 0]\n",
      "4\n"
     ]
    }
   ],
   "source": [
    "def solution(priorities, location):\n",
    "    \n",
    "    # 가장 앞의 문서와 나머지를 비교 (중요한 문서 존재 -> 마지막으로 보냄)\n",
    "    # 리스트를 수의 크기대로 정렬하는 방법\n",
    "    \n",
    "    p = priorities\n",
    "    order = list(range(len(priorities)))\n",
    "    record = {}\n",
    "    sorted_p = sorted(p, reverse = True)\n",
    "    for i,j in enumerate(priorities):\n",
    "        record[i] = j\n",
    "    # print(record)\n",
    "        \n",
    "    i = 0\n",
    "    while p != sorted_p:\n",
    "        first = p[i]\n",
    "        rest = p[i+1:]\n",
    "       \n",
    "        if first < max(rest):\n",
    "            p.append(p.pop(i))\n",
    "            order.append(order.pop(i))\n",
    "        else:\n",
    "            i += 1\n",
    "        print(p)\n",
    "        print(order)\n",
    "        \n",
    "    answer = order.index(location)+1    \n",
    "    print(answer)\n",
    "\n",
    "solution([1,4,3,2], 0)"
   ]
  },
  {
   "cell_type": "code",
   "execution_count": 44,
   "metadata": {},
   "outputs": [
    {
     "name": "stdout",
     "output_type": "stream",
     "text": [
      "[1, 4, 3, 1, 2, 2]\n",
      "[4, 3, 2, 2, 1, 1]\n",
      "[4, 3, 1, 2, 2, 1]\n",
      "[4, 3, 1, 2, 2, 1]\n",
      "[4, 3, 2, 2, 1, 1]\n"
     ]
    }
   ],
   "source": [
    "# 리스트를 정렬해야한다\n",
    "# 그러면서 동시에 정렬되는 인덱스를 기록해야함\n",
    "# 조건 첫번째 원소보다 나머지 원소가 크지 않다면..\n",
    "\n",
    "a = [1,4,3,1,2,2]\n",
    "print(a)\n",
    "right_status = sorted(a, reverse = True)\n",
    "print(right_status)\n",
    "\n",
    "i = 0\n",
    "while a != right_status:\n",
    "    first = a[i]\n",
    "    rest = a[i+1:]\n",
    "    \n",
    "    #만약 first가 max(rest)보다 작다면 -> first는 제일 뒤로 간다.\n",
    "    if first < max(rest):\n",
    "        a.append(a.pop(i))\n",
    "    \n",
    "    i += 1\n",
    "    print(a)"
   ]
  },
  {
   "cell_type": "markdown",
   "metadata": {},
   "source": [
    "### 풀이\n",
    "- 1. [2,1,3,2]에 대해 첫번째 원소가 가장 큰 원소와 같을 때 까지 while문을 통해 append(pop(0))을 시도했다.\n",
    "- 모든 sample case에 대해 통과했지만 test case에서는 2개만 맞았다.\n",
    "- 이유는 [3,1,2,2]와 같이 max가 제일 앞에 위치할 때 정렬이 멈춘다는 것\n",
    "- 이를 방지하기 위해 인덱스를 지정하고, first 가 max(rest)라면 i += 1을 지정해주었다."
   ]
  }
 ],
 "metadata": {
  "kernelspec": {
   "display_name": "Python [conda env:tensorflow]",
   "language": "python",
   "name": "conda-env-tensorflow-py"
  },
  "language_info": {
   "codemirror_mode": {
    "name": "ipython",
    "version": 3
   },
   "file_extension": ".py",
   "mimetype": "text/x-python",
   "name": "python",
   "nbconvert_exporter": "python",
   "pygments_lexer": "ipython3",
   "version": "3.5.5"
  }
 },
 "nbformat": 4,
 "nbformat_minor": 2
}
