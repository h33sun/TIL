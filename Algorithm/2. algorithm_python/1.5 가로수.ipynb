{
 "cells": [
  {
   "cell_type": "markdown",
   "metadata": {},
   "source": [
    "직선으로 되어있는 도로의 한 편에 가로수가 임의의 간격으로 심어져있습니다. 도시에서는 가로수들이 모두 같은 간격이 되도록 가로수를 추가로 심는 사업을 추진하고 있습니다. 도시에서는 예산문제로 가능한 한 가장 적은 수의 나무를 심고 싶습니다.\n",
    "\n",
    "편의상 가로수의 위치는 기준점으로 부터 떨어져 있는 거리로 표현되며, 가로수의 위치는 모두 양의 정수입니다.\n",
    "\n",
    "예를 들어, 가로수가 (1, 3, 7, 13)의 위치에 있다면 (5, 9, 11)의 위치에 가로수를 더 심으면 모든 가로수들의 간격이 같게 됩니다. 또한, 가로수가 (2, 6, 12, 18)에 있다면 (4, 8, 10, 14, 16)에 가로수를 더 심어야 합니다.\n",
    "\n",
    "심어져 있는 가로수의 위치가 주어질 때, 모든 가로수가 같은 간격이 되도록 새로 심어야 하는 가로수의 최소수를 구하는 프로그램을 작성하세요. 단, 추가되는 나무는 기존의 나무들 사이에만 심을 수 있습니다."
   ]
  },
  {
   "cell_type": "markdown",
   "metadata": {},
   "source": [
    "- 1. 가로수가 임의로 심어져 있지만 -> 모두가 같은 간격이 되도록 갇로수를 추가로 심으려 한다.\n",
    "- 2. 가능한 적은 수의 나무를 심고 싶다\n",
    "- 3. 가로수의 위치는 기준점으로 부터 떨어져 있는 거리로 표현되고 모두 양의 정수이다.\n",
    "- 4. 추가되는 가로수는 기존의 나무들 `사이에만` 심을 수 있다."
   ]
  },
  {
   "cell_type": "code",
   "execution_count": 15,
   "metadata": {},
   "outputs": [],
   "source": [
    "from math import gcd\n",
    "def get_gcd(array):\n",
    "    a0 = array[0]\n",
    "    for x in array[1:]:\n",
    "        a0 = gcd(a0, x)\n",
    "        return a0"
   ]
  },
  {
   "cell_type": "code",
   "execution_count": 16,
   "metadata": {},
   "outputs": [
    {
     "data": {
      "text/plain": [
       "2"
      ]
     },
     "execution_count": 16,
     "metadata": {},
     "output_type": "execute_result"
    }
   ],
   "source": [
    "get_gcd([2,4,6])"
   ]
  },
  {
   "cell_type": "code",
   "execution_count": 21,
   "metadata": {},
   "outputs": [
    {
     "data": {
      "text/plain": [
       "6"
      ]
     },
     "execution_count": 21,
     "metadata": {},
     "output_type": "execute_result"
    }
   ],
   "source": [
    "import numpy as np\n",
    "\n",
    "int(np.sum(np.array([2,4,6]) / 2))"
   ]
  },
  {
   "cell_type": "code",
   "execution_count": 17,
   "metadata": {},
   "outputs": [
    {
     "ename": "TypeError",
     "evalue": "unsupported operand type(s) for /: 'list' and 'int'",
     "output_type": "error",
     "traceback": [
      "\u001b[1;31m---------------------------------------------------------------------------\u001b[0m",
      "\u001b[1;31mTypeError\u001b[0m                                 Traceback (most recent call last)",
      "\u001b[1;32m<ipython-input-17-7d8b433a2e48>\u001b[0m in \u001b[0;36m<module>\u001b[1;34m()\u001b[0m\n\u001b[1;32m----> 1\u001b[1;33m \u001b[1;33m[\u001b[0m\u001b[1;36m2\u001b[0m\u001b[1;33m,\u001b[0m\u001b[1;36m4\u001b[0m\u001b[1;33m,\u001b[0m\u001b[1;36m6\u001b[0m\u001b[1;33m]\u001b[0m \u001b[1;33m/\u001b[0m \u001b[1;36m2\u001b[0m\u001b[1;33m\u001b[0m\u001b[0m\n\u001b[0m",
      "\u001b[1;31mTypeError\u001b[0m: unsupported operand type(s) for /: 'list' and 'int'"
     ]
    }
   ],
   "source": [
    "np.sum([2,4,6] / 2"
   ]
  },
  {
   "cell_type": "code",
   "execution_count": 27,
   "metadata": {},
   "outputs": [
    {
     "name": "stdout",
     "output_type": "stream",
     "text": [
      "4\n",
      "1\n",
      "3\n",
      "7\n",
      "13\n",
      "[2, 4, 6]\n",
      "3\n"
     ]
    }
   ],
   "source": [
    "from math import gcd\n",
    "\n",
    "\n",
    "\n",
    "def get_gcd(array):\n",
    "    a0 = array[0]\n",
    "    for x in array[1:]:\n",
    "        a0 = gcd(a0, x)\n",
    "        return a0\n",
    "    \n",
    "def howManyTree(n, myInput) :\n",
    "    '''\n",
    "    모든 가로수가 같은 간격이 되도록 새로 심어야 하는 가로수의 최소수를 리턴하는 함수를 구현하세요.\n",
    "    '''\n",
    "    myInput.sort()\n",
    "    #n = 첫째 줄 : 기존에 심어진 가로수의 개수\n",
    "    #myInput: 기존 가로수의 위치\n",
    "    \n",
    "    # 모든 가로수가 같은 간격이 되려면,,,\n",
    "    # (1, 3, 7, 13) -> 간격 (2, 4, 6) -> 최대공약수(2) -> 간격/최대공약수 - 1: (1-1 = 0, 2-1 = 1, 3-1 = 2) -> sum(0,1,2) = 3\n",
    "    \n",
    "    #간격을 구해야함\n",
    "    distance = []\n",
    "    i = 1\n",
    "    while i <= len(myInput)-1:\n",
    "        distance.append(myInput[i] - myInput[i-1])\n",
    "        i+=1\n",
    "    print(distance)\n",
    "    \n",
    "    \n",
    "    \n",
    "    \n",
    "    #간격의 최대공약수\n",
    "    d0 = get_gcd(distance)\n",
    "    \n",
    "    \n",
    "    #sum(간격/ 최대공약수 - 1)\n",
    "    cnt = 0\n",
    "    for x in distance:\n",
    "        cnt += x/d0 -1\n",
    "    return int(cnt)\n",
    "\n",
    "def main():\n",
    "    '''\n",
    "    수정하시면 안됩니다.\n",
    "    '''\n",
    "    n = int(input())\n",
    "    myInput = []\n",
    "    for _ in range(n) :\n",
    "        myInput.append(int(input()))\n",
    "\n",
    "    print(howManyTree(n, myInput))\n",
    "if __name__ == \"__main__\":\n",
    "    main()\n",
    "\n"
   ]
  }
 ],
 "metadata": {
  "kernelspec": {
   "display_name": "Python [conda env:tensorflow]",
   "language": "python",
   "name": "conda-env-tensorflow-py"
  },
  "language_info": {
   "codemirror_mode": {
    "name": "ipython",
    "version": 3
   },
   "file_extension": ".py",
   "mimetype": "text/x-python",
   "name": "python",
   "nbconvert_exporter": "python",
   "pygments_lexer": "ipython3",
   "version": "3.5.5"
  }
 },
 "nbformat": 4,
 "nbformat_minor": 2
}
