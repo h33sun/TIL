{
 "cells": [
  {
   "cell_type": "markdown",
   "metadata": {},
   "source": [
    "### 1. 문제 해결의 절차\n",
    "\n",
    "#### 1.1 문제에 맞는 알고리즘을 설계하는 방법\n",
    "- 1. 문제를 정확히 이해한다.\n",
    "- 2. 문제를 해결하는 알고리즘을 개발한다.\n",
    "- 3. 알고리즘이 문제를 `해결`한다는 것을 증명한다.\n",
    "- 4. 알고리즘이 `제한시간` 내에 동작한다는 것을 보인다."
   ]
  },
  {
   "cell_type": "markdown",
   "metadata": {},
   "source": [
    "### 2. 시간 복잡도\n",
    "\n",
    "#### 2.1 알고리즘의 효율성\n",
    "- 알고리즘이 대략 몇개의 명령을 수행하는가? -> 수행시간을 유추할 수 있음.\n",
    "- 최고 차수를 중심으로 대략적으로 나타냄.\n",
    "\n",
    "### 3. 완전 탐색\n",
    "\n",
    "#### 3.1 완전 탐색의 의미\n",
    "- 문제가 주어지면 `무조건 완전 탐색`을 먼저 진행해야함.\n",
    "    - 모든 조건에 대해 -> 문제 발견 -> 예외 처리 혹은 조건 고려 순으로 개발\n",
    "- 가능한 `모든 경우`를 시도하는 것.(기초, 쉬운 단계)\n",
    "- 가능한 `모든 경우`를 파악하는 것이 중요하다.\n"
   ]
  },
  {
   "cell_type": "code",
   "execution_count": 16,
   "metadata": {},
   "outputs": [],
   "source": [
    "data =[1,2]"
   ]
  },
  {
   "cell_type": "code",
   "execution_count": 17,
   "metadata": {},
   "outputs": [
    {
     "name": "stdout",
     "output_type": "stream",
     "text": [
      "[[1], [1, 2], [2]]\n"
     ]
    }
   ],
   "source": [
    "blank = []\n",
    "for i in range(len(data)):\n",
    "    for j in range(i+1, len(data)+1):\n",
    "        blank.append(data[i:j])\n",
    "print(blank)"
   ]
  },
  {
   "cell_type": "code",
   "execution_count": 28,
   "metadata": {},
   "outputs": [],
   "source": [
    "a = list(range(1, 4))"
   ]
  },
  {
   "cell_type": "code",
   "execution_count": 29,
   "metadata": {},
   "outputs": [
    {
     "name": "stdout",
     "output_type": "stream",
     "text": [
      "1\n",
      "1 2\n",
      "1 3\n",
      "2 1\n",
      "2\n",
      "2 3\n",
      "3 1\n",
      "3 2\n",
      "3\n"
     ]
    }
   ],
   "source": [
    "for i in a:\n",
    "    for j in a:\n",
    "        if i ==j:\n",
    "            print(i)\n",
    "        else:\n",
    "            print(i,j)"
   ]
  },
  {
   "cell_type": "code",
   "execution_count": null,
   "metadata": {},
   "outputs": [],
   "source": []
  }
 ],
 "metadata": {
  "kernelspec": {
   "display_name": "Python [conda env:tensorflow]",
   "language": "python",
   "name": "conda-env-tensorflow-py"
  },
  "language_info": {
   "codemirror_mode": {
    "name": "ipython",
    "version": 3
   },
   "file_extension": ".py",
   "mimetype": "text/x-python",
   "name": "python",
   "nbconvert_exporter": "python",
   "pygments_lexer": "ipython3",
   "version": "3.5.5"
  }
 },
 "nbformat": 4,
 "nbformat_minor": 2
}
