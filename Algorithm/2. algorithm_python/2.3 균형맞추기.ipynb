{
 "cells": [
  {
   "cell_type": "markdown",
   "metadata": {},
   "source": [
    "n개의 숫자가 주어진다. 이제 이 숫자를 두 개의 그룹으로 나눌 것이다. 예를 들어 5개의 숫자 [1, -3, 4, 5, -2] 가 주어진다면, 이를 두 개의 그룹으로 나누는 경우는 여러가지가 있을 수 있다. 가능한 경우로써 [1, -3], [4, 5, -2] 가 있을 수 있고, 또 다른 경우로는 [1, 4, -2], [-3, 5] 가 있을 수 있다.\n",
    "\n",
    "나눈 두 그룹을 A, B라고 할 때, (A의 원소의 합) - (B의 원소의 합) 의 절댓값을 최소화 하는 프로그램을 작성하시오. 위의 예제에서는 A = [1, 4, -2], B = [-3, 5] 라고 하였을 때 (A의 원소의 합) - (B의 원소의 합) 의 절댓값 = |3 - 2| = 1 이며, 이보다 더 작은 값을 만드는 A, B는 존재하지 않는다.\n",
    "\n",
    "이 경우 절댓값의 최솟값인 1을 출력하면 된다."
   ]
  },
  {
   "cell_type": "code",
   "execution_count": 23,
   "metadata": {
    "scrolled": true
   },
   "outputs": [
    {
     "name": "stdout",
     "output_type": "stream",
     "text": [
      "1 -3 4 5 -2\n",
      "1 4\n",
      "-2 7\n",
      "2 3\n",
      "7 -2\n",
      "5 0\n",
      "0 5\n",
      "3 2\n",
      "1 4\n",
      "-4 9\n",
      "5 0\n",
      "10 -5\n",
      "8 -3\n",
      "3 2\n",
      "6 -1\n",
      "4 1\n",
      "-1 6\n",
      "-3 8\n",
      "1 4\n",
      "6 -1\n",
      "4 1\n",
      "-1 6\n",
      "2 3\n",
      "0 5\n",
      "-5 10\n",
      "4 1\n",
      "9 -4\n",
      "7 -2\n",
      "2 3\n",
      "5 0\n",
      "3 2\n",
      "-2 7\n",
      "1\n"
     ]
    }
   ],
   "source": [
    "import sys\n",
    "\n",
    "def getPowerSet(n, k):\n",
    "    \n",
    "    # 31\n",
    "    # [[1], [1,2],[1,2,3], [1,3]]\n",
    "    \n",
    "    # 32\n",
    "    # [[2], [2,3]] -> [[1]] 그리고 모든 원소에 1을 넣어 더하면 31 = 31 + 33\n",
    "    \n",
    "    # 33\n",
    "    # [[3]]\n",
    "\n",
    "    if n == k:\n",
    "        return [[k]]\n",
    "    \n",
    "    result = [[k]]\n",
    "    temp = []\n",
    "    for i in range(k+1, n+1):\n",
    "        #if k == 1 temp = [[1,2], [1,2,3], [1,3]]\n",
    "\n",
    "        temp = temp + getPowerSet(n, i)\n",
    "    \n",
    "    for i in range(len(temp)):\n",
    "        temp[i] = [k] + temp[i]\n",
    "        \n",
    "    return result + temp\n",
    "\n",
    "\n",
    "\n",
    "def powerSet(n) :\n",
    "    '''\n",
    "    n개의 원소를 가지는 집합 A의 멱집합의 원소를 사전 순서대로 list로 반환하는 함수를 작성하시오.\n",
    "\n",
    "    예를 들어, n = 3 일 경우 다음의 list를 반환한다.\n",
    "\n",
    "    [ [1], [1, 2], [1, 3], [1, 2, 3], [2], [2, 3], [3] ]\n",
    "    '''\n",
    "    \n",
    "    answer = []\n",
    "    for k in range(1,n+1):\n",
    "        answer = answer + getPowerSet(n, k)\n",
    "\n",
    "    return answer\n",
    "\n",
    "\n",
    "\n",
    "def makeEqual(data) :\n",
    "    '''\n",
    "    n개의 숫자를 두 그룹 A, B로 나눈다고 할 때,\n",
    "\n",
    "    | (A의 원소의 합) - (B의 원소의 합) | 의 최솟값을 반환하는 함수를 작성하시오.\n",
    "    '''\n",
    "    \n",
    "    \n",
    "    n = len(data) \n",
    "    overall = powerSet(n)\n",
    "    result = []\n",
    "    \n",
    "    \n",
    "    for case in overall:\n",
    "        left_sums = 0\n",
    "        for idx in case:\n",
    "            idx = idx - 1\n",
    "            left_sums += data[idx]\n",
    "        right_sums = sum(data) - left_sums\n",
    "        result.append(abs(left_sums - right_sums))\n",
    "#         print(left_sums, right_sums)\n",
    "    return min(result)\n",
    "    \n",
    "    \n",
    "    \n",
    "    \n",
    "def main():\n",
    "    '''\n",
    "    이 부분은 수정하지 마세요.\n",
    "    '''\n",
    "\n",
    "    data = [int(x) for x in input().split()]\n",
    "\n",
    "    print(makeEqual(data))\n",
    "\n",
    "if __name__ == \"__main__\":\n",
    "    main()"
   ]
  },
  {
   "cell_type": "code",
   "execution_count": 3,
   "metadata": {},
   "outputs": [],
   "source": [
    "def getPowerSet(n,start_idx):\n",
    "    if n == k:\n",
    "        return [[k]]\n",
    "    \n",
    "    result =\n",
    "    temp = []\n",
    "    \n",
    "    for i in range(k+1, n+1):\n",
    "        temp = temp + getPowerSet(n, i)\n",
    "    for i in range(len(temp)):\n",
    "        temp[i] = [k] + temp[i]\n",
    "\n",
    "    return result + temp\n"
   ]
  },
  {
   "cell_type": "code",
   "execution_count": 16,
   "metadata": {},
   "outputs": [
    {
     "name": "stdout",
     "output_type": "stream",
     "text": [
      "-1\n",
      "1\n",
      "6\n",
      "4\n",
      "2\n",
      "7\n",
      "5\n"
     ]
    }
   ],
   "source": [
    "for case in powerSet(len(data)):\n",
    "    sums = 0\n",
    "    for idx in case:\n",
    "        sums += data[idx-1]\n",
    "    print(sums)"
   ]
  },
  {
   "cell_type": "code",
   "execution_count": 10,
   "metadata": {},
   "outputs": [],
   "source": [
    "data = [-1, 2, 5]"
   ]
  },
  {
   "cell_type": "code",
   "execution_count": null,
   "metadata": {},
   "outputs": [],
   "source": []
  }
 ],
 "metadata": {
  "kernelspec": {
   "display_name": "Python [conda env:tensorflow]",
   "language": "python",
   "name": "conda-env-tensorflow-py"
  },
  "language_info": {
   "codemirror_mode": {
    "name": "ipython",
    "version": 3
   },
   "file_extension": ".py",
   "mimetype": "text/x-python",
   "name": "python",
   "nbconvert_exporter": "python",
   "pygments_lexer": "ipython3",
   "version": "3.5.5"
  }
 },
 "nbformat": 4,
 "nbformat_minor": 2
}
