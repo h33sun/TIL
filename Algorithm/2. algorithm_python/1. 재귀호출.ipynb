{
 "cells": [
  {
   "cell_type": "markdown",
   "metadata": {},
   "source": [
    "### 1. 재귀호출\n",
    "\n",
    "- 함수가 자기 자신을 호출함을 뜻함\n",
    "\n",
    "#### 1.1 왜 재귀호출을 사용하는가?\n",
    "- 반복작업을 대신하기 위해\n",
    "\n",
    "#### 1.2 수학적 귀납법\n",
    "\n",
    "- 수학적 귀납법: 명제를 재귀적으로 증명하는 방법\n",
    "\n",
    "- 명제 P(n)을 증명하는 방법\n",
    "    - 1. n = 1 일때 성립함을 보인다.\n",
    "    - 2. P(k)가 성립한다 할 때, P(K+1)이 성립함을 보인다.\n",
    "    - 3. 따라서 모든 자연수 n에 대하여 P(n)이 성립한다.\n",
    "- 문제\n",
    "    - 1. P(k)가 성립한다고 가정했지만, 실제로 성립하는지는 아직 모른다."
   ]
  },
  {
   "cell_type": "code",
   "execution_count": null,
   "metadata": {},
   "outputs": [],
   "source": []
  }
 ],
 "metadata": {
  "kernelspec": {
   "display_name": "Python [conda env:tensorflow]",
   "language": "python",
   "name": "conda-env-tensorflow-py"
  },
  "language_info": {
   "codemirror_mode": {
    "name": "ipython",
    "version": 3
   },
   "file_extension": ".py",
   "mimetype": "text/x-python",
   "name": "python",
   "nbconvert_exporter": "python",
   "pygments_lexer": "ipython3",
   "version": "3.5.5"
  }
 },
 "nbformat": 4,
 "nbformat_minor": 2
}
