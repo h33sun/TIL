{
 "cells": [
  {
   "cell_type": "markdown",
   "metadata": {},
   "source": [
    "### 1. 재귀호출\n",
    "\n",
    "- 함수가 자기 자신을 호출함을 뜻함\n",
    "\n",
    "#### 1.1 왜 재귀호출을 사용하는가?\n",
    "- 반복작업을 대신하기 위해\n",
    "\n",
    "#### 1.2 수학적 귀납법\n",
    "\n",
    "- 수학적 귀납법: 명제를 재귀적으로 증명하는 방법\n",
    "\n",
    "- 명제 P(n)을 증명하는 방법\n",
    "    - 1. n = 1 일때 성립함을 보인다.\n",
    "    - 2. P(k)가 성립한다 할 때, P(K+1)이 성립함을 보인다.\n",
    "    - 3. 따라서 모든 자연수 n에 대하여 P(n)이 성립한다.\n",
    "- 문제\n",
    "    - 1. P(k)가 성립한다고 가정했지만, 실제로 성립하는지는 아직 모른다."
   ]
  },
  {
   "cell_type": "code",
   "execution_count": 6,
   "metadata": {},
   "outputs": [
    {
     "data": {
      "text/plain": [
       "6"
      ]
     },
     "execution_count": 6,
     "metadata": {},
     "output_type": "execute_result"
    }
   ],
   "source": [
    "def Factorial(n):\n",
    "    #기저조건 ,base condition 0! == 1\n",
    "    if n < 0:\n",
    "        return 'n must be 0 or positive integer'\n",
    "    \n",
    "    if n == 0:\n",
    "        return 1\n",
    "    \n",
    "    else:\n",
    "        return n * Factorial(n-1)\n",
    "    \n",
    "Factorial(3)"
   ]
  },
  {
   "cell_type": "markdown",
   "metadata": {},
   "source": [
    "### 2. 퀵정렬(Quick Sort)\n",
    "- 재귀호출을 이용한 대표적인 정렬\n",
    "- `[4,7,4,2,10,19,2,4,5,3,1,5]`의 리스트를 재귀적으로 정렬해보자\n",
    "    - 1. 첫번째 원소인`[4]`를 가운데 위치시킨다.\n",
    "    - 2. 나머지 리스트`[7,4,2,10,19,2,4,5,3,1,5]`에서 `[4]`보다 작으면 왼쪽, 크면 오른쪽으로 정렬시킨다.\n",
    "    - `[4,2,2,4,3,1] [4] [7,10,19,5,5]`\n",
    "    - 3. 왼쪽에 또 퀵정렬을, 오른쪽에 또 퀵정렬을 재귀적으로 활용하면 모든 정렬이 끝난다.\n",
    "    \n",
    "#### ?: 근데 이걸 왜쓸까?"
   ]
  },
  {
   "cell_type": "markdown",
   "metadata": {},
   "source": [
    "### Q1. quick sort\n",
    "입력으로 nn개의 수가 주어지면, quick sort를 구현하는 프로그램을 작성하세요."
   ]
  },
  {
   "cell_type": "code",
   "execution_count": 11,
   "metadata": {},
   "outputs": [
    {
     "name": "stdout",
     "output_type": "stream",
     "text": [
      "1 2 3 4 5 6 7 8 9 10\n"
     ]
    }
   ],
   "source": [
    "def quickSort(array):\n",
    "    '''\n",
    "    퀵정렬을 통해 오름차순으로 정렬된 array를반환하는 함수를 작성하세요.\n",
    "    '''\n",
    "    if len(array) <= 1:\n",
    "        return array\n",
    "        \n",
    "    pivot = array[0]\n",
    "    \n",
    "    left = getSmallNumbers(array[1:], pivot)\n",
    "    right = getLargeNumbers(array[1:], pivot)\n",
    "    \n",
    "    return quickSort(left) + [pivot] + quickSort(right)\n",
    "    \n",
    "\n",
    "def getSmallNumbers(array, pivot):\n",
    "    \n",
    "    blank = []\n",
    "    for x in array:\n",
    "        if x <= pivot:\n",
    "            blank.append(x)\n",
    "    return blank\n",
    "\n",
    "\n",
    "def getLargeNumbers(array, pivot):\n",
    "    blank = []\n",
    "    for x in array:\n",
    "        if x > pivot:\n",
    "            blank.append(x)\n",
    "            \n",
    "    return blank\n",
    "    \n",
    "    \n",
    "    \n",
    "        \n",
    "\n",
    "def main():\n",
    "    line = [int(x) for x in [10, 2,3,4,5,6,9,7,8,1]]\n",
    "\n",
    "    print(*quickSort(line))\n",
    "\n",
    "if __name__ == \"__main__\":\n",
    "    main()\n"
   ]
  },
  {
   "cell_type": "markdown",
   "metadata": {},
   "source": [
    "### 3. 재귀함수 디자인\n",
    "\n",
    "#### 3.1 재귀함수를 디자인하기 위한 세가지 단계\n",
    "- 1. 함수의 정의를 명확히 한다.\n",
    "- 2. 기저조건에서 함수가 제대로 동작하도록 작성한다\n",
    "- 3. 함수가 작은 input에 대해 제대로 동작한다고 가정하고 함수를 작성한다."
   ]
  },
  {
   "cell_type": "code",
   "execution_count": 72,
   "metadata": {},
   "outputs": [
    {
     "name": "stdout",
     "output_type": "stream",
     "text": [
      "222\n",
      "111 0\n",
      "55 1\n",
      "27 1\n",
      "13 1\n",
      "6 1\n",
      "3 0\n",
      "1 1\n",
      "11011110\n"
     ]
    }
   ],
   "source": [
    "import sys\n",
    "sys.setrecursionlimit(100000)\n",
    "blank = []\n",
    "\n",
    "def convertBinary(n) :\n",
    "    '''\n",
    "    10진수 n을 2진수로 변환하여 반환합니다.\n",
    "\n",
    "    *주의* : 변환된 2진수는 문자열이어야 합니다.\n",
    "\n",
    "    예를 들어, 19가 입력될 경우 문자열 \"10011\"이 반환되어야 합니다.\n",
    "    '''\n",
    "\n",
    "    \n",
    "    quotient = n//2 #9\n",
    "    remainder = n%2 #1\n",
    "    # baasecondition\n",
    "\n",
    "    if n == 0:\n",
    "        return \"0\"\n",
    "    \n",
    "    if remainder == 1 and quotient == 0:\n",
    "        return  ''.join([str(x) for x in ([1] + blank[::-1])])\n",
    "    else:\n",
    "        print(quotient, remainder)\n",
    "        blank.append(remainder)#\n",
    "    \n",
    "    return convertBinary(quotient)\n",
    "\n",
    "    \n",
    "    \n",
    "\n",
    "\n",
    "def main():\n",
    "    '''\n",
    "    이 부분은 수정하지 마세요.\n",
    "    '''\n",
    "\n",
    "\n",
    "    n = int(input())\n",
    "\n",
    "    print(convertBinary(n))\n",
    "\n",
    "if __name__ == \"__main__\":\n",
    "    main()\n"
   ]
  },
  {
   "cell_type": "code",
   "execution_count": 73,
   "metadata": {},
   "outputs": [
    {
     "name": "stdout",
     "output_type": "stream",
     "text": [
      "222\n",
      "11011110\n"
     ]
    }
   ],
   "source": [
    "import sys\n",
    "sys.setrecursionlimit(100000)\n",
    "\n",
    "\n",
    "def convertBinary(n) :\n",
    "    '''\n",
    "    10진수 n을 2진수로 변환하여 반환합니다.\n",
    "\n",
    "    *주의* : 변환된 2진수는 문자열이어야 합니다.\n",
    "\n",
    "    예를 들어, 19가 입력될 경우 문자열 \"10011\"이 반환되어야 합니다.\n",
    "    '''\n",
    "    letters = '012'\n",
    "    q,r = divmod(n,2)\n",
    "    #1이라면 \n",
    "    #q:0, r = 1\n",
    "    if q== 0:\n",
    "        return letters[r] #1\n",
    "\n",
    "    else:\n",
    "        return convertBinary(q) + letters[r]\n",
    "\n",
    "\n",
    "    \n",
    "    \n",
    "\n",
    "\n",
    "def main():\n",
    "    '''\n",
    "    이 부분은 수정하지 마세요.\n",
    "    '''\n",
    "\n",
    "\n",
    "    n = int(input())\n",
    "\n",
    "    print(convertBinary(n))\n",
    "\n",
    "if __name__ == \"__main__\":\n",
    "    main()\n"
   ]
  },
  {
   "cell_type": "code",
   "execution_count": 77,
   "metadata": {},
   "outputs": [],
   "source": [
    "alphabet = ['a','b','c','d','e','f','g','h','i','j','k','l','m','n','o','p','q'\n",
    "    ,'r','s','t','u','v','x','y','z']"
   ]
  },
  {
   "cell_type": "code",
   "execution_count": 81,
   "metadata": {},
   "outputs": [],
   "source": [
    "sub = alphabet[:5]"
   ]
  },
  {
   "cell_type": "code",
   "execution_count": 84,
   "metadata": {},
   "outputs": [
    {
     "name": "stdout",
     "output_type": "stream",
     "text": [
      "ab\n",
      "ac\n",
      "ad\n",
      "ae\n",
      "ba\n",
      "bc\n",
      "bd\n",
      "be\n",
      "ca\n",
      "cb\n",
      "cd\n",
      "ce\n",
      "da\n",
      "db\n",
      "dc\n",
      "de\n",
      "ea\n",
      "eb\n",
      "ec\n",
      "ed\n"
     ]
    }
   ],
   "source": [
    "for x in sub:\n",
    "    #x와 x를 제외한 나머지들\n",
    "    for j in sub:\n",
    "        if x == j:\n",
    "            pass\n",
    "        else:\n",
    "             print(x + j)"
   ]
  },
  {
   "cell_type": "code",
   "execution_count": null,
   "metadata": {},
   "outputs": [],
   "source": []
  }
 ],
 "metadata": {
  "kernelspec": {
   "display_name": "Python [conda env:tensorflow]",
   "language": "python",
   "name": "conda-env-tensorflow-py"
  },
  "language_info": {
   "codemirror_mode": {
    "name": "ipython",
    "version": 3
   },
   "file_extension": ".py",
   "mimetype": "text/x-python",
   "name": "python",
   "nbconvert_exporter": "python",
   "pygments_lexer": "ipython3",
   "version": "3.5.5"
  }
 },
 "nbformat": 4,
 "nbformat_minor": 2
}
