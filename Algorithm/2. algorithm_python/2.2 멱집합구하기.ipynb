{
 "cells": [
  {
   "cell_type": "markdown",
   "metadata": {},
   "source": [
    "멱집합 구하기\n",
    "집합 A에 다하여, A의 모든 부분집합을 원소로 가지는 집합을 A의 멱집합이라고 한다. 예를 들어, 집합 A의 원소가 {1, 2, 3} 일 경우, A의 멱집합은 다음과 같이 8개의 원소를 갖는 집합이다.\n",
    "\n",
    "{}, {1}, {2}, {3}, {1, 2}, {1, 3}, {2, 3}, {1, 2, 3}\n",
    "\n",
    "집합 A의 원소는 1부터 nn까지의 자연수로 구성된다. nn이 주어질 때, A의 멱집합의 원소를 사전 순서대로 모두 출력하는 프로그램을 작성하시오. 단, 공집합은 제외하고 출력한다.\n",
    "\n",
    "입력 예시\n",
    "3\n",
    "Copy\n",
    "출력 예시\n",
    "1\n",
    "1 2\n",
    "1 2 3\n",
    "1 3\n",
    "2\n",
    "2 3\n",
    "3\n",
    "Copy\n",
    "문제 조건\n",
    "원소의 개수는 10개를 넘지 않습니다.\n",
    "공집합은 출력하지 않습니다."
   ]
  },
  {
   "cell_type": "code",
   "execution_count": 52,
   "metadata": {},
   "outputs": [
    {
     "name": "stdout",
     "output_type": "stream",
     "text": [
      "3\n",
      "1\n",
      "1 2\n",
      "1 2 3\n",
      "1 3\n",
      "2\n",
      "2 3\n",
      "3\n"
     ]
    }
   ],
   "source": [
    "import sys\n",
    "def getPowerSet(n, k):\n",
    "    \n",
    "    # 31\n",
    "    # [[1], [1,2],[1,2,3], [1,3]]\n",
    "    \n",
    "    # 32\n",
    "    # [[2], [2,3]] -> [[1]] 그리고 모든 원소에 1을 넣어 더하면 31 = 31 + 33\n",
    "    \n",
    "    # 33\n",
    "    # [[3]]\n",
    "\n",
    "    if n == k:\n",
    "        return [[k]]\n",
    "    \n",
    "    result = [[k]]\n",
    "    temp = []\n",
    "    for i in range(k+1, n+1):\n",
    "        #if k == 1 temp = [[1,2], [1,2,3], [1,3]]\n",
    "\n",
    "        temp = temp + getPowerSet(n, i)\n",
    "    \n",
    "    for i in range(len(temp)):\n",
    "        temp[i] = [k] + temp[i]\n",
    "        \n",
    "    return result + temp\n",
    "\n",
    "\n",
    "def powerSet(n) :\n",
    "    '''\n",
    "    n개의 원소를 가지는 집합 A의 멱집합의 원소를 사전 순서대로 list로 반환하는 함수를 작성하시오.\n",
    "\n",
    "    예를 들어, n = 3 일 경우 다음의 list를 반환한다.\n",
    "\n",
    "    [ [1], [1, 2], [1, 3], [1, 2, 3], [2], [2, 3], [3] ]\n",
    "    '''\n",
    "    \n",
    "    answer = []\n",
    "    for k in range(1,n+1):\n",
    "        answer = answer + getPowerSet(n, k)\n",
    "\n",
    "    return answer\n",
    "\n",
    "def main():\n",
    "    '''\n",
    "    이 부분은 수정하지 마세요.\n",
    "    '''\n",
    "\n",
    "    n = int(input())\n",
    "\n",
    "    result = powerSet(n)\n",
    "    \n",
    "    for line in result :\n",
    "        print(*line)\n",
    "\n",
    "if __name__ == \"__main__\":\n",
    "    main()\n"
   ]
  },
  {
   "cell_type": "code",
   "execution_count": 50,
   "metadata": {},
   "outputs": [],
   "source": []
  },
  {
   "cell_type": "code",
   "execution_count": 51,
   "metadata": {},
   "outputs": [
    {
     "data": {
      "text/plain": [
       "[[1], [1, 2], [1, 2, 3], [1, 3]]"
      ]
     },
     "execution_count": 51,
     "metadata": {},
     "output_type": "execute_result"
    }
   ],
   "source": [
    "getPowerSet(3,1)"
   ]
  },
  {
   "cell_type": "code",
   "execution_count": null,
   "metadata": {},
   "outputs": [],
   "source": []
  }
 ],
 "metadata": {
  "kernelspec": {
   "display_name": "Python [conda env:tensorflow]",
   "language": "python",
   "name": "conda-env-tensorflow-py"
  },
  "language_info": {
   "codemirror_mode": {
    "name": "ipython",
    "version": 3
   },
   "file_extension": ".py",
   "mimetype": "text/x-python",
   "name": "python",
   "nbconvert_exporter": "python",
   "pygments_lexer": "ipython3",
   "version": "3.5.5"
  }
 },
 "nbformat": 4,
 "nbformat_minor": 2
}
