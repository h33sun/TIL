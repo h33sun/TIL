{
 "cells": [
  {
   "cell_type": "code",
   "execution_count": null,
   "metadata": {},
   "outputs": [],
   "source": [
    "#4X4 평면에 4개의 돌을 놓는다\n",
    "\n",
    "## 가로 체크\n",
    "    \n",
    "## 세로 체크\n",
    "## 오른 대각 체크\n",
    "## 왼 대각 체크"
   ]
  },
  {
   "cell_type": "code",
   "execution_count": 11,
   "metadata": {},
   "outputs": [
    {
     "data": {
      "text/plain": [
       "[1, 2, 3, 4, 5, 6, 7, 8, 9, 10, 11, 12, 13, 14, 15, 16]"
      ]
     },
     "execution_count": 11,
     "metadata": {},
     "output_type": "execute_result"
    }
   ],
   "source": [
    "\n",
    "a"
   ]
  },
  {
   "cell_type": "code",
   "execution_count": 51,
   "metadata": {
    "scrolled": true
   },
   "outputs": [
    {
     "name": "stdout",
     "output_type": "stream",
     "text": [
      "[0, 1, 2, 3, 4, 5, 6, 7, 8, 9, 10, 11, 12, 13, 14, 15]\n",
      "0\n",
      "[0, 0, -5, 5, -10, 10, -15, 15]\n",
      "[0, 0, -5, 3, -10, 6, -15, 9]\n",
      "0 0\n",
      "[-1, -1, -1, -1, -1, 5, 6, 7, -1, 9, 10, 11, -1, 13, 14, 15]\n"
     ]
    }
   ],
   "source": [
    "a = list(range(0, 16))\n",
    "print(a)\n",
    "print(a[0])\n",
    "y, x = divmod(a[0], 4)\n",
    "num = a[0]\n",
    "right_cross = []\n",
    "left_cross = []\n",
    "for i in range(4):\n",
    "    right_cross.append((4+1)*-i)\n",
    "    right_cross.append((4+1)*i)\n",
    "    left_cross.append((4+1)*-i)\n",
    "    left_cross.append((4-1)*i)\n",
    "    \n",
    "print(right_cross)\n",
    "print(left_cross)\n",
    "\n",
    "\n",
    "for j in range(len(a)):\n",
    "    y_, x_ = divmod(a[j],4)\n",
    "    #가로\n",
    "    if y_ == y:\n",
    "        a[j] = -1\n",
    "    #세로\n",
    "    if x_ == x:\n",
    "        a[j] = -1\n",
    "    \n",
    "print(x,y)\n",
    "\n",
    "print(a)\n",
    "    #가로체크\n",
    "    "
   ]
  },
  {
   "cell_type": "code",
   "execution_count": 63,
   "metadata": {},
   "outputs": [
    {
     "name": "stdout",
     "output_type": "stream",
     "text": [
      "[0, 1, 2, 3, 4, 5, 6, 7, 8, 9, 10, 11, 12, 13, 14, 15]\n",
      "0 0\n",
      "[-1, -1, -1, -1, -1, 5, 6, 7, -1, 9, 10, 11, -1, 13, 14, 15]\n"
     ]
    }
   ],
   "source": [
    "def nQueen(n):\n",
    "    data = list(range(n**2))\n",
    "    print(data)\n",
    "    \n",
    "    row, col = divmod(data[0],n)\n",
    "    right_cross = []\n",
    "    left_cross = []\n",
    "    print(row, col)\n",
    "    #가로\n",
    "    for i in range(len(data)):\n",
    "        row_, col_ = divmod(data[i] ,n)\n",
    "        if row_ == row or col_ == col:\n",
    "            data[i] = -1\n",
    "    \n",
    "    #row = 아래로 1칸\n",
    "    #col = 오른쪽으로 1칸\n",
    "    print(data)\n",
    "    \n",
    "    \n",
    "    #오른대각\n",
    "    #1. 윗방향 (row -1, col -1)\n",
    "    #2. 아랫방향 (row +1 col +1)\n",
    "    \n",
    "    #2,2이라면\n",
    "    #1 00 11 22 33\n",
    "    for i in range(n):\n",
    "        new = row -1\n",
    "        \n",
    "        right_cross.append(data[])\n",
    "    \n",
    "    #왼대각\n",
    "    #1. 윗방향 (위로1칸 row -1  오른쪽으로한칸 col +1)\n",
    "    #2. 아랫방향(아래로한 row + 1칸 왼쪽으로한칸 col -1)\n",
    "    pass\n",
    "\n",
    "nQueen(4)"
   ]
  },
  {
   "cell_type": "code",
   "execution_count": 72,
   "metadata": {},
   "outputs": [],
   "source": [
    "a = 2\n",
    "b= 2"
   ]
  },
  {
   "cell_type": "code",
   "execution_count": 42,
   "metadata": {},
   "outputs": [
    {
     "data": {
      "text/plain": [
       "-1"
      ]
     },
     "execution_count": 42,
     "metadata": {},
     "output_type": "execute_result"
    }
   ],
   "source": [
    "a[0]\n",
    "x = a[0]\n",
    "x"
   ]
  },
  {
   "cell_type": "code",
   "execution_count": 84,
   "metadata": {},
   "outputs": [
    {
     "data": {
      "text/plain": [
       "True"
      ]
     },
     "execution_count": 84,
     "metadata": {},
     "output_type": "execute_result"
    }
   ],
   "source": [
    "0 <= a <= 4"
   ]
  },
  {
   "cell_type": "code",
   "execution_count": 48,
   "metadata": {},
   "outputs": [],
   "source": [
    "num = 1"
   ]
  },
  {
   "cell_type": "code",
   "execution_count": 49,
   "metadata": {},
   "outputs": [
    {
     "name": "stdout",
     "output_type": "stream",
     "text": [
      "1\n",
      "6\n",
      "11\n",
      "16\n"
     ]
    }
   ],
   "source": [
    "for i in range(4):\n",
    "    print(num + (4+1)*i)"
   ]
  },
  {
   "cell_type": "code",
   "execution_count": null,
   "metadata": {},
   "outputs": [],
   "source": []
  }
 ],
 "metadata": {
  "kernelspec": {
   "display_name": "Python [conda env:tensorflow]",
   "language": "python",
   "name": "conda-env-tensorflow-py"
  },
  "language_info": {
   "codemirror_mode": {
    "name": "ipython",
    "version": 3
   },
   "file_extension": ".py",
   "mimetype": "text/x-python",
   "name": "python",
   "nbconvert_exporter": "python",
   "pygments_lexer": "ipython3",
   "version": "3.5.5"
  }
 },
 "nbformat": 4,
 "nbformat_minor": 2
}
