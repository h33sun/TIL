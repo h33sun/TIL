{
 "cells": [
  {
   "cell_type": "markdown",
   "metadata": {},
   "source": [
    "#### 기울기가 가장 큰 두 점 찾기\n",
    "2차원 평면에 nn개의 점이 있다. 이 점들 중에서 두 점을 선택했을 때, 그 기울기의 절댓값의 최댓값을 출력하는 프로그램을 작성하시오. 단, 모든 점의 x좌표는 다르다고 가정한다. 또한, 두 점 (x1, y1), (x2, y2)의 기울기는 (y2 - y1) / (x2 - x1) 으로 정의된다.\n",
    "\n",
    "예를 들어, 4개의 점이 각각 (0, 3), (1, 1), (2, 2), (4, 1) 에 위치해 있다고 하면, 기울기의 절댓값의 최댓값은 2가 된다.\n",
    "\n",
    "이 경우 기울기 절댓값의 최댓값인 2를 출력합니다.\n",
    "\n",
    "입력으로는 첫줄에 점의 개수가, 그 다음줄부터는 점의 xx좌표와 yy좌표가 입력됩니다."
   ]
  },
  {
   "cell_type": "code",
   "execution_count": 2,
   "metadata": {},
   "outputs": [
    {
     "name": "stdout",
     "output_type": "stream",
     "text": [
      "4\n",
      "0 3\n",
      "1 1\n",
      "2 2\n",
      "4 1\n",
      "[2.0, 0.5, 0.5, 2.0, 1.0, 0.0, 0.5, 1.0, 0.5, 0.5, 0.0, 0.5]\n",
      "2.000\n"
     ]
    }
   ],
   "source": [
    "import sys\n",
    "\n",
    "import sys\n",
    "import math\n",
    "\n",
    "def maxSlope(points) :\n",
    "    '''\n",
    "    n개의 점들 중에서 2개의 점을 선택했을 때, 얻을 수 있는 기울기의 절댓값 중에서 가장 큰 값을 반환하는 함수를 작성하세요.\n",
    "\n",
    "    **주의** : 소숫점 넷째자리에서 반올림하는 것은 고려할 필요가 없습니다. 이는 main()에서 출력을 할 때에 처리가 되므로, 기울기의 최댓값을 구하는 것에 집중해 주시길 바랍니다.\n",
    "    '''\n",
    "    blank = []\n",
    "\n",
    "    for i in range(len(points)):\n",
    "        for j in range(len(points)):\n",
    "            x2,y2 = points[i][0], points[i][1]\n",
    "            x1,y1 = points[j][0], points[j][1]\n",
    "            \n",
    "            try:\n",
    "                blank.append(abs((y2-y1)/(x2-x1)))\n",
    "            except:\n",
    "                pass\n",
    "\n",
    "        \n",
    "    print(blank)\n",
    "    return max(blank)\n",
    "\n",
    "\n",
    "def main():\n",
    "    '''\n",
    "    이 부분은 수정하지 마세요.\n",
    "    '''\n",
    "\n",
    "    n = int(input())\n",
    "    points = []\n",
    "\n",
    "    for i in range(n) :\n",
    "        line = [int(x) for x in input().split()]\n",
    "        points.append( (line[0], line[1]) )\n",
    "\n",
    "    print(\"%.3lf\" % maxSlope(points))\n",
    "\n",
    "if __name__ == \"__main__\":\n",
    "    main()\n"
   ]
  },
  {
   "cell_type": "code",
   "execution_count": null,
   "metadata": {},
   "outputs": [],
   "source": []
  }
 ],
 "metadata": {
  "kernelspec": {
   "display_name": "Python [conda env:tensorflow]",
   "language": "python",
   "name": "conda-env-tensorflow-py"
  },
  "language_info": {
   "codemirror_mode": {
    "name": "ipython",
    "version": 3
   },
   "file_extension": ".py",
   "mimetype": "text/x-python",
   "name": "python",
   "nbconvert_exporter": "python",
   "pygments_lexer": "ipython3",
   "version": "3.5.5"
  }
 },
 "nbformat": 4,
 "nbformat_minor": 2
}
