{
 "cells": [
  {
   "cell_type": "markdown",
   "metadata": {},
   "source": [
    "각 자릿수의 차이\n",
    "두 자연수가 주어질 때, 각 자릿수의 숫자를 비교하여 다른 개수를 세는 프로그램을 작성하시오.\n",
    "\n",
    "예를 들어, 두 자연수가 각각 212, 233 이라면 10의 자리와 1의 자리가 다르므로, 총 2개의 자리가 다르다."
   ]
  },
  {
   "cell_type": "code",
   "execution_count": 6,
   "metadata": {},
   "outputs": [],
   "source": [
    "def diffDigit(a, b) :\n",
    "    '''\n",
    "    a, b의 서로 다른 자리수의 개수를 반환한다\n",
    "    '''\n",
    "    #편의상 긴 입력과 짧은 입력의 순서를 통일한다.    \n",
    "    a, b = max(a,b), min(a,b)\n",
    "    \n",
    "    a = list(str(a))\n",
    "    b = list(str(b))\n",
    "    \n",
    "    # 길이가 같을 때 호출할 함수\n",
    "    def samelen(a,b):\n",
    "        answer= 0\n",
    "        for i in range(len(a)):\n",
    "            print(a[i], b[i])\n",
    "            if a[i] != b[i]:\n",
    "                \n",
    "                answer += 1\n",
    "        return answer\n",
    "    \n",
    "    # a와b의 길이가 같다면 samelen함수를 호출한다.\n",
    "    if len(a) == len(b):\n",
    "        return samelen(a,b)\n",
    "    \n",
    "    # a와 b의 길이가 다르다면 다른만큼(slack) [-1]*slack 을 결합해주고 길이를 통일시켜 \n",
    "    # samelen을 호출한다.\n",
    "    else:\n",
    "        slack = len(a) - len(b)\n",
    "        b = [-1] * slack + b\n",
    "        print('a', a)\n",
    "        print('b', b)\n",
    "        \n",
    "        return samelen(a,b)\n",
    "\n",
    "def main():\n",
    "    '''\n",
    "    Do not change this code\n",
    "    '''\n",
    "\n",
    "    a = int(input())\n",
    "    b = int(input())\n",
    "\n",
    "    print(diffDigit(a, b))\n",
    "\n",
    "\n",
    "if __name__ == \"__main__\":\n",
    "    main()"
   ]
  },
  {
   "cell_type": "code",
   "execution_count": null,
   "metadata": {},
   "outputs": [],
   "source": []
  }
 ],
 "metadata": {
  "kernelspec": {
   "display_name": "Python [conda env:tensorflow]",
   "language": "python",
   "name": "conda-env-tensorflow-py"
  },
  "language_info": {
   "codemirror_mode": {
    "name": "ipython",
    "version": 3
   },
   "file_extension": ".py",
   "mimetype": "text/x-python",
   "name": "python",
   "nbconvert_exporter": "python",
   "pygments_lexer": "ipython3",
   "version": "3.5.5"
  }
 },
 "nbformat": 4,
 "nbformat_minor": 2
}
