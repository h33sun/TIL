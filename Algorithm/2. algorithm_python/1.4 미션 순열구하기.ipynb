{
 "cells": [
  {
   "cell_type": "markdown",
   "metadata": {},
   "source": [
    "순열이란, nn개의 원소 중에서 rr개를 나열하는 것을 의미합니다. 예를 들어, 4개의 원소 중에서 2개를 나열한다고 하고, 우리가 갖고있는 원소가 ‘a’, ‘b’, ‘c’, ‘d’라면, 그 순열은 ‘ab’, ‘ac’, ‘ad’, ‘ba’, ‘bc’, ‘bd’, ‘ca’, ‘cb’, ‘cd’, ‘da’, ‘db’, dc’ 로써 총 12개의 서로 다른 경우가 존재합니다.\n",
    "\n",
    "입력으로 nn과 rr이 주어질 때, nn개의 원소 중에서 rr개를 나열한 결과를 출력하는 프로그램을 작성하세요. 단, 원소는 항상 'a’부터 시작하여 nn개의 알파벳이라고 가정합니다.\n",
    "\n"
   ]
  },
  {
   "cell_type": "code",
   "execution_count": 15,
   "metadata": {},
   "outputs": [
    {
     "name": "stdout",
     "output_type": "stream",
     "text": [
      "3 3\n",
      "abc\n",
      "acb\n",
      "bac\n",
      "bca\n",
      "cab\n",
      "cba\n"
     ]
    }
   ],
   "source": [
    "def getPermutation(n, r) :\n",
    "    '''\n",
    "    n개의 알파벳 중에서 r개를 뽑아 나열한 결과를 리스트로 반환합니다.\n",
    "\n",
    "    예를 들어, n = 4, r = 2 일 경우에는\n",
    "    \n",
    "    [\"ab\", \"ac\", \"ad\", \"ba\", \"bc\", \"bd\", \"ca\", \"cb\", \"cd\", \"da\", \"db\", dc\"] 를 반환합니다.\n",
    "    '''\n",
    "\n",
    "    result = []\n",
    "    blank = []\n",
    "    letters = 'abcdefghijklmnopqrstuvwxyz'\n",
    "    letters = letters[:n]\n",
    "   \n",
    "    #basecondition\n",
    "    if r == 1:\n",
    "        for x in letters:\n",
    "            blank.append(x)\n",
    "        return blank\n",
    "    \n",
    "    #r = 2 이상일 때\n",
    "    # 이전의 n-1에서 구한 모든 순서쌍과 자신이 (a) 포함되지 않은 모든 순서쌍을 더해준다\n",
    "    # [a,b,c] -> [a: a + b, a+c] -> [a : a+ bc, a+ cb]\n",
    "    new = getPermutation(n, r-1)\n",
    "    for x in letters:\n",
    "        for j in new:\n",
    "            if x not in j:\n",
    "                blank.append(x + j)\n",
    "    return blank\n",
    "        \n",
    "    \n",
    "\n",
    "\n",
    "\n",
    "\n",
    "\n",
    "\n",
    "\n",
    "\n",
    "\n",
    "\n",
    "\n",
    "\n",
    "\n",
    "\n",
    "\n",
    "\n",
    "def main():\n",
    "    '''\n",
    "    테스트를 하고싶으면, 아래 부분을 수정합니다.\n",
    "    '''\n",
    "\n",
    "    firstLine = [int(x) for x in input().split()]\n",
    "\n",
    "    print('\\n'.join(getPermutation(firstLine[0], firstLine[1])))\n",
    "\n",
    "if __name__ == \"__main__\":\n",
    "    main()"
   ]
  },
  {
   "cell_type": "code",
   "execution_count": null,
   "metadata": {},
   "outputs": [],
   "source": []
  },
  {
   "cell_type": "code",
   "execution_count": null,
   "metadata": {},
   "outputs": [],
   "source": []
  }
 ],
 "metadata": {
  "kernelspec": {
   "display_name": "Python [conda env:tensorflow]",
   "language": "python",
   "name": "conda-env-tensorflow-py"
  },
  "language_info": {
   "codemirror_mode": {
    "name": "ipython",
    "version": 3
   },
   "file_extension": ".py",
   "mimetype": "text/x-python",
   "name": "python",
   "nbconvert_exporter": "python",
   "pygments_lexer": "ipython3",
   "version": "3.5.5"
  }
 },
 "nbformat": 4,
 "nbformat_minor": 2
}
