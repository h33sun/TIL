{
 "cells": [
  {
   "cell_type": "markdown",
   "metadata": {},
   "source": [
    "연속 부분 최대합\n",
    "nn개의 숫자가 주어질 때, 연속 부분을 선택하여 그 합을 최대화 하는 프로그램을 작성하시오. 예를 들어, 다음과 같이 8개의 숫자가 있다고 하자.\n",
    "\n",
    "1 2 -4 5 3 -2 9 -10\n",
    "\n",
    "이 때, 연속 부분이란 연속하여 숫자를 선택하는 것을 말한다. 가능한 연속 부분으로써 [1, 2, -4], [5, 3, -2, 9], [9, -10] 등이 있을 수 있다. 이 연속 부분들 중에서 가장 합이 큰 연속 부분은 [5, 3, -2, 9] 이며, 이보다 더 합을 크게 할 수는 없다. 따라서 연속 부분 최대합은 5+3+(-2)+9 = 15 이다."
   ]
  },
  {
   "cell_type": "code",
   "execution_count": null,
   "metadata": {},
   "outputs": [],
   "source": [
    "import sys\n",
    "\n",
    "def getSubsum(data) :\n",
    "    '''\n",
    "    n개의 숫자가 list로 주어질 때, 그 연속 부분 최대합을 반환하는 함수를 작성하세요.\n",
    "    '''\n",
    "    blank = []\n",
    "    #모든 조합에 대해 합을 구한다\n",
    "    #모든조합이란\n",
    "    #첫 원소 idx를 정하고 나머지 리스트에 대해 순환\n",
    "    for i in range(len(data)):\n",
    "\n",
    "        for ii in range(i+1,len(data)):\n",
    "            rest = data[i:ii]\n",
    "            blank.append(sum(rest))\n",
    "    \n",
    "    return max(blank)\n",
    "\n",
    "\n",
    "def main():\n",
    "    '''\n",
    "    이 부분은 수정하지 마세요.\n",
    "    '''\n",
    "\n",
    "    data = [int(x) for x in input().split()]\n",
    "\n",
    "    print(getSubsum(data))\n",
    "\n",
    "if __name__ == \"__main__\":\n",
    "    main()\n"
   ]
  }
 ],
 "metadata": {
  "kernelspec": {
   "display_name": "Python [conda env:tensorflow]",
   "language": "python",
   "name": "conda-env-tensorflow-py"
  },
  "language_info": {
   "codemirror_mode": {
    "name": "ipython",
    "version": 3
   },
   "file_extension": ".py",
   "mimetype": "text/x-python",
   "name": "python",
   "nbconvert_exporter": "python",
   "pygments_lexer": "ipython3",
   "version": "3.5.5"
  }
 },
 "nbformat": 4,
 "nbformat_minor": 2
}
