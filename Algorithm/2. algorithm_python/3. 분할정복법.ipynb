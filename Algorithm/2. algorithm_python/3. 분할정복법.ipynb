{
 "cells": [
  {
   "cell_type": "markdown",
   "metadata": {},
   "source": [
    "### 3 분할정복법\n",
    "\n",
    "#### 3.1 재귀호출을 이용한 문제 해결\n",
    "\n",
    "- 가장 가까운 수 찾기\n",
    "    - `정렬된` N개의 숫자 중, 정수 M과 가장 가까운 값 찾기\n",
    "    - 1. 완전탐색 O(N)\n",
    "        - 모든 N개의 수와 M을 비교 :  O(N)\n",
    "        \n",
    "    - 2. 이진탐색 O(logN)\n",
    "        - 1. 중간값과 M을 비교한다.\n",
    "        - 2. 대소비교에 따라 왼쪽 혹은 오른쪽을 버린다.\n",
    "        \n",
    "- 거듭제곱 구하기\n",
    "    - 어떤 수 m을 n번 제곱하기\n",
    "    - 단순곱\n",
    "        - m을 n번 곱한다 -> 시간복잡도 O(N)\n",
    "    - 효율적인 방법 O(logN)\n",
    "        - N이 짝수일 때\n",
    "            - N이란 `M^(N/2)*2`\n",
    "        - N이 홀수일 때\n",
    "            - N이란 `M^((N-1)/2)*2 + M`"
   ]
  },
  {
   "cell_type": "code",
   "execution_count": null,
   "metadata": {},
   "outputs": [],
   "source": []
  }
 ],
 "metadata": {
  "kernelspec": {
   "display_name": "Python [conda env:tensorflow]",
   "language": "python",
   "name": "conda-env-tensorflow-py"
  },
  "language_info": {
   "codemirror_mode": {
    "name": "ipython",
    "version": 3
   },
   "file_extension": ".py",
   "mimetype": "text/x-python",
   "name": "python",
   "nbconvert_exporter": "python",
   "pygments_lexer": "ipython3",
   "version": "3.5.5"
  }
 },
 "nbformat": 4,
 "nbformat_minor": 2
}
