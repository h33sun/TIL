{
 "cells": [
  {
   "cell_type": "markdown",
   "metadata": {},
   "source": [
    "거듭제곱 구하기\n",
    "본 연습문제에서는 m^nm \n",
    "n\n",
    " 을 구하는 프로그램을 작성합니다.\n",
    "\n",
    "입력으로는 m, nm,n이 차례대로 입력됩니다.\n",
    "\n",
    "만약 getPower 함수의 반환 값이 1,000,000,007 보다 클 경우, 반환 값을 1,000,000,007로 나눈 나머지 값을 반환하세요.\n",
    "\n",
    "n은 0~1조"
   ]
  },
  {
   "cell_type": "markdown",
   "metadata": {},
   "source": [
    "### 가장 단순한 풀이\n",
    "- 시간제한을 넘어감"
   ]
  },
  {
   "cell_type": "code",
   "execution_count": 4,
   "metadata": {},
   "outputs": [
    {
     "name": "stdout",
     "output_type": "stream",
     "text": [
      "81\n"
     ]
    }
   ],
   "source": [
    "def getPower(m, n):\n",
    "    '''\n",
    "    m^n 을 LIMIT_NUMBER로 나눈 나머지를 반환하는 함수를 작성하세요.\n",
    "    '''\n",
    "    ans = m**n\n",
    "    if ans > 1000000007:\n",
    "        return divmod(ans, 1000000007)[1]\n",
    "    return ans\n",
    "\n",
    "def main():\n",
    "    '''\n",
    "    이 부분은 수정하지 마세요.\n",
    "    '''\n",
    "\n",
    "    myList = (3,4)\n",
    "\n",
    "    print(getPower(myList[0], myList[1]))\n",
    "\n",
    "if __name__ == \"__main__\":\n",
    "    main()\n"
   ]
  },
  {
   "cell_type": "markdown",
   "metadata": {},
   "source": [
    "### 분할정복풀이\n",
    "\n",
    "- 차수를 반절씩 줄여나가면서 계산복잡도를 O(logN)으로 바꿔줄 수 있따"
   ]
  },
  {
   "cell_type": "code",
   "execution_count": 9,
   "metadata": {},
   "outputs": [
    {
     "name": "stdout",
     "output_type": "stream",
     "text": [
      "81\n"
     ]
    }
   ],
   "source": [
    "LIMIT_NUMBER = 1000000007\n",
    "\n",
    "def getPower(m, n):\n",
    "    '''\n",
    "    m^n 을 LIMIT_NUMBER로 나눈 나머지를 반환하는 함수를 작성하세요.\n",
    "    \n",
    "    '''\n",
    "    \n",
    "    if n == 0:\n",
    "        return 1\n",
    "    \n",
    "    \n",
    "    if n%2:\n",
    "        result = (getPower(m,(n-1)/2))**2 * m\n",
    "        return divmod(result,LIMIT_NUMBER)[1] if result > LIMIT_NUMBER else result\n",
    "        \n",
    "    else:\n",
    "        result = (getPower(m, n/2))**2 \n",
    "        return divmod(result,LIMIT_NUMBER)[1] if result > LIMIT_NUMBER else result\n",
    "        \n",
    "        \n",
    "\n",
    "def main():\n",
    "    '''\n",
    "    이 부분은 수정하지 마세요.\n",
    "    '''\n",
    "\n",
    "    myList = [int(v) for v in input().split()]\n",
    "\n",
    "    print(getPower(myList[0], myList[1]))\n",
    "\n",
    "if __name__ == \"__main__\":\n",
    "    main()"
   ]
  },
  {
   "cell_type": "code",
   "execution_count": null,
   "metadata": {},
   "outputs": [],
   "source": []
  },
  {
   "cell_type": "code",
   "execution_count": null,
   "metadata": {},
   "outputs": [],
   "source": []
  }
 ],
 "metadata": {
  "kernelspec": {
   "display_name": "Python [conda env:tensorflow]",
   "language": "python",
   "name": "conda-env-tensorflow-py"
  },
  "language_info": {
   "codemirror_mode": {
    "name": "ipython",
    "version": 3
   },
   "file_extension": ".py",
   "mimetype": "text/x-python",
   "name": "python",
   "nbconvert_exporter": "python",
   "pygments_lexer": "ipython3",
   "version": "3.5.5"
  }
 },
 "nbformat": 4,
 "nbformat_minor": 2
}
