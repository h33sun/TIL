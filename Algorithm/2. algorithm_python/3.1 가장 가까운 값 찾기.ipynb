{
 "cells": [
  {
   "cell_type": "markdown",
   "metadata": {},
   "source": [
    "## 가장 가까운 값 찾기\n",
    "오름차순으로 정렬된 nn개의 숫자가 주어지고, 정수 mm이 주어질 때, nn개의 숫자 중에서 mm과 가장 가까운 숫자를 출력하는 프로그램을 작성하시오. 만약 가장 가까운 숫자가 2개 이상이라면, 그 중 가장 작은 숫자를 출력한다."
   ]
  },
  {
   "cell_type": "code",
   "execution_count": 31,
   "metadata": {
    "scrolled": true
   },
   "outputs": [
    {
     "name": "stdout",
     "output_type": "stream",
     "text": [
      "16\n"
     ]
    }
   ],
   "source": [
    "import sys\n",
    "\n",
    "def getNearest(data, m) :\n",
    "    '''\n",
    "    n개의 숫자가 list로 주어지고, 숫자 m이 주어질 때, n개의 숫자 중에서 m과 가장 가까운 숫자를 반환하는 함수를 작성하세요.\n",
    "    '''\n",
    "    #가운데 수\n",
    "    n = len(data)\n",
    "    #basecondition\n",
    "    \n",
    "    \n",
    "    if n == 1:\n",
    "        return data\n",
    "    if n == 2:\n",
    "        if abs(m - data[0]) <= abs(m - data[1]):\n",
    "            return data[0]\n",
    "        else:\n",
    "            return data[1]\n",
    "\n",
    "    \n",
    "    #짝수길이\n",
    "    if len(data) % 2:\n",
    "        idx = int((n-1)/2)\n",
    "    \n",
    "    else:\n",
    "        idx = int(n/2)\n",
    "    \n",
    "    if m > data[idx]:\n",
    "        return getNearest(data[idx:], m)\n",
    "    else:\n",
    "        return getNearest(data[:idx+1],m)\n",
    "    \n",
    "    \n",
    "def main():\n",
    "    '''\n",
    "    이 부분은 수정하지 마세요.\n",
    "    '''\n",
    "\n",
    "    data = [1, 4, 6, 7, 14, 14, 16]\n",
    "    m = 16\n",
    "\n",
    "    print(getNearest(data, m))\n",
    "\n",
    "if __name__ == \"__main__\":\n",
    "    main()\n"
   ]
  },
  {
   "cell_type": "code",
   "execution_count": null,
   "metadata": {},
   "outputs": [],
   "source": []
  }
 ],
 "metadata": {
  "kernelspec": {
   "display_name": "Python [conda env:tensorflow]",
   "language": "python",
   "name": "conda-env-tensorflow-py"
  },
  "language_info": {
   "codemirror_mode": {
    "name": "ipython",
    "version": 3
   },
   "file_extension": ".py",
   "mimetype": "text/x-python",
   "name": "python",
   "nbconvert_exporter": "python",
   "pygments_lexer": "ipython3",
   "version": "3.5.5"
  }
 },
 "nbformat": 4,
 "nbformat_minor": 2
}
