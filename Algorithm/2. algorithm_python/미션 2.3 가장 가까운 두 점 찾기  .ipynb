{
 "cells": [
  {
   "cell_type": "code",
   "execution_count": null,
   "metadata": {},
   "outputs": [],
   "source": [
    "import sys\n",
    "\n",
    "def getDist(points) :\n",
    "    '''\n",
    "    n개의 점이 주어질 때, 가장 가까운 두 점 사이의 거리의 제곱을 반환하는 함수를 작성하세요.\n",
    "\n",
    "    예를 들어, 점이 4개가 있고, 각각의 좌표가 (0, 3), (1, 1), (2, 2), (7, 1) 이라면 points에는 다음과 같이 그 정보가 저장됩니다.\n",
    "\n",
    "    points = [ (0, 3), (1, 1), (2, 2), (7, 1) ]\n",
    "\n",
    "    이 때, 가장 가까운 두 점 사이의 거리의 제곱은 2입니다.\n",
    "    '''\n",
    "    distances = []\n",
    "    for i in range(len(points)):\n",
    "        for j in range(len(points)):\n",
    "            if i != j:\n",
    "                x1, y1 = points[i][0], points[i][1]\n",
    "                x2, y2 = points[j][0], points[j][1]\n",
    "                dist = (x1-x2)**2 + (y1-y2)**2\n",
    "                distances.append(dist)\n",
    "            \n",
    "    return min(distances)\n",
    "\n",
    "def main():\n",
    "    '''\n",
    "    이 부분은 수정하지 마세요.\n",
    "    '''\n",
    "\n",
    "    n = int(input())\n",
    "    points = []\n",
    "\n",
    "    for i in range(n) :\n",
    "        line = [int(x) for x in input().split()]\n",
    "        points.append( (line[0], line[1]) )\n",
    "\n",
    "    print(getDist(points))\n",
    "\n",
    "if __name__ == \"__main__\":\n",
    "    main()"
   ]
  },
  {
   "cell_type": "code",
   "execution_count": null,
   "metadata": {},
   "outputs": [],
   "source": []
  }
 ],
 "metadata": {
  "kernelspec": {
   "display_name": "Python [conda env:tensorflow]",
   "language": "python",
   "name": "conda-env-tensorflow-py"
  },
  "language_info": {
   "codemirror_mode": {
    "name": "ipython",
    "version": 3
   },
   "file_extension": ".py",
   "mimetype": "text/x-python",
   "name": "python",
   "nbconvert_exporter": "python",
   "pygments_lexer": "ipython3",
   "version": "3.5.5"
  }
 },
 "nbformat": 4,
 "nbformat_minor": 2
}
