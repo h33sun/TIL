{
 "cells": [
  {
   "cell_type": "markdown",
   "metadata": {},
   "source": [
    "### 1. 프로그램의 기본 구성\n",
    "- 1. `입력`: 12 + 13\n",
    "- 2. `실행`: = 25\n",
    "- 3. `저장`: 25라는 값 저장\n",
    "- 4. `출력`: 화면에 보여줌\n",
    "\n",
    "#### 1-1. 데이터의 흐름과 저장\n",
    "- 1~4 까지 일련의 과정\n",
    "- 자료구조: 정수, 실수, 문자, 배열, 해쉬, 링크드리스트, 스택, 큐, 트리, 그래프\n",
    "- 조건에 맞는 자료 구조를 선택해야함\n",
    "\n",
    "#### 1-2. 효율성\n",
    "- `실행`에서의 효율성 (알고리즘!)\n",
    "\n",
    "#### 1-3. 좋은 알고리즘의 조건\n",
    "\n",
    "- `적절한 입력`\n",
    "- `적절한 출력`\n",
    "- `명확성`: 알고리즘의 각 단계 혹은 코드가 어떠한 기능을 위해 존재하는지 목적이 명확해야 \n",
    "- `유한성`: 무한루프에 빠지는 문제를 방지\n",
    "- `효율성`: 높을수록 좋은 알고리즘\n",
    "    - 어떻게 측정할까?\n",
    "    \n",
    "#### 1-4. 자료구조와 알고리즘의 관계\n",
    "\n",
    "- 1. `자료구조` -> `알고리즘`\n",
    "    - 자료구조를 활용하여 어떤 문제를 해결    \n",
    "    \n",
    "- 2. `자료구조` <- `알고리즘`\n",
    "    - 자료구조를 구현하는데 알고리즘이 사용됨\n",
    "    - 라이브러리를 사용하며 구현이 할 필요가 없을 때도 있지만, *문제에 맞는 최적의 자료구조를 구현하기 위해*\n"
   ]
  },
  {
   "cell_type": "markdown",
   "metadata": {},
   "source": [
    "### Q1. 두 수의 합\n",
    "\n",
    "숫자들의 배열이 주어지고 표적 숫자가 주어졌다고 합시다.배열에 주어진 숫자들 중 두 개의 숫자를 더하면 표적 숫자가 되는데요, 이때 어떤 두 수를 더하면 표적숫자가 되는지 찾는 문제를 풀어 봅시다.예를 들어서, [2, 8, 19, 37, 4, 5] 가 배열로 주어지고 12 가 표적으로 주어지면 8,4 를 찾아내시면 됩니다.\n",
    "\n",
    "입력 배열에는 중복되는 수가 없습니다.\n",
    "입력 배열에는 합해서 표적이 되는 어떤 두 수가 반드시 있습니다.\n",
    "출력의 순서는 상관 없습니다. 위 예시의 경우, 8,4 와 4,8은 둘 다 정답으로 인정합니다."
   ]
  },
  {
   "cell_type": "markdown",
   "metadata": {},
   "source": [
    "### A1. \n",
    "- 4/5 테스트케이스 통과\n",
    "- 5번 효율성 조건 불만족"
   ]
  },
  {
   "cell_type": "code",
   "execution_count": 12,
   "metadata": {},
   "outputs": [],
   "source": [
    "import time"
   ]
  },
  {
   "cell_type": "code",
   "execution_count": 15,
   "metadata": {},
   "outputs": [
    {
     "data": {
      "text/plain": [
       "(8, 4)"
      ]
     },
     "execution_count": 15,
     "metadata": {},
     "output_type": "execute_result"
    }
   ],
   "source": [
    "def twoSum(nums, target):\n",
    "\n",
    "    for num in nums:\n",
    "        if target - num in nums:\n",
    "            return num, target-num\n",
    "twoSum(nums,target)"
   ]
  },
  {
   "cell_type": "markdown",
   "metadata": {},
   "source": [
    "### A2.\n",
    "- SORT를 활용.\n",
    "- 모든 배열을 다 돌지 않게 코드를 작성한다."
   ]
  },
  {
   "cell_type": "code",
   "execution_count": 16,
   "metadata": {},
   "outputs": [
    {
     "data": {
      "text/plain": [
       "(4, 8)"
      ]
     },
     "execution_count": 16,
     "metadata": {},
     "output_type": "execute_result"
    }
   ],
   "source": [
    "def twoSum(nums, target):\n",
    "    i = 0\n",
    "    j = len(nums) - 1\n",
    "    \n",
    "    nums.sort()\n",
    "    \n",
    "    while i < j:\n",
    "        # nums의 첫 원소와 마지막 원소의 합이 같다면?\n",
    "        sums = nums[i] + nums[j]\n",
    "        if sums == target:\n",
    "            return nums[i], nums[j]\n",
    "        # sums가 target 보다 크다면? 더 작은 수를 더해줘야한다. j를 땡긴다        \n",
    "        elif sums > target:\n",
    "            j -= 1\n",
    "        # sums가 target보다 작다면? 더 큰수를 더해야 한다. i를 민다.\n",
    "        else:\n",
    "            i+= 1\n",
    "\n",
    "twoSum(nums,target)"
   ]
  }
 ],
 "metadata": {
  "kernelspec": {
   "display_name": "Python [conda env:tensorflow]",
   "language": "python",
   "name": "conda-env-tensorflow-py"
  },
  "language_info": {
   "codemirror_mode": {
    "name": "ipython",
    "version": 3
   },
   "file_extension": ".py",
   "mimetype": "text/x-python",
   "name": "python",
   "nbconvert_exporter": "python",
   "pygments_lexer": "ipython3",
   "version": "3.5.5"
  }
 },
 "nbformat": 4,
 "nbformat_minor": 2
}
