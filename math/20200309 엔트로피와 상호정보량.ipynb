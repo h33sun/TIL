{
 "cells": [
  {
   "cell_type": "code",
   "execution_count": 1,
   "metadata": {},
   "outputs": [],
   "source": [
    "%run C:/Users/HSS/dd.py"
   ]
  },
  {
   "cell_type": "code",
   "execution_count": 2,
   "metadata": {},
   "outputs": [],
   "source": [
    "x1, y1 = [0, 1], [0.5, 0.5]\n",
    "y2 = [0.8, 0.2]\n",
    "y3 = [1, 0]"
   ]
  },
  {
   "cell_type": "markdown",
   "metadata": {},
   "source": [
    "### 베이지안 관점\n",
    "- Y1: 무정보\n",
    "- Y2: 0과 1이 어느정도는 다 나올수 있음\n",
    "- Y3: 100% 확신\n",
    "\n",
    "### *엔트로피\n",
    " - 확률분포가 갖는 이러한 차이를 '하나의 숫자'로 나타낸 것\n",
    " - 확률분포의 확신도 혹은 정보량: 무정보에 가까울수록 커진다."
   ]
  },
  {
   "cell_type": "code",
   "execution_count": 10,
   "metadata": {},
   "outputs": [
    {
     "data": {
      "image/png": "[encoded data removed]",
      "text/plain": [
       "<Figure size 648x216 with 3 Axes>"
      ]
     },
     "metadata": {},
     "output_type": "display_data"
    }
   ],
   "source": [
    "plt.figure(figsize = (9,3))\n",
    "\n",
    "#무정보\n",
    "plt.subplot(131)\n",
    "plt.bar(x1,y1, color = 'green')\n",
    "plt.xticks([0,1], ['Y=0', 'Y=1'])\n",
    "plt.ylim(0, 1.1)\n",
    "plt.title('$Y_1$')\n",
    "\n",
    "#조금알아\n",
    "plt.subplot(132)\n",
    "plt.bar(x1,y2, color = 'green')\n",
    "plt.xticks([0,1], ['Y=0', 'Y=1'])\n",
    "plt.ylim(0, 1.1)\n",
    "plt.title('$Y_2$')\n",
    "\n",
    "#난 신이다\n",
    "plt.subplot(133)\n",
    "plt.bar(x1,y3, color = 'green')\n",
    "plt.xticks([0,1], ['Y=0', 'Y=1'])\n",
    "plt.ylim(0, 1.1)\n",
    "plt.title('$Y_3$')\n",
    "\n",
    "\n",
    "plt.show()\n"
   ]
  },
  {
   "cell_type": "code",
   "execution_count": 18,
   "metadata": {},
   "outputs": [
    {
     "name": "stdout",
     "output_type": "stream",
     "text": [
      "Y1의 엔트로피:  1.0\n",
      "Y2의 엔트로피:  0.7219280948873623\n",
      "Y3의 엔트로피:  nan\n",
      "10e-15로 구한 Y3의 엔트로피:  -0.0\n",
      "eps로 구한 Y3의 엔트로피:  1.1546319456101628e-14\n"
     ]
    }
   ],
   "source": [
    "# Y1, Y2, Y3의 엔트로피 구하기\n",
    "\n",
    "print('Y1의 엔트로피: ', -(0.5 * np.log2(0.5) + 0.5 * np.log2(0.5)))\n",
    "print('Y2의 엔트로피: ', -(0.8 * np.log2(0.8) + 0.2 * np.log2(0.2)))\n",
    "print('Y3의 엔트로피: ', -(1 * np.log2(1) + 0 * np.log2(0)))\n",
    "\n",
    "# 로그는 0을 받을 수 없기 때문에 아주 작은 값을 대신 넣어준다.\n",
    "print('10e-15로 구한 Y3의 엔트로피: ', -(1 * np.log2(1) + 0 * np.log2(10e-15)))\n",
    "\n",
    "\n",
    "# numpy에서 표현할 수 있는 가장 작은 수를 쓰기도 한다.\n",
    "eps = np.finfo(float).eps\n",
    "print('eps로 구한 Y3의 엔트로피: ', -(1 * np.log2(1) + eps * np.log2(eps)))"
   ]
  },
  {
   "cell_type": "markdown",
   "metadata": {},
   "source": [
    "#### [연습 10.1.1]\n",
    "- 베르누이 분포에서 mu의 변화와 엔트로피의 변화에 대한 그래프를 그려라"
   ]
  },
  {
   "cell_type": "code",
   "execution_count": 32,
   "metadata": {},
   "outputs": [],
   "source": [
    "mu = np.arange(0,1,0.01)\n",
    "entropy = -(mu * np.log2(mu) + (1 - mu) * np.log2(1 - mu))"
   ]
  },
  {
   "cell_type": "code",
   "execution_count": 47,
   "metadata": {},
   "outputs": [
    {
     "data": {
      "image/png": "[encoded data removed]",
      "text/plain": [
       "<Figure size 432x288 with 1 Axes>"
      ]
     },
     "metadata": {},
     "output_type": "display_data"
    }
   ],
   "source": [
    "plt.title('베르누이분포 mu에 따른 엔트로피')\n",
    "plt.plot(mu, entropy, color = 'g')\n",
    "plt.xlabel('$mu$')\n",
    "plt.ylabel('entropy')\n",
    "plt.show()"
   ]
  },
  {
   "cell_type": "markdown",
   "metadata": {},
   "source": [
    "#### 엔트로피의 최대, 최소\n",
    "- 어떤 확률이 1으로 정해지면 엔트로피는 0이며 최소값을 갖는다.\n",
    "- 이산 확률의 클래스가 $2^k$개이고, 할당된 확률이 모두 같을 때 최대값인 $1/2^k$를 갖는다."
   ]
  },
  {
   "cell_type": "code",
   "execution_count": 49,
   "metadata": {},
   "outputs": [
    {
     "data": {
      "text/plain": [
       "1.0"
      ]
     },
     "execution_count": 49,
     "metadata": {},
     "output_type": "execute_result"
    }
   ],
   "source": [
    "# 사실 p(X) * np.log2(p(X))같은 똥개훈련을 하지 않고 스마트하게 엔트로피를 구할 수 있다.\n",
    "p = [0.5, 0.5]\n",
    "#base에 데이터 개수\n",
    "sp.stats.entropy(p, base = 2)"
   ]
  },
  {
   "cell_type": "code",
   "execution_count": 50,
   "metadata": {},
   "outputs": [
    {
     "data": {
      "text/plain": [
       "0.9182958340544894"
      ]
     },
     "execution_count": 50,
     "metadata": {},
     "output_type": "execute_result"
    }
   ],
   "source": [
    "p = [1/3, 2/3]\n",
    "sp.stats.entropy(p, base = 2)"
   ]
  },
  {
   "cell_type": "markdown",
   "metadata": {},
   "source": [
    "#### 가변길이 인코딩"
   ]
  },
  {
   "cell_type": "code",
   "execution_count": 51,
   "metadata": {},
   "outputs": [],
   "source": [
    "N = 200\n",
    "p = [1/2, 1/4, 1/8, 1/8]"
   ]
  },
  {
   "cell_type": "code",
   "execution_count": 60,
   "metadata": {},
   "outputs": [],
   "source": [
    "doc0 = list(''.join([int(N * p[i])*c for i,c in enumerate('ABCD')]))"
   ]
  },
  {
   "cell_type": "code",
   "execution_count": 64,
   "metadata": {},
   "outputs": [
    {
     "data": {
      "text/plain": [
       "'ABCDADCCAAADAAAABACDAAAAACCABACDDDAAADBAAAABABBBABBCDCABBADAADADACABBBABAABADAACBAAADBDACABAAACBCAAABBADAABABBCBABCBAAAAAADBBAAABDBABACADACDAACBAADCBBCAABBBAABAAADBBACAAACABAABBAABDABAAACAADAACAABAADB'"
      ]
     },
     "execution_count": 64,
     "metadata": {},
     "output_type": "execute_result"
    }
   ],
   "source": [
    "np.random.shuffle(doc0)\n",
    "doc = ''.join(doc0)\n",
    "doc"
   ]
  },
  {
   "cell_type": "code",
   "execution_count": 63,
   "metadata": {},
   "outputs": [
    {
     "data": {
      "text/plain": [
       "['B',\n",
       " 'A',\n",
       " 'A',\n",
       " 'B',\n",
       " 'B',\n",
       " 'A',\n",
       " 'A',\n",
       " 'D',\n",
       " 'C',\n",
       " 'C',\n",
       " 'B',\n",
       " 'A',\n",
       " 'A',\n",
       " 'C',\n",
       " 'B',\n",
       " 'A',\n",
       " 'A',\n",
       " 'A',\n",
       " 'D',\n",
       " 'B',\n",
       " 'C',\n",
       " 'A',\n",
       " 'A',\n",
       " 'B',\n",
       " 'C',\n",
       " 'D',\n",
       " 'C',\n",
       " 'B',\n",
       " 'B',\n",
       " 'A',\n",
       " 'C',\n",
       " 'C',\n",
       " 'B',\n",
       " 'A',\n",
       " 'D',\n",
       " 'A',\n",
       " 'A',\n",
       " 'B',\n",
       " 'A',\n",
       " 'D',\n",
       " 'B',\n",
       " 'B',\n",
       " 'B',\n",
       " 'D',\n",
       " 'B',\n",
       " 'D',\n",
       " 'A',\n",
       " 'A',\n",
       " 'A',\n",
       " 'B',\n",
       " 'A',\n",
       " 'D',\n",
       " 'B',\n",
       " 'D',\n",
       " 'B',\n",
       " 'A',\n",
       " 'A',\n",
       " 'A',\n",
       " 'A',\n",
       " 'D',\n",
       " 'A',\n",
       " 'B',\n",
       " 'A',\n",
       " 'A',\n",
       " 'A',\n",
       " 'A',\n",
       " 'A',\n",
       " 'A',\n",
       " 'B',\n",
       " 'A',\n",
       " 'A',\n",
       " 'B',\n",
       " 'A',\n",
       " 'B',\n",
       " 'A',\n",
       " 'D',\n",
       " 'A',\n",
       " 'A',\n",
       " 'B',\n",
       " 'A',\n",
       " 'D',\n",
       " 'B',\n",
       " 'B',\n",
       " 'A',\n",
       " 'D',\n",
       " 'A',\n",
       " 'B',\n",
       " 'A',\n",
       " 'A',\n",
       " 'D',\n",
       " 'A',\n",
       " 'A',\n",
       " 'A',\n",
       " 'A',\n",
       " 'B',\n",
       " 'A',\n",
       " 'A',\n",
       " 'C',\n",
       " 'B',\n",
       " 'A',\n",
       " 'D',\n",
       " 'B',\n",
       " 'B',\n",
       " 'C',\n",
       " 'A',\n",
       " 'A',\n",
       " 'B',\n",
       " 'C',\n",
       " 'B',\n",
       " 'B',\n",
       " 'B',\n",
       " 'B',\n",
       " 'A',\n",
       " 'C',\n",
       " 'D',\n",
       " 'A',\n",
       " 'A',\n",
       " 'A',\n",
       " 'A',\n",
       " 'C',\n",
       " 'A',\n",
       " 'A',\n",
       " 'A',\n",
       " 'C',\n",
       " 'D',\n",
       " 'A',\n",
       " 'A',\n",
       " 'A',\n",
       " 'A',\n",
       " 'A',\n",
       " 'D',\n",
       " 'B',\n",
       " 'A',\n",
       " 'C',\n",
       " 'A',\n",
       " 'A',\n",
       " 'C',\n",
       " 'D',\n",
       " 'C',\n",
       " 'D',\n",
       " 'A',\n",
       " 'D',\n",
       " 'A',\n",
       " 'A',\n",
       " 'C',\n",
       " 'A',\n",
       " 'D',\n",
       " 'A',\n",
       " 'B',\n",
       " 'C',\n",
       " 'B',\n",
       " 'A',\n",
       " 'D',\n",
       " 'A',\n",
       " 'A',\n",
       " 'A',\n",
       " 'B',\n",
       " 'B',\n",
       " 'A',\n",
       " 'C',\n",
       " 'A',\n",
       " 'A',\n",
       " 'A',\n",
       " 'A',\n",
       " 'C',\n",
       " 'A',\n",
       " 'D',\n",
       " 'C',\n",
       " 'A',\n",
       " 'B',\n",
       " 'A',\n",
       " 'A',\n",
       " 'D',\n",
       " 'A',\n",
       " 'A',\n",
       " 'B',\n",
       " 'A',\n",
       " 'B',\n",
       " 'A',\n",
       " 'A',\n",
       " 'B',\n",
       " 'A',\n",
       " 'C',\n",
       " 'B',\n",
       " 'A',\n",
       " 'B',\n",
       " 'A',\n",
       " 'B',\n",
       " 'B',\n",
       " 'B',\n",
       " 'A',\n",
       " 'A',\n",
       " 'A',\n",
       " 'A',\n",
       " 'A',\n",
       " 'B',\n",
       " 'C',\n",
       " 'A',\n",
       " 'C',\n",
       " 'A']"
      ]
     },
     "execution_count": 63,
     "metadata": {},
     "output_type": "execute_result"
    }
   ],
   "source": []
  }
 ],
 "metadata": {
  "kernelspec": {
   "display_name": "Python [conda env:tensorflow]",
   "language": "python",
   "name": "conda-env-tensorflow-py"
  },
  "language_info": {
   "codemirror_mode": {
    "name": "ipython",
    "version": 3
   },
   "file_extension": ".py",
   "mimetype": "text/x-python",
   "name": "python",
   "nbconvert_exporter": "python",
   "pygments_lexer": "ipython3",
   "version": "3.5.5"
  }
 },
 "nbformat": 4,
 "nbformat_minor": 2
}
