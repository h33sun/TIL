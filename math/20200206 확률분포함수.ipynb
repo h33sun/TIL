{
 "cells": [
  {
   "cell_type": "code",
   "execution_count": 1,
   "metadata": {},
   "outputs": [],
   "source": [
    "%run C:\\Users\\HSS\\dd.py"
   ]
  },
  {
   "cell_type": "code",
   "execution_count": 2,
   "metadata": {},
   "outputs": [
    {
     "name": "stdout",
     "output_type": "stream",
     "text": [
      "done\n"
     ]
    }
   ],
   "source": [
    "print('done')"
   ]
  },
  {
   "cell_type": "markdown",
   "metadata": {},
   "source": [
    "## 데이터의 분포를 표현하는 방법 : 기술통계\n",
    "- 표본평균, 표본최빈값, 표본중앙값\n",
    "- 표본분산, 표본표준편차\n",
    "- 표본왜도, 표본첨도"
   ]
  },
  {
   "cell_type": "code",
   "execution_count": 4,
   "metadata": {},
   "outputs": [
    {
     "data": {
      "text/plain": [
       "array([ 1.76405235,  0.40015721,  0.97873798,  2.2408932 ,  1.86755799,\n",
       "       -0.97727788,  0.95008842, -0.15135721, -0.10321885,  0.4105985 ,\n",
       "        0.14404357,  1.45427351,  0.76103773,  0.12167502,  0.44386323,\n",
       "        0.33367433,  1.49407907, -0.20515826,  0.3130677 , -0.85409574,\n",
       "       -2.55298982])"
      ]
     },
     "execution_count": 4,
     "metadata": {},
     "output_type": "execute_result"
    }
   ],
   "source": [
    "np.random.seed(0)\n",
    "x = np.random.normal(size = 21)\n",
    "x"
   ]
  },
  {
   "cell_type": "code",
   "execution_count": 8,
   "metadata": {},
   "outputs": [
    {
     "data": {
      "image/png": "[encoded data removed]",
      "text/plain": [
       "<Figure size 576x360 with 1 Axes>"
      ]
     },
     "metadata": {},
     "output_type": "display_data"
    }
   ],
   "source": [
    "bins = np.linspace(-4,4,17)\n",
    "plt.figure(figsize = (8,5))\n",
    "sns.distplot(x, bins = bins, rug = True)\n",
    "plt.title('히스토그램으로 나타낸 분포')\n",
    "plt.show()"
   ]
  },
  {
   "cell_type": "code",
   "execution_count": 11,
   "metadata": {},
   "outputs": [
    {
     "name": "stdout",
     "output_type": "stream",
     "text": [
      "표본평균: 0.42과 표본중앙값: 0.4\n"
     ]
    }
   ],
   "source": [
    "print('표본평균: {}과 표본중앙값: {}'.format(round(np.mean(x),2), round(np.median(x),2)))"
   ]
  },
  {
   "cell_type": "code",
   "execution_count": 17,
   "metadata": {},
   "outputs": [
    {
     "name": "stdout",
     "output_type": "stream",
     "text": [
      "hist  [0 0 1 0 0 0 2 3 7 3 2 2 1 0 0 0]\n",
      "bin:  [-4.  -3.5 -3.  -2.5 -2.  -1.5 -1.  -0.5  0.   0.5  1.   1.5  2.   2.5\n",
      "  3.   3.5  4. ]\n",
      "edge:  [-4.  -3.5 -3.  -2.5 -2.  -1.5 -1.  -0.5  0.   0.5  1.   1.5  2.   2.5\n",
      "  3.   3.5  4. ]\n",
      "16 17\n"
     ]
    }
   ],
   "source": [
    "ns, edge = np.histogram(x,bins)\n",
    "print('hist ', ns)\n",
    "print('bin: ',bins)\n",
    "print('edge: ', edge)\n",
    "\n",
    "print(len(ns),len(edge))"
   ]
  },
  {
   "cell_type": "code",
   "execution_count": 22,
   "metadata": {
    "scrolled": true
   },
   "outputs": [
    {
     "name": "stdout",
     "output_type": "stream",
     "text": [
      "[0 0 1 0 0 0 2 3 7 3 2 2 1 0 0 0]\n",
      "7\n",
      "8\n",
      "[0.  0.5]\n"
     ]
    }
   ],
   "source": [
    "#표본이 가장 많은 구간\n",
    "print(ns)\n",
    "\n",
    "#최대값 \n",
    "print(np.max(ns))\n",
    "\n",
    "#최대값 인덱스\n",
    "print(np.argmax(ns)) \n",
    "\n",
    "#최빈구간\n",
    "print(bins[np.argmax(ns):np.argmax(ns)+2])"
   ]
  },
  {
   "cell_type": "markdown",
   "metadata": {},
   "source": [
    "### 자투리 : 구간마다 새로운 라벨을 지정하고 싶을 떄\n",
    "- `pd.cut(data, bins, labels)`\n"
   ]
  },
  {
   "cell_type": "code",
   "execution_count": 56,
   "metadata": {},
   "outputs": [],
   "source": [
    "x1 = pd.DataFrame(x)\n",
    "x1.columns = ['data']"
   ]
  },
  {
   "cell_type": "code",
   "execution_count": 61,
   "metadata": {},
   "outputs": [],
   "source": [
    "x1['category'] = pd.cut(x1['data'],[-3,-1,0,2,3], labels = ['low','ok','high','omg'])"
   ]
  },
  {
   "cell_type": "code",
   "execution_count": 62,
   "metadata": {},
   "outputs": [
    {
     "data": {
      "text/html": [
       "<div>\n",
       "<style scoped>\n",
       "    .dataframe tbody tr th:only-of-type {\n",
       "        vertical-align: middle;\n",
       "    }\n",
       "\n",
       "    .dataframe tbody tr th {\n",
       "        vertical-align: top;\n",
       "    }\n",
       "\n",
       "    .dataframe thead th {\n",
       "        text-align: right;\n",
       "    }\n",
       "</style>\n",
       "<table border=\"1\" class=\"dataframe\">\n",
       "  <thead>\n",
       "    <tr style=\"text-align: right;\">\n",
       "      <th></th>\n",
       "      <th>data</th>\n",
       "      <th>category</th>\n",
       "    </tr>\n",
       "  </thead>\n",
       "  <tbody>\n",
       "    <tr>\n",
       "      <th>0</th>\n",
       "      <td>1.764052</td>\n",
       "      <td>high</td>\n",
       "    </tr>\n",
       "    <tr>\n",
       "      <th>1</th>\n",
       "      <td>0.400157</td>\n",
       "      <td>high</td>\n",
       "    </tr>\n",
       "    <tr>\n",
       "      <th>2</th>\n",
       "      <td>0.978738</td>\n",
       "      <td>high</td>\n",
       "    </tr>\n",
       "    <tr>\n",
       "      <th>3</th>\n",
       "      <td>2.240893</td>\n",
       "      <td>omg</td>\n",
       "    </tr>\n",
       "    <tr>\n",
       "      <th>4</th>\n",
       "      <td>1.867558</td>\n",
       "      <td>high</td>\n",
       "    </tr>\n",
       "    <tr>\n",
       "      <th>5</th>\n",
       "      <td>-0.977278</td>\n",
       "      <td>ok</td>\n",
       "    </tr>\n",
       "    <tr>\n",
       "      <th>6</th>\n",
       "      <td>0.950088</td>\n",
       "      <td>high</td>\n",
       "    </tr>\n",
       "  </tbody>\n",
       "</table>\n",
       "</div>"
      ],
      "text/plain": [
       "       data category\n",
       "0  1.764052     high\n",
       "1  0.400157     high\n",
       "2  0.978738     high\n",
       "3  2.240893      omg\n",
       "4  1.867558     high\n",
       "5 -0.977278       ok\n",
       "6  0.950088     high"
      ]
     },
     "execution_count": 62,
     "metadata": {},
     "output_type": "execute_result"
    }
   ],
   "source": [
    "x1.head(7)"
   ]
  },
  {
   "cell_type": "code",
   "execution_count": 64,
   "metadata": {},
   "outputs": [
    {
     "data": {
      "text/plain": [
       "Index(['data', 'category'], dtype='object')"
      ]
     },
     "execution_count": 64,
     "metadata": {},
     "output_type": "execute_result"
    }
   ],
   "source": [
    "x1.columns"
   ]
  },
  {
   "cell_type": "markdown",
   "metadata": {},
   "source": [
    "### 연습문제7.1.1\n",
    "#### 붓꽃의 꽃잎 길이(petal length)를 구하고 히스토그램을 그려라"
   ]
  },
  {
   "cell_type": "code",
   "execution_count": 71,
   "metadata": {},
   "outputs": [
    {
     "data": {
      "text/html": [
       "<div>\n",
       "<style scoped>\n",
       "    .dataframe tbody tr th:only-of-type {\n",
       "        vertical-align: middle;\n",
       "    }\n",
       "\n",
       "    .dataframe tbody tr th {\n",
       "        vertical-align: top;\n",
       "    }\n",
       "\n",
       "    .dataframe thead th {\n",
       "        text-align: right;\n",
       "    }\n",
       "</style>\n",
       "<table border=\"1\" class=\"dataframe\">\n",
       "  <thead>\n",
       "    <tr style=\"text-align: right;\">\n",
       "      <th></th>\n",
       "      <th>sepal length (cm)</th>\n",
       "      <th>sepal width (cm)</th>\n",
       "      <th>petal length (cm)</th>\n",
       "      <th>petal width (cm)</th>\n",
       "    </tr>\n",
       "  </thead>\n",
       "  <tbody>\n",
       "    <tr>\n",
       "      <th>0</th>\n",
       "      <td>5.1</td>\n",
       "      <td>3.5</td>\n",
       "      <td>1.4</td>\n",
       "      <td>0.2</td>\n",
       "    </tr>\n",
       "    <tr>\n",
       "      <th>1</th>\n",
       "      <td>4.9</td>\n",
       "      <td>3.0</td>\n",
       "      <td>1.4</td>\n",
       "      <td>0.2</td>\n",
       "    </tr>\n",
       "    <tr>\n",
       "      <th>2</th>\n",
       "      <td>4.7</td>\n",
       "      <td>3.2</td>\n",
       "      <td>1.3</td>\n",
       "      <td>0.2</td>\n",
       "    </tr>\n",
       "    <tr>\n",
       "      <th>3</th>\n",
       "      <td>4.6</td>\n",
       "      <td>3.1</td>\n",
       "      <td>1.5</td>\n",
       "      <td>0.2</td>\n",
       "    </tr>\n",
       "    <tr>\n",
       "      <th>4</th>\n",
       "      <td>5.0</td>\n",
       "      <td>3.6</td>\n",
       "      <td>1.4</td>\n",
       "      <td>0.2</td>\n",
       "    </tr>\n",
       "  </tbody>\n",
       "</table>\n",
       "</div>"
      ],
      "text/plain": [
       "   sepal length (cm)  sepal width (cm)  petal length (cm)  petal width (cm)\n",
       "0                5.1               3.5                1.4               0.2\n",
       "1                4.9               3.0                1.4               0.2\n",
       "2                4.7               3.2                1.3               0.2\n",
       "3                4.6               3.1                1.5               0.2\n",
       "4                5.0               3.6                1.4               0.2"
      ]
     },
     "execution_count": 71,
     "metadata": {},
     "output_type": "execute_result"
    }
   ],
   "source": [
    "from sklearn.datasets import load_iris\n",
    "iris = load_iris()\n",
    "df = pd.DataFrame(iris.data, columns = iris.feature_names)\n",
    "df.head()"
   ]
  },
  {
   "cell_type": "code",
   "execution_count": 91,
   "metadata": {},
   "outputs": [
    {
     "data": {
      "text/html": [
       "<div>\n",
       "<style scoped>\n",
       "    .dataframe tbody tr th:only-of-type {\n",
       "        vertical-align: middle;\n",
       "    }\n",
       "\n",
       "    .dataframe tbody tr th {\n",
       "        vertical-align: top;\n",
       "    }\n",
       "\n",
       "    .dataframe thead th {\n",
       "        text-align: right;\n",
       "    }\n",
       "</style>\n",
       "<table border=\"1\" class=\"dataframe\">\n",
       "  <thead>\n",
       "    <tr style=\"text-align: right;\">\n",
       "      <th></th>\n",
       "      <th>sepal length (cm)</th>\n",
       "      <th>sepal width (cm)</th>\n",
       "      <th>petal length (cm)</th>\n",
       "      <th>petal width (cm)</th>\n",
       "      <th>species</th>\n",
       "    </tr>\n",
       "  </thead>\n",
       "  <tbody>\n",
       "    <tr>\n",
       "      <th>0</th>\n",
       "      <td>5.1</td>\n",
       "      <td>3.5</td>\n",
       "      <td>1.4</td>\n",
       "      <td>0.2</td>\n",
       "      <td>setosa</td>\n",
       "    </tr>\n",
       "    <tr>\n",
       "      <th>1</th>\n",
       "      <td>4.9</td>\n",
       "      <td>3.0</td>\n",
       "      <td>1.4</td>\n",
       "      <td>0.2</td>\n",
       "      <td>setosa</td>\n",
       "    </tr>\n",
       "    <tr>\n",
       "      <th>2</th>\n",
       "      <td>4.7</td>\n",
       "      <td>3.2</td>\n",
       "      <td>1.3</td>\n",
       "      <td>0.2</td>\n",
       "      <td>setosa</td>\n",
       "    </tr>\n",
       "    <tr>\n",
       "      <th>3</th>\n",
       "      <td>4.6</td>\n",
       "      <td>3.1</td>\n",
       "      <td>1.5</td>\n",
       "      <td>0.2</td>\n",
       "      <td>setosa</td>\n",
       "    </tr>\n",
       "    <tr>\n",
       "      <th>4</th>\n",
       "      <td>5.0</td>\n",
       "      <td>3.6</td>\n",
       "      <td>1.4</td>\n",
       "      <td>0.2</td>\n",
       "      <td>setosa</td>\n",
       "    </tr>\n",
       "  </tbody>\n",
       "</table>\n",
       "</div>"
      ],
      "text/plain": [
       "   sepal length (cm)  sepal width (cm)  petal length (cm)  petal width (cm)  \\\n",
       "0                5.1               3.5                1.4               0.2   \n",
       "1                4.9               3.0                1.4               0.2   \n",
       "2                4.7               3.2                1.3               0.2   \n",
       "3                4.6               3.1                1.5               0.2   \n",
       "4                5.0               3.6                1.4               0.2   \n",
       "\n",
       "  species  \n",
       "0  setosa  \n",
       "1  setosa  \n",
       "2  setosa  \n",
       "3  setosa  \n",
       "4  setosa  "
      ]
     },
     "execution_count": 91,
     "metadata": {},
     "output_type": "execute_result"
    }
   ],
   "source": [
    "sp = pd.Series(iris.target, dtype = 'category')\n",
    "sp = sp.cat.rename_categories(iris.target_names)\n",
    "sp\n",
    "df['species'] = sp\n",
    "df.head()"
   ]
  },
  {
   "cell_type": "code",
   "execution_count": 99,
   "metadata": {},
   "outputs": [
    {
     "data": {
      "text/html": [
       "<div>\n",
       "<style scoped>\n",
       "    .dataframe tbody tr th:only-of-type {\n",
       "        vertical-align: middle;\n",
       "    }\n",
       "\n",
       "    .dataframe tbody tr th {\n",
       "        vertical-align: top;\n",
       "    }\n",
       "\n",
       "    .dataframe thead th {\n",
       "        text-align: right;\n",
       "    }\n",
       "</style>\n",
       "<table border=\"1\" class=\"dataframe\">\n",
       "  <thead>\n",
       "    <tr style=\"text-align: right;\">\n",
       "      <th></th>\n",
       "      <th>petal length (cm)</th>\n",
       "      <th>species</th>\n",
       "    </tr>\n",
       "  </thead>\n",
       "  <tbody>\n",
       "    <tr>\n",
       "      <th>0</th>\n",
       "      <td>1.4</td>\n",
       "      <td>setosa</td>\n",
       "    </tr>\n",
       "    <tr>\n",
       "      <th>1</th>\n",
       "      <td>1.4</td>\n",
       "      <td>setosa</td>\n",
       "    </tr>\n",
       "    <tr>\n",
       "      <th>2</th>\n",
       "      <td>1.3</td>\n",
       "      <td>setosa</td>\n",
       "    </tr>\n",
       "    <tr>\n",
       "      <th>3</th>\n",
       "      <td>1.5</td>\n",
       "      <td>setosa</td>\n",
       "    </tr>\n",
       "    <tr>\n",
       "      <th>4</th>\n",
       "      <td>1.4</td>\n",
       "      <td>setosa</td>\n",
       "    </tr>\n",
       "  </tbody>\n",
       "</table>\n",
       "</div>"
      ],
      "text/plain": [
       "   petal length (cm) species\n",
       "0                1.4  setosa\n",
       "1                1.4  setosa\n",
       "2                1.3  setosa\n",
       "3                1.5  setosa\n",
       "4                1.4  setosa"
      ]
     },
     "execution_count": 99,
     "metadata": {},
     "output_type": "execute_result"
    }
   ],
   "source": [
    "length = df.iloc[:,[2,4]]\n",
    "length.head()"
   ]
  },
  {
   "cell_type": "code",
   "execution_count": 109,
   "metadata": {},
   "outputs": [
    {
     "data": {
      "text/plain": [
       "(array([37., 13.,  0.,  3.,  8., 26., 29., 18., 11.,  5.]),\n",
       " array([1.  , 1.59, 2.18, 2.77, 3.36, 3.95, 4.54, 5.13, 5.72, 6.31, 6.9 ]),\n",
       " <a list of 10 Patch objects>)"
      ]
     },
     "execution_count": 109,
     "metadata": {},
     "output_type": "execute_result"
    },
    {
     "data": {
      "image/png": "[encoded data removed]",
      "text/plain": [
       "<Figure size 432x288 with 1 Axes>"
      ]
     },
     "metadata": {},
     "output_type": "display_data"
    }
   ],
   "source": [
    "plt.plot(figsize = (15,6))\n",
    "plt.hist(length.iloc[:,0])"
   ]
  },
  {
   "cell_type": "code",
   "execution_count": 128,
   "metadata": {},
   "outputs": [
    {
     "data": {
      "text/plain": [
       "<matplotlib.axes._subplots.AxesSubplot at 0x1e4adf15320>"
      ]
     },
     "execution_count": 128,
     "metadata": {},
     "output_type": "execute_result"
    },
    {
     "data": {
      "image/png": "[encoded data removed]",
      "text/plain": [
       "<Figure size 432x288 with 1 Axes>"
      ]
     },
     "metadata": {},
     "output_type": "display_data"
    }
   ],
   "source": [
    "sns.distplot(length.iloc[:,0] , color= 'magenta')"
   ]
  },
  {
   "cell_type": "code",
   "execution_count": 136,
   "metadata": {},
   "outputs": [
    {
     "data": {
      "text/plain": [
       "<matplotlib.axes._subplots.AxesSubplot at 0x1e4af0bbbe0>"
      ]
     },
     "execution_count": 136,
     "metadata": {},
     "output_type": "execute_result"
    },
    {
     "data": {
      "image/png": "[encoded data removed]",
      "text/plain": [
       "<Figure size 432x288 with 1 Axes>"
      ]
     },
     "metadata": {},
     "output_type": "display_data"
    }
   ],
   "source": [
    "sns.countplot(length.iloc[:,0]) #모든 길이에 대해서 count인.. 색은 이쁘네\n",
    "#길이 분포의 봉이 여러개다. 즉 1개 이상의 분포가 섞여있을 확률이 높다."
   ]
  },
  {
   "cell_type": "markdown",
   "metadata": {},
   "source": [
    "### setosa만 분리해서 distplot"
   ]
  },
  {
   "cell_type": "code",
   "execution_count": 139,
   "metadata": {},
   "outputs": [
    {
     "data": {
      "image/png": "[encoded data removed]",
      "text/plain": [
       "<Figure size 432x288 with 1 Axes>"
      ]
     },
     "metadata": {},
     "output_type": "display_data"
    }
   ],
   "source": [
    "#setosa만 분리했을 떄 봉은 단봉\n",
    "plt.title('setosa 길이 분포')\n",
    "sns.distplot(length['petal length (cm)'][length['species']=='setosa'], color = 'orchid')\n",
    "plt.show()"
   ]
  },
  {
   "cell_type": "code",
   "execution_count": 142,
   "metadata": {},
   "outputs": [],
   "source": [
    "import scipy as sp"
   ]
  },
  {
   "cell_type": "code",
   "execution_count": 149,
   "metadata": {},
   "outputs": [],
   "source": [
    "sp.random.seed(0)\n",
    "x = sp.stats.norm(0,2).rvs(1000) #1000개, m =0 , s = 2"
   ]
  },
  {
   "cell_type": "code",
   "execution_count": 147,
   "metadata": {},
   "outputs": [],
   "source": [
    "x = sp.stats.norm(0,2).rvs(1)"
   ]
  },
  {
   "cell_type": "code",
   "execution_count": 150,
   "metadata": {},
   "outputs": [
    {
     "data": {
      "text/plain": [
       "array([ 1.11192536e+00,  1.78494777e+00, -8.44629648e-01,  2.09428059e-01,\n",
       "        4.56106650e-01,  4.02959893e-01,  1.08154717e+00, -3.63615526e+00,\n",
       "       -9.86481403e-02,  4.78067202e-01, -2.00066070e+00,  3.34797141e+00,\n",
       "        3.23118534e-01,  3.12680949e+00, -1.58104604e+00, -1.81460024e+00,\n",
       "        4.48504442e-01, -3.35737673e+00,  4.29931181e-01,  1.94438464e-01,\n",
       "        2.03133056e+00,  1.40208268e+00, -8.34954700e-01, -2.19499331e+00,\n",
       "        3.42461044e+00, -1.58423004e+00, -2.09104911e+00, -2.16971212e+00,\n",
       "        2.23461063e+00, -1.03780041e+00, -1.50740893e+00,  2.75379652e-01,\n",
       "       -4.13889421e-01, -1.35619092e+00,  1.50798293e+00,  2.13063098e+00,\n",
       "        1.97063502e+00,  1.53383934e+00,  8.05251062e-01, -3.55177600e+00,\n",
       "        3.33850161e+00,  6.03978421e-01,  1.21631286e+00,  2.22992465e+00,\n",
       "        2.86670501e+00,  8.36796023e-01,  8.71092319e-01, -1.19844855e+00,\n",
       "        6.61795023e-02, -1.70832252e+00, -1.43988106e+00, -1.78714880e+00,\n",
       "       -3.12047782e-01,  2.09818638e+00,  6.34194955e+00,  3.78999275e-01,\n",
       "       -2.69682618e+00,  2.52996666e+00, -6.01567753e-01, -1.32121719e+00,\n",
       "        4.19698956e-01, -2.48124920e+00,  4.44926328e-01, -1.76751046e-01,\n",
       "        1.96755814e-01,  7.62832508e-01,  1.34984514e-01,  3.26761682e-02,\n",
       "        5.68629038e-01,  8.30801252e-01, -2.06296492e+00, -2.85998252e+00,\n",
       "       -1.23276104e-01, -2.86547098e+00,  1.75062942e-01,  1.87749375e+00,\n",
       "        1.21422334e+00, -2.09634081e+00, -1.72052490e+00,  6.56602590e-01,\n",
       "       -8.02595610e-01, -6.33310590e-01,  1.19381296e+00, -1.97457339e+00,\n",
       "       -8.02469420e-01, -1.60016495e+00, -2.08625900e+00, -1.71415638e+00,\n",
       "        1.35492434e+00,  1.03640779e-01, -1.75832126e+00, -4.62203215e-01,\n",
       "       -3.27761461e+00, -1.46662562e+00,  4.29914907e+00, -1.80487699e-01,\n",
       "        1.46331785e+00, -1.30976750e-01,  6.96338470e-01,  1.32651618e+00,\n",
       "       -2.20923320e+00, -6.18725145e-02,  3.15773039e+00, -1.59100110e+00,\n",
       "       -1.13287971e+00, -6.15382555e-01,  5.38048146e-01,  1.04983573e+00,\n",
       "        2.53482331e+00,  9.98996467e-01, -1.24106252e-01,  2.51833426e+00,\n",
       "        1.40822204e+00, -2.99135903e+00,  5.05273648e+00,  3.53984278e+00,\n",
       "       -3.36428446e-01,  7.55820203e-01,  2.64871750e+00, -3.44401585e-01,\n",
       "        1.46070358e+00,  2.20915695e+00, -2.02965182e+00, -1.20466371e+00,\n",
       "        1.84281680e+00,  9.21628954e-01,  1.84759312e+00, -2.65136029e-01,\n",
       "       -5.78010422e-01, -3.99727895e+00, -2.29200085e+00,  9.41321893e-02,\n",
       "        1.64911444e+00,  1.06235673e+00, -2.56483948e-01, -5.43543133e-01,\n",
       "        4.34359265e-01,  1.56422362e-01,  2.80909103e+00,  2.92881541e-01,\n",
       "       -2.96249192e+00, -2.54511627e+00,  3.03751867e+00, -2.34232092e+00,\n",
       "        1.52899491e+00, -5.36745470e-01, -3.39516588e-01, -2.68265566e-01,\n",
       "        2.44276992e+00, -3.85683657e-01, -6.66385657e-02, -3.06160699e+00,\n",
       "        4.13381023e-01,  1.06208501e+00,  4.78291161e-01,  2.79579252e+00,\n",
       "        1.10342710e-01,  5.97954912e-01,  3.29700802e+00, -3.10002838e+00,\n",
       "       -9.11650696e-01,  2.85231750e+00,  1.87225830e+00,  1.35676020e+00,\n",
       "        1.66530148e+00,  6.54132418e-01,  3.26319486e+00,  7.55518339e-01,\n",
       "        4.79734212e-01,  3.17917348e-01,  3.85727911e-01, -2.31403456e+00,\n",
       "        1.54134611e+00, -2.60879468e-01,  3.64383020e+00, -1.51300941e-01,\n",
       "        8.41836568e-01,  4.93204373e-01, -1.25111407e+00,  1.98427366e+00,\n",
       "        3.81012728e+00, -2.95544393e-02, -6.00957571e-01, -7.10057462e-01,\n",
       "       -3.78472379e+00, -3.55626287e-01,  5.01996232e-01,  2.10951585e+00,\n",
       "        1.92009548e+00, -8.32998165e-01, -5.53645990e-01,  2.24781061e+00,\n",
       "       -3.46927794e-01, -1.02005908e+00,  2.78503690e+00,  2.07517133e+00,\n",
       "        3.75835835e-02, -1.18755490e+00, -4.02376064e+00,  1.17940721e+00,\n",
       "       -1.79273945e+00, -3.92546402e+00,  3.16964105e+00,  1.29593558e+00,\n",
       "       -2.27801639e+00, -2.42880277e+00,  1.74192356e+00, -1.75594123e+00,\n",
       "        2.59229974e+00,  1.23291863e+00,  1.07319304e+00,  8.09390911e-01,\n",
       "        3.82901744e-01,  1.76102240e+00, -9.08160725e-01,  1.71903947e-01,\n",
       "        1.50389318e+00,  1.12597944e+00, -2.38997361e+00, -1.00081933e+00,\n",
       "        5.05607011e-01, -8.16029418e-01,  3.54931712e+00, -7.86306390e-01,\n",
       "       -3.24436895e-01,  1.53886036e+00,  6.61065486e-01, -2.90548914e-01,\n",
       "       -1.51298706e+00,  6.03028115e-01,  2.07819288e+00,  9.58190448e-01,\n",
       "       -1.55636704e+00,  3.47354991e+00, -2.89315578e+00, -3.16537128e+00,\n",
       "        1.92111445e+00,  4.51680957e-01, -1.09899709e+00, -2.19714146e+00,\n",
       "        4.64159968e+00,  2.34181744e-01,  1.06840234e+00,  6.35770194e-01,\n",
       "        8.69615915e-01,  1.08018892e+00,  1.46484802e+00, -7.50444802e-01,\n",
       "       -5.83283973e-01, -3.48204562e+00, -1.56060881e+00,  5.42225593e-01,\n",
       "        2.09004675e+00,  1.19807905e+00, -6.81384688e-01, -2.52634582e+00,\n",
       "       -5.55471829e+00,  2.30346795e+00, -1.17845797e+00, -8.96930012e-01,\n",
       "        2.63147936e-01, -2.81112009e+00, -6.99564360e-01,  4.04694390e+00,\n",
       "        1.01077388e+00,  7.18498313e-01, -3.16498896e+00,  4.48720379e+00,\n",
       "       -2.84558982e+00,  3.84464951e+00, -4.23011203e+00,  2.81073088e+00,\n",
       "        3.23610854e+00, -1.64881824e+00,  8.45160745e-01,  1.09496114e+00,\n",
       "       -1.62758897e+00, -2.89823522e+00, -2.63543469e+00,  1.08201644e+00,\n",
       "       -1.70231205e-01, -1.12860207e+00,  1.93353602e+00,  1.01613582e+00,\n",
       "       -1.51092545e+00, -2.40240304e+00,  1.04652348e+00, -1.07516674e+00,\n",
       "        1.98409725e-01,  3.15259795e+00,  1.00465648e+00, -1.72453400e+00,\n",
       "        3.21322380e-01, -1.90528991e+00,  3.21704431e+00, -1.12315750e+00,\n",
       "        4.14541494e-01,  6.15465149e-01,  3.18500937e-01, -3.91709791e+00,\n",
       "       -2.89284213e+00, -9.04700551e-01,  6.38863667e-01, -2.75558429e-01,\n",
       "       -1.91429495e+00, -2.69684864e+00, -8.03115089e-01, -9.36952089e-01,\n",
       "        1.02567292e+00, -6.52636924e-01,  1.20541531e+00, -1.18929954e+00,\n",
       "       -5.11915338e-01, -6.96092759e-01, -1.56473393e+00,  1.25023731e+00,\n",
       "       -1.62719199e+00, -1.04328302e+00, -1.46239292e-01, -2.59475931e+00,\n",
       "       -6.49869917e-01, -1.42261272e+00, -7.76308385e-01, -1.19856005e-01,\n",
       "       -1.59982725e+00, -4.40151560e-01,  2.61733750e+00, -5.15971165e-02,\n",
       "        2.29052435e+00,  6.92988884e-01,  1.54832122e+00, -1.54891794e+00,\n",
       "        2.09814330e-01,  2.67825845e-01, -1.22525148e+00, -1.64565665e+00,\n",
       "       -2.98053078e+00,  2.99227927e+00, -1.94480578e+00,  2.69244215e+00,\n",
       "       -9.34986347e-01, -1.72498660e+00,  1.24503828e+00, -1.26238388e+00,\n",
       "        1.13691784e+00, -6.65623530e-01,  9.60848992e-01, -1.93637213e+00,\n",
       "        1.66270212e+00,  9.75945365e-01, -1.83930138e+00,  5.28587144e+00,\n",
       "        1.08024605e+00,  4.58093414e+00,  3.20053564e+00, -3.77669560e-01,\n",
       "       -8.24543509e-01, -8.06918367e-01, -3.66005710e+00, -1.39167024e+00,\n",
       "        4.93532048e-01,  3.05191512e+00, -1.54554377e+00,  1.76411320e+00,\n",
       "       -2.50518668e+00, -1.17264005e+00, -9.15281189e-01,  7.43622163e-01,\n",
       "        9.14619293e-01,  1.92468349e+00,  1.54167392e+00,  4.86336431e-01,\n",
       "        7.80729887e-01,  3.17706138e+00, -1.02185236e+00,  1.54945664e+00,\n",
       "       -3.61628785e+00,  8.22668486e-01, -9.66499085e-01,  5.14236486e-03,\n",
       "        2.08017249e+00,  3.29287619e-01,  1.77037508e+00,  2.94752963e+00,\n",
       "        7.78187938e-01,  2.34208213e+00, -6.53121955e-01, -1.64197645e-02,\n",
       "       -1.04523883e+00,  2.08595519e+00,  8.28182708e-01, -1.01446892e+00,\n",
       "        3.09337667e-01,  2.08313678e+00, -7.85359821e-02, -1.89786562e+00,\n",
       "        2.63823512e-01, -3.96113118e+00,  1.53754129e+00, -8.42655175e-01,\n",
       "       -9.38621473e-01,  1.75139136e+00, -2.73032575e+00,  3.89419729e+00,\n",
       "       -9.60484083e-01, -1.04650189e+00,  2.04244949e+00,  1.41739055e+00,\n",
       "        4.90245944e+00, -4.22411967e-01, -2.40813277e-01, -2.95863196e+00,\n",
       "       -6.64204555e-01, -1.44286259e+00, -8.97534026e-01, -3.48837551e+00,\n",
       "        3.32121512e+00, -2.83320696e+00, -5.60440560e+00, -2.37684884e+00,\n",
       "       -1.20767911e+00, -2.29910813e+00,  2.19660708e+00, -2.75678357e-01,\n",
       "        5.07712088e-02,  1.22078353e+00,  5.72025054e-01,  1.95713459e+00,\n",
       "       -2.21895511e+00, -1.09503620e+00,  1.33193429e+00, -5.06910892e+00,\n",
       "       -2.75036896e+00,  1.00198446e+00, -9.60498070e-01,  1.87221510e+00,\n",
       "        1.61836059e+00, -2.39618576e+00,  8.13314175e-01,  2.40339571e+00,\n",
       "        2.94868803e-01, -1.95492975e+00,  1.75877988e+00,  1.27084905e+00,\n",
       "        1.08522157e+00,  1.43187779e+00, -5.98922572e+00,  1.76187512e+00,\n",
       "        3.61626362e+00,  8.73276949e-01,  3.85457993e-01,  1.39287735e+00,\n",
       "        6.76450947e-01,  1.30356252e+00,  2.94200049e-03, -1.53340971e+00,\n",
       "       -2.00864542e+00, -1.99638346e+00, -2.74608510e+00, -2.13548402e+00,\n",
       "        3.52253225e+00,  1.50819133e+00, -1.25005478e+00, -7.80785388e-01,\n",
       "        2.25115062e-01, -1.31109006e+00,  1.35033714e-01,  1.55520828e+00,\n",
       "       -7.14854671e-02,  6.72031485e-01,  1.77298308e+00, -5.44263512e-01,\n",
       "        5.69581198e-01, -6.18755186e-01, -5.70577397e-02, -6.49460530e-01,\n",
       "       -1.05773971e+00,  3.47423706e-01,  1.13309063e+00,  2.92608892e-01,\n",
       "        9.97453917e-01, -1.47586356e+00, -2.40747038e+00,  8.34087006e-01,\n",
       "        1.37576278e+00,  9.97145332e-02,  2.69607156e+00,  1.81539760e+00,\n",
       "        5.36114168e+00, -4.01617028e-01, -1.99769759e+00, -1.48027358e+00,\n",
       "       -1.13099561e+00,  9.52062767e-01, -4.31613713e+00,  2.63710204e+00,\n",
       "       -4.78593182e-01, -4.93587116e-01, -2.15868633e+00, -2.28451103e-01,\n",
       "        2.64795353e-02, -2.43889855e-01,  6.78118512e-01, -1.17926408e+00,\n",
       "       -1.79163152e+00,  1.09665626e+00,  1.97334908e-01,  3.94362110e-01,\n",
       "        2.11805451e+00, -2.04512878e+00, -1.71048091e+00,  2.51443930e+00,\n",
       "       -2.96576672e+00, -2.61882429e+00,  1.63572366e+00,  4.76400384e-01,\n",
       "        2.10464274e-01, -1.83318816e-01,  6.25350941e-02, -1.84224229e-01,\n",
       "        2.71088541e+00, -7.96296258e-01, -3.22747073e-01,  3.58889761e+00,\n",
       "        5.50194041e-02,  4.46403278e+00, -2.09959402e-01,  2.73482996e+00,\n",
       "       -3.31068808e+00,  3.07288922e-01, -3.16894713e+00,  1.68890861e+00,\n",
       "       -2.42573563e+00,  5.67539109e-01, -5.64391753e-01, -2.31640637e+00,\n",
       "       -3.23871997e+00, -1.02208093e+00,  3.48125889e+00, -5.86970110e-01,\n",
       "        1.83444308e+00, -1.14085735e-01,  1.75345355e+00, -3.65382276e+00,\n",
       "       -8.06376614e-01,  1.89881105e+00, -3.26509898e-01, -1.72910565e-01,\n",
       "       -8.60923824e-01,  2.29875877e+00,  5.95028708e-01,  8.80445524e-02,\n",
       "        1.28610909e+00,  1.17644986e+00,  4.25174093e-01,  3.09406299e+00,\n",
       "       -1.20575067e-01,  5.56162096e-01, -1.28590511e+00,  3.00230454e-01,\n",
       "        3.17552305e+00, -1.28651520e+00, -2.26718565e+00,  1.99351929e+00,\n",
       "       -2.97532304e-01,  1.92008410e-01, -9.02266074e-02,  1.58243448e-01,\n",
       "        1.70106137e+00, -1.67824838e+00, -2.02354817e+00,  1.69936274e-01,\n",
       "       -3.21287938e+00, -2.74610707e+00,  3.73336630e+00,  1.51493666e+00,\n",
       "       -2.01129437e-02,  2.47601387e+00, -2.08119846e+00, -6.31206247e-01,\n",
       "        1.24690722e+00,  1.78134336e+00,  1.02583369e+00, -5.08247762e+00,\n",
       "       -1.93616424e+00,  9.54136185e-01, -7.11902986e-01,  5.08046324e+00,\n",
       "        1.85311660e+00,  1.11616376e+00, -2.23389911e+00, -7.05934792e-02,\n",
       "        4.82407928e-01,  2.25556726e+00,  1.76226219e+00,  2.06597839e+00,\n",
       "       -1.84782403e+00,  2.82430340e+00, -2.76086150e+00, -1.07182912e+00,\n",
       "        8.61542270e-01, -2.99783183e-01, -2.01207372e+00, -1.64309965e+00,\n",
       "       -3.09650865e+00,  1.06394928e+00,  2.52113769e+00, -2.00787007e-01,\n",
       "       -8.00697630e-01, -2.94464586e+00,  1.82640385e+00,  4.42260867e+00,\n",
       "       -3.59491161e+00, -2.12686588e+00, -1.35918609e+00, -1.12863582e+00,\n",
       "        4.54691900e-01,  3.22849909e+00,  2.01719457e+00,  1.05519477e+00,\n",
       "       -1.44785741e+00, -2.23925647e+00, -1.59355061e+00,  3.09613360e+00,\n",
       "       -1.23486603e-01, -8.93672507e-01, -3.67511460e-01,  1.64923644e+00,\n",
       "       -2.62569935e+00,  2.82974827e+00,  3.12952514e-01, -4.32687957e-01,\n",
       "        8.85692227e-01,  4.36794146e-01, -6.88392913e-01, -5.05421344e-01,\n",
       "       -1.73772509e+00,  1.31278150e+00, -1.06398762e+00, -1.91251684e+00,\n",
       "        3.31727045e-01,  2.65828257e+00, -9.66892476e-02, -1.21620251e+00,\n",
       "        8.07792042e-01,  3.87342492e+00, -2.90381106e+00,  7.64405576e-01,\n",
       "        4.10173250e-01,  2.32306761e+00,  1.98181835e+00, -3.73418224e-01,\n",
       "       -3.36903451e+00,  1.61312754e+00, -1.67038538e+00, -1.89348082e+00,\n",
       "        2.29670116e+00, -1.82170076e+00,  2.80568948e+00,  6.71689443e-01,\n",
       "        6.38236800e-01,  6.14529561e-01, -3.27684725e+00, -3.55277723e+00,\n",
       "        4.31106108e-01,  1.13601472e+00,  1.65222064e-01, -1.64306903e+00,\n",
       "        3.78442078e-02, -1.64068306e-01, -1.91431620e+00,  2.02794431e+00,\n",
       "       -3.46055212e+00,  1.17748481e+00,  7.68646810e-01,  2.01942371e+00,\n",
       "       -2.01062374e+00,  2.02814293e-01,  4.34232990e+00,  1.32414858e+00,\n",
       "        2.01162417e-01,  1.07832255e+00,  1.72353685e-01,  4.38179603e+00,\n",
       "        1.96727239e+00, -1.71229908e-01,  5.04662863e-01, -7.81595992e-01,\n",
       "        2.41970025e+00, -2.81220954e+00, -3.20947706e+00,  2.91742950e+00,\n",
       "        4.30623959e+00,  9.36609815e-01,  2.25475882e-01,  1.31453538e+00,\n",
       "       -1.29410705e+00,  3.42487090e-01,  7.78174117e-02,  1.25312850e+00,\n",
       "       -3.11599706e+00, -1.01406954e+00,  1.68999121e+00, -1.35118766e+00,\n",
       "       -1.98672275e+00,  4.08414430e+00,  7.62360004e-02, -1.15783628e+00,\n",
       "       -3.38474087e+00,  1.45869269e+00,  1.39827231e+00, -5.97519201e-01,\n",
       "       -2.20446038e+00, -4.90988473e-02, -1.67171213e+00, -1.88418718e+00,\n",
       "       -2.06425503e-01, -2.10278080e+00,  4.93297911e-01,  1.21598502e+00,\n",
       "       -1.67926489e+00, -2.73649019e+00,  3.12255920e+00, -1.88054047e+00,\n",
       "       -1.31988541e+00,  4.26034335e-01,  1.19873875e+00, -5.12633787e-01,\n",
       "        9.21588655e-01, -8.01972316e-01, -1.94234133e+00,  2.85263372e+00,\n",
       "        4.97688323e+00,  3.39193907e+00,  2.83613278e-01,  3.66687072e+00,\n",
       "        7.11407031e-01, -9.54572541e-01,  9.32759149e-01, -1.88785013e-01,\n",
       "       -1.96623637e+00, -1.79664394e+00,  1.60410348e+00, -3.69306396e+00,\n",
       "        1.20827348e+00, -3.25916721e+00, -4.24235289e+00, -3.67769321e+00,\n",
       "        3.93352794e+00, -3.92467930e-01,  1.73166360e-01,  2.83851009e+00,\n",
       "        1.86835950e+00, -2.78301054e+00,  1.73801269e+00,  3.68362529e-01,\n",
       "       -6.83356195e-01,  4.85818283e-02,  2.55962404e+00, -1.77193296e+00,\n",
       "        8.01771358e-01, -1.93144731e-02, -3.59432923e+00, -1.60450634e+00,\n",
       "        3.86427106e-01,  2.59468418e+00,  2.00266203e+00,  1.19442501e+00,\n",
       "       -1.63055132e+00,  3.60242798e+00,  4.30480935e-01, -2.01273104e+00,\n",
       "       -3.65809962e-01,  1.79249685e+00,  1.52349966e-02,  1.77372937e+00,\n",
       "        2.20738791e+00,  8.01061369e-01, -1.71540525e+00,  2.70909326e-01,\n",
       "        9.03317119e-02,  3.71869267e+00, -3.25264388e+00, -2.69644902e-01,\n",
       "       -1.16818709e+00,  6.70211240e-01, -4.87512872e+00,  2.22984912e+00,\n",
       "        2.74969747e-02, -3.68940233e+00, -7.22226269e-01,  1.21792468e+00,\n",
       "       -3.18289575e+00,  6.44443289e-03, -2.11494730e+00, -1.11197006e+00,\n",
       "        5.34767653e-02,  3.66900507e-01, -9.41484996e-01,  5.45592779e-01,\n",
       "        1.63595521e+00, -5.57828550e-01,  2.86313551e+00,  2.92442834e+00,\n",
       "       -8.57404131e-01, -1.27568111e+00, -3.32834597e+00, -2.53138663e-01,\n",
       "       -7.26875560e-01,  1.55810244e+00, -3.01932321e+00, -5.54782783e-01,\n",
       "        1.93748879e+00, -1.46071419e+00, -1.52472307e+00, -2.89388067e+00,\n",
       "        5.24114769e+00, -1.49494636e+00, -2.60069366e+00, -1.60770081e+00,\n",
       "       -1.54859016e+00, -5.38779557e-01,  1.65074446e+00, -5.96646338e-01,\n",
       "       -1.84564663e+00, -2.90267700e+00,  4.37147164e-02,  8.50781481e-02,\n",
       "        3.06186470e+00,  1.84895471e-01, -1.98016623e-01, -2.10130767e+00,\n",
       "       -6.11905150e-01, -8.76948916e-01, -7.40328329e-01, -1.91851079e+00,\n",
       "        1.07665921e+00, -2.84890835e-01, -4.00706960e-01, -3.42809223e+00,\n",
       "        9.87288175e-01,  9.74030652e-01, -1.67825881e+00,  1.98024277e+00,\n",
       "       -2.72951646e+00, -4.37398176e-02, -5.42414680e-01, -2.63434958e+00,\n",
       "        3.79405224e-01,  3.40514030e+00,  1.35268460e-01, -9.26043508e-01,\n",
       "        8.94048314e-01,  2.11439991e-01,  5.55242633e-02, -8.51084426e-01,\n",
       "        2.84395112e+00,  9.12726727e-01, -1.05734132e+00, -2.16007674e-01,\n",
       "       -1.48173341e+00, -1.21658230e+00, -1.28145145e+00, -2.26862319e+00,\n",
       "        1.55455393e+00, -5.82082927e-01,  1.10825516e+00, -1.34025180e+00,\n",
       "       -1.20724989e-01, -1.42208119e+00,  1.43933634e+00, -4.96838613e-01,\n",
       "       -1.46174717e+00, -3.28340646e+00,  5.51333099e-01, -1.41677010e+00,\n",
       "       -3.15584342e-02, -9.83460216e-01,  1.90837916e+00,  1.08828950e+00,\n",
       "        8.94424175e-01, -1.23224225e+00,  9.32580087e-01,  3.42966322e+00,\n",
       "       -1.66437207e+00,  3.44678278e-01, -3.29843395e+00,  2.79712418e+00,\n",
       "       -7.95824197e-01,  1.56515776e+00, -3.44645650e+00,  3.59507877e+00,\n",
       "       -7.13743056e-01,  1.09131465e+00,  3.01636413e-01, -5.10941572e-01,\n",
       "        3.37158461e+00, -3.29609241e+00,  5.97427320e-01,  1.82129134e+00,\n",
       "       -5.97122433e-02, -2.36341569e-01, -2.85375424e-01, -2.45527284e+00,\n",
       "        7.62547682e-02,  1.02543505e+00,  1.37198455e-01, -5.44552202e-01,\n",
       "       -9.79450045e-01, -5.58593339e-01,  2.51548843e+00, -4.17326996e+00,\n",
       "        8.01429131e-02, -6.55509835e-01,  2.91161590e+00,  1.10984451e-01,\n",
       "        2.96985120e+00, -4.24778004e+00,  9.19169810e-01,  5.60115720e-01,\n",
       "        2.78106793e+00, -3.28269722e+00, -3.10071616e-01,  1.32120524e-01,\n",
       "       -9.91590989e-01,  2.43315543e+00, -6.77364371e-01,  4.06952509e+00,\n",
       "        2.10835582e+00,  1.90166739e+00,  1.11859796e+00, -2.12739118e+00,\n",
       "       -8.62192675e-01,  1.14550273e+00,  1.35511407e+00,  2.61436769e+00,\n",
       "       -9.34882019e-01, -1.72030677e+00,  1.71820839e+00, -1.61925315e+00,\n",
       "        1.74662367e+00,  2.39947235e+00,  9.12306072e-01, -7.15158064e-01,\n",
       "        8.21644523e-02,  1.18693184e+00,  2.03710374e-02,  4.39659268e+00,\n",
       "       -1.98134186e+00, -2.00533717e+00, -1.95379077e+00, -1.17915985e+00,\n",
       "       -4.35786304e+00, -1.25930085e+00, -1.30656940e+00,  1.57028050e-01,\n",
       "        8.35601166e-01, -2.48043267e+00,  1.80010849e+00,  3.60448446e+00,\n",
       "       -4.16570206e-01,  3.14874247e+00,  3.97978989e-01,  3.97746384e+00,\n",
       "        2.23456693e+00, -3.12780927e+00,  3.72547413e-02,  2.10864995e+00,\n",
       "        6.10931621e-02, -7.37670617e-02,  2.53952950e+00, -1.41970836e+00,\n",
       "        3.50312266e-02,  6.47251529e-01, -6.67581921e-01, -4.02582078e-02,\n",
       "        1.55004653e+00,  8.65675243e-01, -1.61743506e+00, -2.20824797e+00,\n",
       "       -1.57820436e+00,  2.49691158e-03, -3.19879576e-01, -1.66391499e+00,\n",
       "       -1.19630091e+00, -3.04007857e+00,  8.35707406e-01, -8.00374507e-02,\n",
       "       -2.51957469e+00,  5.72410084e-02,  2.68524402e+00, -1.47987171e+00,\n",
       "        2.63027533e+00, -6.46914945e-01,  3.95656336e-01,  1.95501605e-01,\n",
       "        2.80304683e+00,  3.16867694e-01, -2.28380284e+00, -2.62194074e+00])"
      ]
     },
     "execution_count": 150,
     "metadata": {},
     "output_type": "execute_result"
    }
   ],
   "source": [
    "np.random.normal(0,2,1000)"
   ]
  },
  {
   "cell_type": "code",
   "execution_count": 221,
   "metadata": {},
   "outputs": [],
   "source": [
    "def sample_statistics(x, n, x_min=0, x_max = 10):\n",
    "    bins = np.linspace(x_min, x_max, n+1)\n",
    "    ns, _ = np.histogram(x, bins = bins)\n",
    "    \n",
    "    sample_mean = np.mean(x)\n",
    "    sample_median = np.median(x)\n",
    "    mode_idx = np.argmax(ns)\n",
    "    sample_mode = 0.5* (bins[mode_idx] +  bins[mode_idx+1])\n",
    "    \n",
    "    print('구간이 {}개일 때'.format(n))\n",
    "    print('표본 평균이 {}'.format(sample_mean))\n",
    "    print('표본 중앙값이 {}'.format(sample_median))\n",
    "    print('표본 최빈값이 {}'.format(sample_mode))\n",
    "    \n",
    "    \n",
    "    sns.distplot(x,bins = bins)\n",
    "    plt.axvline(sample_mean, c = 'k', ls = ':', label = '표본평균')\n",
    "    plt.axvline(sample_median, c = 'k', ls = '--', label = '표본중앙값')\n",
    "    plt.axvline(sample_mode, c = 'k', ls = '-', label = '표본최빈값')\n",
    "    plt.title('표본평균,중앙값,최빈값의 차이')\n",
    "    plt.xlabel('x')\n",
    "    plt.legend()\n",
    "    plt.show()"
   ]
  },
  {
   "cell_type": "code",
   "execution_count": 153,
   "metadata": {},
   "outputs": [
    {
     "data": {
      "text/plain": [
       "(3.896937825248617, 1.9740663173380515, 3.900838663912529, 1.9750540913890255)"
      ]
     },
     "execution_count": 153,
     "metadata": {},
     "output_type": "execute_result"
    }
   ],
   "source": [
    "np.var(x), np.std(x), np.var(x,ddof=True) , np.std(x,ddof= True)"
   ]
  },
  {
   "cell_type": "code",
   "execution_count": 222,
   "metadata": {},
   "outputs": [
    {
     "name": "stdout",
     "output_type": "stream",
     "text": [
      "구간이 100개일 때\n",
      "표본 평균이 0.00032961741381284644\n",
      "표본 중앙값이 0.0007410172310635022\n",
      "표본 최빈값이 0.000899999999999998\n"
     ]
    },
    {
     "data": {
      "image/png": "[encoded data removed]",
      "text/plain": [
       "<Figure size 432x288 with 1 Axes>"
      ]
     },
     "metadata": {},
     "output_type": "display_data"
    }
   ],
   "source": [
    "import pandas_datareader.data as web\n",
    "\n",
    "\n",
    "df = web.DataReader(\"DJCA\", data_source='fred').dropna()[\"DJCA\"]\n",
    "r = np.log(df / df.shift(1)).dropna().values\n",
    "sample_statistics(r, 100, -0.09, 0.09)"
   ]
  },
  {
   "cell_type": "code",
   "execution_count": 225,
   "metadata": {},
   "outputs": [
    {
     "data": {
      "text/plain": [
       "(0.00032961741381284644, 6.423439458533692e-05, 0.008014636272803459)"
      ]
     },
     "execution_count": 225,
     "metadata": {},
     "output_type": "execute_result"
    }
   ],
   "source": [
    "#표평 #표분 #표편\n",
    "np.mean(r), np.var(r, ddof = True), np.std(r,ddof = True)"
   ]
  },
  {
   "cell_type": "code",
   "execution_count": 226,
   "metadata": {},
   "outputs": [
    {
     "data": {
      "text/plain": [
       "'13.0%'"
      ]
     },
     "execution_count": 226,
     "metadata": {},
     "output_type": "execute_result"
    }
   ],
   "source": [
    "str(round(np.std(r) * np.sqrt(256) * 100)) + '%'"
   ]
  },
  {
   "cell_type": "code",
   "execution_count": 232,
   "metadata": {},
   "outputs": [
    {
     "name": "stdout",
     "output_type": "stream",
     "text": [
      "구간이 100개일 때\n",
      "표본 평균이 -0.09051341498039077\n",
      "표본 중앙값이 -0.11605606959925549\n",
      "표본 최빈값이 -0.8100000000000005\n"
     ]
    },
    {
     "data": {
      "image/png": "[encoded data removed]",
      "text/plain": [
       "<Figure size 432x288 with 1 Axes>"
      ]
     },
     "metadata": {},
     "output_type": "display_data"
    }
   ],
   "source": [
    "sp.random.seed(0)\n",
    "x = sp.stats.norm(0, 2).rvs(1000)  # 평균=0, 표준편차=2 인 정규분포 데이터 생성\n",
    "sample_statistics(x,100,-9,9)"
   ]
  },
  {
   "cell_type": "code",
   "execution_count": 233,
   "metadata": {},
   "outputs": [
    {
     "data": {
      "text/plain": [
       "(0.03385895323565712, -0.0467663244783294)"
      ]
     },
     "execution_count": 233,
     "metadata": {},
     "output_type": "execute_result"
    }
   ],
   "source": [
    "sp.stats.skew(x), sp.stats.kurtosis(x)"
   ]
  },
  {
   "cell_type": "code",
   "execution_count": 248,
   "metadata": {},
   "outputs": [
    {
     "data": {
      "text/plain": [
       "3.896937825248617"
      ]
     },
     "execution_count": 248,
     "metadata": {},
     "output_type": "execute_result"
    }
   ],
   "source": [
    "sp.stats.moment(x,2)"
   ]
  },
  {
   "cell_type": "code",
   "execution_count": 250,
   "metadata": {},
   "outputs": [
    {
     "name": "stdout",
     "output_type": "stream",
     "text": [
      "[ 3.52810469e+00  8.00314417e-01  1.95747597e+00  4.48178640e+00\n",
      "  3.73511598e+00 -1.95455576e+00  1.90017684e+00 -3.02714417e-01\n",
      " -2.06437704e-01  8.21197004e-01  2.88087142e-01  2.90854701e+00\n",
      "  1.52207545e+00  2.43350033e-01  8.87726465e-01  6.67348655e-01\n",
      "  2.98815815e+00 -4.10316528e-01  6.26135403e-01 -1.70819148e+00\n",
      " -5.10597963e+00  1.30723719e+00  1.72887240e+00 -1.48433004e+00\n",
      "  4.53950925e+00 -2.90873135e+00  9.15170346e-02 -3.74367700e-01\n",
      "  3.06555843e+00  2.93871754e+00  3.09894851e-01  7.56325039e-01\n",
      " -1.77557150e+00 -3.96159294e+00 -6.95824299e-01  3.12697938e-01\n",
      "  2.46058136e+00  2.40475970e+00 -7.74653635e-01 -6.04605501e-01\n",
      " -2.09710593e+00 -2.84003587e+00 -3.41254038e+00  3.90155079e+00\n",
      " -1.01930436e+00 -8.76148603e-01 -2.50559072e+00  1.55498071e+00\n",
      " -3.22779570e+00 -4.25480560e-01 -1.79093312e+00  7.73804996e-01\n",
      " -1.02161028e+00 -2.36126437e+00 -5.63644567e-02  8.56663741e-01\n",
      "  1.33034445e-01  6.04943795e-01 -1.26864419e+00 -7.25482332e-01\n",
      " -1.34492090e+00 -7.19106323e-01 -1.62629256e+00 -3.45256520e+00\n",
      "  3.54852285e-01 -8.03561872e-01 -3.26039669e+00  9.25564511e-01\n",
      " -1.81459673e+00  1.03890792e-01  1.45818112e+00  2.57965822e-01\n",
      "  2.27880137e+00 -2.46965164e+00  8.04683282e-01 -1.36962018e+00\n",
      " -1.74159430e+00 -1.15769933e+00 -6.23105064e-01  1.12330684e-01\n",
      " -2.33029968e+00  1.80165297e+00  9.31324879e-01 -3.07248737e+00\n",
      "  2.97650439e+00  3.79177835e+00  2.35755914e+00 -3.59849672e-01\n",
      " -2.14150524e+00  2.10890345e+00 -8.06353894e-01  2.44489014e+00\n",
      "  4.16549956e-01  1.95327807e+00  7.12732794e-01  1.41314634e+00\n",
      "  2.10000414e-02  3.57174099e+00  2.53824185e-01  8.03978727e-01\n",
      "  3.76630139e+00 -2.69551812e+00 -2.54097000e+00  1.93879342e+00\n",
      " -2.34624681e+00  3.88724237e+00 -8.27237962e-01 -1.49490962e+00\n",
      "  3.84588405e+00  2.96102958e+00  3.73511792e+00  1.81208932e+00\n",
      " -1.72245137e+00  3.82012991e+00 -5.36006742e-01  1.60491279e+00\n",
      "  1.89450394e+00 -3.10020186e-01  1.22815874e+00  1.84441334e+00\n",
      "  7.52851062e-01 -2.19880158e+00  5.96476348e-01  2.65277179e+00\n",
      " -1.38913572e+00 -2.99269081e-01 -8.70307103e-01  3.69852746e+00\n",
      "  1.34458951e+00  8.14923672e-01 -1.53983215e+00  1.07849838e+00\n",
      " -1.34866532e+00  6.36611165e-02 -1.27169216e+00  1.35286659e+00\n",
      "  1.15318163e+00 -4.16597511e-01  7.92013425e-01 -2.18612302e+00\n",
      " -2.98251519e+00  8.78783403e-01  3.33346991e-01  1.27006287e+00\n",
      "  4.76628955e+00  1.88895897e+00 -1.82564445e+00  2.23403258e+00\n",
      " -2.63181482e+00 -9.23169210e-01 -1.36483211e-01  3.42668544e+00\n",
      " -1.48950964e+00 -1.65287708e+00 -1.96905049e-01 -1.32695657e+00\n",
      "  2.25327184e+00 -2.15986302e+00 -2.29493730e+00 -8.75640089e-01\n",
      " -9.96064901e-01  3.85906411e+00  1.89884161e+00  1.75102483e-01\n",
      " -2.45087104e+00  1.68872595e+00 -2.00043069e+00 -3.08954219e+00\n",
      "  2.37605958e+00  6.33885224e-01  1.84171765e+00  6.37455306e-01\n",
      "  1.71366122e+00 -1.30205119e+00 -2.06848568e+00  1.36318904e+00\n",
      " -1.60681933e+00 -1.37909956e+00 -9.11065007e-01  3.49583181e-02\n",
      " -7.07987823e-01 -2.74990259e+00 -1.28723681e+00 -4.44680630e+00\n",
      "  1.25046290e+00 -3.20411531e+00 -2.20876668e+00  1.04330159e-01\n",
      " -1.47912599e+00  3.08602919e+00 -2.58571382e+00  5.34101739e-01\n",
      " -7.85656365e-02 -2.33618700e+00  1.04655332e+00 -3.43092662e-01\n",
      "  1.54358110e+00  1.64700831e+00  4.32647190e+00  2.67305590e+00\n",
      " -7.38363676e-01 -4.78758355e-01  2.19931919e+00  1.31052746e+00\n",
      "  1.28026305e+00 -3.23391209e+00 -4.86522488e-02 -1.47606182e+00\n",
      "  5.59849198e-01 -1.96300779e-01  1.82035782e+00  6.34436430e-01\n",
      "  1.57265592e+00 -9.32838193e-01 -1.88889251e+00 -8.20099386e-01\n",
      " -3.40408277e-02  7.58303471e-01  4.51861790e+00 -8.45143033e-02\n",
      " -1.91189000e+00 -6.91963551e-01 -9.27191949e-01  9.62962948e-01\n",
      " -3.08159403e+00  1.26523988e-01  3.13013076e-01  4.64362072e-01\n",
      " -1.19463214e+00 -4.75843459e-01 -2.84812182e+00 -9.86639767e-01\n",
      " -1.08572295e+00  8.32100093e-01 -2.31236486e+00  1.56239620e+00\n",
      "  2.98896909e+00 -4.13997005e+00  8.52517462e-01  1.35381607e+00\n",
      " -1.27487405e+00 -7.94543629e-01 -2.65761155e-01 -5.95581759e-01\n",
      " -6.18025938e-01 -3.35200761e+00  2.30466313e+00  2.15923718e+00\n",
      " -1.62672852e+00 -2.93284866e+00  1.04212975e+00 -1.15157594e+00\n",
      "  2.83906327e-01 -6.38656834e-01  1.38307750e+00  1.38949829e+00\n",
      " -1.45119476e+00 -2.76672791e+00 -3.16587679e+00  1.22075876e+00\n",
      " -2.37771852e+00 -1.01363271e+00 -1.19262808e+00 -1.05134593e-01\n",
      " -3.87255961e+00  3.77557194e-01  1.04778205e+00  1.76844174e-01\n",
      " -6.21772343e-01  1.94800333e-01  7.98092691e-01 -5.54518551e+00\n",
      "  3.91182462e+00  7.80186645e-01 -1.30481716e+00 -7.81906750e-01\n",
      "  9.87483555e-01 -2.32207878e-01 -4.06136894e+00  4.12898572e+00\n",
      " -2.21081314e-01  2.04034542e+00 -1.38409970e+00  3.07275411e+00\n",
      "  5.72687378e-01  1.21768767e+00 -2.09050673e+00  2.42229058e+00\n",
      "  1.37963633e+00  2.60369246e+00 -1.25617512e+00 -9.62054237e-01\n",
      "  4.60783340e+00 -2.12003165e+00 -2.71899401e-01  2.27378273e+00\n",
      "  1.95449935e-01  1.16590736e+00 -7.98898059e-01  7.40111776e-01\n",
      " -2.61305370e+00  3.31626136e+00 -2.36328090e-01 -1.36035641e+00\n",
      "  1.33276616e+00 -9.21439575e-01 -2.66851694e+00 -2.69343501e+00\n",
      "  1.38754631e+00 -3.19146876e-01 -2.67403119e-01  2.15548761e+00\n",
      " -2.25365162e+00 -1.46135551e+00 -7.69759618e-01  1.88703179e-01\n",
      " -8.43429026e-02 -5.73774385e-01 -1.23252804e-01 -2.14610553e-01\n",
      " -1.43920878e+00 -1.62598598e+00  5.49032715e-01 -1.78183017e+00\n",
      " -2.31471052e+00 -6.24584502e-01 -3.15334032e-01  4.51344699e+00\n",
      " -1.40940055e+00  1.88652145e+00  1.49437667e+00 -2.37788991e+00\n",
      "  1.54650595e+00 -2.36776128e+00 -5.31834448e+00  1.21263905e+00\n",
      " -3.51178117e+00  9.01868924e-01 -1.36802180e+00  3.31910159e+00\n",
      "  2.13701880e+00 -9.06771608e-01 -1.37567522e+00 -2.42815481e+00\n",
      " -8.81845265e-01 -5.60710990e-01 -7.29387089e-01  3.13407711e-01\n",
      "  1.15704300e+00  6.99308914e-01 -1.52828785e+00 -2.87558295e+00\n",
      "  2.72906370e+00 -1.37889837e+00 -1.30458720e+00 -1.04237862e+00\n",
      " -3.68613910e+00 -9.55948008e-01 -9.59311628e-01  1.24071660e+00\n",
      "  1.39691430e+00  7.54177817e-03  1.86369675e+00  6.79929968e-01\n",
      " -3.13642232e-02  3.21856337e-01 -3.81306987e-01 -7.89699028e-01\n",
      " -5.35467074e-01 -2.25602266e+00  5.60883411e-01 -1.98624722e+00\n",
      "  1.68326253e+00 -4.98917160e-01  9.89899633e-02  9.87673553e-01\n",
      "  1.28662893e+00 -3.14124682e+00 -4.13807352e-01  1.76035782e+00\n",
      " -3.39621164e+00  7.74560951e-01 -4.51112846e+00 -2.04501369e+00\n",
      "  7.72611037e-02 -3.31343020e+00 -1.97102148e+00 -2.94367001e+00\n",
      "  3.29626986e+00  3.28455511e-01  1.13458056e+00 -4.45350201e-01\n",
      " -7.06863498e-01 -3.23294838e+00 -5.83674725e-01 -1.52298442e+00\n",
      "  1.71584785e+00  2.28220373e+00  2.93315743e+00  1.70510388e+00\n",
      " -1.19730787e+00 -2.23179397e+00  1.53332636e+00  7.12585635e-01\n",
      " -3.53707690e+00  7.10963585e-01  1.62903964e+00  1.17851178e-01\n",
      " -3.70107342e-01 -1.61529698e+00 -2.89306940e+00  1.60059590e+00\n",
      " -6.18228890e-01 -4.66933323e-01  3.46544237e+00  1.36900221e+00\n",
      "  7.41650003e-01  2.84123610e-01  3.03998972e+00  3.43917861e+00\n",
      "  1.85901022e+00  1.16444918e+00 -4.18920614e+00  2.47443828e-01\n",
      " -2.60213908e-01  1.87906459e-01  1.88609217e+00 -5.47935433e+00\n",
      " -1.13862411e+00  5.39808710e-01 -9.33691092e-01 -2.83381223e+00\n",
      "  1.73792697e+00  5.53743812e-01 -1.94220914e+00  6.29634409e-01\n",
      "  1.64317142e+00  1.05852926e-02  1.60112961e+00  1.56520350e-01\n",
      " -7.90457965e-01 -2.31884103e+00 -1.71861534e-01  3.88585876e-01\n",
      "  1.75166552e+00 -2.30214937e-01  9.14831212e-01 -1.92922403e+00\n",
      " -1.56525831e+00 -2.20778598e-01 -2.10925693e+00  1.64049567e+00\n",
      "  9.26260659e-01  5.58191529e-01  6.77808250e-01  4.04208712e+00\n",
      " -9.37728376e-01 -4.40288257e+00  3.98600394e-01 -1.01207082e-01\n",
      " -1.03503809e+00 -1.95765972e+00 -8.78379044e-01  3.62676858e-01\n",
      " -1.00563340e+00  4.82490736e+00 -1.92100876e+00 -1.58623473e+00\n",
      " -4.57724008e+00  5.02968830e-01 -4.03281326e+00 -1.07890927e+00\n",
      " -5.51341069e-01 -1.41945593e+00  3.47774535e+00  1.98878878e+00\n",
      "  2.63827375e+00 -1.76483764e+00  2.25718813e+00  9.92001893e-01\n",
      "  1.54281190e+00  2.05887766e+00 -1.81752649e+00 -8.48635242e-01\n",
      "  1.72519202e+00 -5.31123819e+00  3.02665617e+00  1.10626413e+00\n",
      " -9.14079213e-02  4.41015312e-01 -2.05987057e+00 -6.99886729e-01\n",
      "  2.20056868e+00  2.59604394e+00  5.39244811e+00 -1.47849333e-01\n",
      " -1.31710593e+00 -1.02846793e+00 -2.03608375e+00 -1.55709512e-01\n",
      "  7.65464860e-01 -6.84845611e-02  2.19269369e+00 -4.68431603e-01\n",
      " -6.94901305e-01 -1.16253695e+00 -3.26526905e+00 -3.13553545e+00\n",
      " -2.35831586e+00  2.60285614e+00  1.79052055e+00  2.74992813e+00\n",
      " -2.66442331e+00 -3.93724938e+00 -1.32011264e+00  3.51637907e-01\n",
      "  9.97380550e-01  2.09594431e+00  5.68559342e-01  3.48533756e+00\n",
      " -4.45211362e-01 -1.82615844e+00 -3.36243643e+00 -1.77794272e+00\n",
      "  4.84235922e-01 -1.77744051e+00  1.87348493e+00  2.82465541e+00\n",
      " -4.73917381e+00  1.72810460e+00 -4.47920812e+00  8.02998110e-01\n",
      "  2.44974113e+00  1.29712213e-01 -2.55937835e+00 -1.17086241e+00\n",
      " -5.23290891e-01 -3.64489568e-01 -4.05793682e-01 -2.19765559e-01\n",
      "  4.26960098e-01 -2.41714731e+00 -4.84039660e-01  3.03652234e+00\n",
      " -7.69290846e-01 -8.87672186e-01  2.15639461e+00 -5.11836933e+00\n",
      "  2.36275720e+00 -1.26380752e+00  3.27857145e-01  1.92642712e-01\n",
      "  1.88493624e+00 -5.35189492e-01 -1.35605156e+00  2.59569158e+00\n",
      " -4.72834763e+00  4.06683634e-02 -2.69585085e+00 -1.52314678e+00\n",
      "  4.02251336e+00 -8.91908529e-02  3.90139394e-01 -3.56312571e+00\n",
      " -1.45808932e+00  3.93114801e-01  7.09515386e-01  1.23377311e+00\n",
      "  1.72557978e-02  1.05400842e+00  9.07563825e-01 -3.65948082e+00\n",
      "  7.40114438e-02  1.53580482e+00  1.17975964e+00 -7.27717620e-01\n",
      " -1.61125302e+00 -2.23662385e+00 -2.62108023e-01  2.26615976e+00\n",
      " -3.90360820e+00 -1.31978346e+00 -2.27960491e+00  1.56991504e+00\n",
      " -1.10861925e+00 -9.41275316e-01 -4.33899140e-01  8.90786502e-01\n",
      " -7.84777996e-01 -6.09228611e+00  1.08662378e+00  8.78085915e-01\n",
      " -4.39082057e-01 -2.16807324e+00  7.03560221e-01  7.58471067e-01\n",
      " -9.40065765e-01 -4.33462941e-01 -1.86031301e+00 -3.57178184e-01\n",
      " -3.10085869e+00  8.34637642e-01 -1.88873698e+00  4.76206296e-01\n",
      " -2.81192583e+00 -1.18011529e+00 -2.20978810e-01 -3.32139962e+00\n",
      "  2.30295746e-01 -7.58295126e-01 -3.48471240e+00 -2.60648551e+00\n",
      "  1.21024017e+00  1.79111197e+00 -2.63817280e-01  8.09523624e-01\n",
      "  4.47687127e-01  6.59245964e-01  2.57196801e+00 -3.01399680e+00\n",
      "  1.35292146e+00 -7.64017911e-01 -4.48517869e-01 -6.04499461e-01\n",
      " -7.50294233e-01 -2.45239238e+00  3.66678399e-01  3.34188607e+00\n",
      " -1.12266041e-01 -2.77008547e-03 -1.37459807e+00 -2.34949093e-01\n",
      "  9.32332852e-01 -7.40484881e-01 -9.07608082e-01  8.06529080e-01\n",
      " -1.83600954e+00  5.04993254e-01  1.64064359e+00  2.71989708e+00\n",
      " -1.80764015e-01  2.73519448e+00  2.06881977e+00 -1.99242528e+00\n",
      " -2.43587702e+00 -6.09927276e-01  2.05787099e+00 -1.44574015e-01\n",
      " -1.20131512e+00  3.10448636e+00  5.73808976e-01 -4.64118855e+00\n",
      "  6.34321253e-01  1.04008123e+00  4.51217309e-01  8.99424200e-01\n",
      " -1.34551218e-01 -2.63679174e+00 -7.41408006e-01 -1.89123159e+00\n",
      " -1.86548182e+00 -2.52613670e+00  9.04978185e-01  1.95792291e-01\n",
      " -8.96330725e-01 -1.29867586e+00 -4.68462100e-02  2.15838946e+00\n",
      " -4.00843143e+00  7.53753042e-01 -1.09142395e+00 -3.76917169e+00\n",
      " -3.89140617e+00 -1.82556699e+00  4.39019112e-01  7.86125868e-01\n",
      " -1.87796315e+00  2.03404198e+00  2.84596699e+00  7.92173170e-01\n",
      " -1.18280534e+00  2.24883837e+00  1.51079139e+00  1.73481482e+00\n",
      " -1.31292735e+00 -5.66910901e+00  4.23358204e+00 -3.22175681e+00\n",
      " -7.15361437e-02  4.76149070e+00  6.61153513e-01  1.89849295e+00\n",
      " -3.00479314e+00 -3.55533391e+00 -1.06540558e+00  2.18149947e+00\n",
      " -6.92498895e-01 -1.58927264e+00  3.95934580e-01  2.16387044e+00\n",
      " -2.88988040e+00 -2.42108599e+00 -1.57733851e+00  2.18927675e+00\n",
      "  4.69643052e-01  4.26430682e+00  1.87289145e+00 -7.01903537e-02\n",
      "  2.53015568e+00  4.22994025e-01 -1.40984271e+00  1.35994969e+00\n",
      " -1.39265331e+00 -5.80794202e-01  2.65556539e+00 -2.02562972e-01\n",
      " -1.60628277e+00 -9.28675383e-01  2.04358117e+00 -1.10508135e+00\n",
      " -7.73741694e-01 -1.02058548e+00  3.67850989e-01 -7.70979521e-01\n",
      " -3.20367210e+00 -1.77436188e+00 -1.86557808e+00  2.48663877e+00\n",
      "  1.62534808e+00  1.17451876e+00 -1.01071663e+00 -1.63158308e+00\n",
      " -1.01503520e+00 -2.10376021e+00  4.99440078e+00 -4.49064330e+00\n",
      "  1.12801707e+00 -2.56910460e+00 -2.08686983e-01 -1.97600388e+00\n",
      " -2.35525792e+00 -2.28039260e+00  3.50997231e+00 -2.65976845e-01\n",
      " -1.53140439e+00  1.11157393e+00  2.06986291e-02  1.44006752e+00\n",
      " -3.64851331e+00  6.07207809e-01  1.54538967e+00 -3.32319658e+00\n",
      "  8.96390569e-01  3.39236315e+00 -2.97154067e-02  1.64281187e+00\n",
      "  1.34114090e+00 -1.41501140e+00  7.95334692e-02 -3.13398942e+00\n",
      " -9.02606074e-01  5.31375950e-01  1.44620099e+00  4.92242505e-02\n",
      "  1.43996746e+00 -2.20581243e+00 -2.03394549e-01  3.85587690e-02\n",
      "  3.69918249e+00 -4.28333312e-01 -9.98033276e-01  4.27024477e-02\n",
      " -1.83822689e+00  3.85507698e-01 -7.30110433e-01 -3.58265510e+00\n",
      " -1.17173102e-01 -6.35086188e-01 -3.26484660e+00 -1.34268309e-01\n",
      "  2.97871192e+00  1.04260750e+00  1.22385439e+00 -2.68299345e+00\n",
      "  9.53796738e-01  2.96899163e-01  1.05809048e+00  8.45257243e-01\n",
      " -2.71956145e+00 -8.28016231e-02 -1.51574172e+00 -1.00168189e-01\n",
      " -1.79480185e+00  2.62494073e+00 -1.71794478e+00 -1.79788431e+00\n",
      "  1.49172813e-01 -2.15419814e+00 -8.49326605e-01 -1.65992920e+00\n",
      "  2.82234413e+00  1.57160765e+00 -1.14939037e-01 -7.82434104e-01\n",
      "  1.88183523e+00  8.10408161e-01  9.96104809e-01 -5.23844747e-02\n",
      " -3.37646006e+00 -2.24931965e-01 -1.06497984e+00  1.29011055e+00\n",
      "  2.02368487e+00 -1.31590209e+00  9.36770469e-01  3.47175800e+00\n",
      " -1.33542544e+00  3.36384348e+00 -1.70517169e+00  4.59195112e-02\n",
      " -2.22912237e-02  2.29977997e-02 -1.67535608e+00 -1.18236621e+00\n",
      " -1.33544057e+00  6.53925191e-01  6.60070229e-01  4.45188866e+00\n",
      "  2.74197801e+00 -1.01968648e+00  6.49739232e-01  1.99423596e+00\n",
      "  6.12036487e-02 -1.39283157e-01  1.03149886e-01  1.73455326e+00\n",
      " -1.69664105e+00 -6.51338938e-01  9.40866290e-01  6.22894143e-01\n",
      "  4.79165520e-01 -7.39602333e-01  1.94507158e+00  4.26773649e+00\n",
      "  8.12830987e-01 -3.86353403e-01  1.51148058e+00 -1.07826527e+00\n",
      " -1.49938069e+00  6.56174952e-02 -5.16559327e+00 -2.30790073e+00\n",
      " -6.95923712e-01 -2.70677772e+00 -2.06528620e+00 -8.73496675e-01\n",
      " -3.28593059e+00 -8.12143593e-01 -1.07054033e+00  5.08104168e-02\n",
      "  2.30836806e+00  3.45008833e-01  4.21240427e-02  1.98908914e-01\n",
      "  4.54785550e-01 -2.03347730e+00 -2.29550650e-01  6.17502484e-01\n",
      " -2.74151997e+00  1.73130585e+00  2.16275207e+00 -1.26275198e+00\n",
      " -4.82675583e-01 -1.75638069e+00  1.39876097e+00 -2.12244457e+00\n",
      " -4.44954020e-01 -1.71783982e+00  1.01908554e-01 -3.58845854e+00\n",
      "  2.65292328e+00 -1.92921285e+00  1.19789366e-01 -4.25046090e-01\n",
      " -1.52422902e+00 -1.77556027e+00  1.87279709e+00 -1.05128119e+00\n",
      "  5.42340369e-01 -1.60299377e+00 -1.29436286e+00  9.44494300e-01\n",
      "  1.86081699e+00 -3.50632805e-01 -2.84383974e+00  3.99591216e+00\n",
      " -1.71309862e+00 -3.08317480e+00  5.18884918e+00 -8.08064588e-01\n",
      " -2.92346538e+00 -1.36687953e+00  7.35089792e-01  3.80623115e-01\n",
      " -1.70345839e+00  3.64544720e+00 -1.04315936e+00 -2.36937318e+00\n",
      "  1.92138680e+00  2.65812569e+00 -1.63498620e+00 -2.80269459e+00\n",
      "  2.06087653e+00 -4.09464723e+00 -2.45324332e+00  1.93489230e+00\n",
      " -1.10705096e-01 -5.27874697e-01  7.05633213e-01 -3.05548847e-01\n",
      " -2.59737344e+00  2.55215069e+00  2.65002811e+00  4.10665128e-01\n",
      "  9.02680309e-02  4.67924961e+00 -5.52865690e-01 -5.19153964e-01\n",
      "  7.28962498e-01  2.94264391e+00  3.18554151e+00 -5.17145263e-01\n",
      "  6.16662492e-01 -2.75616693e+00 -6.23952216e-01 -1.68058079e+00\n",
      " -2.01366350e+00  3.36315343e+00 -1.58457332e+00 -1.06321182e+00\n",
      "  7.31697576e-01  2.59565053e+00  9.62230253e-01  5.51871023e+00\n",
      " -1.49335957e-01  5.17432880e-01  5.51201348e-01  2.87009877e+00\n",
      "  1.01447790e+00 -2.32459401e-01 -1.89497719e+00  4.88886912e-01\n",
      "  2.80268966e+00 -8.20763587e-01  1.05788724e+00  4.92295577e-01\n",
      "  1.72703932e+00 -1.60950748e+00  4.69329406e+00 -2.55832221e+00\n",
      " -7.31102180e-01  1.87618508e+00  5.93466345e-01  1.65997232e+00\n",
      " -9.92204668e-01 -1.49609965e-01  2.44639673e-02  3.13851923e+00\n",
      "  1.38085805e+00  1.59334422e+00 -1.31585219e+00  1.93776528e+00\n",
      "  4.51163327e-01  2.77829063e+00  4.02812031e+00 -6.13531552e-01\n",
      " -8.12606261e-01 -1.72808998e+00 -2.87159023e-01 -7.64050898e-01\n",
      "  7.19008799e-01 -2.89133634e-01 -7.23198562e-01  2.12917027e+00\n",
      " -1.87576046e+00  8.66215906e-01 -8.11883454e-01  1.44873701e+00\n",
      "  2.77052309e+00 -6.06196507e-01  8.82065815e-01  3.57585731e-01\n",
      " -1.59884480e+00  4.81575019e-01  5.78241011e-01  8.25741641e-01\n",
      " -3.96797794e-01  1.88384601e-01 -2.29522189e+00 -7.16228151e-01]\n"
     ]
    }
   ],
   "source": [
    "print(x)"
   ]
  },
  {
   "cell_type": "code",
   "execution_count": 1,
   "metadata": {},
   "outputs": [],
   "source": [
    "a = 2"
   ]
  },
  {
   "cell_type": "code",
   "execution_count": 2,
   "metadata": {},
   "outputs": [
    {
     "data": {
      "text/plain": [
       "4"
      ]
     },
     "execution_count": 2,
     "metadata": {},
     "output_type": "execute_result"
    }
   ],
   "source": [
    "a+2"
   ]
  },
  {
   "cell_type": "code",
   "execution_count": null,
   "metadata": {},
   "outputs": [],
   "source": []
  }
 ],
 "metadata": {
  "kernelspec": {
   "display_name": "Python [conda env:tensorflow]",
   "language": "python",
   "name": "conda-env-tensorflow-py"
  },
  "language_info": {
   "codemirror_mode": {
    "name": "ipython",
    "version": 3
   },
   "file_extension": ".py",
   "mimetype": "text/x-python",
   "name": "python",
   "nbconvert_exporter": "python",
   "pygments_lexer": "ipython3",
   "version": "3.5.5"
  }
 },
 "nbformat": 4,
 "nbformat_minor": 2
}
