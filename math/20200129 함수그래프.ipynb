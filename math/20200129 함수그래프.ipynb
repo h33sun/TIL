{
 "cells": [
  {
   "cell_type": "code",
   "execution_count": 1,
   "metadata": {},
   "outputs": [],
   "source": [
    "%run C:\\Users\\HSS\\dd.py"
   ]
  },
  {
   "cell_type": "markdown",
   "metadata": {},
   "source": [
    "## 1.부호함수\n",
    "\n",
    "- 함수의 부호에 따라 -1,0,1을 반환하는 함수\n",
    "- Numpy의 sign으로 구현되어 있다.\n",
    "\n",
    "\\begin{align}\n",
    "\\text{sgn}(x) \n",
    "=\n",
    "\\begin{cases} \n",
    "1, & x > 0, \\\\ \n",
    "0, & x = 0, \\\\ \n",
    "-1, & x < 0 \n",
    "\\end{cases} \n",
    "\\end{align}"
   ]
  },
  {
   "cell_type": "code",
   "execution_count": 2,
   "metadata": {},
   "outputs": [
    {
     "data": {
      "text/plain": [
       "(-1.2, 1.2)"
      ]
     },
     "execution_count": 2,
     "metadata": {},
     "output_type": "execute_result"
    },
    {
     "data": {
      "image/png": "[encoded data removed]",
      "text/plain": [
       "<Figure size 432x288 with 1 Axes>"
      ]
     },
     "metadata": {},
     "output_type": "display_data"
    }
   ],
   "source": [
    "#부호함수 그래프 그리기\n",
    "x = np.linspace(-10,10,400)\n",
    "plt.plot(x,np.sign(x),'r-')\n",
    "plt.title('부호함수')\n",
    "plt.xlim(-10,10)\n",
    "plt.ylim(-1.2,1.2)"
   ]
  },
  {
   "cell_type": "markdown",
   "metadata": {},
   "source": [
    "## 2. 단위계단함수\n",
    "\n",
    "- 음수일 때 0을 반환, 양수일 때 1을 반환하는 ``1 if x>0 else 0 ``꼴의 함수\n",
    "\\begin{align}\n",
    "H(x) =\n",
    "\\begin{cases}\n",
    "1, & x\\ge 0, \\\\\n",
    "0, & x\\ < 0\n",
    "\\end{cases}\n",
    "\\end{align}"
   ]
  },
  {
   "cell_type": "code",
   "execution_count": 3,
   "metadata": {},
   "outputs": [
    {
     "data": {
      "text/plain": [
       "(-0.2, 1.2)"
      ]
     },
     "execution_count": 3,
     "metadata": {},
     "output_type": "execute_result"
    },
    {
     "data": {
      "image/png": "[encoded data removed]",
      "text/plain": [
       "<Figure size 432x288 with 1 Axes>"
      ]
     },
     "metadata": {},
     "output_type": "display_data"
    }
   ],
   "source": [
    "#단위계단함수 그래프 그리기\n",
    "def just(x):\n",
    "    return 1 if x>=0 else 1\n",
    "\n",
    "def steps(x):\n",
    "    if isinstance(x,np.ndarray):\n",
    "        return np.where(x>=0,1,0)\n",
    "    else:\n",
    "        return 1 if x >= 0 else 1\n",
    "    \n",
    "plt.plot(x,steps(x),'r-')\n",
    "plt.title('단위계단함수')\n",
    "plt.xlim(-10,10)\n",
    "plt.ylim(-0.2,1.2)"
   ]
  },
  {
   "cell_type": "code",
   "execution_count": 4,
   "metadata": {},
   "outputs": [
    {
     "ename": "TypeError",
     "evalue": "where() takes at least 1 argument (0 given)",
     "output_type": "error",
     "traceback": [
      "\u001b[1;31m---------------------------------------------------------------------------\u001b[0m",
      "\u001b[1;31mTypeError\u001b[0m                                 Traceback (most recent call last)",
      "\u001b[1;32m<ipython-input-4-0ce2928abba2>\u001b[0m in \u001b[0;36m<module>\u001b[1;34m()\u001b[0m\n\u001b[0;32m      4\u001b[0m \u001b[0mx\u001b[0m\u001b[1;33m[\u001b[0m\u001b[0mnp\u001b[0m\u001b[1;33m.\u001b[0m\u001b[0mwhere\u001b[0m\u001b[1;33m(\u001b[0m\u001b[0mx\u001b[0m\u001b[1;33m>=\u001b[0m\u001b[1;36m0\u001b[0m\u001b[1;33m)\u001b[0m\u001b[1;33m]\u001b[0m \u001b[1;33m==\u001b[0m \u001b[0mx\u001b[0m\u001b[1;33m[\u001b[0m\u001b[0mx\u001b[0m\u001b[1;33m>=\u001b[0m\u001b[1;36m0\u001b[0m\u001b[1;33m]\u001b[0m \u001b[1;31m#간단한 조건에서는 그냥 쓰는게 편함\u001b[0m\u001b[1;33m\u001b[0m\u001b[0m\n\u001b[0;32m      5\u001b[0m \u001b[0mnp\u001b[0m\u001b[1;33m.\u001b[0m\u001b[0mwhere\u001b[0m\u001b[1;33m(\u001b[0m\u001b[0mx\u001b[0m\u001b[1;33m>=\u001b[0m\u001b[1;36m0\u001b[0m\u001b[1;33m,\u001b[0m\u001b[1;36m1\u001b[0m\u001b[1;33m,\u001b[0m\u001b[1;36m0\u001b[0m\u001b[1;33m)\u001b[0m \u001b[1;31m#조건에 맞게 값 지정 가능\u001b[0m\u001b[1;33m\u001b[0m\u001b[0m\n\u001b[1;32m----> 6\u001b[1;33m \u001b[0mnp\u001b[0m\u001b[1;33m.\u001b[0m\u001b[0mwhere\u001b[0m\u001b[1;33m(\u001b[0m\u001b[1;33m)\u001b[0m\u001b[1;33m\u001b[0m\u001b[0m\n\u001b[0m",
      "\u001b[1;31mTypeError\u001b[0m: where() takes at least 1 argument (0 given)"
     ]
    }
   ],
   "source": [
    "# np.where\n",
    "# just(x) #x자리에 1개씩 들어오지 않아서 문제?\n",
    "np.where(x>=0) #idx를 반환한다.\n",
    "x[np.where(x>=0)] == x[x>=0] #간단한 조건에서는 그냥 쓰는게 편함\n",
    "np.where(x>=0,1,0) #조건에 맞게 값 지정 가능\n",
    "np.where()\n"
   ]
  },
  {
   "cell_type": "markdown",
   "metadata": {},
   "source": [
    "## 3. 지시함수\n",
    "\n",
    "- i에 일치하는 입력과 그렇지 않은 입력에 대해 다른 출력값을 내는 함수\n",
    "\\begin{align}\n",
    "\\mathbb{I}_i(x)\n",
    "=\n",
    "\\delta_{ix} \n",
    "=\n",
    "\\begin{cases}\n",
    "1 & \\text{ if } x = i \\\\ \n",
    "0 & \\text{ if } x \\neq i \\\\ \n",
    "\\end{cases}\n",
    "\\tag{4.1.8}\n",
    "\\end{align}"
   ]
  },
  {
   "cell_type": "code",
   "execution_count": null,
   "metadata": {},
   "outputs": [],
   "source": [
    "def indicator(i,x):\n",
    "    if isinstance(x,np.ndarray):\n",
    "        return np.where(x==i,1,0)\n",
    "    else:\n",
    "        return 1 if x==i else 0\n",
    "\n"
   ]
  },
  {
   "cell_type": "code",
   "execution_count": null,
   "metadata": {},
   "outputs": [],
   "source": [
    "# 지시함수 그래프 그리기\n",
    "x = np.arange(-4,6)\n",
    "plt.subplot(121)\n",
    "plt.plot(x, indicator(1,x) ,'ro-')\n",
    "plt.title('지시함수')\n",
    "plt.xlim(-3.1,5.1)\n",
    "\n",
    "\n",
    "plt.subplot(122)\n",
    "x = np.arange(-4,5)\n",
    "y = np.array([1,-1,-2,1,0,0,1,1,0])\n",
    "\n",
    "plt.plot(x, indicator(1,y) ,'bo-')\n",
    "plt.xlim(-4.2,5.1)\n",
    "plt.xticks(range(-4,6))\n",
    "plt.title('지시함수2')\n",
    "plt.show()\n"
   ]
  },
  {
   "cell_type": "code",
   "execution_count": null,
   "metadata": {},
   "outputs": [],
   "source": [
    "def f1(x):\n",
    "    return x ** 2\n",
    "\n",
    "\n",
    "def f1inv(x):\n",
    "    return np.sqrt(x)\n",
    "\n",
    "\n",
    "x = np.linspace(0, 3, 300)\n",
    "plt.plot(x, f1(x), \"r-\", label=\"함수 $f(x) = x^2$\")\n",
    "plt.plot(x, f1inv(x), \"b-.\", label=\"역함수 $f^{-1}(x) = \\sqrt{x}$\")\n",
    "plt.plot(x, x, \"g--\")\n",
    "plt.axis(\"equal\")\n",
    "plt.xlim(0, 2)\n",
    "plt.ylim(0, 2)\n",
    "plt.legend()\n",
    "plt.title(\"역함수의 그래프\")\n",
    "plt.show()"
   ]
  },
  {
   "cell_type": "code",
   "execution_count": 5,
   "metadata": {},
   "outputs": [
    {
     "data": {
      "image/png": "[encoded data removed]",
      "text/plain": [
       "<Figure size 432x288 with 1 Axes>"
      ]
     },
     "metadata": {},
     "output_type": "display_data"
    }
   ],
   "source": [
    "xx = np.linspace(-10, 10, 100)\n",
    "plt.plot(xx, np.maximum(xx, 0))\n",
    "plt.title(\"max(x,0) 또는 ReLU\")\n",
    "plt.xlabel(\"$x$\")\n",
    "plt.ylabel(\"$ReLU(x)$\")\n",
    "plt.show()"
   ]
  },
  {
   "cell_type": "code",
   "execution_count": 14,
   "metadata": {},
   "outputs": [],
   "source": [
    "def leaky_relu(x):\n",
    "    if isinstance(x,np.ndarray):\n",
    "        return np.where(x<0, 0.1*x, x)"
   ]
  },
  {
   "cell_type": "code",
   "execution_count": 33,
   "metadata": {},
   "outputs": [
    {
     "data": {
      "image/png": "[encoded data removed]",
      "text/plain": [
       "<Figure size 432x288 with 1 Axes>"
      ]
     },
     "metadata": {},
     "output_type": "display_data"
    },
    {
     "data": {
      "image/png": "[encoded data removed]",
      "text/plain": [
       "<Figure size 432x288 with 1 Axes>"
      ]
     },
     "metadata": {},
     "output_type": "display_data"
    }
   ],
   "source": [
    "plt.subplot(121)\n",
    "xx = np.linspace(-10, 10, 100)\n",
    "plt.plot(xx, np.maximum(xx, 0))\n",
    "plt.title(\"max(x,0) 또는 ReLU\")\n",
    "plt.xlabel(\"$x$\")\n",
    "plt.ylabel(\"$ReLU(x)$\")\n",
    "plt.show()\n",
    "\n",
    "plt.subplot(122)\n",
    "plt.plot(xx,leaky_relu(xx))\n",
    "plt.title('leaky relu')\n",
    "plt.show()"
   ]
  },
  {
   "cell_type": "code",
   "execution_count": 30,
   "metadata": {},
   "outputs": [
    {
     "data": {
      "text/plain": [
       "<Figure size 576x432 with 0 Axes>"
      ]
     },
     "metadata": {},
     "output_type": "display_data"
    }
   ],
   "source": [
    "plt.figure(figsize = (8,6))\n",
    "plt.show()"
   ]
  },
  {
   "cell_type": "code",
   "execution_count": null,
   "metadata": {},
   "outputs": [],
   "source": []
  }
 ],
 "metadata": {
  "kernelspec": {
   "display_name": "Python [conda env:tensorflow]",
   "language": "python",
   "name": "conda-env-tensorflow-py"
  },
  "language_info": {
   "codemirror_mode": {
    "name": "ipython",
    "version": 3
   },
   "file_extension": ".py",
   "mimetype": "text/x-python",
   "name": "python",
   "nbconvert_exporter": "python",
   "pygments_lexer": "ipython3",
   "version": "3.5.5"
  }
 },
 "nbformat": 4,
 "nbformat_minor": 2
}
