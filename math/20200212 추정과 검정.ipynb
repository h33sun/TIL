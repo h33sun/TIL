{
 "cells": [
  {
   "cell_type": "code",
   "execution_count": 1,
   "metadata": {},
   "outputs": [
    {
     "name": "stdout",
     "output_type": "stream",
     "text": [
      "done\n"
     ]
    }
   ],
   "source": [
    "%run C:/Users/HSS/dd.py\n",
    "print('done')"
   ]
  },
  {
   "cell_type": "code",
   "execution_count": 2,
   "metadata": {},
   "outputs": [],
   "source": [
    "from sklearn.datasets import load_boston\n",
    "boston = load_boston()\n",
    "dfX = pd.DataFrame(boston.data, columns=boston.feature_names)\n",
    "dfy = pd.DataFrame(boston.target, columns=[\"MEDV\"])\n",
    "df = pd.concat([dfX, dfy], axis=1)"
   ]
  },
  {
   "cell_type": "code",
   "execution_count": 11,
   "metadata": {},
   "outputs": [
    {
     "data": {
      "text/plain": [
       "array(['CRIM', 'ZN', 'INDUS', 'CHAS', 'NOX', 'RM', 'AGE', 'DIS', 'RAD',\n",
       "       'TAX', 'PTRATIO', 'B', 'LSTAT', 'MEDV'], dtype=object)"
      ]
     },
     "execution_count": 11,
     "metadata": {},
     "output_type": "execute_result"
    }
   ],
   "source": [
    "df.columns.values"
   ]
  },
  {
   "cell_type": "code",
   "execution_count": 35,
   "metadata": {},
   "outputs": [],
   "source": [
    "def describe(col):\n",
    "    x = df[col]\n",
    "    return '[[{}]]: [평균] {}, [최대값] {}, [최소값] {}'.format(col, np.mean(x), np.max(x), np.min(x))  "
   ]
  },
  {
   "cell_type": "code",
   "execution_count": 36,
   "metadata": {},
   "outputs": [
    {
     "name": "stdout",
     "output_type": "stream",
     "text": [
      "[[CRIM]]: [평균] 3.5937607114624512, [최대값] 88.9762, [최소값] 0.00632 \n",
      "\n",
      "[[ZN]]: [평균] 11.363636363636363, [최대값] 100.0, [최소값] 0.0 \n",
      "\n",
      "[[INDUS]]: [평균] 11.13677865612648, [최대값] 27.74, [최소값] 0.46 \n",
      "\n",
      "[[CHAS]]: [평균] 0.0691699604743083, [최대값] 1.0, [최소값] 0.0 \n",
      "\n",
      "[[NOX]]: [평균] 0.5546950592885376, [최대값] 0.871, [최소값] 0.385 \n",
      "\n",
      "[[RM]]: [평균] 6.284634387351779, [최대값] 8.78, [최소값] 3.561 \n",
      "\n",
      "[[AGE]]: [평균] 68.57490118577076, [최대값] 100.0, [최소값] 2.9 \n",
      "\n",
      "[[DIS]]: [평균] 3.795042687747036, [최대값] 12.1265, [최소값] 1.1296 \n",
      "\n",
      "[[RAD]]: [평균] 9.549407114624506, [최대값] 24.0, [최소값] 1.0 \n",
      "\n",
      "[[TAX]]: [평균] 408.2371541501976, [최대값] 711.0, [최소값] 187.0 \n",
      "\n",
      "[[PTRATIO]]: [평균] 18.455533596837945, [최대값] 22.0, [최소값] 12.6 \n",
      "\n",
      "[[B]]: [평균] 356.6740316205534, [최대값] 396.9, [최소값] 0.32 \n",
      "\n",
      "[[LSTAT]]: [평균] 12.653063241106722, [최대값] 37.97, [최소값] 1.73 \n",
      "\n",
      "[[MEDV]]: [평균] 22.532806324110677, [최대값] 50.0, [최소값] 5.0 \n",
      "\n"
     ]
    }
   ],
   "source": [
    "for i in columns:\n",
    "    print(describe(i), '\\n')"
   ]
  },
  {
   "cell_type": "code",
   "execution_count": 25,
   "metadata": {},
   "outputs": [
    {
     "data": {
      "text/plain": [
       "'CRIM의 평균: 3.5937607114624512, 최대값 88.9762, 최소값 0.00632'"
      ]
     },
     "execution_count": 25,
     "metadata": {},
     "output_type": "execute_result"
    }
   ],
   "source": [
    "describe(columns[0])"
   ]
  },
  {
   "cell_type": "code",
   "execution_count": null,
   "metadata": {},
   "outputs": [],
   "source": []
  }
 ],
 "metadata": {
  "kernelspec": {
   "display_name": "Python [conda env:tensorflow]",
   "language": "python",
   "name": "conda-env-tensorflow-py"
  },
  "language_info": {
   "codemirror_mode": {
    "name": "ipython",
    "version": 3
   },
   "file_extension": ".py",
   "mimetype": "text/x-python",
   "name": "python",
   "nbconvert_exporter": "python",
   "pygments_lexer": "ipython3",
   "version": "3.5.5"
  }
 },
 "nbformat": 4,
 "nbformat_minor": 2
}
