{
 "cells": [
  {
   "cell_type": "code",
   "execution_count": 1,
   "metadata": {},
   "outputs": [
    {
     "name": "stdout",
     "output_type": "stream",
     "text": [
      "done\n"
     ]
    }
   ],
   "source": [
    "%run C:/Users/HSS/dd.py\n",
    "print('done')"
   ]
  },
  {
   "cell_type": "code",
   "execution_count": 2,
   "metadata": {},
   "outputs": [],
   "source": [
    "pmf1 = np.array([[1, 2,  4, 2, 1],\n",
    "                 [2, 4,  8, 4, 2],\n",
    "                 [4, 8, 16, 8, 4],\n",
    "                 [2, 4,  8, 4, 2],\n",
    "                 [1, 2,  4, 2, 1]])\n",
    "pmf1 = pmf1/pmf1.sum()\n",
    "\n",
    "pmf1_marginal_x = np.round(pmf1.sum(axis=0), 2)\n",
    "pmf1_marginal_y = np.round(pmf1.sum(axis=1), 2)\n"
   ]
  },
  {
   "cell_type": "code",
   "execution_count": 8,
   "metadata": {},
   "outputs": [
    {
     "data": {
      "text/plain": [
       "(array([0.1, 0.2, 0.4, 0.2, 0.1]), array([[0.1],\n",
       "        [0.2],\n",
       "        [0.4],\n",
       "        [0.2],\n",
       "        [0.1]]))"
      ]
     },
     "execution_count": 8,
     "metadata": {},
     "output_type": "execute_result"
    }
   ],
   "source": [
    "pmf1_marginal_x , pmf1_marginal_y[:, np.newaxis]"
   ]
  },
  {
   "cell_type": "code",
   "execution_count": 7,
   "metadata": {},
   "outputs": [
    {
     "data": {
      "text/plain": [
       "array([[0.01, 0.02, 0.04, 0.02, 0.01],\n",
       "       [0.02, 0.04, 0.08, 0.04, 0.02],\n",
       "       [0.04, 0.08, 0.16, 0.08, 0.04],\n",
       "       [0.02, 0.04, 0.08, 0.04, 0.02],\n",
       "       [0.01, 0.02, 0.04, 0.02, 0.01]])"
      ]
     },
     "execution_count": 7,
     "metadata": {},
     "output_type": "execute_result"
    }
   ],
   "source": [
    "pmf1_marginal_x * pmf1_marginal_y[:, np.newaxis]"
   ]
  },
  {
   "cell_type": "code",
   "execution_count": null,
   "metadata": {},
   "outputs": [],
   "source": [
    "pmf1x = pmf1_marginal_x * pmf1_marginal_y[:, np.newaxis]"
   ]
  },
  {
   "cell_type": "code",
   "execution_count": 9,
   "metadata": {},
   "outputs": [
    {
     "data": {
      "text/plain": [
       "(5, 1)"
      ]
     },
     "execution_count": 9,
     "metadata": {},
     "output_type": "execute_result"
    }
   ],
   "source": [
    "pmf1_marginal_y[:, np.newaxis].shape"
   ]
  },
  {
   "cell_type": "code",
   "execution_count": 13,
   "metadata": {
    "scrolled": true
   },
   "outputs": [
    {
     "data": {
      "text/plain": [
       "array([[0.01, 0.02, 0.04, 0.02, 0.01],\n",
       "       [0.02, 0.04, 0.08, 0.04, 0.02],\n",
       "       [0.04, 0.08, 0.16, 0.08, 0.04],\n",
       "       [0.02, 0.04, 0.08, 0.04, 0.02],\n",
       "       [0.01, 0.02, 0.04, 0.02, 0.01]])"
      ]
     },
     "execution_count": 13,
     "metadata": {},
     "output_type": "execute_result"
    }
   ],
   "source": [
    "pmf1_marginal_y[:, np.newaxis]@(pmf1_marginal_x.reshape(1,5))"
   ]
  },
  {
   "cell_type": "code",
   "execution_count": 14,
   "metadata": {},
   "outputs": [
    {
     "data": {
      "text/plain": [
       "array([[0.1, 0.2, 0.4, 0.2, 0.1]])"
      ]
     },
     "execution_count": 14,
     "metadata": {},
     "output_type": "execute_result"
    }
   ],
   "source": [
    "pmf1_marginal_x.reshape(1,5)"
   ]
  },
  {
   "cell_type": "code",
   "execution_count": 15,
   "metadata": {},
   "outputs": [
    {
     "data": {
      "text/plain": [
       "array([0.1, 0.2, 0.4, 0.2, 0.1])"
      ]
     },
     "execution_count": 15,
     "metadata": {},
     "output_type": "execute_result"
    }
   ],
   "source": [
    "pmf1_marginal_x"
   ]
  }
 ],
 "metadata": {
  "kernelspec": {
   "display_name": "Python [conda env:tensorflow]",
   "language": "python",
   "name": "conda-env-tensorflow-py"
  },
  "language_info": {
   "codemirror_mode": {
    "name": "ipython",
    "version": 3
   },
   "file_extension": ".py",
   "mimetype": "text/x-python",
   "name": "python",
   "nbconvert_exporter": "python",
   "pygments_lexer": "ipython3",
   "version": "3.5.5"
  }
 },
 "nbformat": 4,
 "nbformat_minor": 2
}
