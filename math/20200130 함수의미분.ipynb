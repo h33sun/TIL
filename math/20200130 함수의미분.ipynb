{
 "cells": [
  {
   "cell_type": "code",
   "execution_count": 1,
   "metadata": {},
   "outputs": [],
   "source": [
    "import sympy\n",
    "\n",
    "# Juypter 노트북에서 수학식의 LaTeX 표현을 위해 필요함.\n",
    "sympy.init_printing(use_latex='mathjax')\n"
   ]
  },
  {
   "cell_type": "code",
   "execution_count": 7,
   "metadata": {},
   "outputs": [],
   "source": [
    "#sympy에서 변수가 아닌 글자라는 것을 명시하기 위해  symbols()를 사용함.\n",
    "a = sympy.symbols('x')"
   ]
  },
  {
   "cell_type": "code",
   "execution_count": 8,
   "metadata": {},
   "outputs": [
    {
     "data": {
      "text/latex": [
       "$\\displaystyle x$"
      ],
      "text/plain": [
       "x"
      ]
     },
     "execution_count": 8,
     "metadata": {},
     "output_type": "execute_result"
    }
   ],
   "source": [
    "a"
   ]
  },
  {
   "cell_type": "code",
   "execution_count": 9,
   "metadata": {},
   "outputs": [],
   "source": [
    "x = sympy.symbols('x')"
   ]
  },
  {
   "cell_type": "code",
   "execution_count": 10,
   "metadata": {},
   "outputs": [],
   "source": [
    "f = x*sympy.exp(x)"
   ]
  },
  {
   "cell_type": "code",
   "execution_count": 11,
   "metadata": {},
   "outputs": [
    {
     "data": {
      "text/latex": [
       "$\\displaystyle x e^{x}$"
      ],
      "text/plain": [
       "   x\n",
       "x⋅ℯ "
      ]
     },
     "execution_count": 11,
     "metadata": {},
     "output_type": "execute_result"
    }
   ],
   "source": [
    "f"
   ]
  },
  {
   "cell_type": "code",
   "execution_count": 12,
   "metadata": {},
   "outputs": [
    {
     "data": {
      "text/latex": [
       "$\\displaystyle x e^{x} + e^{x}$"
      ],
      "text/plain": [
       "   x    x\n",
       "x⋅ℯ  + ℯ "
      ]
     },
     "execution_count": 12,
     "metadata": {},
     "output_type": "execute_result"
    }
   ],
   "source": [
    "#미분은 diff()를 사용한다.\n",
    "\n",
    "sympy.diff(f)"
   ]
  },
  {
   "cell_type": "code",
   "execution_count": 13,
   "metadata": {},
   "outputs": [
    {
     "data": {
      "text/latex": [
       "$\\displaystyle \\left(x + 1\\right) e^{x}$"
      ],
      "text/plain": [
       "         x\n",
       "(x + 1)⋅ℯ "
      ]
     },
     "execution_count": 13,
     "metadata": {},
     "output_type": "execute_result"
    }
   ],
   "source": [
    "#인수분해는 sympy.simplify를 사용한다.\n",
    "sympy.simplify(sympy.diff(f))"
   ]
  },
  {
   "cell_type": "code",
   "execution_count": 30,
   "metadata": {},
   "outputs": [
    {
     "data": {
      "text/latex": [
       "$\\displaystyle x^{2} + 4 x y + 4 y^{2}$"
      ],
      "text/plain": [
       " 2              2\n",
       "x  + 4⋅x⋅y + 4⋅y "
      ]
     },
     "execution_count": 30,
     "metadata": {},
     "output_type": "execute_result"
    }
   ],
   "source": [
    "#편미분은 함수, 변수 지정 방법을 사용한다.\n",
    "x,y = sympy.symbols('x y')\n",
    "f = x**2 + 4*x*y + 4*y**2\n",
    "f"
   ]
  },
  {
   "cell_type": "code",
   "execution_count": 31,
   "metadata": {},
   "outputs": [
    {
     "data": {
      "text/latex": [
       "$\\displaystyle \\left( 2 x + 4 y, \\  4 x + 8 y\\right)$"
      ],
      "text/plain": [
       "(2⋅x + 4⋅y, 4⋅x + 8⋅y)"
      ]
     },
     "execution_count": 31,
     "metadata": {},
     "output_type": "execute_result"
    }
   ],
   "source": [
    "sympy.diff(f,x) , sympy.diff(f,y)"
   ]
  },
  {
   "cell_type": "code",
   "execution_count": 34,
   "metadata": {},
   "outputs": [
    {
     "data": {
      "text/latex": [
       "$\\displaystyle e^{\\frac{\\left(- \\mu + x\\right)^{2}}{\\sigma^{2}}}$"
      ],
      "text/plain": [
       "         2\n",
       " (-μ + x) \n",
       " ─────────\n",
       "      2   \n",
       "     σ    \n",
       "ℯ         "
      ]
     },
     "execution_count": 34,
     "metadata": {},
     "output_type": "execute_result"
    }
   ],
   "source": [
    "#상수 심볼을 사용하기 위해서도 마찬가지로 symbol을 지정해줘야 한다.\n",
    "x, mu, sigma = sympy.symbols('x mu sigma')\n",
    "f = sympy.exp((x - mu) ** 2 / sigma ** 2)\n",
    "f"
   ]
  },
  {
   "cell_type": "code",
   "execution_count": 37,
   "metadata": {},
   "outputs": [
    {
     "data": {
      "text/latex": [
       "$\\displaystyle \\frac{\\left(- 2 \\mu + 2 x\\right) e^{\\frac{\\left(- \\mu + x\\right)^{2}}{\\sigma^{2}}}}{\\sigma^{2}}$"
      ],
      "text/plain": [
       "                      2\n",
       "              (-μ + x) \n",
       "              ─────────\n",
       "                   2   \n",
       "                  σ    \n",
       "(-2⋅μ + 2⋅x)⋅ℯ         \n",
       "───────────────────────\n",
       "            2          \n",
       "           σ           "
      ]
     },
     "execution_count": 37,
     "metadata": {},
     "output_type": "execute_result"
    }
   ],
   "source": [
    "sympy.diff(f,x)"
   ]
  },
  {
   "cell_type": "code",
   "execution_count": 40,
   "metadata": {},
   "outputs": [
    {
     "data": {
      "text/latex": [
       "$\\displaystyle \\frac{2 \\left(1 + \\frac{2 \\left(\\mu - x\\right)^{2}}{\\sigma^{2}}\\right) e^{\\frac{\\left(\\mu - x\\right)^{2}}{\\sigma^{2}}}}{\\sigma^{2}}$"
      ],
      "text/plain": [
       "                           2\n",
       "                    (μ - x) \n",
       "                    ────────\n",
       "  ⎛             2⎞      2   \n",
       "  ⎜    2⋅(μ - x) ⎟     σ    \n",
       "2⋅⎜1 + ──────────⎟⋅ℯ        \n",
       "  ⎜         2    ⎟          \n",
       "  ⎝        σ     ⎠          \n",
       "────────────────────────────\n",
       "              2             \n",
       "             σ              "
      ]
     },
     "execution_count": 40,
     "metadata": {},
     "output_type": "execute_result"
    }
   ],
   "source": [
    "#이차 도함수는 어떻게 구할까?\n",
    "#f,x,x를 사용한다.\n",
    "\n",
    "sympy.diff(f,x,x)"
   ]
  },
  {
   "cell_type": "markdown",
   "metadata": {},
   "source": [
    "## sympy를 사용해 도함수를 구해라\n",
    "\n",
    "\\begin{align}\n",
    "\\text (1) \\;\\;\\;\\;\\;\\;\\; f(x) = x^3 - 1\n",
    "\\tag{4.2.59}\n",
    "\\end{align}\n",
    "\n",
    "\\begin{align}\n",
    "\\text (2) \\;\\;\\;\\;\\; f(x) = \\log (x^{2}-3k)\n",
    "\\tag{4.2.60}\n",
    "\\end{align}\n",
    "\n",
    "\\begin{align}\n",
    "\\text (3) \\;\\;\\;\\;\\; f(x) =\\exp({ax^b})\n",
    "\\tag{4.2.61}\n",
    "\\end{align}"
   ]
  },
  {
   "cell_type": "code",
   "execution_count": 43,
   "metadata": {},
   "outputs": [
    {
     "data": {
      "text/latex": [
       "$\\displaystyle 3 x^{2}$"
      ],
      "text/plain": [
       "   2\n",
       "3⋅x "
      ]
     },
     "execution_count": 43,
     "metadata": {},
     "output_type": "execute_result"
    }
   ],
   "source": [
    "#1.\n",
    "f = x**3 - 1\n",
    "sympy.diff(f)"
   ]
  },
  {
   "cell_type": "code",
   "execution_count": 49,
   "metadata": {},
   "outputs": [
    {
     "data": {
      "text/latex": [
       "$\\displaystyle \\frac{2 x}{- 3 k + x^{2}}$"
      ],
      "text/plain": [
       "   2⋅x   \n",
       "─────────\n",
       "        2\n",
       "-3⋅k + x "
      ]
     },
     "execution_count": 49,
     "metadata": {},
     "output_type": "execute_result"
    }
   ],
   "source": [
    "#2.\n",
    "x,k = sympy.symbols('x k')\n",
    "f = sympy.log(x**2 - 3*k)\n",
    "sympy.diff(f,x)"
   ]
  },
  {
   "cell_type": "code",
   "execution_count": 54,
   "metadata": {},
   "outputs": [
    {
     "data": {
      "text/latex": [
       "$\\displaystyle a b x^{b - 1} e^{a x^{b}}$"
      ],
      "text/plain": [
       "               b\n",
       "     b - 1  a⋅x \n",
       "a⋅b⋅x     ⋅ℯ    "
      ]
     },
     "execution_count": 54,
     "metadata": {},
     "output_type": "execute_result"
    }
   ],
   "source": [
    "#3.\n",
    "a,b,x = sympy.symbols('a b x')\n",
    "f = sympy.exp(a*x**b)\n",
    "sympy.simplify(sympy.diff(f,x))"
   ]
  },
  {
   "cell_type": "code",
   "execution_count": null,
   "metadata": {},
   "outputs": [],
   "source": []
  }
 ],
 "metadata": {
  "kernelspec": {
   "display_name": "Python [default]",
   "language": "python",
   "name": "python3"
  },
  "language_info": {
   "codemirror_mode": {
    "name": "ipython",
    "version": 3
   },
   "file_extension": ".py",
   "mimetype": "text/x-python",
   "name": "python",
   "nbconvert_exporter": "python",
   "pygments_lexer": "ipython3",
   "version": "3.5.5"
  }
 },
 "nbformat": 4,
 "nbformat_minor": 2
}
